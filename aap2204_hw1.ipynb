{
  "nbformat": 4,
  "nbformat_minor": 0,
  "metadata": {
    "colab": {
      "name": "aap2204_hw1.ipynb",
      "provenance": [],
      "collapsed_sections": [],
      "machine_shape": "hm",
      "include_colab_link": true
    },
    "kernelspec": {
      "name": "python3",
      "display_name": "Python 3"
    }
  },
  "cells": [
    {
      "cell_type": "markdown",
      "metadata": {
        "id": "view-in-github",
        "colab_type": "text"
      },
      "source": [
        "<a href=\"https://colab.research.google.com/github/apapaioannou92/BA/blob/HW1/aap2204_hw1.ipynb\" target=\"_parent\"><img src=\"https://colab.research.google.com/assets/colab-badge.svg\" alt=\"Open In Colab\"/></a>"
      ]
    },
    {
      "cell_type": "markdown",
      "metadata": {
        "id": "9JCRnqkLnjHE",
        "colab_type": "text"
      },
      "source": [
        "# **IEOR 4650  Business Analytics (Fall 2019)**\n",
        "\n",
        "**Homework 1 [Total points: 60]**\n",
        "\n",
        "** Due: 11:59 PM, September 28**\n",
        "\n",
        "This first homework consists of Python programming practices and the applications to data clearning and linear regression. \n",
        "\n",
        "The steps to finish in the homework:\n",
        "\n",
        "*   Step 1: Make a copy of the file to your LionDrive.\n",
        "*   Step 2: Work with the copy (an ipynb file).\n",
        "*    <font color='red'>**Step 3: Rename the copy to your_uni_hw1.ipynb (For example: yd4501_hw1.ipynb).**</font>  \n",
        "*   Step 4: Submit the copy on CourseWorks.\n",
        "\n",
        "Before you submit your assignment, make sure to re-run your code from the beginning. (You can do so by first clicking Runtime/Reset All Runtimes and then clicking Runtime/Run all)\n",
        "\n",
        "\n",
        "**All the questions in this homework requires coding**"
      ]
    },
    {
      "cell_type": "code",
      "metadata": {
        "id": "lSH_bDnX2ybu",
        "colab_type": "code",
        "colab": {}
      },
      "source": [
        "#This imports all the packages you need for the homework\n",
        "#Please run this first\n",
        "\n",
        "\n",
        "!pip install -U -q PyDrive\n",
        "from pydrive.auth import GoogleAuth\n",
        "from pydrive.drive import GoogleDrive\n",
        "from google.colab import auth\n",
        "from oauth2client.client import GoogleCredentials\n",
        "# Authenticate and create the PyDrive client.\n",
        "auth.authenticate_user()\n",
        "gauth = GoogleAuth()\n",
        "gauth.credentials = GoogleCredentials.get_application_default()\n",
        "drive = GoogleDrive(gauth)\n",
        "\n",
        "\n",
        "#import modules\n",
        "\n",
        "import numpy as np\n",
        "import pandas as pd\n",
        "from statsmodels.formula.api import ols\n",
        "import matplotlib.pyplot as plt\n",
        "\n"
      ],
      "execution_count": 0,
      "outputs": []
    },
    {
      "cell_type": "markdown",
      "metadata": {
        "id": "85PhtRJHpEMr",
        "colab_type": "text"
      },
      "source": [
        "## Exercise 1 [Total: 22 Points]\n",
        "\n",
        "In this exercise, we will work on some exercises that practices our data manipulation skills.\n",
        "\n",
        "\n",
        "\n",
        "\n",
        "<div>\n",
        "<img src=\"https://http2.mlstatic.com/poster-pokemon-full-hd-42x29cm-frete-gratis-D_NQ_NP_752705-MLB25053489227_092016-F.jpg\" width=\"250\"/>\n",
        "</div>\n",
        "\n",
        "## Setting\n",
        "Pokemon is a very popular video game, in which the trainer catches pokemon and use them for battling. Each pokemon has its name and its pokedex. A Pokemon belongs to at least 1 and at most 2 Pokemon types.  There are different stats to measure the combat power of a pokemon, which include HP, Attack, Defense, Special Attack Strength, Special Defensive Strength, and Speed. Pokemon are usually released in batches. Thus, they have different generations. In addition, a pokemon can either be a regular pokemon and legendary pokemon. \n",
        "\n",
        "\n",
        "\n",
        "|Variable| Description|\n",
        "|---|---|\n",
        "|PokeDex |PokeDex index number|\n",
        "| Name | Name of the Pokemon  |  \n",
        "| Type 1 | Type of pokemon  |  \n",
        "| Type 2 | Other Type of Pokemon  |  \n",
        "| HP |  Hit Points  |  \n",
        "| Attack |  Attack Strength  |  \n",
        "| Defense |  Defensive Strength  |  \n",
        "| Sp. Atk |  Special Attack Strength  |  \n",
        "| Sp. Def |  Special Defensive Strength  |  \n",
        "| Speed | Speed  |  \n",
        "| Generation | Number of generation  |  \n",
        "| Legendary |  True if Legendary Pokemon False if not | \""
      ]
    },
    {
      "cell_type": "code",
      "metadata": {
        "id": "UQjQyhHfBDP7",
        "colab_type": "code",
        "outputId": "be85e5f4-2099-44c4-cac1-8317f1f6f81c",
        "colab": {
          "base_uri": "https://localhost:8080/",
          "height": 204
        }
      },
      "source": [
        "#Load the dataset \n",
        "link=\"https://drive.google.com/open?id=1wX36WLNOPLPVU7BCA-J9bBhGZPwuFqol\"\n",
        "_,id=link.split(\"=\")\n",
        "downloaded = drive.CreateFile({'id':id}) \n",
        "downloaded.GetContentFile('myfile.csv')  \n",
        "Pokemon = pd.read_csv('myfile.csv')\n",
        "Pokemon.head(5)"
      ],
      "execution_count": 85,
      "outputs": [
        {
          "output_type": "execute_result",
          "data": {
            "text/html": [
              "<div>\n",
              "<style scoped>\n",
              "    .dataframe tbody tr th:only-of-type {\n",
              "        vertical-align: middle;\n",
              "    }\n",
              "\n",
              "    .dataframe tbody tr th {\n",
              "        vertical-align: top;\n",
              "    }\n",
              "\n",
              "    .dataframe thead th {\n",
              "        text-align: right;\n",
              "    }\n",
              "</style>\n",
              "<table border=\"1\" class=\"dataframe\">\n",
              "  <thead>\n",
              "    <tr style=\"text-align: right;\">\n",
              "      <th></th>\n",
              "      <th>PokeDex</th>\n",
              "      <th>Name</th>\n",
              "      <th>Type_1</th>\n",
              "      <th>Type_2</th>\n",
              "      <th>HP</th>\n",
              "      <th>Attack</th>\n",
              "      <th>Defense</th>\n",
              "      <th>Sp_Atk</th>\n",
              "      <th>Sp_Def</th>\n",
              "      <th>Speed</th>\n",
              "      <th>Generation</th>\n",
              "      <th>Legendary</th>\n",
              "    </tr>\n",
              "  </thead>\n",
              "  <tbody>\n",
              "    <tr>\n",
              "      <th>0</th>\n",
              "      <td>1</td>\n",
              "      <td>Bulbasaur</td>\n",
              "      <td>Grass</td>\n",
              "      <td>Poison</td>\n",
              "      <td>45</td>\n",
              "      <td>49</td>\n",
              "      <td>49</td>\n",
              "      <td>65</td>\n",
              "      <td>65</td>\n",
              "      <td>45</td>\n",
              "      <td>1</td>\n",
              "      <td>False</td>\n",
              "    </tr>\n",
              "    <tr>\n",
              "      <th>1</th>\n",
              "      <td>2</td>\n",
              "      <td>Ivysaur</td>\n",
              "      <td>Grass</td>\n",
              "      <td>Poison</td>\n",
              "      <td>60</td>\n",
              "      <td>62</td>\n",
              "      <td>63</td>\n",
              "      <td>80</td>\n",
              "      <td>80</td>\n",
              "      <td>60</td>\n",
              "      <td>1</td>\n",
              "      <td>False</td>\n",
              "    </tr>\n",
              "    <tr>\n",
              "      <th>2</th>\n",
              "      <td>3</td>\n",
              "      <td>Venusaur</td>\n",
              "      <td>Grass</td>\n",
              "      <td>Poison</td>\n",
              "      <td>80</td>\n",
              "      <td>82</td>\n",
              "      <td>83</td>\n",
              "      <td>100</td>\n",
              "      <td>100</td>\n",
              "      <td>80</td>\n",
              "      <td>1</td>\n",
              "      <td>False</td>\n",
              "    </tr>\n",
              "    <tr>\n",
              "      <th>3</th>\n",
              "      <td>4</td>\n",
              "      <td>Charmander</td>\n",
              "      <td>Fire</td>\n",
              "      <td>***</td>\n",
              "      <td>39</td>\n",
              "      <td>52</td>\n",
              "      <td>43</td>\n",
              "      <td>60</td>\n",
              "      <td>50</td>\n",
              "      <td>65</td>\n",
              "      <td>1</td>\n",
              "      <td>False</td>\n",
              "    </tr>\n",
              "    <tr>\n",
              "      <th>4</th>\n",
              "      <td>5</td>\n",
              "      <td>Charmeleon</td>\n",
              "      <td>Fire</td>\n",
              "      <td>***</td>\n",
              "      <td>58</td>\n",
              "      <td>64</td>\n",
              "      <td>58</td>\n",
              "      <td>80</td>\n",
              "      <td>65</td>\n",
              "      <td>80</td>\n",
              "      <td>1</td>\n",
              "      <td>False</td>\n",
              "    </tr>\n",
              "  </tbody>\n",
              "</table>\n",
              "</div>"
            ],
            "text/plain": [
              "   PokeDex        Name Type_1  Type_2  ...  Sp_Def  Speed  Generation  Legendary\n",
              "0        1   Bulbasaur  Grass  Poison  ...      65     45           1      False\n",
              "1        2     Ivysaur  Grass  Poison  ...      80     60           1      False\n",
              "2        3    Venusaur  Grass  Poison  ...     100     80           1      False\n",
              "3        4  Charmander   Fire     ***  ...      50     65           1      False\n",
              "4        5  Charmeleon   Fire     ***  ...      65     80           1      False\n",
              "\n",
              "[5 rows x 12 columns]"
            ]
          },
          "metadata": {
            "tags": []
          },
          "execution_count": 85
        }
      ]
    },
    {
      "cell_type": "markdown",
      "metadata": {
        "id": "HdR4J86Fpfqd",
        "colab_type": "text"
      },
      "source": [
        "### Q1 [2 points]\n",
        "* Find the number of unique pokemon in the table. [hint: you want to make sure the same pokemon name does not appear twice in the table]\n",
        "\n",
        "**Make sure to print out the result**"
      ]
    },
    {
      "cell_type": "code",
      "metadata": {
        "id": "E6nQ96Wiam9z",
        "colab_type": "code",
        "outputId": "ea841698-09d9-4726-ee2e-4f56a711b050",
        "colab": {
          "base_uri": "https://localhost:8080/",
          "height": 1000
        }
      },
      "source": [
        "Pokemon[\"Name\"].nunique"
      ],
      "execution_count": 86,
      "outputs": [
        {
          "output_type": "execute_result",
          "data": {
            "text/plain": [
              "<bound method IndexOpsMixin.nunique of 0                  Bulbasaur\n",
              "1                    Ivysaur\n",
              "2                   Venusaur\n",
              "3                 Charmander\n",
              "4                 Charmeleon\n",
              "5                  Charizard\n",
              "6                   Squirtle\n",
              "7                  Wartortle\n",
              "8                  Blastoise\n",
              "9                   Caterpie\n",
              "10                   Metapod\n",
              "11                Butterfree\n",
              "12                    Weedle\n",
              "13                    Kakuna\n",
              "14                  Beedrill\n",
              "15                    Pidgey\n",
              "16                 Pidgeotto\n",
              "17                   Pidgeot\n",
              "18                   Rattata\n",
              "19                  Raticate\n",
              "20                   Spearow\n",
              "21                    Fearow\n",
              "22                     Ekans\n",
              "23                     Arbok\n",
              "24                   Pikachu\n",
              "25                    Raichu\n",
              "26                 Sandshrew\n",
              "27                 Sandslash\n",
              "28                  Nidoran♀\n",
              "29                  Nidorina\n",
              "               ...          \n",
              "691                Clauncher\n",
              "692                Clawitzer\n",
              "693               Helioptile\n",
              "694                Heliolisk\n",
              "695                   Tyrunt\n",
              "696                Tyrantrum\n",
              "697                   Amaura\n",
              "698                  Aurorus\n",
              "699                  Sylveon\n",
              "700                 Hawlucha\n",
              "701                  Dedenne\n",
              "702                  Carbink\n",
              "703                    Goomy\n",
              "704                  Sliggoo\n",
              "705                   Goodra\n",
              "706                   Klefki\n",
              "707                 Phantump\n",
              "708                Trevenant\n",
              "709    PumpkabooAverage Size\n",
              "710    GourgeistAverage Size\n",
              "711                 Bergmite\n",
              "712                  Avalugg\n",
              "713                   Noibat\n",
              "714                  Noivern\n",
              "715                  Xerneas\n",
              "716                  Yveltal\n",
              "717         Zygarde50% Forme\n",
              "718                  Diancie\n",
              "719      HoopaHoopa Confined\n",
              "720                Volcanion\n",
              "Name: Name, Length: 721, dtype: object>"
            ]
          },
          "metadata": {
            "tags": []
          },
          "execution_count": 86
        }
      ]
    },
    {
      "cell_type": "markdown",
      "metadata": {
        "id": "KgQlKUMK1N3r",
        "colab_type": "text"
      },
      "source": [
        "### Q2. [4 points]\n",
        "\n",
        "* Add one additional column named \"Total\" to the table \n",
        "> The value of Total for each pokemon is equal to the sum of all the stats numbers for each pokemon (HP+Attack+Defense+Sp. Atk+Sp. Def+ Speed) and is the measure of total combat power of a pokemon.\n",
        "* drop the stats that are used to compute \"Total\" from the table\n",
        "\n",
        "**Make sure to print out the result for the last step**"
      ]
    },
    {
      "cell_type": "code",
      "metadata": {
        "id": "COzyvl8h1Nbz",
        "colab_type": "code",
        "outputId": "ac0e7a07-d659-4c61-87f5-5841bb3ddf38",
        "colab": {
          "base_uri": "https://localhost:8080/",
          "height": 204
        }
      },
      "source": [
        "Pokemon = Pokemon.assign(Total=Pokemon['HP']+Pokemon['Attack']+Pokemon['Defense']+Pokemon['Sp_Atk']+Pokemon['Sp_Def']+Pokemon['Speed'])\n",
        "#OR \n",
        "# Pokemon['Total'] = Pokemon['HP']+Pokemon['Attack']+Pokemon['Defense']+Pokemon['Sp_Atk']+Pokemon['Sp_Def']+Pokemon['Speed']\n",
        "Pokemon.drop(['HP', 'Attack', 'Defense', 'Sp_Atk', 'Sp_Def', 'Speed'], axis=1, inplace=True)\n",
        "Pokemon.head()"
      ],
      "execution_count": 87,
      "outputs": [
        {
          "output_type": "execute_result",
          "data": {
            "text/html": [
              "<div>\n",
              "<style scoped>\n",
              "    .dataframe tbody tr th:only-of-type {\n",
              "        vertical-align: middle;\n",
              "    }\n",
              "\n",
              "    .dataframe tbody tr th {\n",
              "        vertical-align: top;\n",
              "    }\n",
              "\n",
              "    .dataframe thead th {\n",
              "        text-align: right;\n",
              "    }\n",
              "</style>\n",
              "<table border=\"1\" class=\"dataframe\">\n",
              "  <thead>\n",
              "    <tr style=\"text-align: right;\">\n",
              "      <th></th>\n",
              "      <th>PokeDex</th>\n",
              "      <th>Name</th>\n",
              "      <th>Type_1</th>\n",
              "      <th>Type_2</th>\n",
              "      <th>Generation</th>\n",
              "      <th>Legendary</th>\n",
              "      <th>Total</th>\n",
              "    </tr>\n",
              "  </thead>\n",
              "  <tbody>\n",
              "    <tr>\n",
              "      <th>0</th>\n",
              "      <td>1</td>\n",
              "      <td>Bulbasaur</td>\n",
              "      <td>Grass</td>\n",
              "      <td>Poison</td>\n",
              "      <td>1</td>\n",
              "      <td>False</td>\n",
              "      <td>318</td>\n",
              "    </tr>\n",
              "    <tr>\n",
              "      <th>1</th>\n",
              "      <td>2</td>\n",
              "      <td>Ivysaur</td>\n",
              "      <td>Grass</td>\n",
              "      <td>Poison</td>\n",
              "      <td>1</td>\n",
              "      <td>False</td>\n",
              "      <td>405</td>\n",
              "    </tr>\n",
              "    <tr>\n",
              "      <th>2</th>\n",
              "      <td>3</td>\n",
              "      <td>Venusaur</td>\n",
              "      <td>Grass</td>\n",
              "      <td>Poison</td>\n",
              "      <td>1</td>\n",
              "      <td>False</td>\n",
              "      <td>525</td>\n",
              "    </tr>\n",
              "    <tr>\n",
              "      <th>3</th>\n",
              "      <td>4</td>\n",
              "      <td>Charmander</td>\n",
              "      <td>Fire</td>\n",
              "      <td>***</td>\n",
              "      <td>1</td>\n",
              "      <td>False</td>\n",
              "      <td>309</td>\n",
              "    </tr>\n",
              "    <tr>\n",
              "      <th>4</th>\n",
              "      <td>5</td>\n",
              "      <td>Charmeleon</td>\n",
              "      <td>Fire</td>\n",
              "      <td>***</td>\n",
              "      <td>1</td>\n",
              "      <td>False</td>\n",
              "      <td>405</td>\n",
              "    </tr>\n",
              "  </tbody>\n",
              "</table>\n",
              "</div>"
            ],
            "text/plain": [
              "   PokeDex        Name Type_1  Type_2  Generation  Legendary  Total\n",
              "0        1   Bulbasaur  Grass  Poison           1      False    318\n",
              "1        2     Ivysaur  Grass  Poison           1      False    405\n",
              "2        3    Venusaur  Grass  Poison           1      False    525\n",
              "3        4  Charmander   Fire     ***           1      False    309\n",
              "4        5  Charmeleon   Fire     ***           1      False    405"
            ]
          },
          "metadata": {
            "tags": []
          },
          "execution_count": 87
        }
      ]
    },
    {
      "cell_type": "markdown",
      "metadata": {
        "id": "Ny0Hn_JLqaoi",
        "colab_type": "text"
      },
      "source": [
        "### Q3 [4 points]\n",
        "\n",
        "* Create a sub-table \"Pokemon_sub\" that includes only the pokemon name and the Pokedex for all the **Legendary**  pokemon from **Generation 1** and **Generation 2**. \n",
        "\n",
        "**Make sure to print out the content of the sub-table**"
      ]
    },
    {
      "cell_type": "code",
      "metadata": {
        "id": "XgR2-LOubuUn",
        "colab_type": "code",
        "outputId": "522a34eb-559c-408d-a414-edaa243093d9",
        "colab": {
          "base_uri": "https://localhost:8080/",
          "height": 204
        }
      },
      "source": [
        "Pokemon_sub=Pokemon[(Pokemon[\"Legendary\"]==True) & (Pokemon[\"Generation\"]==1) | (Pokemon[\"Generation\"]==2)]\n",
        "Pokemon_sub.head()\n",
        "# OR\n",
        "# filter_ = (Pokemon[\"Generation\"]==1) | (Pokemon[\"Generation\"]==2) & (Pokemon['Legendary']==\"True\")\n",
        "# Pokemon_sub = Pokemon.loc[filter_, ['Name', 'PokeDex']]\n",
        "# Pokemon_sub.head()"
      ],
      "execution_count": 88,
      "outputs": [
        {
          "output_type": "execute_result",
          "data": {
            "text/html": [
              "<div>\n",
              "<style scoped>\n",
              "    .dataframe tbody tr th:only-of-type {\n",
              "        vertical-align: middle;\n",
              "    }\n",
              "\n",
              "    .dataframe tbody tr th {\n",
              "        vertical-align: top;\n",
              "    }\n",
              "\n",
              "    .dataframe thead th {\n",
              "        text-align: right;\n",
              "    }\n",
              "</style>\n",
              "<table border=\"1\" class=\"dataframe\">\n",
              "  <thead>\n",
              "    <tr style=\"text-align: right;\">\n",
              "      <th></th>\n",
              "      <th>PokeDex</th>\n",
              "      <th>Name</th>\n",
              "      <th>Type_1</th>\n",
              "      <th>Type_2</th>\n",
              "      <th>Generation</th>\n",
              "      <th>Legendary</th>\n",
              "      <th>Total</th>\n",
              "    </tr>\n",
              "  </thead>\n",
              "  <tbody>\n",
              "    <tr>\n",
              "      <th>143</th>\n",
              "      <td>144</td>\n",
              "      <td>Articuno</td>\n",
              "      <td>Ice</td>\n",
              "      <td>Flying</td>\n",
              "      <td>1</td>\n",
              "      <td>True</td>\n",
              "      <td>580</td>\n",
              "    </tr>\n",
              "    <tr>\n",
              "      <th>144</th>\n",
              "      <td>145</td>\n",
              "      <td>Zapdos</td>\n",
              "      <td>Electric</td>\n",
              "      <td>Flying</td>\n",
              "      <td>1</td>\n",
              "      <td>True</td>\n",
              "      <td>580</td>\n",
              "    </tr>\n",
              "    <tr>\n",
              "      <th>145</th>\n",
              "      <td>146</td>\n",
              "      <td>Moltres</td>\n",
              "      <td>Fire</td>\n",
              "      <td>Flying</td>\n",
              "      <td>1</td>\n",
              "      <td>True</td>\n",
              "      <td>580</td>\n",
              "    </tr>\n",
              "    <tr>\n",
              "      <th>149</th>\n",
              "      <td>150</td>\n",
              "      <td>Mewtwo</td>\n",
              "      <td>Psychic</td>\n",
              "      <td>***</td>\n",
              "      <td>1</td>\n",
              "      <td>True</td>\n",
              "      <td>680</td>\n",
              "    </tr>\n",
              "    <tr>\n",
              "      <th>151</th>\n",
              "      <td>152</td>\n",
              "      <td>Chikorita</td>\n",
              "      <td>Grass</td>\n",
              "      <td>***</td>\n",
              "      <td>2</td>\n",
              "      <td>False</td>\n",
              "      <td>318</td>\n",
              "    </tr>\n",
              "  </tbody>\n",
              "</table>\n",
              "</div>"
            ],
            "text/plain": [
              "     PokeDex       Name    Type_1  Type_2  Generation  Legendary  Total\n",
              "143      144   Articuno       Ice  Flying           1       True    580\n",
              "144      145     Zapdos  Electric  Flying           1       True    580\n",
              "145      146    Moltres      Fire  Flying           1       True    580\n",
              "149      150     Mewtwo   Psychic     ***           1       True    680\n",
              "151      152  Chikorita     Grass     ***           2      False    318"
            ]
          },
          "metadata": {
            "tags": []
          },
          "execution_count": 88
        }
      ]
    },
    {
      "cell_type": "markdown",
      "metadata": {
        "id": "lri2_TqON6Wq",
        "colab_type": "text"
      },
      "source": [
        "###Q4 [5 points]\n",
        "\n",
        "A pokemon might belong to only one type or two types. If a pokemons belongs to only one type, \"Type_2\" field will be missing that Pokemon\n",
        "\n",
        "We call a pokemon that belongs to only one type a \"single-type\" pokemon and a pokemon that belongs to two types a \"double-type\" pokemon. For example, Snorlax is a \"single-type\" pokemon and belongs to Normal type. For another example, Bulbasaur is a \"double-type\" pokemon and belongs to both Poison type and Grass type. \t  \n",
        "\n",
        "* Convert the missing values to a format that can be recognized by Pandas.\n",
        "* Report for each pokemon type, how many \"single-type\" pokemon exists.\n",
        "\n",
        "**Make sure to print out the result for the last step**"
      ]
    },
    {
      "cell_type": "code",
      "metadata": {
        "id": "jbHYnuWUF4Lg",
        "colab_type": "code",
        "outputId": "1bcb81dd-e847-49db-98ff-52bf3d9d5315",
        "colab": {
          "base_uri": "https://localhost:8080/",
          "height": 340
        }
      },
      "source": [
        "# import numpy as np # unnecessary because it is already imported in the preamable\n",
        "Pokemon['Type_2']=Pokemon['Type_2'].replace(\"***\",np.nan)\n",
        "\n",
        "Pokemon_single_type=Pokemon[(Pokemon[\"Type_2\"].isna()==True)]\n",
        "Pokemon_single_type[\"Type_1\"].value_counts()\n",
        "\n",
        "# OR equivalently\n",
        "# Pokemon_single_type = Pokemon[pd.isnull(Pokemon['Type_2'])]\n",
        "# Pokemon_single_type[\"Type_1\"].value_counts()"
      ],
      "execution_count": 89,
      "outputs": [
        {
          "output_type": "execute_result",
          "data": {
            "text/plain": [
              "Normal      60\n",
              "Water       57\n",
              "Grass       33\n",
              "Psychic     32\n",
              "Fire        28\n",
              "Electric    26\n",
              "Fighting    20\n",
              "Bug         17\n",
              "Poison      15\n",
              "Fairy       15\n",
              "Ground      13\n",
              "Ice         12\n",
              "Dragon      11\n",
              "Ghost        9\n",
              "Rock         9\n",
              "Dark         9\n",
              "Steel        4\n",
              "Flying       1\n",
              "Name: Type_1, dtype: int64"
            ]
          },
          "metadata": {
            "tags": []
          },
          "execution_count": 89
        }
      ]
    },
    {
      "cell_type": "markdown",
      "metadata": {
        "id": "zqO1YVPm7oRI",
        "colab_type": "text"
      },
      "source": [
        "###Q5 [7 points]\n",
        "\n",
        "It is important to have the ability of learning programming by yourself. Let's use some adequate methods to find the pokemon with the highest total combat power in each type.  \n",
        "\n",
        "In this table, you should have 3 columns\n",
        "\n",
        "(1) column 1: Type name\n",
        "\n",
        "(2) column 2: name of the most power pokemon for this pokemon type\n",
        "\n",
        "(3) column 3: total combat power for this pokemon\n",
        "\n",
        "[hint: You might find the following four methods to be relevant. However, there are multiple ways to achieve the goal. You do not need to use them in your answer. \n",
        "\n",
        "> `concat` method\n",
        "\n",
        "> `sort_values` method\n",
        "\n",
        "> `groupby` method\n",
        "\n",
        "> `first` method"
      ]
    },
    {
      "cell_type": "code",
      "metadata": {
        "id": "4V9-9_i47n5f",
        "colab_type": "code",
        "outputId": "c13507ca-4309-4f04-cebc-2d0cd0a926f7",
        "colab": {
          "base_uri": "https://localhost:8080/",
          "height": 204
        }
      },
      "source": [
        "Pokemon_Type_1_strongest=Pokemon.groupby('Type_1',as_index=False).max()\n",
        "Pokemon_Type_1_strongest=Pokemon_Type_1_strongest.drop(columns=['PokeDex','Generation','Legendary'])\n",
        "Pokemon_Type_1_strongest=Pokemon_Type_1_strongest.rename(columns={'Type_1': 'Type'})\n",
        "Pokemon_Type_1_strongest.head()\n",
        "\n",
        "Pokemon_Type_2_strongest=Pokemon.groupby('Type_2',as_index=False).max()\n",
        "Pokemon_Type_2_strongest=Pokemon_Type_2_strongest.drop(columns=['PokeDex','Generation','Legendary','Type_1'])\n",
        "Pokemon_Type_2_strongest=Pokemon_Type_2_strongest.rename(columns={'Type_2': 'Type'})\n",
        "\n",
        "Pokemon_final_strongest=pd.concat([Pokemon_Type_1_strongest,Pokemon_Type_2_strongest])\n",
        "Pokemon_final_strongest=Pokemon_final_strongest.sort_values(\"Total\", ascending=False).groupby('Type',as_index=False).first()\n",
        "Pokemon_final_strongest.head()"
      ],
      "execution_count": 90,
      "outputs": [
        {
          "output_type": "execute_result",
          "data": {
            "text/html": [
              "<div>\n",
              "<style scoped>\n",
              "    .dataframe tbody tr th:only-of-type {\n",
              "        vertical-align: middle;\n",
              "    }\n",
              "\n",
              "    .dataframe tbody tr th {\n",
              "        vertical-align: top;\n",
              "    }\n",
              "\n",
              "    .dataframe thead th {\n",
              "        text-align: right;\n",
              "    }\n",
              "</style>\n",
              "<table border=\"1\" class=\"dataframe\">\n",
              "  <thead>\n",
              "    <tr style=\"text-align: right;\">\n",
              "      <th></th>\n",
              "      <th>Type</th>\n",
              "      <th>Name</th>\n",
              "      <th>Total</th>\n",
              "    </tr>\n",
              "  </thead>\n",
              "  <tbody>\n",
              "    <tr>\n",
              "      <th>0</th>\n",
              "      <td>Bug</td>\n",
              "      <td>Yanmega</td>\n",
              "      <td>600</td>\n",
              "    </tr>\n",
              "    <tr>\n",
              "      <th>1</th>\n",
              "      <td>Dark</td>\n",
              "      <td>Zweilous</td>\n",
              "      <td>680</td>\n",
              "    </tr>\n",
              "    <tr>\n",
              "      <th>2</th>\n",
              "      <td>Dragon</td>\n",
              "      <td>Zygarde50% Forme</td>\n",
              "      <td>680</td>\n",
              "    </tr>\n",
              "    <tr>\n",
              "      <th>3</th>\n",
              "      <td>Electric</td>\n",
              "      <td>Zekrom</td>\n",
              "      <td>680</td>\n",
              "    </tr>\n",
              "    <tr>\n",
              "      <th>4</th>\n",
              "      <td>Fairy</td>\n",
              "      <td>Xerneas</td>\n",
              "      <td>680</td>\n",
              "    </tr>\n",
              "  </tbody>\n",
              "</table>\n",
              "</div>"
            ],
            "text/plain": [
              "       Type              Name  Total\n",
              "0       Bug           Yanmega    600\n",
              "1      Dark          Zweilous    680\n",
              "2    Dragon  Zygarde50% Forme    680\n",
              "3  Electric            Zekrom    680\n",
              "4     Fairy           Xerneas    680"
            ]
          },
          "metadata": {
            "tags": []
          },
          "execution_count": 90
        }
      ]
    },
    {
      "cell_type": "markdown",
      "metadata": {
        "id": "7r_D6z5ZsyOd",
        "colab_type": "text"
      },
      "source": [
        "## Exercise 2 [Total: 38 points]\n"
      ]
    },
    {
      "cell_type": "markdown",
      "metadata": {
        "id": "5MbEozs6mhrd",
        "colab_type": "text"
      },
      "source": [
        "\n",
        "###Setting\n",
        "In this exercise, we will work with a dataset which explores the store sales.\n",
        "\n",
        "Before doing the assignment, please study this dataset here https://www.kaggle.com/c/rossmann-store-sales/data\n"
      ]
    },
    {
      "cell_type": "code",
      "metadata": {
        "id": "ziA1Im85eaIF",
        "colab_type": "code",
        "outputId": "95ad5314-898a-431e-bce5-fac61e8686d2",
        "colab": {
          "base_uri": "https://localhost:8080/",
          "height": 258
        }
      },
      "source": [
        "#Load the dataset\n",
        "link=\"https://drive.google.com/open?id=1Q6J0q4tlWJ7TajX6hMSvZ8tK3CyDD8QY\"\n",
        "_,id=link.split(\"=\")\n",
        "downloaded = drive.CreateFile({'id':id}) \n",
        "downloaded.GetContentFile('Sales.csv')  \n",
        "Sales = pd.read_csv('Sales.csv')\n",
        "Sales.head(5)"
      ],
      "execution_count": 91,
      "outputs": [
        {
          "output_type": "stream",
          "text": [
            "/usr/local/lib/python3.6/dist-packages/IPython/core/interactiveshell.py:2718: DtypeWarning: Columns (7) have mixed types. Specify dtype option on import or set low_memory=False.\n",
            "  interactivity=interactivity, compiler=compiler, result=result)\n"
          ],
          "name": "stderr"
        },
        {
          "output_type": "execute_result",
          "data": {
            "text/html": [
              "<div>\n",
              "<style scoped>\n",
              "    .dataframe tbody tr th:only-of-type {\n",
              "        vertical-align: middle;\n",
              "    }\n",
              "\n",
              "    .dataframe tbody tr th {\n",
              "        vertical-align: top;\n",
              "    }\n",
              "\n",
              "    .dataframe thead th {\n",
              "        text-align: right;\n",
              "    }\n",
              "</style>\n",
              "<table border=\"1\" class=\"dataframe\">\n",
              "  <thead>\n",
              "    <tr style=\"text-align: right;\">\n",
              "      <th></th>\n",
              "      <th>Store</th>\n",
              "      <th>DayOfWeek</th>\n",
              "      <th>Date</th>\n",
              "      <th>Sales</th>\n",
              "      <th>Customers</th>\n",
              "      <th>Open</th>\n",
              "      <th>Promo</th>\n",
              "      <th>StateHoliday</th>\n",
              "      <th>SchoolHoliday</th>\n",
              "    </tr>\n",
              "  </thead>\n",
              "  <tbody>\n",
              "    <tr>\n",
              "      <th>0</th>\n",
              "      <td>1</td>\n",
              "      <td>5</td>\n",
              "      <td>2015-07-31</td>\n",
              "      <td>5263</td>\n",
              "      <td>555</td>\n",
              "      <td>1</td>\n",
              "      <td>1</td>\n",
              "      <td>0</td>\n",
              "      <td>1</td>\n",
              "    </tr>\n",
              "    <tr>\n",
              "      <th>1</th>\n",
              "      <td>2</td>\n",
              "      <td>5</td>\n",
              "      <td>2015-07-31</td>\n",
              "      <td>6064</td>\n",
              "      <td>625</td>\n",
              "      <td>1</td>\n",
              "      <td>1</td>\n",
              "      <td>0</td>\n",
              "      <td>1</td>\n",
              "    </tr>\n",
              "    <tr>\n",
              "      <th>2</th>\n",
              "      <td>3</td>\n",
              "      <td>5</td>\n",
              "      <td>2015-07-31</td>\n",
              "      <td>8314</td>\n",
              "      <td>821</td>\n",
              "      <td>1</td>\n",
              "      <td>1</td>\n",
              "      <td>0</td>\n",
              "      <td>1</td>\n",
              "    </tr>\n",
              "    <tr>\n",
              "      <th>3</th>\n",
              "      <td>4</td>\n",
              "      <td>5</td>\n",
              "      <td>2015-07-31</td>\n",
              "      <td>13995</td>\n",
              "      <td>1498</td>\n",
              "      <td>1</td>\n",
              "      <td>1</td>\n",
              "      <td>0</td>\n",
              "      <td>1</td>\n",
              "    </tr>\n",
              "    <tr>\n",
              "      <th>4</th>\n",
              "      <td>5</td>\n",
              "      <td>5</td>\n",
              "      <td>2015-07-31</td>\n",
              "      <td>4822</td>\n",
              "      <td>559</td>\n",
              "      <td>1</td>\n",
              "      <td>1</td>\n",
              "      <td>0</td>\n",
              "      <td>1</td>\n",
              "    </tr>\n",
              "  </tbody>\n",
              "</table>\n",
              "</div>"
            ],
            "text/plain": [
              "   Store  DayOfWeek        Date  Sales  ...  Open  Promo  StateHoliday SchoolHoliday\n",
              "0      1          5  2015-07-31   5263  ...     1      1             0             1\n",
              "1      2          5  2015-07-31   6064  ...     1      1             0             1\n",
              "2      3          5  2015-07-31   8314  ...     1      1             0             1\n",
              "3      4          5  2015-07-31  13995  ...     1      1             0             1\n",
              "4      5          5  2015-07-31   4822  ...     1      1             0             1\n",
              "\n",
              "[5 rows x 9 columns]"
            ]
          },
          "metadata": {
            "tags": []
          },
          "execution_count": 91
        }
      ]
    },
    {
      "cell_type": "markdown",
      "metadata": {
        "id": "SNoNiBH0oH3L",
        "colab_type": "text"
      },
      "source": [
        "*You might see a warning when importing the data. This is because StateHoliday has both values in string and numbers. No worries this for now.*"
      ]
    },
    {
      "cell_type": "markdown",
      "metadata": {
        "id": "Dxg8lfkUe5aw",
        "colab_type": "text"
      },
      "source": [
        "### Q1 [7 points]\n",
        "\n",
        "Run the following model\n",
        "\n",
        "$$Sales=\\beta_0+\\beta_1 Customers + \\epsilon$$\n",
        "\n",
        "> (1) Print out the summary output\n",
        "\n",
        "> (2) Based on regression result, answer the following questions\n",
        "\n",
        ">> Interpret  $\\hat{\\beta_0}$ and $\\hat{\\beta_1}$ based on the regression output. \n",
        "\n",
        ">> Reason whether there is a negative correlation between the number of customers and Sales\n",
        "\n",
        ">> Report the 99% confidence interval for $\\beta_1$"
      ]
    },
    {
      "cell_type": "code",
      "metadata": {
        "id": "oa-KpNvoe5HN",
        "colab_type": "code",
        "outputId": "9c0a620c-8f4f-49fa-d6f1-832b934c2750",
        "colab": {
          "base_uri": "https://localhost:8080/",
          "height": 561
        }
      },
      "source": [
        "from statsmodels.formula.api import ols\n",
        "#running the model 𝑆𝑎𝑙𝑒𝑠=𝛽0+𝛽1𝐶𝑢𝑠𝑡𝑜𝑚𝑒𝑟𝑠+𝜖 \n",
        "model = ols(formula=\"Sales~Customers\",data=Sales).fit()\n",
        "#print the summary output of the model, and the confidence interval\n",
        "print(model.summary(), model.conf_int(0.01), sep='\\n \\n \\n')\n",
        "\n",
        "# The interpretations of 2(a) and (b), as well as the 99% confidence interval for  𝛽1,  follow after the summary output."
      ],
      "execution_count": 92,
      "outputs": [
        {
          "output_type": "stream",
          "text": [
            "                            OLS Regression Results                            \n",
            "==============================================================================\n",
            "Dep. Variable:                  Sales   R-squared:                       0.801\n",
            "Model:                            OLS   Adj. R-squared:                  0.801\n",
            "Method:                 Least Squares   F-statistic:                 4.082e+06\n",
            "Date:                Sun, 29 Sep 2019   Prob (F-statistic):               0.00\n",
            "Time:                        01:36:29   Log-Likelihood:            -9.0214e+06\n",
            "No. Observations:             1017209   AIC:                         1.804e+07\n",
            "Df Residuals:                 1017207   BIC:                         1.804e+07\n",
            "Df Model:                           1                                         \n",
            "Covariance Type:            nonrobust                                         \n",
            "==============================================================================\n",
            "                 coef    std err          t      P>|t|      [0.025      0.975]\n",
            "------------------------------------------------------------------------------\n",
            "Intercept   1077.7365      2.883    373.869      0.000    1072.087    1083.386\n",
            "Customers      7.4171      0.004   2020.337      0.000       7.410       7.424\n",
            "==============================================================================\n",
            "Omnibus:                   191239.897   Durbin-Watson:                   1.527\n",
            "Prob(Omnibus):                  0.000   Jarque-Bera (JB):          4065690.900\n",
            "Skew:                          -0.326   Prob(JB):                         0.00\n",
            "Kurtosis:                      12.772   Cond. No.                     1.33e+03\n",
            "==============================================================================\n",
            "\n",
            "Warnings:\n",
            "[1] Standard Errors assume that the covariance matrix of the errors is correctly specified.\n",
            "[2] The condition number is large, 1.33e+03. This might indicate that there are\n",
            "strong multicollinearity or other numerical problems.\n",
            " \n",
            " \n",
            "                     0            1\n",
            "Intercept  1070.311260  1085.161746\n",
            "Customers     7.407605     7.426518\n"
          ],
          "name": "stdout"
        }
      ]
    },
    {
      "cell_type": "markdown",
      "metadata": {
        "id": "pWElvXTUaP5d",
        "colab_type": "text"
      },
      "source": [
        "### $\\beta_{1}$ interpretation\n",
        "If you increase the Customers independent variable by 1 unit without changing other factors, the expected value for the Sales target variable will increase ON AVERAGE by 7.4171 (+- 0.004)\n",
        "\n",
        "### $\\beta_{0}$ interpretation\n",
        "If the Customers independent variable is equal to 0, the expected value for the Sales target variable will be on average equal to 1077.7365 (+- 2.883)\n",
        "\n",
        "Also:\n",
        "The intercept (often labeled the constant-here $\\beta_{0}$) is the expected mean value of Sales when all independent variables, in our case Customers=0. \n",
        "\n",
        "If X (array of independent variables-in our case just Customers) sometimes equals 0, the intercept is simply the expected mean value of Y (target variable-in our case, Sales) at that value. If X never equals 0, then the intercept has no intrinsic meaning.\n",
        "\n",
        "### Reason whether there is a negative correlation between the number of customers and Sales\n",
        "From the regression table we observe that there is not a negative correlation (instead there is a positive correlation) between the Sales (target/dependent) variable and the Customers (predictor/independent) variable. The reason why the independent variable, Customers, does not have a negative correlation with the Sales target variable is that, as the number of customers increases, the dollar amount of Sales obtained is expected to be higher, given that higher exposure leads to higher returns and no other restrictions take place.\n",
        "\n",
        "### 99% confidence interval for $\\beta_{1}$\n",
        "The 99% confidence interval of $\\beta_{1}$ is the interval [7.407605, 7.426518]."
      ]
    },
    {
      "cell_type": "markdown",
      "metadata": {
        "id": "fsl2cJPei2M3",
        "colab_type": "text"
      },
      "source": [
        "###Q2. [7 points]\n",
        "\n",
        "* For the model above, use a Python attribute we discussed in class to retrieve the values for $\\hat{\\beta_0}$ and $\\hat{\\beta_1}$.\n",
        "\n",
        "* Based on these two values, give the prediction for $\\widehat{Sales}$ when number of customers=110.\n",
        "\n",
        "* Find out the average of the actual Sales price for all the records that have customers=110."
      ]
    },
    {
      "cell_type": "code",
      "metadata": {
        "id": "A9XVAEZTovml",
        "colab_type": "code",
        "outputId": "08d8c4d7-aad4-4e33-904c-c07af069afe3",
        "colab": {
          "base_uri": "https://localhost:8080/",
          "height": 68
        }
      },
      "source": [
        "#estimated values of beta\n",
        "# model.params\n",
        "\n",
        "# For the model above, use a Python attribute we discussed in class to print the values for  𝛽0^  and  𝛽1^ .\n",
        "\n",
        "# Assign the intercept, or 𝛽0^, to a variable\n",
        "b0_coeff = model.params[0]\n",
        "intercept = b0_coeff\n",
        "\n",
        "# Assign the first coefficient, 𝛽1^, to a variable\n",
        "b1_coeff = model.params[1]\n",
        "b1_coeff\n",
        "\n",
        "# Print the intercept, or 𝛽0^, and the first coefficient, 𝛽1^.\n",
        "print(b0_coeff, b1_coeff)\n",
        "\n",
        "\n",
        "# Based on these two values of the beta coefficients, print the predicted value for Sales when the number of Customers = 110\n",
        "Sales_110 = b0_coeff + b1_coeff * 110\n",
        "print(Sales_110)\n",
        "\n",
        "\n",
        "# Find out the average of the actual Sales price for all the records that have customers=110.\n",
        "print(Sales['Sales'].loc[Sales['Customers'] == 110].mean())"
      ],
      "execution_count": 93,
      "outputs": [
        {
          "output_type": "stream",
          "text": [
            "1077.7365031848192 7.417061572866315\n",
            "1893.613276200114\n",
            "908.1428571428571\n"
          ],
          "name": "stdout"
        }
      ]
    },
    {
      "cell_type": "markdown",
      "metadata": {
        "id": "jiakdWNjm8-o",
        "colab_type": "text"
      },
      "source": [
        "###Q3 [8 points]\n",
        "\n",
        "One person argues the following:\n",
        "\n",
        "* He found from the data that we should expect 0 Sales when we have 0 customers\n",
        "* Since $\\beta_0$ is the expected Sales price, when the number of customers is equal to 0, it should be set equals to 0.  \n",
        "\n",
        "> Based on data, support that his first argument is true.\n",
        "\n",
        "> Provide an argument on why the second point might be problematic. \n",
        "\n",
        "You will find the following articles useful:\n",
        "[Article 1](https://dynamicecology.wordpress.com/2017/04/13/dont-force-your-regression-through-zero-just-because-you-know-the-true-intercept-has-to-be-zero/)"
      ]
    },
    {
      "cell_type": "code",
      "metadata": {
        "id": "AF1A7PYOpv2e",
        "colab_type": "code",
        "outputId": "df113999-70f6-4c11-a41b-c60d5f4af5a6",
        "colab": {
          "base_uri": "https://localhost:8080/",
          "height": 34
        }
      },
      "source": [
        "# His first argument makes sense and it can be verified by calculating and printing the following quantity, ie actual (sample's) average of Sales when the customers are equal to 0\n",
        "print(Sales['Sales'].loc[Sales['Customers'] == 0].mean())\n",
        "\n",
        "# Below, we provide an argument and the reasoning why his second point might be problematic."
      ],
      "execution_count": 94,
      "outputs": [
        {
          "output_type": "stream",
          "text": [
            "0.0\n"
          ],
          "name": "stdout"
        }
      ]
    },
    {
      "cell_type": "markdown",
      "metadata": {
        "id": "5-vUGmE-41bN",
        "colab_type": "text"
      },
      "source": [
        "His second argument is wrong. More specifically, the linear form of the function of our regression model(s) is ordinarily chosen for convenience and/or because it fits the observed data reasonably well, or for other reasons. So the main reason why his second argument is wrong, it is because we do not know the actual form of F(X) outside of the origin. For that reason we cannot risk forcing the intercept of our regression line through the origin (0,0), and making it less accurate in all other X regions away from the origin.\n",
        "\n",
        "Moreover, the regression line that results from our linear model may provide a reasonable fit overall throughout the range of X values observed in our dataset,but with a nonsensical estimated intercept. This is the way that our linear regression model is telling us that the true shape of F(X) is following another model and it is nonlinear near and at the origin. By forcing the intercept through the origin could give us a more accurate prediction for our target variable at the origin, but:\n",
        "\n",
        "1) it would fail to capture the true and actual behavior of the Sales target variable near and at the origin, and\n",
        "\n",
        "2) it would impact the accuracy of the predicted values of our target variable in all other areas away from the origin."
      ]
    },
    {
      "cell_type": "markdown",
      "metadata": {
        "id": "80KXrsB3rWJY",
        "colab_type": "text"
      },
      "source": [
        "###Q4. [5 points] \n",
        "\n",
        "Now, run the following model:\n",
        "\n",
        "$Sales=\\beta_0+\\beta_1 Customers +\\beta_2 Open + \\epsilon$\n",
        "\n",
        "> Fit the model and print out the summary table.\n",
        "\n",
        "> Interpret $\\hat{\\beta_0}$ , $\\hat{\\beta_1}$ and $\\hat{\\beta_2}$. \n"
      ]
    },
    {
      "cell_type": "code",
      "metadata": {
        "id": "RYaOA4qysSVY",
        "colab_type": "code",
        "outputId": "7f02eb96-82f4-4599-9ed6-a6c1738cbc3f",
        "colab": {
          "base_uri": "https://localhost:8080/",
          "height": 493
        }
      },
      "source": [
        "model = ols(formula=\"Sales~Customers+Open\",data=Sales).fit()\n",
        "# Print results of the model and summary table\n",
        "print(model.summary())\n",
        "\n",
        "# Interpreting 𝛽0^, 𝛽1^, and 𝛽2^\n",
        "\n",
        "# The intercept is negative. More specifically, for 0 customers and for Open = 0, which means for stores that are closed, the expected value for the target variable named Sales \n",
        "# is on average -2.7e-11 ± 3.859, which is practically 0.\n",
        "\n",
        "# There is a positive correlation between the independent/predictor variable named Customers and the dependent/target variable named Sales. More specifically, for 1 unit increase\n",
        "# of the independent/predictor variable named Customers, while maintaining all the other independent variables constant, the expected value for the dependent/target variable named \n",
        "# Sales is expected to increase on average by 6.3720 ± 0.004 units.\n",
        "\n",
        "# There is a positive correlation between the independent/predictor variable named Open and the dependent/target variable named Sales. More specifically, for 1 unit increase \n",
        "# of the independent/predictor variable named Open (so from closed stores to open stores), while maintaining all the other independent variables constant, the expected value for \n",
        "# the dependent/target variable named Sales is expected to increase on average by 2095.4121 ± 5.380 units."
      ],
      "execution_count": 95,
      "outputs": [
        {
          "output_type": "stream",
          "text": [
            "                            OLS Regression Results                            \n",
            "==============================================================================\n",
            "Dep. Variable:                  Sales   R-squared:                       0.826\n",
            "Model:                            OLS   Adj. R-squared:                  0.826\n",
            "Method:                 Least Squares   F-statistic:                 2.421e+06\n",
            "Date:                Sun, 29 Sep 2019   Prob (F-statistic):               0.00\n",
            "Time:                        01:36:30   Log-Likelihood:            -8.9507e+06\n",
            "No. Observations:             1017209   AIC:                         1.790e+07\n",
            "Df Residuals:                 1017206   BIC:                         1.790e+07\n",
            "Df Model:                           2                                         \n",
            "Covariance Type:            nonrobust                                         \n",
            "==============================================================================\n",
            "                 coef    std err          t      P>|t|      [0.025      0.975]\n",
            "------------------------------------------------------------------------------\n",
            "Intercept    -2.7e-11      3.859     -7e-12      1.000      -7.563       7.563\n",
            "Customers      6.3720      0.004   1464.540      0.000       6.363       6.381\n",
            "Open        2095.4121      5.380    389.446      0.000    2084.867    2105.958\n",
            "==============================================================================\n",
            "Omnibus:                   174664.307   Durbin-Watson:                   1.538\n",
            "Prob(Omnibus):                  0.000   Jarque-Bera (JB):          2877540.904\n",
            "Skew:                           0.331   Prob(JB):                         0.00\n",
            "Kurtosis:                      11.213   Cond. No.                     3.06e+03\n",
            "==============================================================================\n",
            "\n",
            "Warnings:\n",
            "[1] Standard Errors assume that the covariance matrix of the errors is correctly specified.\n",
            "[2] The condition number is large, 3.06e+03. This might indicate that there are\n",
            "strong multicollinearity or other numerical problems.\n"
          ],
          "name": "stdout"
        }
      ]
    },
    {
      "cell_type": "markdown",
      "metadata": {
        "id": "6OVzypgAYfES",
        "colab_type": "text"
      },
      "source": [
        "###Q5. [4 points]\n",
        "\n",
        "Based on regression, prove that Q4 is equivalent to regressing \"Sales\" on \"Customers\" using only observations with stores that are open. "
      ]
    },
    {
      "cell_type": "code",
      "metadata": {
        "id": "bBo7kULp8GMy",
        "colab_type": "code",
        "outputId": "aa00083c-cddb-4765-e57b-8c9e3ca44057",
        "colab": {
          "base_uri": "https://localhost:8080/",
          "height": 510
        }
      },
      "source": [
        "# We keep only the dataset's obsrevations with stores that are open:\n",
        "filter_ = (Sales[\"Open\"] == 1)\n",
        "Sales = Sales[filter_]\n",
        "# Sales[\"Open\"].nunique()\n",
        "# Sales[\"Open\"].value_counts()\n",
        "model = ols(formula=\"Sales~Customers\",data=Sales).fit()\n",
        "print(model.summary(), sep='\\n \\n \\n')\n",
        "print('\\n')\n",
        "\n",
        "# We observe that the beta coefficient, β1^, in both models is exactly the same and there is very slight difference only in its standard deviation value. \n",
        "\n",
        "# Moreover, the intercept, beta coefficient, β0^, is shifted upwards from -2.7e-11 (practically ~0) to 2095.4121, an increase which is exactly equal to the coefficient of the \n",
        "# independent/predictor variable named Open of the model of Q4, which makes sense, since the independent/predictor variable named Open in the model of Q4 could take the values of \n",
        "# 0 or 1, and in our current model of Q5 (open stores) if the independent/predictor variable named Open existed, it should take the value 1 for all the observations of our model.\n",
        "# That is why the intercept is shifted upwards by 2095.4121 in the model of Q5; it is shifted upwards in order for all the predicted values of our model to integrate the increase \n",
        "# of 2095.4121 * 1, which is equivalent to let the variable Open=1 (open stores) in the model of Q4. \n",
        "\n",
        "# Thus the model of Q4 is equivalent to regressing \"Sales\" on \"Customers\" using only observations with stores that are open (=model of Q5)."
      ],
      "execution_count": 96,
      "outputs": [
        {
          "output_type": "stream",
          "text": [
            "                            OLS Regression Results                            \n",
            "==============================================================================\n",
            "Dep. Variable:                  Sales   R-squared:                       0.678\n",
            "Model:                            OLS   Adj. R-squared:                  0.678\n",
            "Method:                 Least Squares   F-statistic:                 1.780e+06\n",
            "Date:                Sun, 29 Sep 2019   Prob (F-statistic):               0.00\n",
            "Time:                        01:36:30   Log-Likelihood:            -7.5086e+06\n",
            "No. Observations:              844392   AIC:                         1.502e+07\n",
            "Df Residuals:                  844390   BIC:                         1.502e+07\n",
            "Df Model:                           1                                         \n",
            "Covariance Type:            nonrobust                                         \n",
            "==============================================================================\n",
            "                 coef    std err          t      P>|t|      [0.025      0.975]\n",
            "------------------------------------------------------------------------------\n",
            "Intercept   2095.4121      4.116    509.149      0.000    2087.346    2103.478\n",
            "Customers      6.3720      0.005   1334.346      0.000       6.363       6.381\n",
            "==============================================================================\n",
            "Omnibus:                   121855.115   Durbin-Watson:                   1.507\n",
            "Prob(Omnibus):                  0.000   Jarque-Bera (JB):          1412780.405\n",
            "Skew:                           0.302   Prob(JB):                         0.00\n",
            "Kurtosis:                       9.308   Cond. No.                     1.85e+03\n",
            "==============================================================================\n",
            "\n",
            "Warnings:\n",
            "[1] Standard Errors assume that the covariance matrix of the errors is correctly specified.\n",
            "[2] The condition number is large, 1.85e+03. This might indicate that there are\n",
            "strong multicollinearity or other numerical problems.\n",
            "\n",
            "\n"
          ],
          "name": "stdout"
        }
      ]
    },
    {
      "cell_type": "markdown",
      "metadata": {
        "id": "BJDhp8WukbsV",
        "colab_type": "text"
      },
      "source": [
        "###Q6. [7 points]\n",
        "Store table gives the information of each store. \n",
        "\n",
        "* Merge Sales table with Store table\n",
        "* Run the following regression model\n",
        "\n",
        "$$Sales=\\beta_0+\\beta_1 Customers +  \\beta_2 Open + \\beta_3 Competition Distance+\\epsilon$$\n",
        "\n",
        "* Based on the regression result, interpret $\\widehat{\\beta_3}$. Is this consistent with your expectation? Why?"
      ]
    },
    {
      "cell_type": "code",
      "metadata": {
        "id": "yWYpHwq3nLo2",
        "colab_type": "code",
        "outputId": "91a21cec-c8b6-4c07-9d99-986dc4134db8",
        "colab": {
          "base_uri": "https://localhost:8080/",
          "height": 564
        }
      },
      "source": [
        "link=\"https://drive.google.com/open?id=1g6URzUJnhCLOtg0a9TTHC18KYcqwxvoc\"\n",
        "_,id=link.split(\"=\")\n",
        "downloaded = drive.CreateFile({'id':id}) \n",
        "downloaded.GetContentFile('myfile_store.csv')  \n",
        "Store = pd.read_csv('myfile_store.csv')\n",
        "# Store.head(5)\n",
        "\n",
        "# Reloading the initial Sales dataset into a df\n",
        "\n",
        "Sales = pd.read_csv('Sales.csv')\n",
        "# Sales.head()\n",
        "\n",
        "# Merging the Sales and Store dfs\n",
        "\n",
        "Sales_Store_merged = Sales.merge(Store, on = \"Store\") # since Store is the only 1 common column in both dfs\n",
        "Sales_Store_merged.head()\n",
        "\n",
        "# Running the model as described in the question and printing the model summary\n",
        "\n",
        "model = ols(formula=\"Sales~Customers+Open+CompetitionDistance\",data=Sales_Store_merged).fit()\n",
        "print(model.summary(), sep='\\n \\n \\n')\n",
        "# print(Sales.shape[0],Store.shape[0])\n",
        "\n",
        "# Interpreting 𝛽3ˆ based on the regression result, and if this is consistent with our expectation and why\n",
        "\n",
        "# The value of coefficient 𝛽3ˆ of the independent/predictor variable named CompetitionDistance is positive but very small, ie 0.0296. The sign of the coefficient b3 of the \n",
        "# independent/predictor variable named CompetitionDistance makes sense, since we were expecting that as the competition distance increases, the dependent/target variable named\n",
        "# Sales is expected to increase, since no competition is present. The value of the b3 coefficient can be interpreted as follows: 1 unit increase in the value of the \n",
        "# independent/predictor variable named CompetitionDistance is expected to lead in an average increase of 0.0296 ± 0.000 units in the expected value of the dependent/target \n",
        "# variable named Sales. It worths of mention, the fact that the value of the coefficient 𝛽3ˆ is small, since the data points/observations of the Store dataset are very few compared \n",
        "# to the data points/observations (rows) of the Sales dataset, thus the value of the coefficient 𝛽3ˆ is not accurate (because of the existence of a lot of NaNs)."
      ],
      "execution_count": 100,
      "outputs": [
        {
          "output_type": "stream",
          "text": [
            "/usr/local/lib/python3.6/dist-packages/IPython/core/interactiveshell.py:2718: DtypeWarning: Columns (7) have mixed types. Specify dtype option on import or set low_memory=False.\n",
            "  interactivity=interactivity, compiler=compiler, result=result)\n"
          ],
          "name": "stderr"
        },
        {
          "output_type": "stream",
          "text": [
            "                            OLS Regression Results                            \n",
            "==============================================================================\n",
            "Dep. Variable:                  Sales   R-squared:                       0.830\n",
            "Model:                            OLS   Adj. R-squared:                  0.830\n",
            "Method:                 Least Squares   F-statistic:                 1.647e+06\n",
            "Date:                Sun, 29 Sep 2019   Prob (F-statistic):               0.00\n",
            "Time:                        02:27:16   Log-Likelihood:            -8.9181e+06\n",
            "No. Observations:             1014567   AIC:                         1.784e+07\n",
            "Df Residuals:                 1014563   BIC:                         1.784e+07\n",
            "Df Model:                           3                                         \n",
            "Covariance Type:            nonrobust                                         \n",
            "=======================================================================================\n",
            "                          coef    std err          t      P>|t|      [0.025      0.975]\n",
            "---------------------------------------------------------------------------------------\n",
            "Intercept            -156.6383      3.981    -39.342      0.000    -164.442    -148.835\n",
            "Customers               6.4533      0.004   1481.493      0.000       6.445       6.462\n",
            "Open                 2028.8475      5.361    378.431      0.000    2018.340    2039.355\n",
            "CompetitionDistance     0.0296      0.000    143.305      0.000       0.029       0.030\n",
            "==============================================================================\n",
            "Omnibus:                   173131.339   Durbin-Watson:                   0.581\n",
            "Prob(Omnibus):                  0.000   Jarque-Bera (JB):          3065929.502\n",
            "Skew:                           0.285   Prob(JB):                         0.00\n",
            "Kurtosis:                      11.497   Cond. No.                     3.68e+04\n",
            "==============================================================================\n",
            "\n",
            "Warnings:\n",
            "[1] Standard Errors assume that the covariance matrix of the errors is correctly specified.\n",
            "[2] The condition number is large, 3.68e+04. This might indicate that there are\n",
            "strong multicollinearity or other numerical problems.\n"
          ],
          "name": "stdout"
        }
      ]
    },
    {
      "cell_type": "code",
      "metadata": {
        "id": "AqTj5IpH-sXp",
        "colab_type": "code",
        "colab": {},
        "cellView": "form"
      },
      "source": [
        "### PLEASE IGNORE THIS\n",
        "#@title\n",
        "# Also, based on the fact that the order of magnitude of the value of the b3 coefficient seems small, compared to those of the other beta coefficients, someone could falsely suggest \n",
        "# that the small order of magnitute indicates that the independent/predictor variable named CompetitionDistance does not have a big impact in the prediction of the Sales. \n",
        "# The small order of magnitude in the the coefficient b3 though, could probably be attributed to the fact that the units of CompetitionDistance in our model are a few orders of \n",
        "# magnitude higher in comparison to those of the other independent/predictor variables. In order to account for that, the proper thing to do would be to normalize all the features \n",
        "# of our model, and then run the regression model, so that the impact of the scales of the features do not lead us to misinterpretations (would be a result of misleading values of \n",
        "# the beta coefficients of our model), regarding the actual impact of the independent (predictor) variables to the dependent (target) variable."
      ],
      "execution_count": 0,
      "outputs": []
    }
  ]
}