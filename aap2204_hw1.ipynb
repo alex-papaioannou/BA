{
  "nbformat": 4,
  "nbformat_minor": 0,
  "metadata": {
    "colab": {
      "name": "aap2204_hw1.ipynb",
      "provenance": [],
      "collapsed_sections": [],
      "machine_shape": "hm",
      "include_colab_link": true
    },
    "kernelspec": {
      "name": "python3",
      "display_name": "Python 3"
    }
  },
  "cells": [
    {
      "cell_type": "markdown",
      "metadata": {
        "id": "view-in-github",
        "colab_type": "text"
      },
      "source": [
        "<a href=\"https://colab.research.google.com/github/apapaioannou92/BA/blob/HW1/aap2204_hw1.ipynb\" target=\"_parent\"><img src=\"https://colab.research.google.com/assets/colab-badge.svg\" alt=\"Open In Colab\"/></a>"
      ]
    },
    {
      "cell_type": "markdown",
      "metadata": {
        "id": "9JCRnqkLnjHE",
        "colab_type": "text"
      },
      "source": [
        "# **IEOR 4650  Business Analytics (Fall 2019)**\n",
        "\n",
        "**Homework 1 [Total points: 60]**\n",
        "\n",
        "** Due: 11:59 PM, September 28**\n",
        "\n",
        "This first homework consists of Python programming practices and the applications to data clearning and linear regression. \n",
        "\n",
        "The steps to finish in the homework:\n",
        "\n",
        "*   Step 1: Make a copy of the file to your LionDrive.\n",
        "*   Step 2: Work with the copy (an ipynb file).\n",
        "*    <font color='red'>**Step 3: Rename the copy to your_uni_hw1.ipynb (For example: yd4501_hw1.ipynb).**</font>  \n",
        "*   Step 4: Submit the copy on CourseWorks.\n",
        "\n",
        "Before you submit your assignment, make sure to re-run your code from the beginning. (You can do so by first clicking Runtime/Reset All Runtimes and then clicking Runtime/Run all)\n",
        "\n",
        "\n",
        "**All the questions in this homework requires coding**"
      ]
    },
    {
      "cell_type": "code",
      "metadata": {
        "id": "lSH_bDnX2ybu",
        "colab_type": "code",
        "colab": {}
      },
      "source": [
        "#This imports all the packages you need for the homework\n",
        "#Please run this first\n",
        "\n",
        "\n",
        "!pip install -U -q PyDrive\n",
        "from pydrive.auth import GoogleAuth\n",
        "from pydrive.drive import GoogleDrive\n",
        "from google.colab import auth\n",
        "from oauth2client.client import GoogleCredentials\n",
        "# Authenticate and create the PyDrive client.\n",
        "auth.authenticate_user()\n",
        "gauth = GoogleAuth()\n",
        "gauth.credentials = GoogleCredentials.get_application_default()\n",
        "drive = GoogleDrive(gauth)\n",
        "\n",
        "\n",
        "#import modules\n",
        "\n",
        "import numpy as np\n",
        "import pandas as pd\n",
        "from statsmodels.formula.api import ols\n",
        "import matplotlib.pyplot as plt\n",
        "\n"
      ],
      "execution_count": 0,
      "outputs": []
    },
    {
      "cell_type": "markdown",
      "metadata": {
        "id": "85PhtRJHpEMr",
        "colab_type": "text"
      },
      "source": [
        "## Exercise 1 [Total: 22 Points]\n",
        "\n",
        "In this exercise, we will work on some exercises that practices our data manipulation skills.\n",
        "\n",
        "\n",
        "\n",
        "\n",
        "<div>\n",
        "<img src=\"https://http2.mlstatic.com/poster-pokemon-full-hd-42x29cm-frete-gratis-D_NQ_NP_752705-MLB25053489227_092016-F.jpg\" width=\"250\"/>\n",
        "</div>\n",
        "\n",
        "## Setting\n",
        "Pokemon is a very popular video game, in which the trainer catches pokemon and use them for battling. Each pokemon has its name and its pokedex. A Pokemon belongs to at least 1 and at most 2 Pokemon types.  There are different stats to measure the combat power of a pokemon, which include HP, Attack, Defense, Special Attack Strength, Special Defensive Strength, and Speed. Pokemon are usually released in batches. Thus, they have different generations. In addition, a pokemon can either be a regular pokemon and legendary pokemon. \n",
        "\n",
        "\n",
        "\n",
        "|Variable| Description|\n",
        "|---|---|\n",
        "|PokeDex |PokeDex index number|\n",
        "| Name | Name of the Pokemon  |  \n",
        "| Type 1 | Type of pokemon  |  \n",
        "| Type 2 | Other Type of Pokemon  |  \n",
        "| HP |  Hit Points  |  \n",
        "| Attack |  Attack Strength  |  \n",
        "| Defense |  Defensive Strength  |  \n",
        "| Sp. Atk |  Special Attack Strength  |  \n",
        "| Sp. Def |  Special Defensive Strength  |  \n",
        "| Speed | Speed  |  \n",
        "| Generation | Number of generation  |  \n",
        "| Legendary |  True if Legendary Pokemon False if not | \""
      ]
    },
    {
      "cell_type": "code",
      "metadata": {
        "id": "UQjQyhHfBDP7",
        "colab_type": "code",
        "outputId": "cef6673a-d424-4bce-e79e-9798cc32fdce",
        "colab": {
          "base_uri": "https://localhost:8080/",
          "height": 204
        }
      },
      "source": [
        "#Load the dataset \n",
        "link=\"https://drive.google.com/open?id=1wX36WLNOPLPVU7BCA-J9bBhGZPwuFqol\"\n",
        "_,id=link.split(\"=\")\n",
        "downloaded = drive.CreateFile({'id':id}) \n",
        "downloaded.GetContentFile('myfile.csv')  \n",
        "Pokemon = pd.read_csv('myfile.csv')\n",
        "Pokemon.head()"
      ],
      "execution_count": 0,
      "outputs": [
        {
          "output_type": "execute_result",
          "data": {
            "text/html": [
              "<div>\n",
              "<style scoped>\n",
              "    .dataframe tbody tr th:only-of-type {\n",
              "        vertical-align: middle;\n",
              "    }\n",
              "\n",
              "    .dataframe tbody tr th {\n",
              "        vertical-align: top;\n",
              "    }\n",
              "\n",
              "    .dataframe thead th {\n",
              "        text-align: right;\n",
              "    }\n",
              "</style>\n",
              "<table border=\"1\" class=\"dataframe\">\n",
              "  <thead>\n",
              "    <tr style=\"text-align: right;\">\n",
              "      <th></th>\n",
              "      <th>PokeDex</th>\n",
              "      <th>Name</th>\n",
              "      <th>Type_1</th>\n",
              "      <th>Type_2</th>\n",
              "      <th>HP</th>\n",
              "      <th>Attack</th>\n",
              "      <th>Defense</th>\n",
              "      <th>Sp_Atk</th>\n",
              "      <th>Sp_Def</th>\n",
              "      <th>Speed</th>\n",
              "      <th>Generation</th>\n",
              "      <th>Legendary</th>\n",
              "    </tr>\n",
              "  </thead>\n",
              "  <tbody>\n",
              "    <tr>\n",
              "      <th>0</th>\n",
              "      <td>1</td>\n",
              "      <td>Bulbasaur</td>\n",
              "      <td>Grass</td>\n",
              "      <td>Poison</td>\n",
              "      <td>45</td>\n",
              "      <td>49</td>\n",
              "      <td>49</td>\n",
              "      <td>65</td>\n",
              "      <td>65</td>\n",
              "      <td>45</td>\n",
              "      <td>1</td>\n",
              "      <td>False</td>\n",
              "    </tr>\n",
              "    <tr>\n",
              "      <th>1</th>\n",
              "      <td>2</td>\n",
              "      <td>Ivysaur</td>\n",
              "      <td>Grass</td>\n",
              "      <td>Poison</td>\n",
              "      <td>60</td>\n",
              "      <td>62</td>\n",
              "      <td>63</td>\n",
              "      <td>80</td>\n",
              "      <td>80</td>\n",
              "      <td>60</td>\n",
              "      <td>1</td>\n",
              "      <td>False</td>\n",
              "    </tr>\n",
              "    <tr>\n",
              "      <th>2</th>\n",
              "      <td>3</td>\n",
              "      <td>Venusaur</td>\n",
              "      <td>Grass</td>\n",
              "      <td>Poison</td>\n",
              "      <td>80</td>\n",
              "      <td>82</td>\n",
              "      <td>83</td>\n",
              "      <td>100</td>\n",
              "      <td>100</td>\n",
              "      <td>80</td>\n",
              "      <td>1</td>\n",
              "      <td>False</td>\n",
              "    </tr>\n",
              "    <tr>\n",
              "      <th>3</th>\n",
              "      <td>4</td>\n",
              "      <td>Charmander</td>\n",
              "      <td>Fire</td>\n",
              "      <td>***</td>\n",
              "      <td>39</td>\n",
              "      <td>52</td>\n",
              "      <td>43</td>\n",
              "      <td>60</td>\n",
              "      <td>50</td>\n",
              "      <td>65</td>\n",
              "      <td>1</td>\n",
              "      <td>False</td>\n",
              "    </tr>\n",
              "    <tr>\n",
              "      <th>4</th>\n",
              "      <td>5</td>\n",
              "      <td>Charmeleon</td>\n",
              "      <td>Fire</td>\n",
              "      <td>***</td>\n",
              "      <td>58</td>\n",
              "      <td>64</td>\n",
              "      <td>58</td>\n",
              "      <td>80</td>\n",
              "      <td>65</td>\n",
              "      <td>80</td>\n",
              "      <td>1</td>\n",
              "      <td>False</td>\n",
              "    </tr>\n",
              "  </tbody>\n",
              "</table>\n",
              "</div>"
            ],
            "text/plain": [
              "   PokeDex        Name Type_1  Type_2  ...  Sp_Def  Speed  Generation  Legendary\n",
              "0        1   Bulbasaur  Grass  Poison  ...      65     45           1      False\n",
              "1        2     Ivysaur  Grass  Poison  ...      80     60           1      False\n",
              "2        3    Venusaur  Grass  Poison  ...     100     80           1      False\n",
              "3        4  Charmander   Fire     ***  ...      50     65           1      False\n",
              "4        5  Charmeleon   Fire     ***  ...      65     80           1      False\n",
              "\n",
              "[5 rows x 12 columns]"
            ]
          },
          "metadata": {
            "tags": []
          },
          "execution_count": 3
        }
      ]
    },
    {
      "cell_type": "markdown",
      "metadata": {
        "id": "HdR4J86Fpfqd",
        "colab_type": "text"
      },
      "source": [
        "### Q1 [2 points]\n",
        "* Find the number of unique pokemon in the table. [hint: you want to make sure the same pokemon name does not appear twice in the table]\n",
        "\n",
        "**Make sure to print out the result**"
      ]
    },
    {
      "cell_type": "code",
      "metadata": {
        "id": "E6nQ96Wiam9z",
        "colab_type": "code",
        "outputId": "510f86fc-f479-494a-b152-675185abe843",
        "colab": {
          "base_uri": "https://localhost:8080/",
          "height": 34
        }
      },
      "source": [
        "Pokemon[\"Name\"].nunique()"
      ],
      "execution_count": 0,
      "outputs": [
        {
          "output_type": "execute_result",
          "data": {
            "text/plain": [
              "721"
            ]
          },
          "metadata": {
            "tags": []
          },
          "execution_count": 4
        }
      ]
    },
    {
      "cell_type": "markdown",
      "metadata": {
        "id": "KgQlKUMK1N3r",
        "colab_type": "text"
      },
      "source": [
        "### Q2. [4 points]\n",
        "\n",
        "* Add one additional column named \"Total\" to the table \n",
        "> The value of Total for each pokemon is equal to the sum of all the stats numbers for each pokemon (HP+Attack+Defense+Sp. Atk+Sp. Def+ Speed) and is the measure of total combat power of a pokemon.\n",
        "* drop the stats that are used to compute \"Total\" from the table\n",
        "\n",
        "**Make sure to print out the result for the last step**"
      ]
    },
    {
      "cell_type": "code",
      "metadata": {
        "id": "COzyvl8h1Nbz",
        "colab_type": "code",
        "outputId": "a6aeac83-0541-456b-b0a7-fd1f3111b64d",
        "colab": {
          "base_uri": "https://localhost:8080/",
          "height": 204
        }
      },
      "source": [
        "Pokemon = Pokemon.assign(Total=Pokemon['HP']+Pokemon['Attack']+Pokemon['Defense']+Pokemon['Sp_Atk']+Pokemon['Sp_Def']+Pokemon['Speed'])\n",
        "Pokemon.drop(['HP', 'Attack', 'Defense', 'Sp_Atk', 'Sp_Def', 'Speed'], axis=1, inplace=True)\n",
        "Pokemon.head()"
      ],
      "execution_count": 0,
      "outputs": [
        {
          "output_type": "execute_result",
          "data": {
            "text/html": [
              "<div>\n",
              "<style scoped>\n",
              "    .dataframe tbody tr th:only-of-type {\n",
              "        vertical-align: middle;\n",
              "    }\n",
              "\n",
              "    .dataframe tbody tr th {\n",
              "        vertical-align: top;\n",
              "    }\n",
              "\n",
              "    .dataframe thead th {\n",
              "        text-align: right;\n",
              "    }\n",
              "</style>\n",
              "<table border=\"1\" class=\"dataframe\">\n",
              "  <thead>\n",
              "    <tr style=\"text-align: right;\">\n",
              "      <th></th>\n",
              "      <th>PokeDex</th>\n",
              "      <th>Name</th>\n",
              "      <th>Type_1</th>\n",
              "      <th>Type_2</th>\n",
              "      <th>Generation</th>\n",
              "      <th>Legendary</th>\n",
              "      <th>Total</th>\n",
              "    </tr>\n",
              "  </thead>\n",
              "  <tbody>\n",
              "    <tr>\n",
              "      <th>0</th>\n",
              "      <td>1</td>\n",
              "      <td>Bulbasaur</td>\n",
              "      <td>Grass</td>\n",
              "      <td>Poison</td>\n",
              "      <td>1</td>\n",
              "      <td>False</td>\n",
              "      <td>318</td>\n",
              "    </tr>\n",
              "    <tr>\n",
              "      <th>1</th>\n",
              "      <td>2</td>\n",
              "      <td>Ivysaur</td>\n",
              "      <td>Grass</td>\n",
              "      <td>Poison</td>\n",
              "      <td>1</td>\n",
              "      <td>False</td>\n",
              "      <td>405</td>\n",
              "    </tr>\n",
              "    <tr>\n",
              "      <th>2</th>\n",
              "      <td>3</td>\n",
              "      <td>Venusaur</td>\n",
              "      <td>Grass</td>\n",
              "      <td>Poison</td>\n",
              "      <td>1</td>\n",
              "      <td>False</td>\n",
              "      <td>525</td>\n",
              "    </tr>\n",
              "    <tr>\n",
              "      <th>3</th>\n",
              "      <td>4</td>\n",
              "      <td>Charmander</td>\n",
              "      <td>Fire</td>\n",
              "      <td>***</td>\n",
              "      <td>1</td>\n",
              "      <td>False</td>\n",
              "      <td>309</td>\n",
              "    </tr>\n",
              "    <tr>\n",
              "      <th>4</th>\n",
              "      <td>5</td>\n",
              "      <td>Charmeleon</td>\n",
              "      <td>Fire</td>\n",
              "      <td>***</td>\n",
              "      <td>1</td>\n",
              "      <td>False</td>\n",
              "      <td>405</td>\n",
              "    </tr>\n",
              "  </tbody>\n",
              "</table>\n",
              "</div>"
            ],
            "text/plain": [
              "   PokeDex        Name Type_1  Type_2  Generation  Legendary  Total\n",
              "0        1   Bulbasaur  Grass  Poison           1      False    318\n",
              "1        2     Ivysaur  Grass  Poison           1      False    405\n",
              "2        3    Venusaur  Grass  Poison           1      False    525\n",
              "3        4  Charmander   Fire     ***           1      False    309\n",
              "4        5  Charmeleon   Fire     ***           1      False    405"
            ]
          },
          "metadata": {
            "tags": []
          },
          "execution_count": 5
        }
      ]
    },
    {
      "cell_type": "markdown",
      "metadata": {
        "id": "Ny0Hn_JLqaoi",
        "colab_type": "text"
      },
      "source": [
        "### Q3 [4 points]\n",
        "\n",
        "* Create a sub-table \"Pokemon_sub\" that includes only the pokemon name and the Pokedex for all the **Legendary**  pokemon from **Generation 1** and **Generation 2**. \n",
        "\n",
        "**Make sure to print out the content of the sub-table**"
      ]
    },
    {
      "cell_type": "code",
      "metadata": {
        "id": "XgR2-LOubuUn",
        "colab_type": "code",
        "outputId": "7cee9f78-25a6-47c8-9f0f-93ec5f310b9e",
        "colab": {
          "base_uri": "https://localhost:8080/",
          "height": 258
        }
      },
      "source": [
        "filter_price = (Pokemon[\"Generation\"]==1) | (Pokemon[\"Generation\"]==2) & (Pokemon['Legendary']==\"True\")\n",
        "Pokemon_sub = Pokemon.loc[filter_price, ['Name', 'PokeDex']]\n",
        "Pokemon_sub.head()"
      ],
      "execution_count": 0,
      "outputs": [
        {
          "output_type": "stream",
          "text": [
            "/usr/local/lib/python3.6/dist-packages/pandas/core/ops.py:1649: FutureWarning: elementwise comparison failed; returning scalar instead, but in the future will perform elementwise comparison\n",
            "  result = method(y)\n"
          ],
          "name": "stderr"
        },
        {
          "output_type": "execute_result",
          "data": {
            "text/html": [
              "<div>\n",
              "<style scoped>\n",
              "    .dataframe tbody tr th:only-of-type {\n",
              "        vertical-align: middle;\n",
              "    }\n",
              "\n",
              "    .dataframe tbody tr th {\n",
              "        vertical-align: top;\n",
              "    }\n",
              "\n",
              "    .dataframe thead th {\n",
              "        text-align: right;\n",
              "    }\n",
              "</style>\n",
              "<table border=\"1\" class=\"dataframe\">\n",
              "  <thead>\n",
              "    <tr style=\"text-align: right;\">\n",
              "      <th></th>\n",
              "      <th>Name</th>\n",
              "      <th>PokeDex</th>\n",
              "    </tr>\n",
              "  </thead>\n",
              "  <tbody>\n",
              "    <tr>\n",
              "      <th>0</th>\n",
              "      <td>Bulbasaur</td>\n",
              "      <td>1</td>\n",
              "    </tr>\n",
              "    <tr>\n",
              "      <th>1</th>\n",
              "      <td>Ivysaur</td>\n",
              "      <td>2</td>\n",
              "    </tr>\n",
              "    <tr>\n",
              "      <th>2</th>\n",
              "      <td>Venusaur</td>\n",
              "      <td>3</td>\n",
              "    </tr>\n",
              "    <tr>\n",
              "      <th>3</th>\n",
              "      <td>Charmander</td>\n",
              "      <td>4</td>\n",
              "    </tr>\n",
              "    <tr>\n",
              "      <th>4</th>\n",
              "      <td>Charmeleon</td>\n",
              "      <td>5</td>\n",
              "    </tr>\n",
              "  </tbody>\n",
              "</table>\n",
              "</div>"
            ],
            "text/plain": [
              "         Name  PokeDex\n",
              "0   Bulbasaur        1\n",
              "1     Ivysaur        2\n",
              "2    Venusaur        3\n",
              "3  Charmander        4\n",
              "4  Charmeleon        5"
            ]
          },
          "metadata": {
            "tags": []
          },
          "execution_count": 6
        }
      ]
    },
    {
      "cell_type": "markdown",
      "metadata": {
        "id": "lri2_TqON6Wq",
        "colab_type": "text"
      },
      "source": [
        "###Q4 [5 points]\n",
        "\n",
        "A pokemon might belong to only one type or two types. If a pokemons belongs to only one type, \"Type_2\" field will be missing that Pokemon\n",
        "\n",
        "We call a pokemon that belongs to only one type a \"single-type\" pokemon and a pokemon that belongs to two types a \"double-type\" pokemon. For example, Snorlax is a \"single-type\" pokemon and belongs to Normal type. For another example, Bulbasaur is a \"double-type\" pokemon and belongs to both Poison type and Grass type. \t  \n",
        "\n",
        "* Convert the missing values to a format that can be recognized by Pandas.\n",
        "* Report for each pokemon type, how many \"single-type\" pokemon exists.\n",
        "\n",
        "**Make sure to print out the result for the last step**"
      ]
    },
    {
      "cell_type": "code",
      "metadata": {
        "id": "mG6YisodN5-n",
        "colab_type": "code",
        "outputId": "0b2e3c48-b36d-458b-ecba-544d2f29afee",
        "colab": {
          "base_uri": "https://localhost:8080/",
          "height": 340
        }
      },
      "source": [
        "Pokemon['Type_1'].value_counts()"
      ],
      "execution_count": 0,
      "outputs": [
        {
          "output_type": "execute_result",
          "data": {
            "text/plain": [
              "Water       105\n",
              "Normal       93\n",
              "Grass        66\n",
              "Bug          63\n",
              "Psychic      47\n",
              "Fire         47\n",
              "Rock         41\n",
              "Electric     36\n",
              "Ground       30\n",
              "Poison       28\n",
              "Dark         28\n",
              "Fighting     25\n",
              "Dragon       24\n",
              "Ice          23\n",
              "Ghost        23\n",
              "Steel        22\n",
              "Fairy        17\n",
              "Flying        3\n",
              "Name: Type_1, dtype: int64"
            ]
          },
          "metadata": {
            "tags": []
          },
          "execution_count": 7
        }
      ]
    },
    {
      "cell_type": "code",
      "metadata": {
        "id": "jbHYnuWUF4Lg",
        "colab_type": "code",
        "outputId": "8afc898d-db7a-4de6-8e79-f984965968cd",
        "colab": {
          "base_uri": "https://localhost:8080/",
          "height": 340
        }
      },
      "source": [
        "Pokemon2 = Pokemon.replace(\"***\", np.nan)\n",
        "Pokemon2.head()\n",
        "Pokemon2[\"Type_1\"].nunique() # returns 18 unique entries for Type 1\n",
        "Pokemon2[\"Type_1\"].value_counts()"
      ],
      "execution_count": 0,
      "outputs": [
        {
          "output_type": "execute_result",
          "data": {
            "text/plain": [
              "Water       105\n",
              "Normal       93\n",
              "Grass        66\n",
              "Bug          63\n",
              "Psychic      47\n",
              "Fire         47\n",
              "Rock         41\n",
              "Electric     36\n",
              "Ground       30\n",
              "Poison       28\n",
              "Dark         28\n",
              "Fighting     25\n",
              "Dragon       24\n",
              "Ice          23\n",
              "Ghost        23\n",
              "Steel        22\n",
              "Fairy        17\n",
              "Flying        3\n",
              "Name: Type_1, dtype: int64"
            ]
          },
          "metadata": {
            "tags": []
          },
          "execution_count": 8
        }
      ]
    },
    {
      "cell_type": "code",
      "metadata": {
        "id": "RLUX_T65KCTm",
        "colab_type": "code",
        "outputId": "6cfaf16d-6116-4bc9-9b00-b7a4d32abda6",
        "colab": {
          "base_uri": "https://localhost:8080/",
          "height": 340
        }
      },
      "source": [
        "Pokemon3 = Pokemon.replace(\"***\", np.nan)\n",
        "Pokemon3.head()\n",
        "filter_type = pd.isnull(Pokemon3[\"Type_2\"])\n",
        "Pokemon3 = Pokemon3.loc[filter_type, ['PokeDex', 'Name', 'Type_1', 'Type_2', 'Generation', 'Legendary',\n",
        "       'Total']]\n",
        "Pokemon3[\"Type_1\"].nunique() # returns 18 unique entries for Type 1\n",
        "Pokemon3[\"Type_1\"].value_counts()"
      ],
      "execution_count": 0,
      "outputs": [
        {
          "output_type": "execute_result",
          "data": {
            "text/plain": [
              "Normal      60\n",
              "Water       57\n",
              "Grass       33\n",
              "Psychic     32\n",
              "Fire        28\n",
              "Electric    26\n",
              "Fighting    20\n",
              "Bug         17\n",
              "Poison      15\n",
              "Fairy       15\n",
              "Ground      13\n",
              "Ice         12\n",
              "Dragon      11\n",
              "Dark         9\n",
              "Rock         9\n",
              "Ghost        9\n",
              "Steel        4\n",
              "Flying       1\n",
              "Name: Type_1, dtype: int64"
            ]
          },
          "metadata": {
            "tags": []
          },
          "execution_count": 9
        }
      ]
    },
    {
      "cell_type": "code",
      "metadata": {
        "id": "sGLLfn29INno",
        "colab_type": "code",
        "outputId": "6a6ca143-fadf-4b89-df6e-f4ae5cee06d7",
        "colab": {
          "base_uri": "https://localhost:8080/",
          "height": 340
        }
      },
      "source": [
        "#replace and delete missing values \n",
        "import numpy as np\n",
        "Pokemon4 = Pokemon.replace(\"***\", np.nan)\n",
        "Pokemon4 = Pokemon4.dropna(subset = ['Type_2'])\n",
        "Pokemon4[\"Type_1\"].value_counts()"
      ],
      "execution_count": 0,
      "outputs": [
        {
          "output_type": "execute_result",
          "data": {
            "text/plain": [
              "Water       48\n",
              "Bug         46\n",
              "Normal      33\n",
              "Grass       33\n",
              "Rock        32\n",
              "Dark        19\n",
              "Fire        19\n",
              "Steel       18\n",
              "Ground      17\n",
              "Psychic     15\n",
              "Ghost       14\n",
              "Dragon      13\n",
              "Poison      13\n",
              "Ice         11\n",
              "Electric    10\n",
              "Fighting     5\n",
              "Flying       2\n",
              "Fairy        2\n",
              "Name: Type_1, dtype: int64"
            ]
          },
          "metadata": {
            "tags": []
          },
          "execution_count": 10
        }
      ]
    },
    {
      "cell_type": "code",
      "metadata": {
        "id": "kjoSWJPkL25l",
        "colab_type": "code",
        "outputId": "ce4834f7-4e88-4081-eca9-7c539bd5b8fa",
        "colab": {
          "base_uri": "https://localhost:8080/",
          "height": 215
        }
      },
      "source": [
        "import numpy as np\n",
        "Pokemon5 = Pokemon.replace(\"***\", np.nan)\n",
        "Pokemon5 = Pokemon5[pd.isnull(Pokemon5['Type_2'])]\n",
        "Pokemon5[\"Type_1\"].value_counts()"
      ],
      "execution_count": 1,
      "outputs": [
        {
          "output_type": "error",
          "ename": "NameError",
          "evalue": "ignored",
          "traceback": [
            "\u001b[0;31m---------------------------------------------------------------------------\u001b[0m",
            "\u001b[0;31mNameError\u001b[0m                                 Traceback (most recent call last)",
            "\u001b[0;32m<ipython-input-1-7616aaf0b636>\u001b[0m in \u001b[0;36m<module>\u001b[0;34m()\u001b[0m\n\u001b[1;32m      1\u001b[0m \u001b[0;32mimport\u001b[0m \u001b[0mnumpy\u001b[0m \u001b[0;32mas\u001b[0m \u001b[0mnp\u001b[0m\u001b[0;34m\u001b[0m\u001b[0;34m\u001b[0m\u001b[0m\n\u001b[0;32m----> 2\u001b[0;31m \u001b[0mPokemon5\u001b[0m \u001b[0;34m=\u001b[0m \u001b[0mPokemon\u001b[0m\u001b[0;34m.\u001b[0m\u001b[0mreplace\u001b[0m\u001b[0;34m(\u001b[0m\u001b[0;34m\"***\"\u001b[0m\u001b[0;34m,\u001b[0m \u001b[0mnp\u001b[0m\u001b[0;34m.\u001b[0m\u001b[0mnan\u001b[0m\u001b[0;34m)\u001b[0m\u001b[0;34m\u001b[0m\u001b[0;34m\u001b[0m\u001b[0m\n\u001b[0m\u001b[1;32m      3\u001b[0m \u001b[0mPokemon5\u001b[0m \u001b[0;34m=\u001b[0m \u001b[0mPokemon5\u001b[0m\u001b[0;34m[\u001b[0m\u001b[0mpd\u001b[0m\u001b[0;34m.\u001b[0m\u001b[0misnull\u001b[0m\u001b[0;34m(\u001b[0m\u001b[0mPokemon5\u001b[0m\u001b[0;34m[\u001b[0m\u001b[0;34m'Type_2'\u001b[0m\u001b[0;34m]\u001b[0m\u001b[0;34m)\u001b[0m\u001b[0;34m]\u001b[0m\u001b[0;34m\u001b[0m\u001b[0;34m\u001b[0m\u001b[0m\n\u001b[1;32m      4\u001b[0m \u001b[0mPokemon5\u001b[0m\u001b[0;34m[\u001b[0m\u001b[0;34m\"Type_1\"\u001b[0m\u001b[0;34m]\u001b[0m\u001b[0;34m.\u001b[0m\u001b[0mvalue_counts\u001b[0m\u001b[0;34m(\u001b[0m\u001b[0;34m)\u001b[0m\u001b[0;34m\u001b[0m\u001b[0;34m\u001b[0m\u001b[0m\n",
            "\u001b[0;31mNameError\u001b[0m: name 'Pokemon' is not defined"
          ]
        }
      ]
    },
    {
      "cell_type": "code",
      "metadata": {
        "id": "ucWK9bt6MZFA",
        "colab_type": "code",
        "outputId": "04759f8d-b215-4405-ceca-249ed2cfd981",
        "colab": {
          "base_uri": "https://localhost:8080/",
          "height": 340
        }
      },
      "source": [
        "Pokemon6 = Pokemon.replace(\"***\", np.nan)\n",
        "Pokemon7 = Pokemon6.dropna(subset=['Type_2'])\n",
        "Pokemon8 = Pokemon6.drop(Pokemon7.index)\n",
        "Pokemon8[\"Type_1\"].value_counts()"
      ],
      "execution_count": 0,
      "outputs": [
        {
          "output_type": "execute_result",
          "data": {
            "text/plain": [
              "Normal      60\n",
              "Water       57\n",
              "Grass       33\n",
              "Psychic     32\n",
              "Fire        28\n",
              "Electric    26\n",
              "Fighting    20\n",
              "Bug         17\n",
              "Poison      15\n",
              "Fairy       15\n",
              "Ground      13\n",
              "Ice         12\n",
              "Dragon      11\n",
              "Dark         9\n",
              "Rock         9\n",
              "Ghost        9\n",
              "Steel        4\n",
              "Flying       1\n",
              "Name: Type_1, dtype: int64"
            ]
          },
          "metadata": {
            "tags": []
          },
          "execution_count": 12
        }
      ]
    },
    {
      "cell_type": "code",
      "metadata": {
        "id": "HRj9s1hHPQdq",
        "colab_type": "code",
        "outputId": "9d03ccc6-6078-4009-ae0d-f987dac9ab48",
        "colab": {
          "base_uri": "https://localhost:8080/",
          "height": 204
        }
      },
      "source": [
        "Pokemon_sub.head()"
      ],
      "execution_count": 0,
      "outputs": [
        {
          "output_type": "execute_result",
          "data": {
            "text/html": [
              "<div>\n",
              "<style scoped>\n",
              "    .dataframe tbody tr th:only-of-type {\n",
              "        vertical-align: middle;\n",
              "    }\n",
              "\n",
              "    .dataframe tbody tr th {\n",
              "        vertical-align: top;\n",
              "    }\n",
              "\n",
              "    .dataframe thead th {\n",
              "        text-align: right;\n",
              "    }\n",
              "</style>\n",
              "<table border=\"1\" class=\"dataframe\">\n",
              "  <thead>\n",
              "    <tr style=\"text-align: right;\">\n",
              "      <th></th>\n",
              "      <th>Name</th>\n",
              "      <th>PokeDex</th>\n",
              "    </tr>\n",
              "  </thead>\n",
              "  <tbody>\n",
              "    <tr>\n",
              "      <th>0</th>\n",
              "      <td>Bulbasaur</td>\n",
              "      <td>1</td>\n",
              "    </tr>\n",
              "    <tr>\n",
              "      <th>1</th>\n",
              "      <td>Ivysaur</td>\n",
              "      <td>2</td>\n",
              "    </tr>\n",
              "    <tr>\n",
              "      <th>2</th>\n",
              "      <td>Venusaur</td>\n",
              "      <td>3</td>\n",
              "    </tr>\n",
              "    <tr>\n",
              "      <th>3</th>\n",
              "      <td>Charmander</td>\n",
              "      <td>4</td>\n",
              "    </tr>\n",
              "    <tr>\n",
              "      <th>4</th>\n",
              "      <td>Charmeleon</td>\n",
              "      <td>5</td>\n",
              "    </tr>\n",
              "  </tbody>\n",
              "</table>\n",
              "</div>"
            ],
            "text/plain": [
              "         Name  PokeDex\n",
              "0   Bulbasaur        1\n",
              "1     Ivysaur        2\n",
              "2    Venusaur        3\n",
              "3  Charmander        4\n",
              "4  Charmeleon        5"
            ]
          },
          "metadata": {
            "tags": []
          },
          "execution_count": 13
        }
      ]
    },
    {
      "cell_type": "markdown",
      "metadata": {
        "id": "zqO1YVPm7oRI",
        "colab_type": "text"
      },
      "source": [
        "###Q5 [7 points]\n",
        "\n",
        "It is important to have the ability of learning programming by yourself. Let's use some adequate methods to find the pokemon with the highest total combat power in each type.  \n",
        "\n",
        "In this table, you should have 3 columns\n",
        "\n",
        "(1) column 1: Type name\n",
        "\n",
        "(2) column 2: name of the most power pokemon for this pokemon type\n",
        "\n",
        "(3) column 3: total combat power for this pokemon\n",
        "\n",
        "[hint: You might find the following four methods to be relevant. However, there are multiple ways to achieve the goal. You do not need to use them in your answer. \n",
        "\n",
        "> `concat` method\n",
        "\n",
        "> `sort_values` method\n",
        "\n",
        "> `groupby` method\n",
        "\n",
        "> `first` method"
      ]
    },
    {
      "cell_type": "code",
      "metadata": {
        "id": "4V9-9_i47n5f",
        "colab_type": "code",
        "outputId": "71f6407f-5a02-44d7-d0da-8c161d833ec3",
        "colab": {
          "base_uri": "https://localhost:8080/",
          "height": 1000
        }
      },
      "source": [
        "Pokemon_new = Pokemon[['Type_1', 'Type_2', 'Name', 'Total']].copy()\n",
        "Pokemon_new['Type'] = Pokemon_new['Type_1'] +' & '+ Pokemon_new['Type_2']\n",
        "Pokemon_new.drop(columns = [\"Type_1\", \"Type_2\"], inplace=True)\n",
        "Pokemon_new = Pokemon_new[['Type', 'Name', 'Total']]\n",
        "Pokemon_new = Pokemon_new.sort_values(\"Total\", ascending=False).groupby('Type').first()\n",
        "Pokemon_new.head(60)"
      ],
      "execution_count": 0,
      "outputs": [
        {
          "output_type": "execute_result",
          "data": {
            "text/html": [
              "<div>\n",
              "<style scoped>\n",
              "    .dataframe tbody tr th:only-of-type {\n",
              "        vertical-align: middle;\n",
              "    }\n",
              "\n",
              "    .dataframe tbody tr th {\n",
              "        vertical-align: top;\n",
              "    }\n",
              "\n",
              "    .dataframe thead th {\n",
              "        text-align: right;\n",
              "    }\n",
              "</style>\n",
              "<table border=\"1\" class=\"dataframe\">\n",
              "  <thead>\n",
              "    <tr style=\"text-align: right;\">\n",
              "      <th></th>\n",
              "      <th>Name</th>\n",
              "      <th>Total</th>\n",
              "    </tr>\n",
              "    <tr>\n",
              "      <th>Type</th>\n",
              "      <th></th>\n",
              "      <th></th>\n",
              "    </tr>\n",
              "  </thead>\n",
              "  <tbody>\n",
              "    <tr>\n",
              "      <th>Bug &amp; ***</th>\n",
              "      <td>Pinsir</td>\n",
              "      <td>500</td>\n",
              "    </tr>\n",
              "    <tr>\n",
              "      <th>Bug &amp; Electric</th>\n",
              "      <td>Galvantula</td>\n",
              "      <td>472</td>\n",
              "    </tr>\n",
              "    <tr>\n",
              "      <th>Bug &amp; Fighting</th>\n",
              "      <td>Heracross</td>\n",
              "      <td>500</td>\n",
              "    </tr>\n",
              "    <tr>\n",
              "      <th>Bug &amp; Fire</th>\n",
              "      <td>Volcarona</td>\n",
              "      <td>550</td>\n",
              "    </tr>\n",
              "    <tr>\n",
              "      <th>Bug &amp; Flying</th>\n",
              "      <td>Yanmega</td>\n",
              "      <td>515</td>\n",
              "    </tr>\n",
              "    <tr>\n",
              "      <th>Bug &amp; Ghost</th>\n",
              "      <td>Shedinja</td>\n",
              "      <td>236</td>\n",
              "    </tr>\n",
              "    <tr>\n",
              "      <th>Bug &amp; Grass</th>\n",
              "      <td>Leavanny</td>\n",
              "      <td>500</td>\n",
              "    </tr>\n",
              "    <tr>\n",
              "      <th>Bug &amp; Ground</th>\n",
              "      <td>Nincada</td>\n",
              "      <td>266</td>\n",
              "    </tr>\n",
              "    <tr>\n",
              "      <th>Bug &amp; Poison</th>\n",
              "      <td>Scolipede</td>\n",
              "      <td>485</td>\n",
              "    </tr>\n",
              "    <tr>\n",
              "      <th>Bug &amp; Rock</th>\n",
              "      <td>Shuckle</td>\n",
              "      <td>505</td>\n",
              "    </tr>\n",
              "    <tr>\n",
              "      <th>Bug &amp; Steel</th>\n",
              "      <td>Genesect</td>\n",
              "      <td>600</td>\n",
              "    </tr>\n",
              "    <tr>\n",
              "      <th>Bug &amp; Water</th>\n",
              "      <td>Surskit</td>\n",
              "      <td>269</td>\n",
              "    </tr>\n",
              "    <tr>\n",
              "      <th>Dark &amp; ***</th>\n",
              "      <td>Darkrai</td>\n",
              "      <td>600</td>\n",
              "    </tr>\n",
              "    <tr>\n",
              "      <th>Dark &amp; Dragon</th>\n",
              "      <td>Hydreigon</td>\n",
              "      <td>600</td>\n",
              "    </tr>\n",
              "    <tr>\n",
              "      <th>Dark &amp; Fighting</th>\n",
              "      <td>Scrafty</td>\n",
              "      <td>488</td>\n",
              "    </tr>\n",
              "    <tr>\n",
              "      <th>Dark &amp; Fire</th>\n",
              "      <td>Houndoom</td>\n",
              "      <td>500</td>\n",
              "    </tr>\n",
              "    <tr>\n",
              "      <th>Dark &amp; Flying</th>\n",
              "      <td>Yveltal</td>\n",
              "      <td>680</td>\n",
              "    </tr>\n",
              "    <tr>\n",
              "      <th>Dark &amp; Ghost</th>\n",
              "      <td>Sableye</td>\n",
              "      <td>380</td>\n",
              "    </tr>\n",
              "    <tr>\n",
              "      <th>Dark &amp; Ice</th>\n",
              "      <td>Weavile</td>\n",
              "      <td>510</td>\n",
              "    </tr>\n",
              "    <tr>\n",
              "      <th>Dark &amp; Psychic</th>\n",
              "      <td>Malamar</td>\n",
              "      <td>482</td>\n",
              "    </tr>\n",
              "    <tr>\n",
              "      <th>Dark &amp; Steel</th>\n",
              "      <td>Bisharp</td>\n",
              "      <td>490</td>\n",
              "    </tr>\n",
              "    <tr>\n",
              "      <th>Dragon &amp; ***</th>\n",
              "      <td>Goodra</td>\n",
              "      <td>600</td>\n",
              "    </tr>\n",
              "    <tr>\n",
              "      <th>Dragon &amp; Electric</th>\n",
              "      <td>Zekrom</td>\n",
              "      <td>680</td>\n",
              "    </tr>\n",
              "    <tr>\n",
              "      <th>Dragon &amp; Fire</th>\n",
              "      <td>Reshiram</td>\n",
              "      <td>680</td>\n",
              "    </tr>\n",
              "    <tr>\n",
              "      <th>Dragon &amp; Flying</th>\n",
              "      <td>Rayquaza</td>\n",
              "      <td>680</td>\n",
              "    </tr>\n",
              "    <tr>\n",
              "      <th>Dragon &amp; Ground</th>\n",
              "      <td>Garchomp</td>\n",
              "      <td>600</td>\n",
              "    </tr>\n",
              "    <tr>\n",
              "      <th>Dragon &amp; Ice</th>\n",
              "      <td>Kyurem</td>\n",
              "      <td>660</td>\n",
              "    </tr>\n",
              "    <tr>\n",
              "      <th>Dragon &amp; Psychic</th>\n",
              "      <td>Latios</td>\n",
              "      <td>600</td>\n",
              "    </tr>\n",
              "    <tr>\n",
              "      <th>Electric &amp; ***</th>\n",
              "      <td>Raikou</td>\n",
              "      <td>580</td>\n",
              "    </tr>\n",
              "    <tr>\n",
              "      <th>Electric &amp; Fairy</th>\n",
              "      <td>Dedenne</td>\n",
              "      <td>431</td>\n",
              "    </tr>\n",
              "    <tr>\n",
              "      <th>Electric &amp; Flying</th>\n",
              "      <td>ThundurusIncarnate Forme</td>\n",
              "      <td>580</td>\n",
              "    </tr>\n",
              "    <tr>\n",
              "      <th>Electric &amp; Ghost</th>\n",
              "      <td>Rotom</td>\n",
              "      <td>440</td>\n",
              "    </tr>\n",
              "    <tr>\n",
              "      <th>Electric &amp; Normal</th>\n",
              "      <td>Heliolisk</td>\n",
              "      <td>481</td>\n",
              "    </tr>\n",
              "    <tr>\n",
              "      <th>Electric &amp; Steel</th>\n",
              "      <td>Magnezone</td>\n",
              "      <td>535</td>\n",
              "    </tr>\n",
              "    <tr>\n",
              "      <th>Fairy &amp; ***</th>\n",
              "      <td>Xerneas</td>\n",
              "      <td>680</td>\n",
              "    </tr>\n",
              "    <tr>\n",
              "      <th>Fairy &amp; Flying</th>\n",
              "      <td>Togekiss</td>\n",
              "      <td>545</td>\n",
              "    </tr>\n",
              "    <tr>\n",
              "      <th>Fighting &amp; ***</th>\n",
              "      <td>Mienshao</td>\n",
              "      <td>510</td>\n",
              "    </tr>\n",
              "    <tr>\n",
              "      <th>Fighting &amp; Dark</th>\n",
              "      <td>Pangoro</td>\n",
              "      <td>495</td>\n",
              "    </tr>\n",
              "    <tr>\n",
              "      <th>Fighting &amp; Flying</th>\n",
              "      <td>Hawlucha</td>\n",
              "      <td>500</td>\n",
              "    </tr>\n",
              "    <tr>\n",
              "      <th>Fighting &amp; Psychic</th>\n",
              "      <td>Medicham</td>\n",
              "      <td>410</td>\n",
              "    </tr>\n",
              "    <tr>\n",
              "      <th>Fighting &amp; Steel</th>\n",
              "      <td>Lucario</td>\n",
              "      <td>525</td>\n",
              "    </tr>\n",
              "    <tr>\n",
              "      <th>Fire &amp; ***</th>\n",
              "      <td>Entei</td>\n",
              "      <td>580</td>\n",
              "    </tr>\n",
              "    <tr>\n",
              "      <th>Fire &amp; Fighting</th>\n",
              "      <td>Infernape</td>\n",
              "      <td>534</td>\n",
              "    </tr>\n",
              "    <tr>\n",
              "      <th>Fire &amp; Flying</th>\n",
              "      <td>Ho-oh</td>\n",
              "      <td>680</td>\n",
              "    </tr>\n",
              "    <tr>\n",
              "      <th>Fire &amp; Ground</th>\n",
              "      <td>Camerupt</td>\n",
              "      <td>460</td>\n",
              "    </tr>\n",
              "    <tr>\n",
              "      <th>Fire &amp; Normal</th>\n",
              "      <td>Pyroar</td>\n",
              "      <td>507</td>\n",
              "    </tr>\n",
              "    <tr>\n",
              "      <th>Fire &amp; Psychic</th>\n",
              "      <td>Delphox</td>\n",
              "      <td>534</td>\n",
              "    </tr>\n",
              "    <tr>\n",
              "      <th>Fire &amp; Rock</th>\n",
              "      <td>Magcargo</td>\n",
              "      <td>410</td>\n",
              "    </tr>\n",
              "    <tr>\n",
              "      <th>Fire &amp; Steel</th>\n",
              "      <td>Heatran</td>\n",
              "      <td>600</td>\n",
              "    </tr>\n",
              "    <tr>\n",
              "      <th>Fire &amp; Water</th>\n",
              "      <td>Volcanion</td>\n",
              "      <td>600</td>\n",
              "    </tr>\n",
              "    <tr>\n",
              "      <th>Flying &amp; ***</th>\n",
              "      <td>TornadusIncarnate Forme</td>\n",
              "      <td>580</td>\n",
              "    </tr>\n",
              "    <tr>\n",
              "      <th>Flying &amp; Dragon</th>\n",
              "      <td>Noivern</td>\n",
              "      <td>535</td>\n",
              "    </tr>\n",
              "    <tr>\n",
              "      <th>Ghost &amp; ***</th>\n",
              "      <td>Dusknoir</td>\n",
              "      <td>525</td>\n",
              "    </tr>\n",
              "    <tr>\n",
              "      <th>Ghost &amp; Dark</th>\n",
              "      <td>Spiritomb</td>\n",
              "      <td>485</td>\n",
              "    </tr>\n",
              "    <tr>\n",
              "      <th>Ghost &amp; Dragon</th>\n",
              "      <td>GiratinaAltered Forme</td>\n",
              "      <td>680</td>\n",
              "    </tr>\n",
              "    <tr>\n",
              "      <th>Ghost &amp; Fire</th>\n",
              "      <td>Chandelure</td>\n",
              "      <td>520</td>\n",
              "    </tr>\n",
              "    <tr>\n",
              "      <th>Ghost &amp; Flying</th>\n",
              "      <td>Drifblim</td>\n",
              "      <td>498</td>\n",
              "    </tr>\n",
              "    <tr>\n",
              "      <th>Ghost &amp; Grass</th>\n",
              "      <td>GourgeistAverage Size</td>\n",
              "      <td>494</td>\n",
              "    </tr>\n",
              "    <tr>\n",
              "      <th>Ghost &amp; Poison</th>\n",
              "      <td>Gengar</td>\n",
              "      <td>500</td>\n",
              "    </tr>\n",
              "    <tr>\n",
              "      <th>Grass &amp; ***</th>\n",
              "      <td>ShayminLand Forme</td>\n",
              "      <td>600</td>\n",
              "    </tr>\n",
              "  </tbody>\n",
              "</table>\n",
              "</div>"
            ],
            "text/plain": [
              "                                        Name  Total\n",
              "Type                                               \n",
              "Bug & ***                             Pinsir    500\n",
              "Bug & Electric                    Galvantula    472\n",
              "Bug & Fighting                     Heracross    500\n",
              "Bug & Fire                         Volcarona    550\n",
              "Bug & Flying                         Yanmega    515\n",
              "Bug & Ghost                         Shedinja    236\n",
              "Bug & Grass                         Leavanny    500\n",
              "Bug & Ground                         Nincada    266\n",
              "Bug & Poison                       Scolipede    485\n",
              "Bug & Rock                           Shuckle    505\n",
              "Bug & Steel                         Genesect    600\n",
              "Bug & Water                          Surskit    269\n",
              "Dark & ***                           Darkrai    600\n",
              "Dark & Dragon                      Hydreigon    600\n",
              "Dark & Fighting                      Scrafty    488\n",
              "Dark & Fire                         Houndoom    500\n",
              "Dark & Flying                        Yveltal    680\n",
              "Dark & Ghost                         Sableye    380\n",
              "Dark & Ice                           Weavile    510\n",
              "Dark & Psychic                       Malamar    482\n",
              "Dark & Steel                         Bisharp    490\n",
              "Dragon & ***                          Goodra    600\n",
              "Dragon & Electric                     Zekrom    680\n",
              "Dragon & Fire                       Reshiram    680\n",
              "Dragon & Flying                     Rayquaza    680\n",
              "Dragon & Ground                     Garchomp    600\n",
              "Dragon & Ice                          Kyurem    660\n",
              "Dragon & Psychic                      Latios    600\n",
              "Electric & ***                        Raikou    580\n",
              "Electric & Fairy                     Dedenne    431\n",
              "Electric & Flying   ThundurusIncarnate Forme    580\n",
              "Electric & Ghost                       Rotom    440\n",
              "Electric & Normal                  Heliolisk    481\n",
              "Electric & Steel                   Magnezone    535\n",
              "Fairy & ***                          Xerneas    680\n",
              "Fairy & Flying                      Togekiss    545\n",
              "Fighting & ***                      Mienshao    510\n",
              "Fighting & Dark                      Pangoro    495\n",
              "Fighting & Flying                   Hawlucha    500\n",
              "Fighting & Psychic                  Medicham    410\n",
              "Fighting & Steel                     Lucario    525\n",
              "Fire & ***                             Entei    580\n",
              "Fire & Fighting                    Infernape    534\n",
              "Fire & Flying                          Ho-oh    680\n",
              "Fire & Ground                       Camerupt    460\n",
              "Fire & Normal                         Pyroar    507\n",
              "Fire & Psychic                       Delphox    534\n",
              "Fire & Rock                         Magcargo    410\n",
              "Fire & Steel                         Heatran    600\n",
              "Fire & Water                       Volcanion    600\n",
              "Flying & ***         TornadusIncarnate Forme    580\n",
              "Flying & Dragon                      Noivern    535\n",
              "Ghost & ***                         Dusknoir    525\n",
              "Ghost & Dark                       Spiritomb    485\n",
              "Ghost & Dragon         GiratinaAltered Forme    680\n",
              "Ghost & Fire                      Chandelure    520\n",
              "Ghost & Flying                      Drifblim    498\n",
              "Ghost & Grass          GourgeistAverage Size    494\n",
              "Ghost & Poison                        Gengar    500\n",
              "Grass & ***                ShayminLand Forme    600"
            ]
          },
          "metadata": {
            "tags": []
          },
          "execution_count": 14
        }
      ]
    },
    {
      "cell_type": "markdown",
      "metadata": {
        "id": "7r_D6z5ZsyOd",
        "colab_type": "text"
      },
      "source": [
        "## Exercise 2 [Total: 38 points]\n"
      ]
    },
    {
      "cell_type": "markdown",
      "metadata": {
        "id": "5MbEozs6mhrd",
        "colab_type": "text"
      },
      "source": [
        "\n",
        "###Setting\n",
        "In this exercise, we will work with a dataset which explores the store sales.\n",
        "\n",
        "Before doing the assignment, please study this dataset here https://www.kaggle.com/c/rossmann-store-sales/data\n"
      ]
    },
    {
      "cell_type": "code",
      "metadata": {
        "id": "ziA1Im85eaIF",
        "colab_type": "code",
        "outputId": "b565434b-eee6-4d99-e1e8-68f0940e777b",
        "colab": {
          "base_uri": "https://localhost:8080/",
          "height": 258
        }
      },
      "source": [
        "#Load the dataset\n",
        "link=\"https://drive.google.com/open?id=1Q6J0q4tlWJ7TajX6hMSvZ8tK3CyDD8QY\"\n",
        "_,id=link.split(\"=\")\n",
        "downloaded = drive.CreateFile({'id':id}) \n",
        "downloaded.GetContentFile('Sales.csv')  \n",
        "Sales = pd.read_csv('Sales.csv')\n",
        "Sales.head()"
      ],
      "execution_count": 0,
      "outputs": [
        {
          "output_type": "stream",
          "text": [
            "/usr/local/lib/python3.6/dist-packages/IPython/core/interactiveshell.py:2718: DtypeWarning: Columns (7) have mixed types. Specify dtype option on import or set low_memory=False.\n",
            "  interactivity=interactivity, compiler=compiler, result=result)\n"
          ],
          "name": "stderr"
        },
        {
          "output_type": "execute_result",
          "data": {
            "text/html": [
              "<div>\n",
              "<style scoped>\n",
              "    .dataframe tbody tr th:only-of-type {\n",
              "        vertical-align: middle;\n",
              "    }\n",
              "\n",
              "    .dataframe tbody tr th {\n",
              "        vertical-align: top;\n",
              "    }\n",
              "\n",
              "    .dataframe thead th {\n",
              "        text-align: right;\n",
              "    }\n",
              "</style>\n",
              "<table border=\"1\" class=\"dataframe\">\n",
              "  <thead>\n",
              "    <tr style=\"text-align: right;\">\n",
              "      <th></th>\n",
              "      <th>Store</th>\n",
              "      <th>DayOfWeek</th>\n",
              "      <th>Date</th>\n",
              "      <th>Sales</th>\n",
              "      <th>Customers</th>\n",
              "      <th>Open</th>\n",
              "      <th>Promo</th>\n",
              "      <th>StateHoliday</th>\n",
              "      <th>SchoolHoliday</th>\n",
              "    </tr>\n",
              "  </thead>\n",
              "  <tbody>\n",
              "    <tr>\n",
              "      <th>0</th>\n",
              "      <td>1</td>\n",
              "      <td>5</td>\n",
              "      <td>2015-07-31</td>\n",
              "      <td>5263</td>\n",
              "      <td>555</td>\n",
              "      <td>1</td>\n",
              "      <td>1</td>\n",
              "      <td>0</td>\n",
              "      <td>1</td>\n",
              "    </tr>\n",
              "    <tr>\n",
              "      <th>1</th>\n",
              "      <td>2</td>\n",
              "      <td>5</td>\n",
              "      <td>2015-07-31</td>\n",
              "      <td>6064</td>\n",
              "      <td>625</td>\n",
              "      <td>1</td>\n",
              "      <td>1</td>\n",
              "      <td>0</td>\n",
              "      <td>1</td>\n",
              "    </tr>\n",
              "    <tr>\n",
              "      <th>2</th>\n",
              "      <td>3</td>\n",
              "      <td>5</td>\n",
              "      <td>2015-07-31</td>\n",
              "      <td>8314</td>\n",
              "      <td>821</td>\n",
              "      <td>1</td>\n",
              "      <td>1</td>\n",
              "      <td>0</td>\n",
              "      <td>1</td>\n",
              "    </tr>\n",
              "    <tr>\n",
              "      <th>3</th>\n",
              "      <td>4</td>\n",
              "      <td>5</td>\n",
              "      <td>2015-07-31</td>\n",
              "      <td>13995</td>\n",
              "      <td>1498</td>\n",
              "      <td>1</td>\n",
              "      <td>1</td>\n",
              "      <td>0</td>\n",
              "      <td>1</td>\n",
              "    </tr>\n",
              "    <tr>\n",
              "      <th>4</th>\n",
              "      <td>5</td>\n",
              "      <td>5</td>\n",
              "      <td>2015-07-31</td>\n",
              "      <td>4822</td>\n",
              "      <td>559</td>\n",
              "      <td>1</td>\n",
              "      <td>1</td>\n",
              "      <td>0</td>\n",
              "      <td>1</td>\n",
              "    </tr>\n",
              "  </tbody>\n",
              "</table>\n",
              "</div>"
            ],
            "text/plain": [
              "   Store  DayOfWeek        Date  Sales  ...  Open  Promo  StateHoliday SchoolHoliday\n",
              "0      1          5  2015-07-31   5263  ...     1      1             0             1\n",
              "1      2          5  2015-07-31   6064  ...     1      1             0             1\n",
              "2      3          5  2015-07-31   8314  ...     1      1             0             1\n",
              "3      4          5  2015-07-31  13995  ...     1      1             0             1\n",
              "4      5          5  2015-07-31   4822  ...     1      1             0             1\n",
              "\n",
              "[5 rows x 9 columns]"
            ]
          },
          "metadata": {
            "tags": []
          },
          "execution_count": 33
        }
      ]
    },
    {
      "cell_type": "markdown",
      "metadata": {
        "id": "SNoNiBH0oH3L",
        "colab_type": "text"
      },
      "source": [
        "*You might see a warning when importing the data. This is because StateHoliday has both values in string and numbers. No worries this for now.*"
      ]
    },
    {
      "cell_type": "markdown",
      "metadata": {
        "id": "Dxg8lfkUe5aw",
        "colab_type": "text"
      },
      "source": [
        "### Q1 [7 points]\n",
        "\n",
        "Run the following model\n",
        "\n",
        "$$Sales=\\beta_0+\\beta_1 Customers + \\epsilon$$\n",
        "\n",
        "> (1) Print out the summary output\n",
        "\n",
        "> (2) Based on regression result, answer the following questions\n",
        "\n",
        ">> Interpret  $\\hat{\\beta_0}$ and $\\hat{\\beta_1}$ based on the regression output. \n",
        "\n",
        ">> Reason whether there is a negative correlation between the number of customers and Sales\n",
        "\n",
        ">> Report the 99% confidence interval for $\\beta_1$"
      ]
    },
    {
      "cell_type": "code",
      "metadata": {
        "id": "oa-KpNvoe5HN",
        "colab_type": "code",
        "outputId": "2cfb81df-0e3d-4e9e-9811-37204d673330",
        "colab": {
          "base_uri": "https://localhost:8080/",
          "height": 561
        }
      },
      "source": [
        "model = ols(formula=\"Sales~Customers\",data=Sales).fit()\n",
        "print(model.summary(), model.conf_int(0.01), sep='\\n \\n \\n')"
      ],
      "execution_count": 0,
      "outputs": [
        {
          "output_type": "stream",
          "text": [
            "                            OLS Regression Results                            \n",
            "==============================================================================\n",
            "Dep. Variable:                  Sales   R-squared:                       0.801\n",
            "Model:                            OLS   Adj. R-squared:                  0.801\n",
            "Method:                 Least Squares   F-statistic:                 4.082e+06\n",
            "Date:                Tue, 24 Sep 2019   Prob (F-statistic):               0.00\n",
            "Time:                        15:36:46   Log-Likelihood:            -9.0214e+06\n",
            "No. Observations:             1017209   AIC:                         1.804e+07\n",
            "Df Residuals:                 1017207   BIC:                         1.804e+07\n",
            "Df Model:                           1                                         \n",
            "Covariance Type:            nonrobust                                         \n",
            "==============================================================================\n",
            "                 coef    std err          t      P>|t|      [0.025      0.975]\n",
            "------------------------------------------------------------------------------\n",
            "Intercept   1077.7365      2.883    373.869      0.000    1072.087    1083.386\n",
            "Customers      7.4171      0.004   2020.337      0.000       7.410       7.424\n",
            "==============================================================================\n",
            "Omnibus:                   191239.897   Durbin-Watson:                   1.527\n",
            "Prob(Omnibus):                  0.000   Jarque-Bera (JB):          4065690.900\n",
            "Skew:                          -0.326   Prob(JB):                         0.00\n",
            "Kurtosis:                      12.772   Cond. No.                     1.33e+03\n",
            "==============================================================================\n",
            "\n",
            "Warnings:\n",
            "[1] Standard Errors assume that the covariance matrix of the errors is correctly specified.\n",
            "[2] The condition number is large, 1.33e+03. This might indicate that there are\n",
            "strong multicollinearity or other numerical problems.\n",
            " \n",
            " \n",
            "                     0            1\n",
            "Intercept  1070.311260  1085.161746\n",
            "Customers     7.407605     7.426518\n"
          ],
          "name": "stdout"
        }
      ]
    },
    {
      "cell_type": "markdown",
      "metadata": {
        "id": "pWElvXTUaP5d",
        "colab_type": "text"
      },
      "source": [
        "### $\\beta_{1}$ interpretation\n",
        "If you increase the Customers independent variable by 1 unit without changing other factors the expected value for the Sales target variable will increase ON AVERAGE by 7.4171 (+- 0.004)\n",
        "\n",
        "### $\\beta_{0}$ interpretation\n",
        "If the Customers independent variable is equal to 0 the expected value for the Sales target variable will be on average equal to 1077.7365 (+- 2.883)\n",
        "\n",
        "Also:\n",
        "The intercept (often labeled the constant-here $\\beta_{0}$) is the expected mean value of Sales when all independent variables, in our case Customers=0. \n",
        "\n",
        "If X (array of independent variables-in our case just Customers) sometimes equals 0, the intercept is simply the expected mean value of Y (target variable-in our case, Sales) at that value. If X never equals 0, then the intercept has no intrinsic meaning.\n",
        "\n",
        "### Reason whether there is a negative correlation between the number of customers and Sales\n",
        "From the regression table we observe that there is not a negative correlation with the Sales target variable and the Customers predictor variable. The reason why the independent variable, Customers, does not have a negative correlation with the Sales target variable is that, as the number of customers increases the dollar amount of Sales obtained is going to be higher.\n",
        "\n",
        "### 99% confidence interval for $\\beta_{1}$\n",
        "The 99% confidence interval of $\\beta_{1}$ is the interval [7.407605, 7.426518]."
      ]
    },
    {
      "cell_type": "markdown",
      "metadata": {
        "id": "fsl2cJPei2M3",
        "colab_type": "text"
      },
      "source": [
        "###Q2. [7 points]\n",
        "\n",
        "* For the model above, use a Python attribute we discussed in class to retrieve the values for $\\hat{\\beta_0}$ and $\\hat{\\beta_1}$.\n",
        "\n",
        "* Based on these two values, give the prediction for $\\widehat{Sales}$ when number of customers=110.\n",
        "\n",
        "* Find out the average of the actual Sales price for all the records that have customers=110."
      ]
    },
    {
      "cell_type": "code",
      "metadata": {
        "id": "A9XVAEZTovml",
        "colab_type": "code",
        "outputId": "1ec571fa-2ccb-405c-f345-8bfe1f05eda2",
        "colab": {
          "base_uri": "https://localhost:8080/",
          "height": 68
        }
      },
      "source": [
        "#predicted values for beta\n",
        "\n",
        "model.params\n",
        "\n",
        "# print the intercept\n",
        "b0_coeff = model.params[0]\n",
        "intercept = b0_coeff\n",
        "\n",
        "# print the first coefficient of b1\n",
        "b1_coeff = model.params[1]\n",
        "b1_coeff\n",
        "\n",
        "print(b0_coeff, b1_coeff)\n",
        "\n",
        "Sales_110 = b0_coeff + b1_coeff * 110\n",
        "\n",
        "print(Sales_110)\n",
        "\n",
        "print(Sales['Sales'].loc[Sales['Customers'] == 110].mean())"
      ],
      "execution_count": 0,
      "outputs": [
        {
          "output_type": "stream",
          "text": [
            "1077.7365031848192 7.417061572866315\n",
            "1893.613276200114\n",
            "908.1428571428571\n"
          ],
          "name": "stdout"
        }
      ]
    },
    {
      "cell_type": "markdown",
      "metadata": {
        "id": "jiakdWNjm8-o",
        "colab_type": "text"
      },
      "source": [
        "###Q3 [8 points]\n",
        "\n",
        "One person argues the following:\n",
        "\n",
        "* He found from the data that we should expect 0 Sales when we have 0 customers\n",
        "* Since $\\beta_0$ is the expected Sales price, when the number of customers is equal to 0, it should be set equals to 0.  \n",
        "\n",
        "> Based on data, support that his first argument is true.\n",
        "\n",
        "> Provide an argument on why the second point might be problematic. \n",
        "\n",
        "You will find the following articles useful:\n",
        "[Article 1](https://dynamicecology.wordpress.com/2017/04/13/dont-force-your-regression-through-zero-just-because-you-know-the-true-intercept-has-to-be-zero/)"
      ]
    },
    {
      "cell_type": "code",
      "metadata": {
        "id": "AF1A7PYOpv2e",
        "colab_type": "code",
        "outputId": "d36df6d3-fa6d-4fbe-b498-1a68cc0a2ab6",
        "colab": {
          "base_uri": "https://localhost:8080/",
          "height": 34
        }
      },
      "source": [
        "# makes sense and it can be verifies by predicting the following quantity\n",
        "print(Sales['Sales'].loc[Sales['Customers'] == 0].mean())"
      ],
      "execution_count": 0,
      "outputs": [
        {
          "output_type": "stream",
          "text": [
            "0.0\n"
          ],
          "name": "stdout"
        }
      ]
    },
    {
      "cell_type": "markdown",
      "metadata": {
        "id": "5-vUGmE-41bN",
        "colab_type": "text"
      },
      "source": [
        "The form of the function of our regression models is ordinarily chosen for convenience and/or because it fits the observed data reasonably well, or for other reasons. In those cases we should not be forcing our intercept through the origin. By forcing our intercept through the origin in such cases is a way of papering over misspecification of your regression. For example, if our linear regression model provides a reasonable fit over range of X values we observed, but with a nonsensical estimated intercept, that’s our linear regression’s way of telling you that the true shape of F(X) is nonlinear near the origin, outside the range of X values you observed. Forcing the intercept through the origin treats the (most obvious) symptom (the nonsensical estimated intercept) but not the disease (misspecification)."
      ]
    },
    {
      "cell_type": "markdown",
      "metadata": {
        "id": "80KXrsB3rWJY",
        "colab_type": "text"
      },
      "source": [
        "###Q4. [5 points] \n",
        "\n",
        "Now, run the following model:\n",
        "\n",
        "$Sales=\\beta_0+\\beta_1 Customers +\\beta_2 Open + \\epsilon$\n",
        "\n",
        "> Fit the model and print out the summary table.\n",
        "\n",
        "> Interpret $\\hat{\\beta_0}$ , $\\hat{\\beta_1}$ and $\\hat{\\beta_2}$. \n"
      ]
    },
    {
      "cell_type": "code",
      "metadata": {
        "id": "RYaOA4qysSVY",
        "colab_type": "code",
        "outputId": "c941ec3a-1f55-40f2-acf3-02148f927802",
        "colab": {
          "base_uri": "https://localhost:8080/",
          "height": 493
        }
      },
      "source": [
        "model = ols(formula=\"Sales~Customers+Open\",data=Sales).fit()\n",
        "print(model.summary(), sep='\\n \\n \\n')\n",
        "\n",
        "# For 0 customers and for Open = 0, which means for stores that are closed, the expected value for the target variable named Sales is on average -2.7e-11 ± 3.859, which is \n",
        "# practically 0.\n",
        "# For 1 unit increase of the variable named Customers, the expected value for the target variable named Sales will on average increase by 6.3720 ± 0.004 monetary (USD?) units.\n",
        "# For 1 unit increase of the variable named Open (so from closed stores to open stores), the expected value for the target variable named Sales will on average increase by \n",
        "# 2095.4121 ± 5.380 monetary (USD?) units."
      ],
      "execution_count": 0,
      "outputs": [
        {
          "output_type": "stream",
          "text": [
            "                            OLS Regression Results                            \n",
            "==============================================================================\n",
            "Dep. Variable:                  Sales   R-squared:                       0.826\n",
            "Model:                            OLS   Adj. R-squared:                  0.826\n",
            "Method:                 Least Squares   F-statistic:                 2.421e+06\n",
            "Date:                Tue, 24 Sep 2019   Prob (F-statistic):               0.00\n",
            "Time:                        15:36:52   Log-Likelihood:            -8.9507e+06\n",
            "No. Observations:             1017209   AIC:                         1.790e+07\n",
            "Df Residuals:                 1017206   BIC:                         1.790e+07\n",
            "Df Model:                           2                                         \n",
            "Covariance Type:            nonrobust                                         \n",
            "==============================================================================\n",
            "                 coef    std err          t      P>|t|      [0.025      0.975]\n",
            "------------------------------------------------------------------------------\n",
            "Intercept    -2.7e-11      3.859     -7e-12      1.000      -7.563       7.563\n",
            "Customers      6.3720      0.004   1464.540      0.000       6.363       6.381\n",
            "Open        2095.4121      5.380    389.446      0.000    2084.867    2105.958\n",
            "==============================================================================\n",
            "Omnibus:                   174664.307   Durbin-Watson:                   1.538\n",
            "Prob(Omnibus):                  0.000   Jarque-Bera (JB):          2877540.904\n",
            "Skew:                           0.331   Prob(JB):                         0.00\n",
            "Kurtosis:                      11.213   Cond. No.                     3.06e+03\n",
            "==============================================================================\n",
            "\n",
            "Warnings:\n",
            "[1] Standard Errors assume that the covariance matrix of the errors is correctly specified.\n",
            "[2] The condition number is large, 3.06e+03. This might indicate that there are\n",
            "strong multicollinearity or other numerical problems.\n"
          ],
          "name": "stdout"
        }
      ]
    },
    {
      "cell_type": "markdown",
      "metadata": {
        "id": "6OVzypgAYfES",
        "colab_type": "text"
      },
      "source": [
        "###Q5. [4 points]\n",
        "\n",
        "Based on regression, prove that Q4 is equivalent to regressing \"Sales\" on \"Customers\" using only observations with stores that are open. "
      ]
    },
    {
      "cell_type": "code",
      "metadata": {
        "id": "bBo7kULp8GMy",
        "colab_type": "code",
        "outputId": "11d3f911-51a9-4c86-c51f-7bb43cadf441",
        "colab": {
          "base_uri": "https://localhost:8080/",
          "height": 544
        }
      },
      "source": [
        "filter_ = (Sales[\"Open\"] == 1)\n",
        "Sales = Sales[filter_]\n",
        "# Sales[\"Open\"].nunique()\n",
        "# Sales[\"Open\"].value_counts()\n",
        "model = ols(formula=\"Sales~Customers\",data=Sales).fit()\n",
        "print(model.summary(), sep='\\n \\n \\n')\n",
        "print('\\n')\n",
        "print('We observe that the beta coefficients in both models are exactly the same and there are very slight differences only in their respective standard \\n deviation values. Thus the model of Q4 is equivalent to regressing \"Sales\" on \"Customers\" using only observations with stores that are open.')"
      ],
      "execution_count": 0,
      "outputs": [
        {
          "output_type": "stream",
          "text": [
            "                            OLS Regression Results                            \n",
            "==============================================================================\n",
            "Dep. Variable:                  Sales   R-squared:                       0.678\n",
            "Model:                            OLS   Adj. R-squared:                  0.678\n",
            "Method:                 Least Squares   F-statistic:                 1.780e+06\n",
            "Date:                Tue, 24 Sep 2019   Prob (F-statistic):               0.00\n",
            "Time:                        15:48:04   Log-Likelihood:            -7.5086e+06\n",
            "No. Observations:              844392   AIC:                         1.502e+07\n",
            "Df Residuals:                  844390   BIC:                         1.502e+07\n",
            "Df Model:                           1                                         \n",
            "Covariance Type:            nonrobust                                         \n",
            "==============================================================================\n",
            "                 coef    std err          t      P>|t|      [0.025      0.975]\n",
            "------------------------------------------------------------------------------\n",
            "Intercept   2095.4121      4.116    509.149      0.000    2087.346    2103.478\n",
            "Customers      6.3720      0.005   1334.346      0.000       6.363       6.381\n",
            "==============================================================================\n",
            "Omnibus:                   121855.115   Durbin-Watson:                   1.507\n",
            "Prob(Omnibus):                  0.000   Jarque-Bera (JB):          1412780.405\n",
            "Skew:                           0.302   Prob(JB):                         0.00\n",
            "Kurtosis:                       9.308   Cond. No.                     1.85e+03\n",
            "==============================================================================\n",
            "\n",
            "Warnings:\n",
            "[1] Standard Errors assume that the covariance matrix of the errors is correctly specified.\n",
            "[2] The condition number is large, 1.85e+03. This might indicate that there are\n",
            "strong multicollinearity or other numerical problems.\n",
            "\n",
            "\n",
            "We observe that the beta coefficients in both models are exactly the same and there are very slight differences only in their respective standard \n",
            " deviation values. Thus the model of Q4 is equivalent to regressing \"Sales\" on \"Customers\" using only observations with stores that are open.\n"
          ],
          "name": "stdout"
        }
      ]
    },
    {
      "cell_type": "markdown",
      "metadata": {
        "id": "BJDhp8WukbsV",
        "colab_type": "text"
      },
      "source": [
        "###Q6. [7 points]\n",
        "Store table gives the information of each store. \n",
        "\n",
        "* Merge Sales table with Store table\n",
        "* Run the following regression model\n",
        "\n",
        "$$Sales=\\beta_0+\\beta_1 Customers +  \\beta_2 Open + \\beta_3 Competition Distance+\\epsilon$$\n",
        "\n",
        "* Based on the regression result, interpret $\\widehat{\\beta_3}$. Is this consistent with your expectation? Why?"
      ]
    },
    {
      "cell_type": "code",
      "metadata": {
        "id": "yWYpHwq3nLo2",
        "colab_type": "code",
        "outputId": "57966686-46b8-427d-f7e3-8e1d7a4a19b2",
        "colab": {
          "base_uri": "https://localhost:8080/",
          "height": 564
        }
      },
      "source": [
        "link=\"https://drive.google.com/open?id=1g6URzUJnhCLOtg0a9TTHC18KYcqwxvoc\"\n",
        "_,id=link.split(\"=\")\n",
        "downloaded = drive.CreateFile({'id':id}) \n",
        "downloaded.GetContentFile('myfile_store.csv')  \n",
        "Store = pd.read_csv('myfile_store.csv')\n",
        "# Store.head(5)\n",
        "\n",
        "Sales = pd.read_csv('Sales.csv')\n",
        "# Sales.head()\n",
        "Sales_Store_merged = Sales.merge(Store, on = \"Store\") # since Store is the only 1 common column in both dfs\n",
        "Sales_Store_merged.head()\n",
        "\n",
        "model = ols(formula=\"Sales~Customers+Open+CompetitionDistance\",data=Sales_Store_merged).fit()\n",
        "print(model.summary(), sep='\\n \\n \\n')\n",
        "\n",
        "# The value of coefficient b3 of the independent variable named CompetitionDistance is positive but very small, ie 0.0296. The sign of the coefficient b3 of the independent \n",
        "# variable named CompetitionDistance, as well as its order of magnitude/value are not consistent with what we were expecting. Basically, the positive sign of the coefficient \n",
        "# b3 of the independent variable named CompetitionDistance does not make sense, since the we were expecting the higher the competition distance the lower the Sales would be,\n",
        "# but the b3 coefficient suggests exactly the opposite, ie 1 unit increase in the value of the independent (predictor) variable named CompetitionDistance is expected to lead in\n",
        "# an increase of 0.0296 ± 0.000 in the target variable Sales (in monetary (USD?) units). Also, the fact that the value of the coefficient b3 is small indicates that the \n",
        "# CompetitionDistance does not seem to have a big impact in the prediction of Sales, given the units that CompetitionDistance has in our model. The proper thing to do though,\n",
        "# would be to normalize all the features of our model, and then run the regression model, so that the impact of the scales of the features do not lead us to misinterpretations \n",
        "# (would be a result of misleading values of the beta coefficients of our model), regarding the actual impact of the independent (predictor) variables to the dependent (target) \n",
        "# variable."
      ],
      "execution_count": 0,
      "outputs": [
        {
          "output_type": "stream",
          "text": [
            "/usr/local/lib/python3.6/dist-packages/IPython/core/interactiveshell.py:2718: DtypeWarning: Columns (7) have mixed types. Specify dtype option on import or set low_memory=False.\n",
            "  interactivity=interactivity, compiler=compiler, result=result)\n"
          ],
          "name": "stderr"
        },
        {
          "output_type": "stream",
          "text": [
            "                            OLS Regression Results                            \n",
            "==============================================================================\n",
            "Dep. Variable:                  Sales   R-squared:                       0.830\n",
            "Model:                            OLS   Adj. R-squared:                  0.830\n",
            "Method:                 Least Squares   F-statistic:                 1.647e+06\n",
            "Date:                Tue, 24 Sep 2019   Prob (F-statistic):               0.00\n",
            "Time:                        16:06:55   Log-Likelihood:            -8.9181e+06\n",
            "No. Observations:             1014567   AIC:                         1.784e+07\n",
            "Df Residuals:                 1014563   BIC:                         1.784e+07\n",
            "Df Model:                           3                                         \n",
            "Covariance Type:            nonrobust                                         \n",
            "=======================================================================================\n",
            "                          coef    std err          t      P>|t|      [0.025      0.975]\n",
            "---------------------------------------------------------------------------------------\n",
            "Intercept            -156.6383      3.981    -39.342      0.000    -164.442    -148.835\n",
            "Customers               6.4533      0.004   1481.493      0.000       6.445       6.462\n",
            "Open                 2028.8475      5.361    378.431      0.000    2018.340    2039.355\n",
            "CompetitionDistance     0.0296      0.000    143.305      0.000       0.029       0.030\n",
            "==============================================================================\n",
            "Omnibus:                   173131.339   Durbin-Watson:                   0.581\n",
            "Prob(Omnibus):                  0.000   Jarque-Bera (JB):          3065929.502\n",
            "Skew:                           0.285   Prob(JB):                         0.00\n",
            "Kurtosis:                      11.497   Cond. No.                     3.68e+04\n",
            "==============================================================================\n",
            "\n",
            "Warnings:\n",
            "[1] Standard Errors assume that the covariance matrix of the errors is correctly specified.\n",
            "[2] The condition number is large, 3.68e+04. This might indicate that there are\n",
            "strong multicollinearity or other numerical problems.\n"
          ],
          "name": "stdout"
        }
      ]
    },
    {
      "cell_type": "code",
      "metadata": {
        "id": "AqTj5IpH-sXp",
        "colab_type": "code",
        "colab": {}
      },
      "source": [
        ""
      ],
      "execution_count": 0,
      "outputs": []
    }
  ]
}