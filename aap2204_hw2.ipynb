{
  "nbformat": 4,
  "nbformat_minor": 0,
  "metadata": {
    "colab": {
      "name": "aap2204_hw2.ipynb",
      "provenance": [],
      "collapsed_sections": [],
      "machine_shape": "hm",
      "include_colab_link": true
    },
    "kernelspec": {
      "name": "python3",
      "display_name": "Python 3"
    }
  },
  "cells": [
    {
      "cell_type": "markdown",
      "metadata": {
        "id": "view-in-github",
        "colab_type": "text"
      },
      "source": [
        "<a href=\"https://colab.research.google.com/github/apapaioannou92/BA/blob/HW2/aap2204_hw2.ipynb\" target=\"_parent\"><img src=\"https://colab.research.google.com/assets/colab-badge.svg\" alt=\"Open In Colab\"/></a>"
      ]
    },
    {
      "cell_type": "markdown",
      "metadata": {
        "id": "9JCRnqkLnjHE",
        "colab_type": "text"
      },
      "source": [
        "# **IEOR 4650  Business Analytics (Fall 2019)**\n",
        "\n",
        "**Homework 2 [Total points: 60]**\n",
        "\n",
        "** Due: 11:59 PM, October 8**\n",
        "\n",
        "This second homework consists of Python programming practices and the applications to linear regression. \n",
        "\n",
        "The steps to finish in the homework:\n",
        "\n",
        "*   Step 1: Make a copy of the file to your LionDrive.\n",
        "*   Step 2: Work with the copy (an ipynb file).\n",
        "*    <font color='red'>**Step 3: Rename the copy to your_uni_hw2.ipynb (For example: yd4501_hw2.ipynb).**</font>  \n",
        "*   Step 4: Submit the copy on CourseWorks.\n",
        "\n",
        "Before you submit your assignment, make sure to re-run your code from the beginning. (You can do so by first clicking Runtime/Reset All Runtimes and then clicking Runtime/Run all)\n",
        "\n",
        "\n",
        "**All the questions in this homework requires coding**"
      ]
    },
    {
      "cell_type": "code",
      "metadata": {
        "id": "lSH_bDnX2ybu",
        "colab_type": "code",
        "colab": {}
      },
      "source": [
        "#This imports all the packages you need for the homework\n",
        "#Please run this first\n",
        "\n",
        "\n",
        "!pip install -U -q PyDrive\n",
        "from pydrive.auth import GoogleAuth\n",
        "from pydrive.drive import GoogleDrive\n",
        "from google.colab import auth\n",
        "from oauth2client.client import GoogleCredentials\n",
        "# Authenticate and create the PyDrive client.\n",
        "auth.authenticate_user()\n",
        "gauth = GoogleAuth()\n",
        "gauth.credentials = GoogleCredentials.get_application_default()\n",
        "drive = GoogleDrive(gauth)\n",
        "\n",
        "\n",
        "#import modules\n",
        "\n",
        "import numpy as np\n",
        "import pandas as pd\n",
        "from statsmodels.formula.api import ols\n",
        "import matplotlib.pyplot as plt\n",
        "\n"
      ],
      "execution_count": 0,
      "outputs": []
    },
    {
      "cell_type": "markdown",
      "metadata": {
        "id": "5MbEozs6mhrd",
        "colab_type": "text"
      },
      "source": [
        "\n",
        "##Setting\n",
        "In this exercise, let's continue working with a dataset which explores the store sales.\n",
        "\n",
        "Before doing the assignment, please study this dataset here https://www.kaggle.com/c/rossmann-store-sales/data\n",
        "\n",
        "\n",
        "For this study, we are interested in finding a good model that gives good prediction performance. \n",
        "\n",
        "* Especially, we are interested in use RMSPE as our accuracy measurement. RMSPE is defined as following:\n",
        "$$RMSPE = \\sqrt{\\frac{\\frac{(y_i-\\widehat{y_i}}{y_i})^2}{N}}$$\n",
        "* In addition, any day and store with 0 actual sales is ignored in scoring."
      ]
    },
    {
      "cell_type": "code",
      "metadata": {
        "id": "ziA1Im85eaIF",
        "colab_type": "code",
        "outputId": "73a16e46-c4ca-47df-86aa-87be0365dc5b",
        "colab": {
          "base_uri": "https://localhost:8080/",
          "height": 258
        }
      },
      "source": [
        "#Load the dataset\n",
        "link=\"https://drive.google.com/open?id=1Q6J0q4tlWJ7TajX6hMSvZ8tK3CyDD8QY\"\n",
        "_,id=link.split(\"=\")\n",
        "downloaded = drive.CreateFile({'id':id}) \n",
        "downloaded.GetContentFile('Sales.csv')  \n",
        "SALE = pd.read_csv('Sales.csv')\n",
        "SALE.head(5)\n",
        "\n"
      ],
      "execution_count": 0,
      "outputs": [
        {
          "output_type": "stream",
          "text": [
            "/usr/local/lib/python3.6/dist-packages/IPython/core/interactiveshell.py:2718: DtypeWarning: Columns (7) have mixed types. Specify dtype option on import or set low_memory=False.\n",
            "  interactivity=interactivity, compiler=compiler, result=result)\n"
          ],
          "name": "stderr"
        },
        {
          "output_type": "execute_result",
          "data": {
            "text/html": [
              "<div>\n",
              "<style scoped>\n",
              "    .dataframe tbody tr th:only-of-type {\n",
              "        vertical-align: middle;\n",
              "    }\n",
              "\n",
              "    .dataframe tbody tr th {\n",
              "        vertical-align: top;\n",
              "    }\n",
              "\n",
              "    .dataframe thead th {\n",
              "        text-align: right;\n",
              "    }\n",
              "</style>\n",
              "<table border=\"1\" class=\"dataframe\">\n",
              "  <thead>\n",
              "    <tr style=\"text-align: right;\">\n",
              "      <th></th>\n",
              "      <th>Store</th>\n",
              "      <th>DayOfWeek</th>\n",
              "      <th>Date</th>\n",
              "      <th>Sales</th>\n",
              "      <th>Customers</th>\n",
              "      <th>Open</th>\n",
              "      <th>Promo</th>\n",
              "      <th>StateHoliday</th>\n",
              "      <th>SchoolHoliday</th>\n",
              "    </tr>\n",
              "  </thead>\n",
              "  <tbody>\n",
              "    <tr>\n",
              "      <th>0</th>\n",
              "      <td>1</td>\n",
              "      <td>5</td>\n",
              "      <td>2015-07-31</td>\n",
              "      <td>5263</td>\n",
              "      <td>555</td>\n",
              "      <td>1</td>\n",
              "      <td>1</td>\n",
              "      <td>0</td>\n",
              "      <td>1</td>\n",
              "    </tr>\n",
              "    <tr>\n",
              "      <th>1</th>\n",
              "      <td>2</td>\n",
              "      <td>5</td>\n",
              "      <td>2015-07-31</td>\n",
              "      <td>6064</td>\n",
              "      <td>625</td>\n",
              "      <td>1</td>\n",
              "      <td>1</td>\n",
              "      <td>0</td>\n",
              "      <td>1</td>\n",
              "    </tr>\n",
              "    <tr>\n",
              "      <th>2</th>\n",
              "      <td>3</td>\n",
              "      <td>5</td>\n",
              "      <td>2015-07-31</td>\n",
              "      <td>8314</td>\n",
              "      <td>821</td>\n",
              "      <td>1</td>\n",
              "      <td>1</td>\n",
              "      <td>0</td>\n",
              "      <td>1</td>\n",
              "    </tr>\n",
              "    <tr>\n",
              "      <th>3</th>\n",
              "      <td>4</td>\n",
              "      <td>5</td>\n",
              "      <td>2015-07-31</td>\n",
              "      <td>13995</td>\n",
              "      <td>1498</td>\n",
              "      <td>1</td>\n",
              "      <td>1</td>\n",
              "      <td>0</td>\n",
              "      <td>1</td>\n",
              "    </tr>\n",
              "    <tr>\n",
              "      <th>4</th>\n",
              "      <td>5</td>\n",
              "      <td>5</td>\n",
              "      <td>2015-07-31</td>\n",
              "      <td>4822</td>\n",
              "      <td>559</td>\n",
              "      <td>1</td>\n",
              "      <td>1</td>\n",
              "      <td>0</td>\n",
              "      <td>1</td>\n",
              "    </tr>\n",
              "  </tbody>\n",
              "</table>\n",
              "</div>"
            ],
            "text/plain": [
              "   Store  DayOfWeek        Date  Sales  ...  Open  Promo  StateHoliday SchoolHoliday\n",
              "0      1          5  2015-07-31   5263  ...     1      1             0             1\n",
              "1      2          5  2015-07-31   6064  ...     1      1             0             1\n",
              "2      3          5  2015-07-31   8314  ...     1      1             0             1\n",
              "3      4          5  2015-07-31  13995  ...     1      1             0             1\n",
              "4      5          5  2015-07-31   4822  ...     1      1             0             1\n",
              "\n",
              "[5 rows x 9 columns]"
            ]
          },
          "metadata": {
            "tags": []
          },
          "execution_count": 108
        }
      ]
    },
    {
      "cell_type": "markdown",
      "metadata": {
        "id": "SNoNiBH0oH3L",
        "colab_type": "text"
      },
      "source": [
        "*You might see a warning when importing the data. This is because StateHoliday has both values in string and numbers. No worries this for now.*"
      ]
    },
    {
      "cell_type": "code",
      "metadata": {
        "id": "KCeAzHTC2czY",
        "colab_type": "code",
        "outputId": "bcbbe6da-60b3-47b4-c7fd-2a9bad86494c",
        "colab": {
          "base_uri": "https://localhost:8080/",
          "height": 224
        }
      },
      "source": [
        "link=\"https://drive.google.com/open?id=1g6URzUJnhCLOtg0a9TTHC18KYcqwxvoc\"\n",
        "_,id=link.split(\"=\")\n",
        "downloaded = drive.CreateFile({'id':id}) \n",
        "downloaded.GetContentFile('myfile_store.csv')  \n",
        "STORE = pd.read_csv('myfile_store.csv')\n",
        "STORE.head(5)"
      ],
      "execution_count": 0,
      "outputs": [
        {
          "output_type": "execute_result",
          "data": {
            "text/html": [
              "<div>\n",
              "<style scoped>\n",
              "    .dataframe tbody tr th:only-of-type {\n",
              "        vertical-align: middle;\n",
              "    }\n",
              "\n",
              "    .dataframe tbody tr th {\n",
              "        vertical-align: top;\n",
              "    }\n",
              "\n",
              "    .dataframe thead th {\n",
              "        text-align: right;\n",
              "    }\n",
              "</style>\n",
              "<table border=\"1\" class=\"dataframe\">\n",
              "  <thead>\n",
              "    <tr style=\"text-align: right;\">\n",
              "      <th></th>\n",
              "      <th>Store</th>\n",
              "      <th>StoreType</th>\n",
              "      <th>Assortment</th>\n",
              "      <th>CompetitionDistance</th>\n",
              "      <th>CompetitionOpenSinceMonth</th>\n",
              "      <th>CompetitionOpenSinceYear</th>\n",
              "      <th>Promo2</th>\n",
              "      <th>Promo2SinceWeek</th>\n",
              "      <th>Promo2SinceYear</th>\n",
              "      <th>PromoInterval</th>\n",
              "    </tr>\n",
              "  </thead>\n",
              "  <tbody>\n",
              "    <tr>\n",
              "      <th>0</th>\n",
              "      <td>1</td>\n",
              "      <td>c</td>\n",
              "      <td>a</td>\n",
              "      <td>1270.0</td>\n",
              "      <td>9.0</td>\n",
              "      <td>2008.0</td>\n",
              "      <td>0</td>\n",
              "      <td>NaN</td>\n",
              "      <td>NaN</td>\n",
              "      <td>NaN</td>\n",
              "    </tr>\n",
              "    <tr>\n",
              "      <th>1</th>\n",
              "      <td>2</td>\n",
              "      <td>a</td>\n",
              "      <td>a</td>\n",
              "      <td>570.0</td>\n",
              "      <td>11.0</td>\n",
              "      <td>2007.0</td>\n",
              "      <td>1</td>\n",
              "      <td>13.0</td>\n",
              "      <td>2010.0</td>\n",
              "      <td>Jan,Apr,Jul,Oct</td>\n",
              "    </tr>\n",
              "    <tr>\n",
              "      <th>2</th>\n",
              "      <td>3</td>\n",
              "      <td>a</td>\n",
              "      <td>a</td>\n",
              "      <td>14130.0</td>\n",
              "      <td>12.0</td>\n",
              "      <td>2006.0</td>\n",
              "      <td>1</td>\n",
              "      <td>14.0</td>\n",
              "      <td>2011.0</td>\n",
              "      <td>Jan,Apr,Jul,Oct</td>\n",
              "    </tr>\n",
              "    <tr>\n",
              "      <th>3</th>\n",
              "      <td>4</td>\n",
              "      <td>c</td>\n",
              "      <td>c</td>\n",
              "      <td>620.0</td>\n",
              "      <td>9.0</td>\n",
              "      <td>2009.0</td>\n",
              "      <td>0</td>\n",
              "      <td>NaN</td>\n",
              "      <td>NaN</td>\n",
              "      <td>NaN</td>\n",
              "    </tr>\n",
              "    <tr>\n",
              "      <th>4</th>\n",
              "      <td>5</td>\n",
              "      <td>a</td>\n",
              "      <td>a</td>\n",
              "      <td>29910.0</td>\n",
              "      <td>4.0</td>\n",
              "      <td>2015.0</td>\n",
              "      <td>0</td>\n",
              "      <td>NaN</td>\n",
              "      <td>NaN</td>\n",
              "      <td>NaN</td>\n",
              "    </tr>\n",
              "  </tbody>\n",
              "</table>\n",
              "</div>"
            ],
            "text/plain": [
              "   Store StoreType  ... Promo2SinceYear    PromoInterval\n",
              "0      1         c  ...             NaN              NaN\n",
              "1      2         a  ...          2010.0  Jan,Apr,Jul,Oct\n",
              "2      3         a  ...          2011.0  Jan,Apr,Jul,Oct\n",
              "3      4         c  ...             NaN              NaN\n",
              "4      5         a  ...             NaN              NaN\n",
              "\n",
              "[5 rows x 10 columns]"
            ]
          },
          "metadata": {
            "tags": []
          },
          "execution_count": 109
        }
      ]
    },
    {
      "cell_type": "markdown",
      "metadata": {
        "id": "Dxg8lfkUe5aw",
        "colab_type": "text"
      },
      "source": [
        "## Q1. [8 points]\n",
        "**[Data Cleaning]**\n",
        "\n",
        "1. Merge two tables based on \"Store\" column\n",
        "\n",
        "2. To save you from the pain of running the models for too long, **keep only records for store 1-100**.\n",
        "\n",
        "3. This study only cares about the accuracy performend on the data with Sales higher than 0.There are pros and cons of keeping 0 Sales records. For this study, let's **delete all the sales records with sales=0**.\n",
        "\n",
        "4. Print out the unique values you have in \"StateHoliday\" column. If you see anything that goes wrong, fix the issue. After that, print out the unique values again in \"StateHoliday\" column. [You might find this [link](https://www.geeksforgeeks.org/python-pandas-series-str-replace-to-replace-text-in-a-series/) useful]\n"
      ]
    },
    {
      "cell_type": "code",
      "metadata": {
        "id": "oa-KpNvoe5HN",
        "colab_type": "code",
        "outputId": "13906108-d16e-40d0-cb90-eb5f25fdfbab",
        "colab": {
          "base_uri": "https://localhost:8080/",
          "height": 34
        }
      },
      "source": [
        "# Merging the Sales and Store dfs\n",
        "\n",
        "Sales_Store_merged = SALE.merge(STORE, on = \"Store\", how='left') # since Store is the only 1 common column in both dfs\n",
        "\n",
        "# Store = STORE[:99]\n",
        "Filter_ = (Sales_Store_merged['Store'].isin(range(1,101))) & (Sales_Store_merged['Sales']!=0)\n",
        "# Store.head(5)\n",
        "\n",
        "# Reloading the initial Sales dataset into a df\n",
        "\n",
        "Sales_Store_merged = Sales_Store_merged[Filter_]\n",
        "# Sales.head()\n",
        "\n",
        "# Sales_Store_merged.head()\n",
        "\n",
        "Sales_Store_merged['StateHoliday'].unique()\n",
        "\n",
        "# We observe that 0 appears as a string object but also as an integer object. Sales is a quantitative measure so we will replace the string '0' with the 0 (integer value of 0)\n",
        "\n",
        "# Overwriting column with replaced value of age \n",
        "Sales_Store_merged['StateHoliday']= Sales_Store_merged['StateHoliday'].replace('0', 0) \n",
        "\n",
        "Sales_Store_merged['StateHoliday'].unique()"
      ],
      "execution_count": 0,
      "outputs": [
        {
          "output_type": "execute_result",
          "data": {
            "text/plain": [
              "array([0, 'a', 'b', 'c'], dtype=object)"
            ]
          },
          "metadata": {
            "tags": []
          },
          "execution_count": 110
        }
      ]
    },
    {
      "cell_type": "code",
      "metadata": {
        "id": "Ma7pJk-bp9kQ",
        "colab_type": "code",
        "outputId": "013d0c72-09ad-4d20-94b9-8627389d8a0f",
        "colab": {
          "base_uri": "https://localhost:8080/",
          "height": 309
        }
      },
      "source": [
        "Sales_Store_merged.head()"
      ],
      "execution_count": 0,
      "outputs": [
        {
          "output_type": "execute_result",
          "data": {
            "text/html": [
              "<div>\n",
              "<style scoped>\n",
              "    .dataframe tbody tr th:only-of-type {\n",
              "        vertical-align: middle;\n",
              "    }\n",
              "\n",
              "    .dataframe tbody tr th {\n",
              "        vertical-align: top;\n",
              "    }\n",
              "\n",
              "    .dataframe thead th {\n",
              "        text-align: right;\n",
              "    }\n",
              "</style>\n",
              "<table border=\"1\" class=\"dataframe\">\n",
              "  <thead>\n",
              "    <tr style=\"text-align: right;\">\n",
              "      <th></th>\n",
              "      <th>Store</th>\n",
              "      <th>DayOfWeek</th>\n",
              "      <th>Date</th>\n",
              "      <th>Sales</th>\n",
              "      <th>Customers</th>\n",
              "      <th>Open</th>\n",
              "      <th>Promo</th>\n",
              "      <th>StateHoliday</th>\n",
              "      <th>SchoolHoliday</th>\n",
              "      <th>StoreType</th>\n",
              "      <th>Assortment</th>\n",
              "      <th>CompetitionDistance</th>\n",
              "      <th>CompetitionOpenSinceMonth</th>\n",
              "      <th>CompetitionOpenSinceYear</th>\n",
              "      <th>Promo2</th>\n",
              "      <th>Promo2SinceWeek</th>\n",
              "      <th>Promo2SinceYear</th>\n",
              "      <th>PromoInterval</th>\n",
              "    </tr>\n",
              "  </thead>\n",
              "  <tbody>\n",
              "    <tr>\n",
              "      <th>0</th>\n",
              "      <td>1</td>\n",
              "      <td>5</td>\n",
              "      <td>2015-07-31</td>\n",
              "      <td>5263</td>\n",
              "      <td>555</td>\n",
              "      <td>1</td>\n",
              "      <td>1</td>\n",
              "      <td>0</td>\n",
              "      <td>1</td>\n",
              "      <td>c</td>\n",
              "      <td>a</td>\n",
              "      <td>1270.0</td>\n",
              "      <td>9.0</td>\n",
              "      <td>2008.0</td>\n",
              "      <td>0</td>\n",
              "      <td>NaN</td>\n",
              "      <td>NaN</td>\n",
              "      <td>NaN</td>\n",
              "    </tr>\n",
              "    <tr>\n",
              "      <th>1</th>\n",
              "      <td>2</td>\n",
              "      <td>5</td>\n",
              "      <td>2015-07-31</td>\n",
              "      <td>6064</td>\n",
              "      <td>625</td>\n",
              "      <td>1</td>\n",
              "      <td>1</td>\n",
              "      <td>0</td>\n",
              "      <td>1</td>\n",
              "      <td>a</td>\n",
              "      <td>a</td>\n",
              "      <td>570.0</td>\n",
              "      <td>11.0</td>\n",
              "      <td>2007.0</td>\n",
              "      <td>1</td>\n",
              "      <td>13.0</td>\n",
              "      <td>2010.0</td>\n",
              "      <td>Jan,Apr,Jul,Oct</td>\n",
              "    </tr>\n",
              "    <tr>\n",
              "      <th>2</th>\n",
              "      <td>3</td>\n",
              "      <td>5</td>\n",
              "      <td>2015-07-31</td>\n",
              "      <td>8314</td>\n",
              "      <td>821</td>\n",
              "      <td>1</td>\n",
              "      <td>1</td>\n",
              "      <td>0</td>\n",
              "      <td>1</td>\n",
              "      <td>a</td>\n",
              "      <td>a</td>\n",
              "      <td>14130.0</td>\n",
              "      <td>12.0</td>\n",
              "      <td>2006.0</td>\n",
              "      <td>1</td>\n",
              "      <td>14.0</td>\n",
              "      <td>2011.0</td>\n",
              "      <td>Jan,Apr,Jul,Oct</td>\n",
              "    </tr>\n",
              "    <tr>\n",
              "      <th>3</th>\n",
              "      <td>4</td>\n",
              "      <td>5</td>\n",
              "      <td>2015-07-31</td>\n",
              "      <td>13995</td>\n",
              "      <td>1498</td>\n",
              "      <td>1</td>\n",
              "      <td>1</td>\n",
              "      <td>0</td>\n",
              "      <td>1</td>\n",
              "      <td>c</td>\n",
              "      <td>c</td>\n",
              "      <td>620.0</td>\n",
              "      <td>9.0</td>\n",
              "      <td>2009.0</td>\n",
              "      <td>0</td>\n",
              "      <td>NaN</td>\n",
              "      <td>NaN</td>\n",
              "      <td>NaN</td>\n",
              "    </tr>\n",
              "    <tr>\n",
              "      <th>4</th>\n",
              "      <td>5</td>\n",
              "      <td>5</td>\n",
              "      <td>2015-07-31</td>\n",
              "      <td>4822</td>\n",
              "      <td>559</td>\n",
              "      <td>1</td>\n",
              "      <td>1</td>\n",
              "      <td>0</td>\n",
              "      <td>1</td>\n",
              "      <td>a</td>\n",
              "      <td>a</td>\n",
              "      <td>29910.0</td>\n",
              "      <td>4.0</td>\n",
              "      <td>2015.0</td>\n",
              "      <td>0</td>\n",
              "      <td>NaN</td>\n",
              "      <td>NaN</td>\n",
              "      <td>NaN</td>\n",
              "    </tr>\n",
              "  </tbody>\n",
              "</table>\n",
              "</div>"
            ],
            "text/plain": [
              "   Store  DayOfWeek  ... Promo2SinceYear    PromoInterval\n",
              "0      1          5  ...             NaN              NaN\n",
              "1      2          5  ...          2010.0  Jan,Apr,Jul,Oct\n",
              "2      3          5  ...          2011.0  Jan,Apr,Jul,Oct\n",
              "3      4          5  ...             NaN              NaN\n",
              "4      5          5  ...             NaN              NaN\n",
              "\n",
              "[5 rows x 18 columns]"
            ]
          },
          "metadata": {
            "tags": []
          },
          "execution_count": 111
        }
      ]
    },
    {
      "cell_type": "markdown",
      "metadata": {
        "id": "_1Aj4jvfd4__",
        "colab_type": "text"
      },
      "source": [
        "## Q2 [4 points]\n",
        "\n",
        "**[Preparation for cross-validation]**\n",
        "\n",
        "Split our data into three segments.Instead of shuffling them first, we will do something different. When working with prediction, we might want to have a model that can give good prediction power for the future sales. Thus, we will split our data in the following way:\n",
        "\n",
        "(1) Training: Time window 2013-01-01 to 2015-03-31  \n",
        "\n",
        "(2) Validation: Time window 2015-04-01 to 2015-05-31 \n",
        "\n",
        "(3) Testing: Time window 2015-06-01 to 2015-07-31\n",
        "\n",
        "Print out how many records you have for each set."
      ]
    },
    {
      "cell_type": "code",
      "metadata": {
        "id": "BwBNzoeSegid",
        "colab_type": "code",
        "outputId": "cc9dac1c-8120-4d21-c58f-f6bec6ae6206",
        "colab": {
          "base_uri": "https://localhost:8080/",
          "height": 34
        }
      },
      "source": [
        "#You might find the following sample code helpful \n",
        "#X=X.astype({\"Date\":\"datetime64\"})\n",
        "#X[\"Date\"]<\"2015-01-02\"\n",
        "\n",
        "# We make sure we tranform the type of the Sales_Store_merged['Date'] column from string to datatime64 object type \n",
        "Sales_Store_merged = Sales_Store_merged.astype({\"Date\":\"datetime64\"})\n",
        "\n",
        "# We create the training set \n",
        "Sales_Store_merged_training = Sales_Store_merged[((Sales_Store_merged['Date'] >= \"2013-01-01\") & (Sales_Store_merged['Date'] <= \"2015-03-31\"))]\n",
        "Sales_Store_merged_training.head()\n",
        "\n",
        "# We create the validation set \n",
        "Sales_Store_merged_validation = Sales_Store_merged[((Sales_Store_merged['Date'] >= \"2015-04-01\") & (Sales_Store_merged['Date'] <= \"2015-05-31\"))]\n",
        "\n",
        "# We create the testing set \n",
        "Sales_Store_merged_testing = Sales_Store_merged[((Sales_Store_merged['Date'] >= \"2015-06-01\") & (Sales_Store_merged['Date'] <= \"2015-07-31\"))]\n",
        "\n",
        "print( len(Sales_Store_merged_training), len(Sales_Store_merged_validation), len(Sales_Store_merged_testing) )"
      ],
      "execution_count": 0,
      "outputs": [
        {
          "output_type": "stream",
          "text": [
            "65631 4715 5245\n"
          ],
          "name": "stdout"
        }
      ]
    },
    {
      "cell_type": "markdown",
      "metadata": {
        "id": "-OIl1Vg2euRn",
        "colab_type": "text"
      },
      "source": [
        "##Q3 [8 points]\n",
        "\n",
        "**[Feature Engineering 1 ]**\n",
        "\n",
        "Usually, people pay great attention to the features that are highly predictive. Making sure that adequate variable transformations are performed on those variables are highly important. \n",
        "\n",
        "* Examine why customer numbers is an important predictor based on the data.\n",
        "\n",
        "* Use 4 histograms show how taking the log-transformation changes the distribution of \"Sales\" and \"Customers\" on the training set. Make layout the 4 histograms following the following format\n",
        "\n",
        "\\begin{bmatrix}\n",
        "    \\text{Sales plot here} &  \\text{log(Sales) plot here} \\\\\n",
        "    \\text{Customer plot here} &  \\text{log(Customer) plot here}\n",
        "\\end{bmatrix}.\n",
        "\n",
        ">You will find this [link](https://matplotlib.org/3.1.0/gallery/subplots_axes_and_figures/subplots_demo.html) useful\n",
        "\n",
        "2. \n",
        "  Based on cross-validation to show which model gives a better performance. \n",
        "  $$log(Sales)=\\beta_0+\\beta_1 log(Customers)+\\epsilon$$ \n",
        "  $$Sales=\\beta_0+\\beta_1 Customers+\\epsilon$$ \n"
      ]
    },
    {
      "cell_type": "code",
      "metadata": {
        "id": "oLxXPghQFsZV",
        "colab_type": "code",
        "outputId": "7f400efd-7dbb-4c31-d53f-bc97e1c3c9b5",
        "colab": {
          "base_uri": "https://localhost:8080/",
          "height": 232
        }
      },
      "source": [
        "# correlation\n",
        "\n",
        "Sales_Store_merged_ = Sales_Store_merged[['Sales', 'Customers']]\n",
        "\n",
        "correlation_ = Sales_Store_merged_.corr(method = 'pearson')\n",
        "\n",
        "print(correlation_)\n",
        "\n",
        "fig, axs = plt.subplots(2, 2)\n",
        "axs[0, 0].hist(x=Sales_Store_merged_training['Sales'], bins='auto', color='#0504aa',\n",
        "                            alpha=0.75, rwidth=0.85)\n",
        "axs[0, 0].set_title('Sales histogram plot')\n",
        "axs[0, 1].hist(x=np.log(Sales_Store_merged_training['Sales']), bins='auto', color='#0504aa',\n",
        "                            alpha=0.75, rwidth=0.85)\n",
        "axs[0, 1].set_title('log(Sales) histogram plot')\n",
        "axs[1, 0].hist(x=Sales_Store_merged_training['Customers'], bins='auto', color='#0504aa',\n",
        "                            alpha=0.75, rwidth=0.85)\n",
        "axs[1, 0].set_title('Customer histogram plot')\n",
        "axs[1, 1].hist(x=np.log(Sales_Store_merged_training['Customers']), color='#0504aa',\n",
        "                            alpha=0.75, rwidth=0.85)\n",
        "\n",
        "axs[1, 1].set_title('log(Customer) histogram plot')\n",
        "\n",
        "for ax in axs.flat:\n",
        "    ax.set(xlabel='Sales', ylabel='Frequency')\n",
        "\n",
        "# Hide x labels and tick labels for top plots and y ticks for right plots.\n",
        "for ax in axs.flat:\n",
        "    ax.label_outer()\n",
        "\n",
        "fig.tight_layout()"
      ],
      "execution_count": 0,
      "outputs": [
        {
          "output_type": "error",
          "ename": "NameError",
          "evalue": "ignored",
          "traceback": [
            "\u001b[0;31m---------------------------------------------------------------------------\u001b[0m",
            "\u001b[0;31mNameError\u001b[0m                                 Traceback (most recent call last)",
            "\u001b[0;32m<ipython-input-1-e5e6300d7dff>\u001b[0m in \u001b[0;36m<module>\u001b[0;34m()\u001b[0m\n\u001b[1;32m      1\u001b[0m \u001b[0;34m\u001b[0m\u001b[0m\n\u001b[0;32m----> 2\u001b[0;31m \u001b[0mSales_Store_merged_\u001b[0m \u001b[0;34m=\u001b[0m \u001b[0mSales_Store_merged\u001b[0m\u001b[0;34m[\u001b[0m\u001b[0;34m[\u001b[0m\u001b[0;34m'Sales'\u001b[0m\u001b[0;34m,\u001b[0m \u001b[0;34m'Customers'\u001b[0m\u001b[0;34m]\u001b[0m\u001b[0;34m]\u001b[0m\u001b[0;34m\u001b[0m\u001b[0;34m\u001b[0m\u001b[0m\n\u001b[0m\u001b[1;32m      3\u001b[0m \u001b[0;34m\u001b[0m\u001b[0m\n\u001b[1;32m      4\u001b[0m \u001b[0mcorrelation_\u001b[0m \u001b[0;34m=\u001b[0m \u001b[0mSales_Store_merged_\u001b[0m\u001b[0;34m.\u001b[0m\u001b[0mcorr\u001b[0m\u001b[0;34m(\u001b[0m\u001b[0mmethod\u001b[0m \u001b[0;34m=\u001b[0m \u001b[0;34m'pearson'\u001b[0m\u001b[0;34m)\u001b[0m\u001b[0;34m\u001b[0m\u001b[0;34m\u001b[0m\u001b[0m\n\u001b[1;32m      5\u001b[0m \u001b[0;34m\u001b[0m\u001b[0m\n",
            "\u001b[0;31mNameError\u001b[0m: name 'Sales_Store_merged' is not defined"
          ]
        }
      ]
    },
    {
      "cell_type": "code",
      "metadata": {
        "id": "RPRUH6T-x3ia",
        "colab_type": "code",
        "outputId": "3ded67d5-9ab9-439a-d10d-7ab7ba5f03aa",
        "colab": {
          "base_uri": "https://localhost:8080/",
          "height": 901
        }
      },
      "source": [
        "#Model training on the training set\n",
        "model1=ols(formula=\"Sales~Customers\", data=Sales_Store_merged_training).fit()\n",
        "model2=ols(formula=\"np.log(Sales)~np.log(Customers)\", data=Sales_Store_merged_training).fit()\n",
        "\n",
        "print(model1.summary())\n",
        "print(model2.summary())"
      ],
      "execution_count": 0,
      "outputs": [
        {
          "output_type": "stream",
          "text": [
            "                            OLS Regression Results                            \n",
            "==============================================================================\n",
            "Dep. Variable:                  Sales   R-squared:                       0.699\n",
            "Model:                            OLS   Adj. R-squared:                  0.699\n",
            "Method:                 Least Squares   F-statistic:                 1.523e+05\n",
            "Date:                Sun, 06 Oct 2019   Prob (F-statistic):               0.00\n",
            "Time:                        19:20:38   Log-Likelihood:            -5.6991e+05\n",
            "No. Observations:               65631   AIC:                         1.140e+06\n",
            "Df Residuals:                   65629   BIC:                         1.140e+06\n",
            "Df Model:                           1                                         \n",
            "Covariance Type:            nonrobust                                         \n",
            "==============================================================================\n",
            "                 coef    std err          t      P>|t|      [0.025      0.975]\n",
            "------------------------------------------------------------------------------\n",
            "Intercept   1115.5926     15.234     73.230      0.000    1085.734    1145.452\n",
            "Customers      7.9059      0.020    390.319      0.000       7.866       7.946\n",
            "==============================================================================\n",
            "Omnibus:                    12469.720   Durbin-Watson:                   1.446\n",
            "Prob(Omnibus):                  0.000   Jarque-Bera (JB):            40935.168\n",
            "Skew:                           0.963   Prob(JB):                         0.00\n",
            "Kurtosis:                       6.356   Cond. No.                     2.05e+03\n",
            "==============================================================================\n",
            "\n",
            "Warnings:\n",
            "[1] Standard Errors assume that the covariance matrix of the errors is correctly specified.\n",
            "[2] The condition number is large, 2.05e+03. This might indicate that there are\n",
            "strong multicollinearity or other numerical problems.\n",
            "                            OLS Regression Results                            \n",
            "==============================================================================\n",
            "Dep. Variable:          np.log(Sales)   R-squared:                       0.733\n",
            "Model:                            OLS   Adj. R-squared:                  0.733\n",
            "Method:                 Least Squares   F-statistic:                 1.798e+05\n",
            "Date:                Sun, 06 Oct 2019   Prob (F-statistic):               0.00\n",
            "Time:                        19:20:38   Log-Likelihood:                 12575.\n",
            "No. Observations:               65631   AIC:                        -2.515e+04\n",
            "Df Residuals:                   65629   BIC:                        -2.513e+04\n",
            "Df Model:                           1                                         \n",
            "Covariance Type:            nonrobust                                         \n",
            "=====================================================================================\n",
            "                        coef    std err          t      P>|t|      [0.025      0.975]\n",
            "-------------------------------------------------------------------------------------\n",
            "Intercept             3.0547      0.013    227.867      0.000       3.028       3.081\n",
            "np.log(Customers)     0.8757      0.002    423.994      0.000       0.872       0.880\n",
            "==============================================================================\n",
            "Omnibus:                      741.773   Durbin-Watson:                   1.478\n",
            "Prob(Omnibus):                  0.000   Jarque-Bera (JB):              579.839\n",
            "Skew:                           0.149   Prob(JB):                    1.23e-126\n",
            "Kurtosis:                       2.649   Cond. No.                         114.\n",
            "==============================================================================\n",
            "\n",
            "Warnings:\n",
            "[1] Standard Errors assume that the covariance matrix of the errors is correctly specified.\n"
          ],
          "name": "stdout"
        }
      ]
    },
    {
      "cell_type": "code",
      "metadata": {
        "id": "HuIB9RFcx5rQ",
        "colab_type": "code",
        "outputId": "31035860-131f-415f-cf6a-2651b49ad649",
        "colab": {
          "base_uri": "https://localhost:8080/",
          "height": 51
        }
      },
      "source": [
        "#Selecting the best model based the validation set\n",
        "\n",
        "##First, get the predicted value \n",
        "Prediction1=model1.predict(Sales_Store_merged_validation)\n",
        "###Model 2 took used log transformation on the dependent variable\n",
        "###Need to exponentiate the predicted value \n",
        "Prediction2=np.exp(model2.predict(Sales_Store_merged_validation))\n",
        "\n",
        "def rmse(predictions, targets):\n",
        "    return np.sqrt( ( (predictions - targets) ** 2 ).mean() )\n",
        "\n",
        "def rmspe(predictions, targets):\n",
        "  # (np.mean(((predictions-targets)/targets)**2))**0.5\n",
        "    return np.sqrt( ( ( (predictions - targets)/targets) ** 2).mean() )\n",
        "\n",
        "##Second, get the RMSPE and RMSE\n",
        "\n",
        "Actual=Sales_Store_merged_validation[\"Sales\"]\n",
        "RMSPE1=rmspe(Prediction1, Actual)\n",
        "RMSPE2=rmspe(Prediction2, Actual)\n",
        "\n",
        "RMSE1=rmse(Prediction1, Actual)\n",
        "RMSE2=rmse(Prediction2, Actual)\n",
        "\n",
        "print(RMSPE1,RMSPE2)\n",
        "print(RMSE1,RMSE2)"
      ],
      "execution_count": 0,
      "outputs": [
        {
          "output_type": "stream",
          "text": [
            "0.20039447823717005 0.19366408523982762\n",
            "1497.3942814659956 1513.855766422655\n"
          ],
          "name": "stdout"
        }
      ]
    },
    {
      "cell_type": "markdown",
      "metadata": {
        "id": "AQ76x7ZQfd52",
        "colab_type": "text"
      },
      "source": [
        "##Q4 [7 points]\n",
        "\n",
        "**[Feature Engineering 2]**\n",
        "\n",
        "In the business operation, stores performance can vary with time. Including the time/date information can potentially help us increase the model fit. Some typical factors we can consider are:\n",
        "\n",
        "* Year [store performance in 1992 can be different from the performance in 2010]\n",
        "* Month [For example, an ice-cream shop generally have higher sales in the summer months]\n",
        "* Day of the week [Especially, weekend v.s. weekdays might show very differen performances]\n",
        "* Important events\n",
        "\n",
        "In our dataset, we have \"DayOfWeek\", \"SchoolHoliday\" and \"StateHoliday\" to capture the last two factors. However, we do not have the \"Year\" and \"Month\".\n",
        "\n",
        "Luckily, once we specify \"Date\" as the datetime type. We can easily extract the time information. See the link [here](https://pandas.pydata.org/pandas-docs/stable/reference/series.html#datetimelike-properties)\n",
        "\n",
        "For Q4: Do the following \n",
        "\n",
        "* Argue the pros and cons of adding Month as a categorical variable v.s. continuous variable.\n",
        "* Determine the best decision using cross-validation.\n"
      ]
    },
    {
      "cell_type": "code",
      "metadata": {
        "id": "Ducug-3Ufdh_",
        "colab_type": "code",
        "outputId": "9784126d-a7d8-4876-8dc6-4f385ba918e9",
        "colab": {
          "base_uri": "https://localhost:8080/",
          "height": 1000
        }
      },
      "source": [
        "#Suppose x3 is a datetype column. If you want to get year information and treat it as a continuous variable in the regression, you can simply do\n",
        "#(\"y~x1+x2+x3.dt.month\",data=Data)\n",
        "model3=ols(formula=\"np.log(Sales)~np.log(Customers)+Date.dt.month\", data=Sales_Store_merged_training).fit()\n",
        "# model3=ols(formula=\"np.log(Sales)~np.log(Customers)\", data=Sales_Store_merged_training).fit()\n",
        "\n",
        "print(model3.summary())\n",
        "\n",
        "model4=ols(formula=\"np.log(Sales)~np.log(Customers)+C(Date.dt.month)\", data=Sales_Store_merged_training).fit()\n",
        "# model3=ols(formula=\"np.log(Sales)~np.log(Customers)\", data=Sales_Store_merged_training).fit()\n",
        "\n",
        "print(model4.summary())"
      ],
      "execution_count": 0,
      "outputs": [
        {
          "output_type": "stream",
          "text": [
            "                            OLS Regression Results                            \n",
            "==============================================================================\n",
            "Dep. Variable:          np.log(Sales)   R-squared:                       0.733\n",
            "Model:                            OLS   Adj. R-squared:                  0.733\n",
            "Method:                 Least Squares   F-statistic:                 9.016e+04\n",
            "Date:                Sun, 06 Oct 2019   Prob (F-statistic):               0.00\n",
            "Time:                        19:20:38   Log-Likelihood:                 12648.\n",
            "No. Observations:               65631   AIC:                        -2.529e+04\n",
            "Df Residuals:                   65628   BIC:                        -2.526e+04\n",
            "Df Model:                           2                                         \n",
            "Covariance Type:            nonrobust                                         \n",
            "=====================================================================================\n",
            "                        coef    std err          t      P>|t|      [0.025      0.975]\n",
            "-------------------------------------------------------------------------------------\n",
            "Intercept             3.0511      0.013    227.793      0.000       3.025       3.077\n",
            "np.log(Customers)     0.8739      0.002    422.371      0.000       0.870       0.878\n",
            "Date.dt.month         0.0027      0.000     12.055      0.000       0.002       0.003\n",
            "==============================================================================\n",
            "Omnibus:                      744.081   Durbin-Watson:                   1.479\n",
            "Prob(Omnibus):                  0.000   Jarque-Bera (JB):              581.362\n",
            "Skew:                           0.149   Prob(JB):                    5.74e-127\n",
            "Kurtosis:                       2.649   Cond. No.                         159.\n",
            "==============================================================================\n",
            "\n",
            "Warnings:\n",
            "[1] Standard Errors assume that the covariance matrix of the errors is correctly specified.\n",
            "                            OLS Regression Results                            \n",
            "==============================================================================\n",
            "Dep. Variable:          np.log(Sales)   R-squared:                       0.738\n",
            "Model:                            OLS   Adj. R-squared:                  0.737\n",
            "Method:                 Least Squares   F-statistic:                 1.536e+04\n",
            "Date:                Sun, 06 Oct 2019   Prob (F-statistic):               0.00\n",
            "Time:                        19:20:38   Log-Likelihood:                 13187.\n",
            "No. Observations:               65631   AIC:                        -2.635e+04\n",
            "Df Residuals:                   65618   BIC:                        -2.623e+04\n",
            "Df Model:                          12                                         \n",
            "Covariance Type:            nonrobust                                         \n",
            "==========================================================================================\n",
            "                             coef    std err          t      P>|t|      [0.025      0.975]\n",
            "------------------------------------------------------------------------------------------\n",
            "Intercept                  3.0972      0.013    230.185      0.000       3.071       3.124\n",
            "C(Date.dt.month)[T.2]     -0.0046      0.003     -1.425      0.154      -0.011       0.002\n",
            "C(Date.dt.month)[T.3]      0.0187      0.003      5.859      0.000       0.012       0.025\n",
            "C(Date.dt.month)[T.4]     -0.0046      0.004     -1.277      0.202      -0.012       0.002\n",
            "C(Date.dt.month)[T.5]      0.0081      0.004      2.229      0.026       0.001       0.015\n",
            "C(Date.dt.month)[T.6]      0.0062      0.004      1.707      0.088      -0.001       0.013\n",
            "C(Date.dt.month)[T.7]      0.0137      0.004      3.793      0.000       0.007       0.021\n",
            "C(Date.dt.month)[T.8]     -0.0117      0.004     -3.233      0.001      -0.019      -0.005\n",
            "C(Date.dt.month)[T.9]     -0.0241      0.004     -6.584      0.000      -0.031      -0.017\n",
            "C(Date.dt.month)[T.10]    -0.0207      0.004     -5.683      0.000      -0.028      -0.014\n",
            "C(Date.dt.month)[T.11]     0.0321      0.004      8.697      0.000       0.025       0.039\n",
            "C(Date.dt.month)[T.12]     0.0924      0.004     24.794      0.000       0.085       0.100\n",
            "np.log(Customers)          0.8679      0.002    421.007      0.000       0.864       0.872\n",
            "==============================================================================\n",
            "Omnibus:                      722.939   Durbin-Watson:                   1.498\n",
            "Prob(Omnibus):                  0.000   Jarque-Bera (JB):              555.408\n",
            "Skew:                           0.140   Prob(JB):                    2.48e-121\n",
            "Kurtosis:                       2.646   Cond. No.                         116.\n",
            "==============================================================================\n",
            "\n",
            "Warnings:\n",
            "[1] Standard Errors assume that the covariance matrix of the errors is correctly specified.\n"
          ],
          "name": "stdout"
        }
      ]
    },
    {
      "cell_type": "code",
      "metadata": {
        "id": "NyWbptyF4t5b",
        "colab_type": "code",
        "outputId": "beccb6f8-a738-4662-c883-c1b8bc850ad7",
        "colab": {
          "base_uri": "https://localhost:8080/",
          "height": 34
        }
      },
      "source": [
        "#Selecting the best model based the validation set\n",
        "\n",
        "##First, get the predicted value \n",
        "Prediction3=np.exp(model3.predict(Sales_Store_merged_validation))\n",
        "###Model 2 took used log transformation on the dependent variable\n",
        "###Need to exponentiate the predicted value \n",
        "Prediction4=np.exp(model4.predict(Sales_Store_merged_validation))\n",
        "\n",
        "def rmse(predictions, targets):\n",
        "    return np.sqrt( ( (predictions - targets) ** 2 ).mean() )\n",
        "\n",
        "def rmspe(predictions, targets):\n",
        "  # (np.mean(((predictions-targets)/targets)**2))**0.5\n",
        "    return np.sqrt( ( ( (predictions - targets)/targets) ** 2).mean() )\n",
        "\n",
        "##Second, get the RMSPE\n",
        "Actual=Sales_Store_merged_validation[\"Sales\"]\n",
        "RMSPE3=rmspe(Prediction3, Actual)\n",
        "RMSPE4=rmspe(Prediction4, Actual)\n",
        "\n",
        "print(RMSPE3,RMSPE4)"
      ],
      "execution_count": 0,
      "outputs": [
        {
          "output_type": "stream",
          "text": [
            "0.19338148374190467 0.1931645964191939\n"
          ],
          "name": "stdout"
        }
      ]
    },
    {
      "cell_type": "code",
      "metadata": {
        "id": "6ZSqW9ZtlL07",
        "colab_type": "code",
        "colab": {}
      },
      "source": [
        ""
      ],
      "execution_count": 0,
      "outputs": []
    },
    {
      "cell_type": "markdown",
      "metadata": {
        "id": "AKk04DXh-yNt",
        "colab_type": "text"
      },
      "source": [
        "##Q5 [10 points]\n",
        "### [Forward Model Selection]\n",
        "\n",
        "Time to practice some model selection technique. Let's suppose that we want to determine some predictors we would like to adding based on the baseline model you chose in **Q2**. [To reduce your coding complexity, let's simply consider the following three factors]\n",
        "\n",
        "* Promo\t\n",
        "* Promo2\n",
        "* SchoolHoliday\n",
        "\n",
        "\n",
        "Based on cross-validation, choose the best model. \n",
        "* Report RMSPE of each model and the new variable to be selected in each round of model selection\n",
        "[You can do this manually]\n",
        "\n",
        "* After selecting the final model, report the accuracy on the test set."
      ]
    },
    {
      "cell_type": "code",
      "metadata": {
        "id": "yDhdVlm2nCDE",
        "colab_type": "code",
        "outputId": "ea7f8811-ec32-4ad3-c56a-14d0d8f34c84",
        "colab": {
          "base_uri": "https://localhost:8080/",
          "height": 578
        }
      },
      "source": [
        "list_ = ['Promo', 'Promo2', 'SchoolHoliday']\n",
        "\n",
        "for item_list_ in list_:\n",
        "  model_=ols(formula=\"np.log(Sales)~np.log(Customers)\"+\"+\"+item_list_ ,data=Sales_Store_merged_training).fit()\n",
        "  Actual=Sales_Store_merged_validation[\"Sales\"]\n",
        "  Prediction_=np.exp(model_.predict(Sales_Store_merged_validation))\n",
        "  RMSPE_=rmspe(Prediction_, Actual)\n",
        "  print(RMSPE_)\n",
        "\n",
        "# Promo\n",
        "\n",
        "list2_ = ['Promo2', 'SchoolHoliday']\n",
        "\n",
        "for item_list_ in list2_:\n",
        "  model_=ols(formula=\"np.log(Sales)~np.log(Customers)+Promo\"+\"+\"+item_list_ ,data=Sales_Store_merged_training).fit()\n",
        "  Actual=Sales_Store_merged_validation[\"Sales\"]\n",
        "  Prediction_2=np.exp(model_.predict(Sales_Store_merged_validation))\n",
        "  RMSPE_2=rmspe(Prediction_2, Actual)\n",
        "  print(RMSPE_2)\n",
        "\n",
        "# SchoolHoliday\n",
        "\n",
        "model_final = ols(formula=\"np.log(Sales)~np.log(Customers)+Promo+SchoolHoliday\",data=Sales_Store_merged_training).fit()\n",
        "Actual=Sales_Store_merged_testing[\"Sales\"]\n",
        "Prediction_final=np.exp(model_final.predict(Sales_Store_merged_testing))\n",
        "RMSPE_final=rmspe(Prediction_final, Actual)\n",
        "print(RMSPE_final)\n",
        "print(model_final.summary())"
      ],
      "execution_count": 0,
      "outputs": [
        {
          "output_type": "stream",
          "text": [
            "0.17829789604366245\n",
            "0.19374146955374985\n",
            "0.1937486315552663\n",
            "0.17834241107914758\n",
            "0.17821283492510315\n",
            "0.18452112071723537\n",
            "                            OLS Regression Results                            \n",
            "==============================================================================\n",
            "Dep. Variable:          np.log(Sales)   R-squared:                       0.779\n",
            "Model:                            OLS   Adj. R-squared:                  0.779\n",
            "Method:                 Least Squares   F-statistic:                 7.706e+04\n",
            "Date:                Sun, 06 Oct 2019   Prob (F-statistic):               0.00\n",
            "Time:                        19:20:39   Log-Likelihood:                 18819.\n",
            "No. Observations:               65631   AIC:                        -3.763e+04\n",
            "Df Residuals:                   65627   BIC:                        -3.759e+04\n",
            "Df Model:                           3                                         \n",
            "Covariance Type:            nonrobust                                         \n",
            "=====================================================================================\n",
            "                        coef    std err          t      P>|t|      [0.025      0.975]\n",
            "-------------------------------------------------------------------------------------\n",
            "Intercept             3.4405      0.013    272.505      0.000       3.416       3.465\n",
            "np.log(Customers)     0.8039      0.002    406.796      0.000       0.800       0.808\n",
            "Promo                 0.1758      0.001    117.171      0.000       0.173       0.179\n",
            "SchoolHoliday         0.0074      0.002      4.109      0.000       0.004       0.011\n",
            "==============================================================================\n",
            "Omnibus:                      516.168   Durbin-Watson:                   1.740\n",
            "Prob(Omnibus):                  0.000   Jarque-Bera (JB):              445.538\n",
            "Skew:                           0.148   Prob(JB):                     1.79e-97\n",
            "Kurtosis:                       2.725   Cond. No.                         119.\n",
            "==============================================================================\n",
            "\n",
            "Warnings:\n",
            "[1] Standard Errors assume that the covariance matrix of the errors is correctly specified.\n"
          ],
          "name": "stdout"
        }
      ]
    },
    {
      "cell_type": "markdown",
      "metadata": {
        "id": "qV2x6C2aEEos",
        "colab_type": "text"
      },
      "source": [
        "##Q6 [10 points]\n",
        "###[Ridge regression]\n",
        "\n",
        "When working with dataset (especially if we are using many predictors for a small dataset), we might encounter some serious problem with over-fitting.\n",
        "\n",
        "To demonstrate how to use Ridge regression to deal with this problem. We will explore a setting when we have very limited data. In this dataset, let's simply use the information from **Store 3** from 2013-01-02 to 2013-02-18. \n",
        "\n",
        "Again, we will split our data into three segments based on the date.\n",
        "\n",
        "* Training: Information for Store 4 before 2013-02-02\n",
        "* Validation: Information for Store 4 between 2013-02-2 and 2013-02-12-11\n",
        "* Testing: Information from Store 4 between 2013-02-12 and 2013-02-18\n",
        "\n",
        "\n",
        "Conduct ridge regression on the training set. \n",
        "\n",
        "Assume the model you want to run is \n",
        "$$log(Sale)=\\beta_0+\\beta_1 log (Customers) + \\beta_2 Customers +\\epsilon$$\n",
        "\n",
        "\n",
        "* Plot the relationship between $\\alpha$ and RMSPE on the Validation set. \n"
      ]
    },
    {
      "cell_type": "code",
      "metadata": {
        "id": "_Sq4_8UOE-0q",
        "colab_type": "code",
        "outputId": "9ce27a96-aca3-4fa7-b976-8dfb9e9c94ea",
        "colab": {
          "base_uri": "https://localhost:8080/",
          "height": 309
        }
      },
      "source": [
        "filter_ = (Sales_Store_merged[\"Store\"] == 3) & ((Sales_Store_merged[\"Date\"] >= \"2013-01-02\") & (Sales_Store_merged[\"Date\"] <= \"2013-02-18\"))\n",
        "Sales_Store_merged_Ridge = Sales_Store_merged[filter_]\n",
        "Sales_Store_merged_Ridge.head()"
      ],
      "execution_count": 0,
      "outputs": [
        {
          "output_type": "execute_result",
          "data": {
            "text/html": [
              "<div>\n",
              "<style scoped>\n",
              "    .dataframe tbody tr th:only-of-type {\n",
              "        vertical-align: middle;\n",
              "    }\n",
              "\n",
              "    .dataframe tbody tr th {\n",
              "        vertical-align: top;\n",
              "    }\n",
              "\n",
              "    .dataframe thead th {\n",
              "        text-align: right;\n",
              "    }\n",
              "</style>\n",
              "<table border=\"1\" class=\"dataframe\">\n",
              "  <thead>\n",
              "    <tr style=\"text-align: right;\">\n",
              "      <th></th>\n",
              "      <th>Store</th>\n",
              "      <th>DayOfWeek</th>\n",
              "      <th>Date</th>\n",
              "      <th>Sales</th>\n",
              "      <th>Customers</th>\n",
              "      <th>Open</th>\n",
              "      <th>Promo</th>\n",
              "      <th>StateHoliday</th>\n",
              "      <th>SchoolHoliday</th>\n",
              "      <th>StoreType</th>\n",
              "      <th>Assortment</th>\n",
              "      <th>CompetitionDistance</th>\n",
              "      <th>CompetitionOpenSinceMonth</th>\n",
              "      <th>CompetitionOpenSinceYear</th>\n",
              "      <th>Promo2</th>\n",
              "      <th>Promo2SinceWeek</th>\n",
              "      <th>Promo2SinceYear</th>\n",
              "      <th>PromoInterval</th>\n",
              "    </tr>\n",
              "  </thead>\n",
              "  <tbody>\n",
              "    <tr>\n",
              "      <th>962577</th>\n",
              "      <td>3</td>\n",
              "      <td>1</td>\n",
              "      <td>2013-02-18</td>\n",
              "      <td>10793</td>\n",
              "      <td>1008</td>\n",
              "      <td>1</td>\n",
              "      <td>1</td>\n",
              "      <td>0</td>\n",
              "      <td>0</td>\n",
              "      <td>a</td>\n",
              "      <td>a</td>\n",
              "      <td>14130.0</td>\n",
              "      <td>12.0</td>\n",
              "      <td>2006.0</td>\n",
              "      <td>1</td>\n",
              "      <td>14.0</td>\n",
              "      <td>2011.0</td>\n",
              "      <td>Jan,Apr,Jul,Oct</td>\n",
              "    </tr>\n",
              "    <tr>\n",
              "      <th>964807</th>\n",
              "      <td>3</td>\n",
              "      <td>6</td>\n",
              "      <td>2013-02-16</td>\n",
              "      <td>4000</td>\n",
              "      <td>488</td>\n",
              "      <td>1</td>\n",
              "      <td>0</td>\n",
              "      <td>0</td>\n",
              "      <td>0</td>\n",
              "      <td>a</td>\n",
              "      <td>a</td>\n",
              "      <td>14130.0</td>\n",
              "      <td>12.0</td>\n",
              "      <td>2006.0</td>\n",
              "      <td>1</td>\n",
              "      <td>14.0</td>\n",
              "      <td>2011.0</td>\n",
              "      <td>Jan,Apr,Jul,Oct</td>\n",
              "    </tr>\n",
              "    <tr>\n",
              "      <th>965922</th>\n",
              "      <td>3</td>\n",
              "      <td>5</td>\n",
              "      <td>2013-02-15</td>\n",
              "      <td>5159</td>\n",
              "      <td>673</td>\n",
              "      <td>1</td>\n",
              "      <td>0</td>\n",
              "      <td>0</td>\n",
              "      <td>0</td>\n",
              "      <td>a</td>\n",
              "      <td>a</td>\n",
              "      <td>14130.0</td>\n",
              "      <td>12.0</td>\n",
              "      <td>2006.0</td>\n",
              "      <td>1</td>\n",
              "      <td>14.0</td>\n",
              "      <td>2011.0</td>\n",
              "      <td>Jan,Apr,Jul,Oct</td>\n",
              "    </tr>\n",
              "    <tr>\n",
              "      <th>967037</th>\n",
              "      <td>3</td>\n",
              "      <td>4</td>\n",
              "      <td>2013-02-14</td>\n",
              "      <td>5912</td>\n",
              "      <td>741</td>\n",
              "      <td>1</td>\n",
              "      <td>0</td>\n",
              "      <td>0</td>\n",
              "      <td>0</td>\n",
              "      <td>a</td>\n",
              "      <td>a</td>\n",
              "      <td>14130.0</td>\n",
              "      <td>12.0</td>\n",
              "      <td>2006.0</td>\n",
              "      <td>1</td>\n",
              "      <td>14.0</td>\n",
              "      <td>2011.0</td>\n",
              "      <td>Jan,Apr,Jul,Oct</td>\n",
              "    </tr>\n",
              "    <tr>\n",
              "      <th>968152</th>\n",
              "      <td>3</td>\n",
              "      <td>3</td>\n",
              "      <td>2013-02-13</td>\n",
              "      <td>5111</td>\n",
              "      <td>680</td>\n",
              "      <td>1</td>\n",
              "      <td>0</td>\n",
              "      <td>0</td>\n",
              "      <td>0</td>\n",
              "      <td>a</td>\n",
              "      <td>a</td>\n",
              "      <td>14130.0</td>\n",
              "      <td>12.0</td>\n",
              "      <td>2006.0</td>\n",
              "      <td>1</td>\n",
              "      <td>14.0</td>\n",
              "      <td>2011.0</td>\n",
              "      <td>Jan,Apr,Jul,Oct</td>\n",
              "    </tr>\n",
              "  </tbody>\n",
              "</table>\n",
              "</div>"
            ],
            "text/plain": [
              "        Store  DayOfWeek  ... Promo2SinceYear    PromoInterval\n",
              "962577      3          1  ...          2011.0  Jan,Apr,Jul,Oct\n",
              "964807      3          6  ...          2011.0  Jan,Apr,Jul,Oct\n",
              "965922      3          5  ...          2011.0  Jan,Apr,Jul,Oct\n",
              "967037      3          4  ...          2011.0  Jan,Apr,Jul,Oct\n",
              "968152      3          3  ...          2011.0  Jan,Apr,Jul,Oct\n",
              "\n",
              "[5 rows x 18 columns]"
            ]
          },
          "metadata": {
            "tags": []
          },
          "execution_count": 119
        }
      ]
    },
    {
      "cell_type": "code",
      "metadata": {
        "id": "tXcziwJoyOEQ",
        "colab_type": "code",
        "outputId": "6b152ece-79aa-4528-c031-21671e25ca57",
        "colab": {
          "base_uri": "https://localhost:8080/",
          "height": 742
        }
      },
      "source": [
        "training_filter = (Sales_Store_merged[\"Store\"] == 3) & (Sales_Store_merged[\"Date\"] < \"2013-02-02\")\n",
        "Sales_Store_merged_Ridge_training = Sales_Store_merged_Ridge[training_filter]\n",
        "Sales_Store_merged_Ridge_training.head()\n",
        "\n",
        "validation_filter = (Sales_Store_merged[\"Store\"] == 3) & ((Sales_Store_merged[\"Date\"] >= \"2013-02-02\") & (Sales_Store_merged[\"Date\"] <= \"2013-02-12\"))\n",
        "Sales_Store_merged_Ridge_validation = Sales_Store_merged_Ridge[validation_filter]\n",
        "Sales_Store_merged_Ridge_validation.head()\n",
        "\n",
        "testing_filter = (Sales_Store_merged[\"Store\"] == 3) & ((Sales_Store_merged[\"Date\"] >= \"2013-02-12\") & (Sales_Store_merged[\"Date\"] <= \"2013-02-18\"))\n",
        "Sales_Store_merged_Ridge_testing = Sales_Store_merged_Ridge[testing_filter]\n",
        "Sales_Store_merged_Ridge_testing.head()\n",
        "\n",
        "RMSPE_list_ = []\n",
        "alpha_range = np.linspace(-1.0, 0.15, num=25)\n",
        "for alpha_ in alpha_range:\n",
        "  model_ = ols(formula=\"np.log(Sales)~np.log(Customers)+Customers\",data=Sales_Store_merged_Ridge_training).fit()\n",
        "  start_params=model_.params\n",
        "  model_final_=ols(formula=\"np.log(Sales)~np.log(Customers)+Customers\",data=Sales_Store_merged_Ridge_training).fit_regularized(start_params=start_params, alpha=alpha_, L1_wt=1)\n",
        "  Prediction_final=np.exp(model_final_.predict(Sales_Store_merged_Ridge_validation))\n",
        "\n",
        "  ##Second, get the RMSPE and RMSE\n",
        "  Actual=Sales_Store_merged_Ridge_validation[\"Sales\"]\n",
        "  RMSPE_final= (np.mean(((Prediction_final-Actual)/Actual)**2))**0.5\n",
        "  RMSPE_list_.append(RMSPE_final)\n",
        "  print(RMSPE_final)\n",
        "\n",
        "plt.plot(RMSPE_final.endog, alpha_range)\n",
        "plt.show()"
      ],
      "execution_count": 0,
      "outputs": [
        {
          "output_type": "stream",
          "text": [
            "/usr/local/lib/python3.6/dist-packages/ipykernel_launcher.py:2: UserWarning: Boolean Series key will be reindexed to match DataFrame index.\n",
            "  \n",
            "/usr/local/lib/python3.6/dist-packages/ipykernel_launcher.py:6: UserWarning: Boolean Series key will be reindexed to match DataFrame index.\n",
            "  \n",
            "/usr/local/lib/python3.6/dist-packages/ipykernel_launcher.py:10: UserWarning: Boolean Series key will be reindexed to match DataFrame index.\n",
            "  # Remove the CWD from sys.path while we load stuff.\n"
          ],
          "name": "stderr"
        },
        {
          "output_type": "stream",
          "text": [
            "0.3767765267997782\n",
            "0.35770455094967607\n",
            "0.3391127821770435\n",
            "0.32100065164009484\n",
            "0.30336961218075437\n",
            "0.2862235342323616\n",
            "0.26956920480780167\n",
            "0.25341695767676864\n",
            "0.23778146971631403\n",
            "0.22268276565542383\n",
            "0.20814747939405676\n",
            "0.19421042103474662\n",
            "0.1809164870495993\n",
            "0.16832291196981897\n",
            "0.15650176785130188\n",
            "0.14554243210819479\n",
            "0.1355534139363948\n",
            "0.1266624213088303\n",
            "0.11901293351649203\n",
            "0.11275514815234396\n",
            "0.10802972449521628\n",
            "0.10494513111082034\n",
            "0.10355358384407089\n",
            "0.20755763649706369\n",
            "0.23475090787358444\n"
          ],
          "name": "stdout"
        },
        {
          "output_type": "error",
          "ename": "AttributeError",
          "evalue": "ignored",
          "traceback": [
            "\u001b[0;31m---------------------------------------------------------------------------\u001b[0m",
            "\u001b[0;31mAttributeError\u001b[0m                            Traceback (most recent call last)",
            "\u001b[0;32m<ipython-input-179-2288aa92a75f>\u001b[0m in \u001b[0;36m<module>\u001b[0;34m()\u001b[0m\n\u001b[1;32m     25\u001b[0m   \u001b[0mprint\u001b[0m\u001b[0;34m(\u001b[0m\u001b[0mRMSPE_final\u001b[0m\u001b[0;34m)\u001b[0m\u001b[0;34m\u001b[0m\u001b[0;34m\u001b[0m\u001b[0m\n\u001b[1;32m     26\u001b[0m \u001b[0;34m\u001b[0m\u001b[0m\n\u001b[0;32m---> 27\u001b[0;31m \u001b[0mplt\u001b[0m\u001b[0;34m.\u001b[0m\u001b[0mplot\u001b[0m\u001b[0;34m(\u001b[0m\u001b[0mRMSPE_final\u001b[0m\u001b[0;34m.\u001b[0m\u001b[0mvalues\u001b[0m\u001b[0;34m,\u001b[0m \u001b[0malpha_range\u001b[0m\u001b[0;34m)\u001b[0m\u001b[0;34m\u001b[0m\u001b[0;34m\u001b[0m\u001b[0m\n\u001b[0m\u001b[1;32m     28\u001b[0m \u001b[0mplt\u001b[0m\u001b[0;34m.\u001b[0m\u001b[0mshow\u001b[0m\u001b[0;34m(\u001b[0m\u001b[0;34m)\u001b[0m\u001b[0;34m\u001b[0m\u001b[0;34m\u001b[0m\u001b[0m\n",
            "\u001b[0;31mAttributeError\u001b[0m: 'float' object has no attribute 'values'"
          ]
        }
      ]
    },
    {
      "cell_type": "code",
      "metadata": {
        "id": "oNxBSgjGNSDY",
        "colab_type": "code",
        "colab": {}
      },
      "source": [
        "# Make a multiple-histogram of data-sets with different length.\n",
        "# x_multi = [np.random.randn(n) for n in [10000, 5000, 2000]]\n",
        "# ax3.hist(x_multi, n_bins, histtype='bar')\n",
        "# ax3.set_title('different sample sizes')\n",
        "\n",
        "# fig.tight_layout()\n",
        "# plt.show()"
      ],
      "execution_count": 0,
      "outputs": []
    },
    {
      "cell_type": "markdown",
      "metadata": {
        "id": "fsl2cJPei2M3",
        "colab_type": "text"
      },
      "source": [
        "##Q7. [13 points]\n",
        "###[Standardization in ridge regression]\n",
        "The previous model gives an okay solution. However, one thing to notice is that the scale of variations could also affect $\\beta$ values, which can cause factors to be discriminated simply based on whether the values are small or large. In addition, we do not want $\\beta_0$ to be penalized.\n",
        "\n",
        "As a result, people usually standardize the variables. Especially, for Ridge regression, a common practice is to do the following:\n",
        "\n",
        "**On the training set:**\n",
        "\n",
        "1. Standardize each independent variable using \n",
        "\n",
        "$$\\frac{x_k-\\bar{x_k}}{s_{x_k}}$$\n",
        "\n",
        "where $\\bar{x}$ and $s_x$ are the mean and the standard deviation of variable $x_k$ on the training set. \n",
        "\n",
        "\n",
        "2. Re-center the dependent variable using \n",
        "\n",
        "$$y-\\bar{y}$$\n",
        "\n",
        "where $\\bar{y}$ is the mean of $y$ on the training set.\n",
        "\n",
        "This allows us to tease out the impact of $\\beta_0$ in the regulation\n",
        "\n",
        "3. Regress the de-centered depedent variable on the standardized independent variables without intercept. [you can simply use \"y~x1+x2-1\" to not estimate the intercept]\n",
        "\n",
        "**On the validation and testing set:**\n",
        "\n",
        "When you do the prediction on the validation set, we will have\n",
        "\n",
        "$$\\hat{y}=\\bar{y}+\\sum \\hat{\\beta_k} {\\frac{x-\\bar{x_k}}{s_{x_k}}}$$\n",
        "\n",
        "where $\\bar{y}$ is the mean of $y$ on the **training set**, $\\bar{x_k}$ is the mean of $x_k$ on the **training set**, while $s_{x_k}$ is the standard deviation of $x_k$ on the **training set**.\n",
        "\n",
        "\n",
        "\n",
        "* Use this method to re-do Q6. \n",
        "* Determine the best model based on Q6 and Q7. Report the accuracy on the test set.\n",
        "\n"
      ]
    },
    {
      "cell_type": "code",
      "metadata": {
        "id": "IKeiFfRK1VHp",
        "colab_type": "code",
        "colab": {}
      },
      "source": [
        ""
      ],
      "execution_count": 0,
      "outputs": []
    },
    {
      "cell_type": "markdown",
      "metadata": {
        "id": "NrK-uvp_YgAO",
        "colab_type": "text"
      },
      "source": [
        "##Q*. Bonus question [3 points]\n",
        "\n",
        "Do the task in Q4 but with the following factors with the help of `for` loop\n",
        "\n",
        "* Promo\n",
        "* SchoolHoliday\n",
        "* C(Store)\n",
        "* C(DayOfWeek)\n",
        "* C(Store)#np.log(Customers)\n",
        "* C(Month)\n",
        "* C(Year)\n",
        "* C(StateHoliday)\n",
        "\n"
      ]
    },
    {
      "cell_type": "code",
      "metadata": {
        "id": "U98v7c38Gofv",
        "colab_type": "code",
        "colab": {}
      },
      "source": [
        ""
      ],
      "execution_count": 0,
      "outputs": []
    }
  ]
}