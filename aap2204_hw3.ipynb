{
  "nbformat": 4,
  "nbformat_minor": 0,
  "metadata": {
    "colab": {
      "name": "aap2204_hw3.ipynb",
      "provenance": [],
      "collapsed_sections": [],
      "machine_shape": "hm",
      "include_colab_link": true
    },
    "kernelspec": {
      "name": "python3",
      "display_name": "Python 3"
    }
  },
  "cells": [
    {
      "cell_type": "markdown",
      "metadata": {
        "id": "view-in-github",
        "colab_type": "text"
      },
      "source": [
        "<a href=\"https://colab.research.google.com/github/apapaioannou92/BA/blob/HW3/aap2204_hw3.ipynb\" target=\"_parent\"><img src=\"https://colab.research.google.com/assets/colab-badge.svg\" alt=\"Open In Colab\"/></a>"
      ]
    },
    {
      "cell_type": "markdown",
      "metadata": {
        "id": "9JCRnqkLnjHE",
        "colab_type": "text"
      },
      "source": [
        "# **IEOR 4650  Business Analytics (Fall 2019)**\n",
        "\n",
        "**Homework 3 [Total points: 60]**\n",
        "\n",
        "** Due: 11:59 PM, October 16 **\n",
        "\n",
        "This second homework consists of Python programming practices and the applications to Poisson regression. \n",
        "\n",
        "The steps to finish in the homework:\n",
        "\n",
        "*   Step 1: Make a copy of the file to your LionDrive.\n",
        "*   Step 2: Work with the copy (an ipynb file).\n",
        "*    <font color='red'>**Step 3: Rename the copy to your_uni_hw3.ipynb (For example: yd4501_hw3.ipynb).**</font>  \n",
        "*   Step 4: Submit the copy on CourseWorks.\n",
        "\n",
        "Before you submit your assignment, make sure to re-run your code from the beginning. (You can do so by first clicking Runtime/Reset All Runtimes and then clicking Runtime/Run all)\n",
        "\n",
        "\n",
        "**All the questions in this homework requires coding**"
      ]
    },
    {
      "cell_type": "code",
      "metadata": {
        "id": "lSH_bDnX2ybu",
        "colab_type": "code",
        "colab": {}
      },
      "source": [
        "#This imports all the packages you need for the homework\n",
        "#Please run this first\n",
        "\n",
        "\n",
        "!pip install -U -q PyDrive\n",
        "from pydrive.auth import GoogleAuth\n",
        "from pydrive.drive import GoogleDrive\n",
        "from google.colab import auth\n",
        "from oauth2client.client import GoogleCredentials\n",
        "# Authenticate and create the PyDrive client.\n",
        "auth.authenticate_user()\n",
        "gauth = GoogleAuth()\n",
        "gauth.credentials = GoogleCredentials.get_application_default()\n",
        "drive = GoogleDrive(gauth)\n",
        "\n",
        "\n",
        "#import modules\n",
        "\n",
        "import numpy as np\n",
        "import pandas as pd\n",
        "from statsmodels.formula.api import ols\n",
        "import matplotlib.pyplot as plt\n",
        "import sklearn \n",
        "import scipy.special as spsp\n",
        "from scipy.optimize import minimize\n",
        "import scipy.stats as spst"
      ],
      "execution_count": 0,
      "outputs": []
    },
    {
      "cell_type": "markdown",
      "metadata": {
        "id": "z5i-TJRyCOfI",
        "colab_type": "text"
      },
      "source": [
        "#Exercise 1 [Total: 23 points]"
      ]
    },
    {
      "cell_type": "markdown",
      "metadata": {
        "id": "5MbEozs6mhrd",
        "colab_type": "text"
      },
      "source": [
        "\n",
        "##Setting\n",
        "In this example, we take a closer look at the data we used for Poisson regression. \n",
        "\n",
        "This data measures the number of ad exposures each customer got **within 1 day**. \n",
        "\n",
        "\n",
        "(1) In the class, we checked the model fitting based on how closely the predicted numbers of customers having different number of exposures match with the samples we actually observe. In this exercise, we will explore how to apply cross-validation to Poisson regression.\n",
        "\n",
        "(2) We are interested in using this dataset to make meaningful business recommendation."
      ]
    },
    {
      "cell_type": "code",
      "metadata": {
        "id": "ziA1Im85eaIF",
        "colab_type": "code",
        "outputId": "7822074f-5b49-4821-eafd-02338da64366",
        "colab": {
          "base_uri": "https://localhost:8080/",
          "height": 204
        }
      },
      "source": [
        "#Load the dataset\n",
        "link=\"https://drive.google.com/open?id=1pjdoOKuczV8Zc6Zw8-yUh6q2tqogN-xt\"\n",
        "_,id=link.split(\"=\")\n",
        "downloaded = drive.CreateFile({'id':id}) \n",
        "downloaded.GetContentFile('Exposure.csv')  \n",
        "Ad = pd.read_csv('Exposure.csv')\n",
        "Ad.head(5)\n",
        "\n"
      ],
      "execution_count": 99,
      "outputs": [
        {
          "output_type": "execute_result",
          "data": {
            "text/html": [
              "<div>\n",
              "<style scoped>\n",
              "    .dataframe tbody tr th:only-of-type {\n",
              "        vertical-align: middle;\n",
              "    }\n",
              "\n",
              "    .dataframe tbody tr th {\n",
              "        vertical-align: top;\n",
              "    }\n",
              "\n",
              "    .dataframe thead th {\n",
              "        text-align: right;\n",
              "    }\n",
              "</style>\n",
              "<table border=\"1\" class=\"dataframe\">\n",
              "  <thead>\n",
              "    <tr style=\"text-align: right;\">\n",
              "      <th></th>\n",
              "      <th>Cookie_ID</th>\n",
              "      <th>Exposures</th>\n",
              "    </tr>\n",
              "  </thead>\n",
              "  <tbody>\n",
              "    <tr>\n",
              "      <th>0</th>\n",
              "      <td>1</td>\n",
              "      <td>0</td>\n",
              "    </tr>\n",
              "    <tr>\n",
              "      <th>1</th>\n",
              "      <td>2</td>\n",
              "      <td>0</td>\n",
              "    </tr>\n",
              "    <tr>\n",
              "      <th>2</th>\n",
              "      <td>3</td>\n",
              "      <td>3</td>\n",
              "    </tr>\n",
              "    <tr>\n",
              "      <th>3</th>\n",
              "      <td>4</td>\n",
              "      <td>49</td>\n",
              "    </tr>\n",
              "    <tr>\n",
              "      <th>4</th>\n",
              "      <td>5</td>\n",
              "      <td>4</td>\n",
              "    </tr>\n",
              "  </tbody>\n",
              "</table>\n",
              "</div>"
            ],
            "text/plain": [
              "   Cookie_ID  Exposures\n",
              "0          1          0\n",
              "1          2          0\n",
              "2          3          3\n",
              "3          4         49\n",
              "4          5          4"
            ]
          },
          "metadata": {
            "tags": []
          },
          "execution_count": 99
        }
      ]
    },
    {
      "cell_type": "markdown",
      "metadata": {
        "id": "e3z7oqAWGFcK",
        "colab_type": "text"
      },
      "source": [
        "## Q1 [10 points]\n",
        "\n",
        "**[Cross validation]**\n",
        "\n",
        "In the class, we checked the model fitting based on how closely the predicted numbers of customers having different number of exposures match with the samples we actually observe. However, we were basically doing the model selection and model fitting using the chunk of data. \n",
        "\n",
        "For this exercise, let's first separate the data by\n",
        "\n",
        "* first randomize the data \n",
        "* Split our data into 3 sets. \n",
        "\n",
        ">> Training: The first 4000 observations\n",
        "\n",
        ">> Validation: Observation 4001 to 4500\n",
        "\n",
        ">> Testing: Observation 4501 to 5000.\n",
        "\n",
        "We then test which model is the best model.\n",
        "\n",
        "* Simple Poisson\n",
        "* 2-segment Poisson \n",
        "* Zero-inflated Poisson \n",
        "* NBD (Poisson-Gamma)\n",
        "\n",
        "For the model accuracy, let's use the joint log likelihood. Again, the higher the joint log likelihood, the better the model is. \n",
        "\n",
        "Based on the result, rank the model performance from the highest to the lowest.\n",
        "\n",
        "\n",
        "\n"
      ]
    },
    {
      "cell_type": "code",
      "metadata": {
        "id": "9lpzBMCyrI-s",
        "colab_type": "code",
        "colab": {}
      },
      "source": [
        "#don't remove this line (otherwise, you lose 2 points)\n",
        "np.random.seed(30)\n",
        "\n",
        "#shuffle and split\n",
        "from sklearn.utils import shuffle\n",
        "Ad = shuffle(Ad)\n",
        "\n",
        "# Splitting the dataset to training, validation and testing\n",
        "# Training set\n",
        "Ad_training = Ad[0:4000]\n",
        "# Validation set\n",
        "Ad_validation = Ad[4001:4500]\n",
        "# Testing set\n",
        "Ad_testing = Ad[4501:5000]\n"
      ],
      "execution_count": 0,
      "outputs": []
    },
    {
      "cell_type": "code",
      "metadata": {
        "id": "oa-KpNvoe5HN",
        "colab_type": "code",
        "outputId": "9bd85600-e522-4ac5-cff5-64ff8e4e96de",
        "colab": {
          "base_uri": "https://localhost:8080/",
          "height": 34
        }
      },
      "source": [
        "#Model1\n",
        "Exposures_m1=Ad_training[\"Exposures\"].values\n",
        "\n",
        "def neg_LL_m1(beta):\n",
        "  lmbda_m1=np.exp(beta)\n",
        "  #individual log likelihood\n",
        "  ind_LL_m1=np.log(spst.poisson.pmf(Exposures_m1,lmbda_m1))\n",
        "  #joint log likelihood\n",
        "  Joint_LL_m1=np.sum(ind_LL_m1)\n",
        "  return -Joint_LL_m1\n",
        "\n",
        "#randomly select a starting point\n",
        "guess_m1=np.random.rand()\n",
        "#start minimization\n",
        "result_m1=minimize(neg_LL_m1,guess_m1,method=\"BFGS\")\n",
        "lmbda_estimate_m1=np.exp(result_m1.x)\n",
        "print('For λ_hat =', lmbda_estimate_m1, ', the value of the joint log likelihood is: ', -neg_LL_m1(lmbda_estimate_m1) )\n",
        "\n",
        "# from statsmodels.formula.api import poisson\n",
        "# #define the poisson model \n",
        "# model_m1= poisson(\"Exposures~1\",data=Exposures_m1).fit()\n",
        "# print(model_m1.summary())\n",
        "# #recover lambda_hat_m1\n",
        "# lambda_hat_m1=np.exp(model_m1.params[0]) \n",
        "# lambda_hat_m1"
      ],
      "execution_count": 101,
      "outputs": [
        {
          "output_type": "stream",
          "text": [
            "For λ_hat = [2.50574998] , the value of the joint log likelihood is:  -38678.05580292023\n"
          ],
          "name": "stdout"
        }
      ]
    },
    {
      "cell_type": "code",
      "metadata": {
        "id": "yfjkwsideUKn",
        "colab_type": "code",
        "outputId": "4d836cbf-a7f6-4f81-ddff-aa8686cd1c88",
        "colab": {
          "base_uri": "https://localhost:8080/",
          "height": 34
        }
      },
      "source": [
        "#Model2\n",
        "Exposures_m2=Ad_training[\"Exposures\"].values\n",
        "\n",
        "def neg_LL_m2(betas):\n",
        "\n",
        "  lmbda1_m2=np.exp(betas[0])\n",
        "  lmbda2_m2=np.exp(betas[1])\n",
        "  p_m2=np.exp(betas[2])/(1+np.exp(betas[2]))\n",
        "  #individual likelihood\n",
        "  Likelihood1_m2=spst.poisson.pmf(Exposures_m2,lmbda1_m2)\n",
        "  Likelihood2_m2=spst.poisson.pmf(Exposures_m2,lmbda2_m2)\n",
        "  ind_L_m2=Likelihood1_m2*p_m2+Likelihood2_m2*(1-p_m2)\n",
        "\n",
        "  #individual log likelihood\n",
        "  ind_LL_m2=np.log(ind_L_m2)\n",
        "  #joint log likelihood\n",
        "  return  -np.sum(ind_LL_m2)\n",
        "\n",
        "guess_m2=np.random.rand(3)\n",
        "result_m2=minimize(neg_LL_m2,guess_m2,method=\"BFGS\")\n",
        "betas_m2=result_m2.x\n",
        "lmbda1_h_m2=np.exp(betas_m2[0])\n",
        "lmbda2_h_m2=np.exp(betas_m2[1])\n",
        "p_h_m2=np.exp(betas_m2[2])/(1+np.exp(betas_m2[2]))\n",
        "# print(lmbda1_h_m2,lmbda2_h_m2,p_h_m2)\n",
        "print('For λ1_hat =', lmbda1_h_m2, 'and λ2_hat =', lmbda2_h_m2, ', the value of the joint log likelihood is: ', -neg_LL_m2([lmbda1_h_m2,lmbda2_h,p_h_m2]) )\n"
      ],
      "execution_count": 102,
      "outputs": [
        {
          "output_type": "stream",
          "text": [
            "For λ1_hat = 0.5787409435021467 and λ2_hat = 10.365841748699301 , the value of the joint log likelihood is:  -17597.206008786823\n"
          ],
          "name": "stdout"
        }
      ]
    },
    {
      "cell_type": "code",
      "metadata": {
        "id": "SjR_7lnegVaR",
        "colab_type": "code",
        "outputId": "df2953f9-e54b-446b-8a59-5e121935f2bf",
        "colab": {
          "base_uri": "https://localhost:8080/",
          "height": 51
        }
      },
      "source": [
        "#Model3\n",
        "Exposures_m3=Ad_training[\"Exposures\"].values\n",
        "\n",
        "def neg_LL_m3(betas):\n",
        "\n",
        "  lmbda1_m3=0\n",
        "  lmbda2_m3=np.exp(betas[0])\n",
        "  p_m3=np.exp(betas[1])/(1+np.exp(betas[1]))\n",
        "  #individual likelihood\n",
        "  Likelihood1_m3=spst.poisson.pmf(Exposures_m3,lmbda1_m3)\n",
        "  Likelihood2_m3=spst.poisson.pmf(Exposures_m3,lmbda2_m3)\n",
        "  ind_L_m3=Likelihood1_m3*p_m3+Likelihood2_m3*(1-p_m3)\n",
        "\n",
        "  #individual log likelihood\n",
        "  ind_LL_m3=np.log(ind_L_m3)\n",
        "  #joint log likelihood\n",
        "  return  -np.sum(ind_LL_m3)\n",
        "\n",
        "guess_m3=np.random.rand(2)\n",
        "result_m3=minimize(neg_LL_m3,guess_m3,method=\"BFGS\")\n",
        "betas=result_m3.x\n",
        "lmbda1_h_m3=0\n",
        "lmbda2_h_m3=np.exp(betas[0])\n",
        "p_h_m3=np.exp(betas[1])/(1+np.exp(betas[1]))\n",
        "#joing log likelihood\n",
        "print(-result_m3.fun)\n",
        "# print(lmbda1_h_m3,lmbda2_h_m3,p_h_m3)\n",
        "\n",
        "print('For λ1_hat =', lmbda1_h_m3, 'and λ2_hat =', lmbda2_h_m3, ', the value of the joint log likelihood is: ', -neg_LL_m3([lmbda1_h_m3,lmbda2_h_m3]) )"
      ],
      "execution_count": 103,
      "outputs": [
        {
          "output_type": "stream",
          "text": [
            "-10311.585140918709\n",
            "For λ1_hat = 0 and λ2_hat = 5.562404720520923 , the value of the joint log likelihood is:  -26573.94136825839\n"
          ],
          "name": "stdout"
        }
      ]
    },
    {
      "cell_type": "code",
      "metadata": {
        "id": "mszx2pG3inle",
        "colab_type": "code",
        "outputId": "8dc97952-5e74-4612-8ede-4f1de7d1c1dc",
        "colab": {
          "base_uri": "https://localhost:8080/",
          "height": 286
        }
      },
      "source": [
        "x_m3=np.arange(0, np.max(Exposures_m3+1))\n",
        "pmf_m3= spst.poisson.pmf(x_m3,lmbda1_h_m3)*p_h_m3+spst.poisson.pmf(x_m3,lmbda2_h_m3)*(1-p_h_m3)\n",
        "prediction_m3= 5000*pmf_m3\n",
        "\n",
        "Tally_m3=Ad_training.groupby([\"Exposures\"]).count()\n",
        "plt.bar(Tally_m3.index.values,Tally_m3.iloc[:,0].values)\n",
        "plt.scatter(x_m3,prediction_m3)"
      ],
      "execution_count": 104,
      "outputs": [
        {
          "output_type": "execute_result",
          "data": {
            "text/plain": [
              "<matplotlib.collections.PathCollection at 0x7f29afa49320>"
            ]
          },
          "metadata": {
            "tags": []
          },
          "execution_count": 104
        },
        {
          "output_type": "display_data",
          "data": {
            "image/png": "[encoded data removed]",
            "text/plain": [
              "<Figure size 432x288 with 1 Axes>"
            ]
          },
          "metadata": {
            "tags": []
          }
        }
      ]
    },
    {
      "cell_type": "code",
      "metadata": {
        "id": "6dNHq40tht1C",
        "colab_type": "code",
        "outputId": "bfa70be7-e801-4cb5-fe33-524558b2d0f6",
        "colab": {
          "base_uri": "https://localhost:8080/",
          "height": 34
        }
      },
      "source": [
        "#Model4\n",
        "Exposures_m4=Ad_training[\"Exposures\"].values\n",
        "\n",
        "def neg_LL_m4(betas):\n",
        "  #compute alpha, gamma\n",
        "  alpha_m4=np.exp(betas[0])\n",
        "  gamma_m4=np.exp(betas[1])\n",
        "  #individual  likelihood\n",
        "  ind_L_m4=spsp.gamma(gamma_m4+Exposures_m4)/spsp.gamma(gamma_m4)/spsp.gamma(Exposures_m4+1)\\\n",
        "  *(1/(1+alpha_m4))**Exposures_m4*(alpha_m4/(1+alpha_m4))**gamma_m4\n",
        "  #individual log likelihoo\n",
        "  ind_LL_m4=np.log(ind_L_m4)\n",
        "  #joint log likelihood\n",
        "  Joint_LL_m4=np.sum(ind_LL_m4)\n",
        "  return -Joint_LL_m4\n",
        "\n",
        "guess_m4=np.random.rand(2)\n",
        "betas_m4=minimize(neg_LL_m4,guess_m4,method=\"BFGS\").x\n",
        "\n",
        "#recover alpha, gamma\n",
        "alpha_m4=np.exp(betas_m4[0])\n",
        "gamma_m4=np.exp(betas_m4[1])\n",
        "\n",
        "# print(alpha_m4,gamma_m4)\n",
        "\n",
        "print('For α =', alpha_m4, 'and γ =', gamma_m4, ', the value of the joint log likelihood is: ', -neg_LL_m4([alpha_m4,gamma_m4]) )"
      ],
      "execution_count": 105,
      "outputs": [
        {
          "output_type": "stream",
          "text": [
            "For α = 0.09964502397861887 and γ = 0.2496855187594558 , the value of the joint log likelihood is:  -9835.287303894605\n"
          ],
          "name": "stdout"
        }
      ]
    },
    {
      "cell_type": "code",
      "metadata": {
        "id": "F_quLRXMjFVG",
        "colab_type": "code",
        "outputId": "ffed8b19-53a7-4b59-c256-89ca6b39c295",
        "colab": {
          "base_uri": "https://localhost:8080/",
          "height": 303
        }
      },
      "source": [
        "x=np.arange(0, np.max(Exposures+1))\n",
        "PMF =spsp.gamma(gamma+x)/spsp.gamma(gamma)/spsp.gamma(x+1)*(1/(1+alpha))**x*(alpha/(1+alpha))**gamma\n",
        "prediction=  PMF*5000\n",
        "Tally=Ad_training.groupby([\"Exposures\"]).count()\n",
        "plt.bar(Tally.index.values,Tally.iloc[:,0].values)\n",
        "plt.scatter(x,prediction)\n",
        "\n",
        "print('The best model is the NBD, since it has the biggest joint log likelihood. The second best model is the 2-segment Poisson model, since it has the') \n",
        "print('2nd highest joint log likelihood, and then the Zero-inflated Poisson model, and the Simple Poisson model follow.')"
      ],
      "execution_count": 106,
      "outputs": [
        {
          "output_type": "stream",
          "text": [
            "The best model is the NBD, since it has the biggest joint log likelihood. The second best model is the 2-segment Poisson model, since it has the\n",
            "2nd highest joint log likelihood, and then the Zero-inflated Poisson model, and the Simple Poisson model follow.\n"
          ],
          "name": "stdout"
        },
        {
          "output_type": "display_data",
          "data": {
            "image/png": "[encoded data removed]",
            "text/plain": [
              "<Figure size 432x288 with 1 Axes>"
            ]
          },
          "metadata": {
            "tags": []
          }
        }
      ]
    },
    {
      "cell_type": "markdown",
      "metadata": {
        "id": "FurA2IrT2u9x",
        "colab_type": "text"
      },
      "source": [
        "##Q2 [4 points]\n",
        "\n",
        "Based on the model learned on the training set, report the expected number of exposures for the market using each model you tested in Q1."
      ]
    },
    {
      "cell_type": "code",
      "metadata": {
        "id": "f0vLDBYc3AWr",
        "colab_type": "code",
        "outputId": "a04283eb-7b89-4390-84d1-79eedc6222d2",
        "colab": {
          "base_uri": "https://localhost:8080/",
          "height": 1000
        }
      },
      "source": [
        "# Model 1\n",
        "\n",
        "print('The expected number of exposures for the market using model 1, ie Simple Poisson model, equals to E[X]=λ=', lmbda_estimate_m1)\n",
        "\n",
        "# Model 2\n",
        "\n",
        "print('The expected number of exposures for the market using model 2, ie 2-segment Poisson model, is calculated using Posterior Analysis:')\n",
        "Likelihood1_m2=spst.poisson.pmf(Exposures_m2,lmbda1_h_m2)\n",
        "Likelihood2_m2=spst.poisson.pmf(Exposures_m2,lmbda2_h_m2)\n",
        "ind_L_m2=Likelihood1_m2*p_h_m2+Likelihood2_m2*(1-p_h_m2)\n",
        "p_post_m2=Likelihood1_m2*p_h_m2/ind_L_m2\n",
        "Ad_training_m2=Ad_training.assign(p_post=p_post_m2)\n",
        "#Exposure for the customer given observing the customer \n",
        "lambda_updated_m2=p_post_m2*lmbda1_h_m2+(1-p_post_m2)*lmbda2_h_m2\n",
        "Ad_training_m2.assign(lambda_post=lambda_updated_m2)\n",
        "Ad_training_m2\n",
        "\n",
        "# Model 3\n",
        "\n",
        "print('The expected number of exposures for the market using model 3, ie zero-inflated Poisson model, equals to E[X]=(1-p)*λ=', (1-p_h_m3)*lmbda2_h_m3)\n",
        "\n",
        "# Model 4\n",
        "\n",
        "#expected posterior exposures\n",
        "NBD_POST_m4=(gamma_m4+Exposures_m4)/(alpha_m4+1)\n",
        "Ad_training_m4=Ad_training.assign(NBD_POST=NBD_POST_m4)\n",
        "Ad_training_m4"
      ],
      "execution_count": 107,
      "outputs": [
        {
          "output_type": "stream",
          "text": [
            "The expected number of exposures for the market using model 1, ie Simple Poisson model, equals to E[X]=λ= [2.50574998]\n",
            "The expected number of exposures for the market using model 2, ie 2-segment Poisson model, is calculated using Posterior Analysis:\n",
            "The expected number of exposures for the market using model 3, ie zero-inflated Poisson model, equals to E[X]=(1-p)*λ= 2.5057499390313867\n"
          ],
          "name": "stdout"
        },
        {
          "output_type": "execute_result",
          "data": {
            "text/html": [
              "<div>\n",
              "<style scoped>\n",
              "    .dataframe tbody tr th:only-of-type {\n",
              "        vertical-align: middle;\n",
              "    }\n",
              "\n",
              "    .dataframe tbody tr th {\n",
              "        vertical-align: top;\n",
              "    }\n",
              "\n",
              "    .dataframe thead th {\n",
              "        text-align: right;\n",
              "    }\n",
              "</style>\n",
              "<table border=\"1\" class=\"dataframe\">\n",
              "  <thead>\n",
              "    <tr style=\"text-align: right;\">\n",
              "      <th></th>\n",
              "      <th>Cookie_ID</th>\n",
              "      <th>Exposures</th>\n",
              "      <th>NBD_POST</th>\n",
              "    </tr>\n",
              "  </thead>\n",
              "  <tbody>\n",
              "    <tr>\n",
              "      <th>2192</th>\n",
              "      <td>2193</td>\n",
              "      <td>3</td>\n",
              "      <td>2.955213</td>\n",
              "    </tr>\n",
              "    <tr>\n",
              "      <th>911</th>\n",
              "      <td>912</td>\n",
              "      <td>0</td>\n",
              "      <td>0.227060</td>\n",
              "    </tr>\n",
              "    <tr>\n",
              "      <th>3061</th>\n",
              "      <td>3062</td>\n",
              "      <td>3</td>\n",
              "      <td>2.955213</td>\n",
              "    </tr>\n",
              "    <tr>\n",
              "      <th>3382</th>\n",
              "      <td>3383</td>\n",
              "      <td>28</td>\n",
              "      <td>25.689823</td>\n",
              "    </tr>\n",
              "    <tr>\n",
              "      <th>2939</th>\n",
              "      <td>2940</td>\n",
              "      <td>0</td>\n",
              "      <td>0.227060</td>\n",
              "    </tr>\n",
              "    <tr>\n",
              "      <th>4985</th>\n",
              "      <td>4986</td>\n",
              "      <td>5</td>\n",
              "      <td>4.773982</td>\n",
              "    </tr>\n",
              "    <tr>\n",
              "      <th>2327</th>\n",
              "      <td>2328</td>\n",
              "      <td>1</td>\n",
              "      <td>1.136444</td>\n",
              "    </tr>\n",
              "    <tr>\n",
              "      <th>4253</th>\n",
              "      <td>4254</td>\n",
              "      <td>0</td>\n",
              "      <td>0.227060</td>\n",
              "    </tr>\n",
              "    <tr>\n",
              "      <th>1332</th>\n",
              "      <td>1333</td>\n",
              "      <td>0</td>\n",
              "      <td>0.227060</td>\n",
              "    </tr>\n",
              "    <tr>\n",
              "      <th>3115</th>\n",
              "      <td>3116</td>\n",
              "      <td>5</td>\n",
              "      <td>4.773982</td>\n",
              "    </tr>\n",
              "    <tr>\n",
              "      <th>2729</th>\n",
              "      <td>2730</td>\n",
              "      <td>0</td>\n",
              "      <td>0.227060</td>\n",
              "    </tr>\n",
              "    <tr>\n",
              "      <th>983</th>\n",
              "      <td>984</td>\n",
              "      <td>0</td>\n",
              "      <td>0.227060</td>\n",
              "    </tr>\n",
              "    <tr>\n",
              "      <th>1208</th>\n",
              "      <td>1209</td>\n",
              "      <td>3</td>\n",
              "      <td>2.955213</td>\n",
              "    </tr>\n",
              "    <tr>\n",
              "      <th>757</th>\n",
              "      <td>758</td>\n",
              "      <td>7</td>\n",
              "      <td>6.592751</td>\n",
              "    </tr>\n",
              "    <tr>\n",
              "      <th>963</th>\n",
              "      <td>964</td>\n",
              "      <td>1</td>\n",
              "      <td>1.136444</td>\n",
              "    </tr>\n",
              "    <tr>\n",
              "      <th>1732</th>\n",
              "      <td>1733</td>\n",
              "      <td>9</td>\n",
              "      <td>8.411519</td>\n",
              "    </tr>\n",
              "    <tr>\n",
              "      <th>2840</th>\n",
              "      <td>2841</td>\n",
              "      <td>0</td>\n",
              "      <td>0.227060</td>\n",
              "    </tr>\n",
              "    <tr>\n",
              "      <th>3476</th>\n",
              "      <td>3477</td>\n",
              "      <td>0</td>\n",
              "      <td>0.227060</td>\n",
              "    </tr>\n",
              "    <tr>\n",
              "      <th>2680</th>\n",
              "      <td>2681</td>\n",
              "      <td>8</td>\n",
              "      <td>7.502135</td>\n",
              "    </tr>\n",
              "    <tr>\n",
              "      <th>4421</th>\n",
              "      <td>4422</td>\n",
              "      <td>1</td>\n",
              "      <td>1.136444</td>\n",
              "    </tr>\n",
              "    <tr>\n",
              "      <th>4707</th>\n",
              "      <td>4708</td>\n",
              "      <td>1</td>\n",
              "      <td>1.136444</td>\n",
              "    </tr>\n",
              "    <tr>\n",
              "      <th>3222</th>\n",
              "      <td>3223</td>\n",
              "      <td>4</td>\n",
              "      <td>3.864598</td>\n",
              "    </tr>\n",
              "    <tr>\n",
              "      <th>3536</th>\n",
              "      <td>3537</td>\n",
              "      <td>0</td>\n",
              "      <td>0.227060</td>\n",
              "    </tr>\n",
              "    <tr>\n",
              "      <th>4326</th>\n",
              "      <td>4327</td>\n",
              "      <td>0</td>\n",
              "      <td>0.227060</td>\n",
              "    </tr>\n",
              "    <tr>\n",
              "      <th>4172</th>\n",
              "      <td>4173</td>\n",
              "      <td>6</td>\n",
              "      <td>5.683366</td>\n",
              "    </tr>\n",
              "    <tr>\n",
              "      <th>1507</th>\n",
              "      <td>1508</td>\n",
              "      <td>0</td>\n",
              "      <td>0.227060</td>\n",
              "    </tr>\n",
              "    <tr>\n",
              "      <th>4676</th>\n",
              "      <td>4677</td>\n",
              "      <td>0</td>\n",
              "      <td>0.227060</td>\n",
              "    </tr>\n",
              "    <tr>\n",
              "      <th>4695</th>\n",
              "      <td>4696</td>\n",
              "      <td>1</td>\n",
              "      <td>1.136444</td>\n",
              "    </tr>\n",
              "    <tr>\n",
              "      <th>4876</th>\n",
              "      <td>4877</td>\n",
              "      <td>0</td>\n",
              "      <td>0.227060</td>\n",
              "    </tr>\n",
              "    <tr>\n",
              "      <th>829</th>\n",
              "      <td>830</td>\n",
              "      <td>0</td>\n",
              "      <td>0.227060</td>\n",
              "    </tr>\n",
              "    <tr>\n",
              "      <th>...</th>\n",
              "      <td>...</td>\n",
              "      <td>...</td>\n",
              "      <td>...</td>\n",
              "    </tr>\n",
              "    <tr>\n",
              "      <th>4234</th>\n",
              "      <td>4235</td>\n",
              "      <td>0</td>\n",
              "      <td>0.227060</td>\n",
              "    </tr>\n",
              "    <tr>\n",
              "      <th>3022</th>\n",
              "      <td>3023</td>\n",
              "      <td>0</td>\n",
              "      <td>0.227060</td>\n",
              "    </tr>\n",
              "    <tr>\n",
              "      <th>644</th>\n",
              "      <td>645</td>\n",
              "      <td>8</td>\n",
              "      <td>7.502135</td>\n",
              "    </tr>\n",
              "    <tr>\n",
              "      <th>4083</th>\n",
              "      <td>4084</td>\n",
              "      <td>1</td>\n",
              "      <td>1.136444</td>\n",
              "    </tr>\n",
              "    <tr>\n",
              "      <th>4836</th>\n",
              "      <td>4837</td>\n",
              "      <td>0</td>\n",
              "      <td>0.227060</td>\n",
              "    </tr>\n",
              "    <tr>\n",
              "      <th>4324</th>\n",
              "      <td>4325</td>\n",
              "      <td>0</td>\n",
              "      <td>0.227060</td>\n",
              "    </tr>\n",
              "    <tr>\n",
              "      <th>0</th>\n",
              "      <td>1</td>\n",
              "      <td>0</td>\n",
              "      <td>0.227060</td>\n",
              "    </tr>\n",
              "    <tr>\n",
              "      <th>662</th>\n",
              "      <td>663</td>\n",
              "      <td>0</td>\n",
              "      <td>0.227060</td>\n",
              "    </tr>\n",
              "    <tr>\n",
              "      <th>4454</th>\n",
              "      <td>4455</td>\n",
              "      <td>0</td>\n",
              "      <td>0.227060</td>\n",
              "    </tr>\n",
              "    <tr>\n",
              "      <th>4900</th>\n",
              "      <td>4901</td>\n",
              "      <td>1</td>\n",
              "      <td>1.136444</td>\n",
              "    </tr>\n",
              "    <tr>\n",
              "      <th>4416</th>\n",
              "      <td>4417</td>\n",
              "      <td>7</td>\n",
              "      <td>6.592751</td>\n",
              "    </tr>\n",
              "    <tr>\n",
              "      <th>1869</th>\n",
              "      <td>1870</td>\n",
              "      <td>0</td>\n",
              "      <td>0.227060</td>\n",
              "    </tr>\n",
              "    <tr>\n",
              "      <th>1178</th>\n",
              "      <td>1179</td>\n",
              "      <td>0</td>\n",
              "      <td>0.227060</td>\n",
              "    </tr>\n",
              "    <tr>\n",
              "      <th>3891</th>\n",
              "      <td>3892</td>\n",
              "      <td>1</td>\n",
              "      <td>1.136444</td>\n",
              "    </tr>\n",
              "    <tr>\n",
              "      <th>4975</th>\n",
              "      <td>4976</td>\n",
              "      <td>3</td>\n",
              "      <td>2.955213</td>\n",
              "    </tr>\n",
              "    <tr>\n",
              "      <th>370</th>\n",
              "      <td>371</td>\n",
              "      <td>19</td>\n",
              "      <td>17.505363</td>\n",
              "    </tr>\n",
              "    <tr>\n",
              "      <th>3981</th>\n",
              "      <td>3982</td>\n",
              "      <td>0</td>\n",
              "      <td>0.227060</td>\n",
              "    </tr>\n",
              "    <tr>\n",
              "      <th>1952</th>\n",
              "      <td>1953</td>\n",
              "      <td>1</td>\n",
              "      <td>1.136444</td>\n",
              "    </tr>\n",
              "    <tr>\n",
              "      <th>4740</th>\n",
              "      <td>4741</td>\n",
              "      <td>1</td>\n",
              "      <td>1.136444</td>\n",
              "    </tr>\n",
              "    <tr>\n",
              "      <th>1543</th>\n",
              "      <td>1544</td>\n",
              "      <td>6</td>\n",
              "      <td>5.683366</td>\n",
              "    </tr>\n",
              "    <tr>\n",
              "      <th>3727</th>\n",
              "      <td>3728</td>\n",
              "      <td>1</td>\n",
              "      <td>1.136444</td>\n",
              "    </tr>\n",
              "    <tr>\n",
              "      <th>367</th>\n",
              "      <td>368</td>\n",
              "      <td>3</td>\n",
              "      <td>2.955213</td>\n",
              "    </tr>\n",
              "    <tr>\n",
              "      <th>336</th>\n",
              "      <td>337</td>\n",
              "      <td>3</td>\n",
              "      <td>2.955213</td>\n",
              "    </tr>\n",
              "    <tr>\n",
              "      <th>4242</th>\n",
              "      <td>4243</td>\n",
              "      <td>0</td>\n",
              "      <td>0.227060</td>\n",
              "    </tr>\n",
              "    <tr>\n",
              "      <th>3233</th>\n",
              "      <td>3234</td>\n",
              "      <td>0</td>\n",
              "      <td>0.227060</td>\n",
              "    </tr>\n",
              "    <tr>\n",
              "      <th>621</th>\n",
              "      <td>622</td>\n",
              "      <td>0</td>\n",
              "      <td>0.227060</td>\n",
              "    </tr>\n",
              "    <tr>\n",
              "      <th>1122</th>\n",
              "      <td>1123</td>\n",
              "      <td>3</td>\n",
              "      <td>2.955213</td>\n",
              "    </tr>\n",
              "    <tr>\n",
              "      <th>1189</th>\n",
              "      <td>1190</td>\n",
              "      <td>0</td>\n",
              "      <td>0.227060</td>\n",
              "    </tr>\n",
              "    <tr>\n",
              "      <th>2415</th>\n",
              "      <td>2416</td>\n",
              "      <td>10</td>\n",
              "      <td>9.320904</td>\n",
              "    </tr>\n",
              "    <tr>\n",
              "      <th>2963</th>\n",
              "      <td>2964</td>\n",
              "      <td>3</td>\n",
              "      <td>2.955213</td>\n",
              "    </tr>\n",
              "  </tbody>\n",
              "</table>\n",
              "<p>4000 rows × 3 columns</p>\n",
              "</div>"
            ],
            "text/plain": [
              "      Cookie_ID  Exposures   NBD_POST\n",
              "2192       2193          3   2.955213\n",
              "911         912          0   0.227060\n",
              "3061       3062          3   2.955213\n",
              "3382       3383         28  25.689823\n",
              "2939       2940          0   0.227060\n",
              "4985       4986          5   4.773982\n",
              "2327       2328          1   1.136444\n",
              "4253       4254          0   0.227060\n",
              "1332       1333          0   0.227060\n",
              "3115       3116          5   4.773982\n",
              "2729       2730          0   0.227060\n",
              "983         984          0   0.227060\n",
              "1208       1209          3   2.955213\n",
              "757         758          7   6.592751\n",
              "963         964          1   1.136444\n",
              "1732       1733          9   8.411519\n",
              "2840       2841          0   0.227060\n",
              "3476       3477          0   0.227060\n",
              "2680       2681          8   7.502135\n",
              "4421       4422          1   1.136444\n",
              "4707       4708          1   1.136444\n",
              "3222       3223          4   3.864598\n",
              "3536       3537          0   0.227060\n",
              "4326       4327          0   0.227060\n",
              "4172       4173          6   5.683366\n",
              "1507       1508          0   0.227060\n",
              "4676       4677          0   0.227060\n",
              "4695       4696          1   1.136444\n",
              "4876       4877          0   0.227060\n",
              "829         830          0   0.227060\n",
              "...         ...        ...        ...\n",
              "4234       4235          0   0.227060\n",
              "3022       3023          0   0.227060\n",
              "644         645          8   7.502135\n",
              "4083       4084          1   1.136444\n",
              "4836       4837          0   0.227060\n",
              "4324       4325          0   0.227060\n",
              "0             1          0   0.227060\n",
              "662         663          0   0.227060\n",
              "4454       4455          0   0.227060\n",
              "4900       4901          1   1.136444\n",
              "4416       4417          7   6.592751\n",
              "1869       1870          0   0.227060\n",
              "1178       1179          0   0.227060\n",
              "3891       3892          1   1.136444\n",
              "4975       4976          3   2.955213\n",
              "370         371         19  17.505363\n",
              "3981       3982          0   0.227060\n",
              "1952       1953          1   1.136444\n",
              "4740       4741          1   1.136444\n",
              "1543       1544          6   5.683366\n",
              "3727       3728          1   1.136444\n",
              "367         368          3   2.955213\n",
              "336         337          3   2.955213\n",
              "4242       4243          0   0.227060\n",
              "3233       3234          0   0.227060\n",
              "621         622          0   0.227060\n",
              "1122       1123          3   2.955213\n",
              "1189       1190          0   0.227060\n",
              "2415       2416         10   9.320904\n",
              "2963       2964          3   2.955213\n",
              "\n",
              "[4000 rows x 3 columns]"
            ]
          },
          "metadata": {
            "tags": []
          },
          "execution_count": 107
        }
      ]
    },
    {
      "cell_type": "markdown",
      "metadata": {
        "id": "_1Aj4jvfd4__",
        "colab_type": "text"
      },
      "source": [
        "## Q3 [9 points]\n",
        "\n",
        "Assume that we decide to stick to NBD model, we want to use this model to do something meaningful.\n",
        "\n",
        "(1) Based on the model, how many people do you predict on the testing set to have at most 1 exposure? How does this number match with the actual observation?\n",
        "\n",
        "(2) How many more days of exposures do we at least need to reduce this number to below 200? [You only need to consider integer days]\n",
        "\n",
        "(3) Assume a customer had 0 exposures, visualize the posterior distribution of $\\lambda$ for this customer.\n",
        "\n",
        "(4) Assume a customer had 5 exposures, visualize the posterior distribution of $\\lambda$ for this customer.\n",
        "\n"
      ]
    },
    {
      "cell_type": "code",
      "metadata": {
        "id": "BwBNzoeSegid",
        "colab_type": "code",
        "outputId": "40438c2a-6e30-44c3-eb8b-26a2e41fcd52",
        "colab": {
          "base_uri": "https://localhost:8080/",
          "height": 68
        }
      },
      "source": [
        "#expected posterior exposures\n",
        "\n",
        "NBD_POST_m4=(gamma_m4+Ad_testing['Exposures'])/(alpha_m4+1)\n",
        "Ad_testing=Ad_testing.assign(NBD_POST=NBD_POST_m4)\n",
        "Ad_testing\n",
        "print(len(Ad_testing[Ad_testing['NBD_POST']<= 1]))\n",
        "# Ad_testing[Ad_testing['Exposures'] <= 1].shape[0]\n",
        "# Ad_testing['Exposures'].value_counts()\n",
        "\n",
        "print(len(Ad_testing[Ad_testing['Exposures']<= 1]))\n",
        "print('NBD_POST<Exposures_observed')"
      ],
      "execution_count": 108,
      "outputs": [
        {
          "output_type": "stream",
          "text": [
            "269\n",
            "327\n",
            "NBD_POST<Exposures_observed\n"
          ],
          "name": "stdout"
        }
      ]
    },
    {
      "cell_type": "code",
      "metadata": {
        "id": "vs5KVOLYkq_r",
        "colab_type": "code",
        "colab": {
          "base_uri": "https://localhost:8080/",
          "height": 34
        },
        "outputId": "5e90b2a6-d74b-421c-9db1-afa181858b49"
      },
      "source": [
        "No_of_additional_exposures = 200*(alpha_m4+1)-gamma_m4\n",
        "No_of_additional_exposures # or more"
      ],
      "execution_count": 109,
      "outputs": [
        {
          "output_type": "execute_result",
          "data": {
            "text/plain": [
              "219.6793192769643"
            ]
          },
          "metadata": {
            "tags": []
          },
          "execution_count": 109
        }
      ]
    },
    {
      "cell_type": "code",
      "metadata": {
        "id": "m4wxKYP6k2Iy",
        "colab_type": "code",
        "colab": {
          "base_uri": "https://localhost:8080/",
          "height": 286
        },
        "outputId": "78260128-a4d2-428a-b364-30c2b62129d3"
      },
      "source": [
        "#1 UNIT\n",
        "x=np.arange(0, np.max(Exposures+1))\n",
        "PMF =spsp.gamma(gamma_m4+x)/spsp.gamma(gamma_m4)/spsp.gamma(x+1)*(1/(1+alpha_m4))**x*(alpha_m4/(1+alpha_m4))**gamma_m4\n",
        "prediction=  PMF*5000\n",
        "# prediction\n",
        "Tally=Ad_training.groupby([\"Exposures\"]).count()\n",
        "plt.bar(Tally.index.values,Tally.iloc[:,0].values)\n",
        "plt.scatter(x,prediction)"
      ],
      "execution_count": 110,
      "outputs": [
        {
          "output_type": "execute_result",
          "data": {
            "text/plain": [
              "<matplotlib.collections.PathCollection at 0x7f29afb9ccf8>"
            ]
          },
          "metadata": {
            "tags": []
          },
          "execution_count": 110
        },
        {
          "output_type": "display_data",
          "data": {
            "image/png": "[encoded data removed]",
            "text/plain": [
              "<Figure size 432x288 with 1 Axes>"
            ]
          },
          "metadata": {
            "tags": []
          }
        }
      ]
    },
    {
      "cell_type": "code",
      "metadata": {
        "id": "mmoh2Zv1ldxz",
        "colab_type": "code",
        "colab": {
          "base_uri": "https://localhost:8080/",
          "height": 286
        },
        "outputId": "951f3946-5cb9-4cf6-8b92-b8f10ad5ea6a"
      },
      "source": [
        "#1 UNIT\n",
        "x=np.arange(5, np.max(Exposures+1))\n",
        "PMF =spsp.gamma(gamma_m4+x)/spsp.gamma(gamma_m4)/spsp.gamma(x+1)*(1/(1+alpha_m4))**x*(alpha_m4/(1+alpha_m4))**gamma_m4\n",
        "prediction=  PMF*5000\n",
        "# prediction\n",
        "Tally=Ad_training.groupby([\"Exposures\"]).count()\n",
        "plt.bar(Tally.index.values,Tally.iloc[:,0].values)\n",
        "plt.scatter(x,prediction)"
      ],
      "execution_count": 111,
      "outputs": [
        {
          "output_type": "execute_result",
          "data": {
            "text/plain": [
              "<matplotlib.collections.PathCollection at 0x7f29af9448d0>"
            ]
          },
          "metadata": {
            "tags": []
          },
          "execution_count": 111
        },
        {
          "output_type": "display_data",
          "data": {
            "image/png": "[encoded data removed]",
            "text/plain": [
              "<Figure size 432x288 with 1 Axes>"
            ]
          },
          "metadata": {
            "tags": []
          }
        }
      ]
    },
    {
      "cell_type": "code",
      "metadata": {
        "id": "Q8F661POmDry",
        "colab_type": "code",
        "colab": {}
      },
      "source": [
        ""
      ],
      "execution_count": 0,
      "outputs": []
    },
    {
      "cell_type": "markdown",
      "metadata": {
        "id": "-OIl1Vg2euRn",
        "colab_type": "text"
      },
      "source": [
        "#Exercise 2 [Total: 37  Points]"
      ]
    },
    {
      "cell_type": "markdown",
      "metadata": {
        "id": "fQfFr7-V3cqR",
        "colab_type": "text"
      },
      "source": [
        "##Setting\n",
        "\n",
        "In this exercise, we discuss a model that deals with discrete timing. We will use sports analytics as the background for this study. The data is collected from Kaggle. [link](https://www.kaggle.com/kendallgillies/nflstatistics)\n",
        "\n",
        "In this dataset, we have the information of all the NFL players who are both currently active and have already retired before 2018. In this question, we are interested in modeling the number of years they were active before they retire. \n"
      ]
    },
    {
      "cell_type": "code",
      "metadata": {
        "id": "oLxXPghQFsZV",
        "colab_type": "code",
        "outputId": "8f92bc8f-2a3b-40d6-8a20-869c008346ae",
        "colab": {
          "base_uri": "https://localhost:8080/",
          "height": 374
        }
      },
      "source": [
        "#Load the dataset\n",
        "link=\"https://drive.google.com/open?id=1voxCbS9xGieGHiEYYCzK61f4BZQWy6SD\"\n",
        "_,id=link.split(\"=\")\n",
        "downloaded = drive.CreateFile({'id':id}) \n",
        "downloaded.GetContentFile('NFL.csv')  \n",
        "NFL = pd.read_csv('NFL.csv')\n",
        "NFL.head(5)"
      ],
      "execution_count": 175,
      "outputs": [
        {
          "output_type": "execute_result",
          "data": {
            "text/html": [
              "<div>\n",
              "<style scoped>\n",
              "    .dataframe tbody tr th:only-of-type {\n",
              "        vertical-align: middle;\n",
              "    }\n",
              "\n",
              "    .dataframe tbody tr th {\n",
              "        vertical-align: top;\n",
              "    }\n",
              "\n",
              "    .dataframe thead th {\n",
              "        text-align: right;\n",
              "    }\n",
              "</style>\n",
              "<table border=\"1\" class=\"dataframe\">\n",
              "  <thead>\n",
              "    <tr style=\"text-align: right;\">\n",
              "      <th></th>\n",
              "      <th>Age</th>\n",
              "      <th>Birth Place</th>\n",
              "      <th>Birthday</th>\n",
              "      <th>College</th>\n",
              "      <th>Current Status</th>\n",
              "      <th>Current Team</th>\n",
              "      <th>Experience</th>\n",
              "      <th>Height (inches)</th>\n",
              "      <th>High School</th>\n",
              "      <th>High School Location</th>\n",
              "      <th>Name</th>\n",
              "      <th>Number</th>\n",
              "      <th>Player Id</th>\n",
              "      <th>Position</th>\n",
              "      <th>Weight (lbs)</th>\n",
              "      <th>Years Played</th>\n",
              "    </tr>\n",
              "  </thead>\n",
              "  <tbody>\n",
              "    <tr>\n",
              "      <th>0</th>\n",
              "      <td>NaN</td>\n",
              "      <td>Grand Rapids , MI</td>\n",
              "      <td>5/23/1921</td>\n",
              "      <td>Notre Dame</td>\n",
              "      <td>Retired</td>\n",
              "      <td>NaN</td>\n",
              "      <td>3 Seasons</td>\n",
              "      <td>71.0</td>\n",
              "      <td>NaN</td>\n",
              "      <td>NaN</td>\n",
              "      <td>Evans, Fred</td>\n",
              "      <td>NaN</td>\n",
              "      <td>fredevans/2513736</td>\n",
              "      <td>NaN</td>\n",
              "      <td>185.0</td>\n",
              "      <td>1946 - 1948</td>\n",
              "    </tr>\n",
              "    <tr>\n",
              "      <th>1</th>\n",
              "      <td>NaN</td>\n",
              "      <td>Dayton , OH</td>\n",
              "      <td>12/21/1930</td>\n",
              "      <td>Dayton</td>\n",
              "      <td>Retired</td>\n",
              "      <td>NaN</td>\n",
              "      <td>1 Season</td>\n",
              "      <td>70.0</td>\n",
              "      <td>NaN</td>\n",
              "      <td>NaN</td>\n",
              "      <td>Raiff, Jim</td>\n",
              "      <td>NaN</td>\n",
              "      <td>jimraiff/2523700</td>\n",
              "      <td>NaN</td>\n",
              "      <td>235.0</td>\n",
              "      <td>1954 - 1954</td>\n",
              "    </tr>\n",
              "    <tr>\n",
              "      <th>2</th>\n",
              "      <td>56.0</td>\n",
              "      <td>Temple , TX</td>\n",
              "      <td>9/11/1960</td>\n",
              "      <td>Louisiana Tech</td>\n",
              "      <td>Retired</td>\n",
              "      <td>NaN</td>\n",
              "      <td>1 Season</td>\n",
              "      <td>74.0</td>\n",
              "      <td>NaN</td>\n",
              "      <td>NaN</td>\n",
              "      <td>Fowler, Bobby</td>\n",
              "      <td>NaN</td>\n",
              "      <td>bobbyfowler/2514295</td>\n",
              "      <td>NaN</td>\n",
              "      <td>230.0</td>\n",
              "      <td>1985 - 1985</td>\n",
              "    </tr>\n",
              "    <tr>\n",
              "      <th>3</th>\n",
              "      <td>30.0</td>\n",
              "      <td>New Orleans , LA</td>\n",
              "      <td>9/30/1986</td>\n",
              "      <td>LSU</td>\n",
              "      <td>Retired</td>\n",
              "      <td>NaN</td>\n",
              "      <td>5 Seasons</td>\n",
              "      <td>73.0</td>\n",
              "      <td>NaN</td>\n",
              "      <td>NaN</td>\n",
              "      <td>Johnson, Quinn</td>\n",
              "      <td>NaN</td>\n",
              "      <td>quinnjohnson/79593</td>\n",
              "      <td>NaN</td>\n",
              "      <td>255.0</td>\n",
              "      <td>2009 - 2013</td>\n",
              "    </tr>\n",
              "    <tr>\n",
              "      <th>4</th>\n",
              "      <td>25.0</td>\n",
              "      <td>Detroit , MI</td>\n",
              "      <td>3/31/1992</td>\n",
              "      <td>Central Michigan</td>\n",
              "      <td>Active</td>\n",
              "      <td>Pittsburgh Steelers</td>\n",
              "      <td>3rd season</td>\n",
              "      <td>77.0</td>\n",
              "      <td>Clintondale HS</td>\n",
              "      <td>Clinton Twp.,Macomb Co., MI</td>\n",
              "      <td>Walton, L.T.</td>\n",
              "      <td>96.0</td>\n",
              "      <td>l.t.walton/2552444</td>\n",
              "      <td>DE</td>\n",
              "      <td>305.0</td>\n",
              "      <td>NaN</td>\n",
              "    </tr>\n",
              "  </tbody>\n",
              "</table>\n",
              "</div>"
            ],
            "text/plain": [
              "    Age        Birth Place    Birthday  ... Position Weight (lbs) Years Played\n",
              "0   NaN  Grand Rapids , MI   5/23/1921  ...      NaN        185.0  1946 - 1948\n",
              "1   NaN        Dayton , OH  12/21/1930  ...      NaN        235.0  1954 - 1954\n",
              "2  56.0        Temple , TX   9/11/1960  ...      NaN        230.0  1985 - 1985\n",
              "3  30.0   New Orleans , LA   9/30/1986  ...      NaN        255.0  2009 - 2013\n",
              "4  25.0       Detroit , MI   3/31/1992  ...       DE        305.0          NaN\n",
              "\n",
              "[5 rows x 16 columns]"
            ]
          },
          "metadata": {
            "tags": []
          },
          "execution_count": 175
        }
      ]
    },
    {
      "cell_type": "markdown",
      "metadata": {
        "id": "eZQGdz8pedhi",
        "colab_type": "text"
      },
      "source": [
        "##Q1 [3 points]\n",
        "**[Data cleaning]**\n",
        "\n",
        "We will clean our data using the following steps:\n",
        "* **Keep only retired players**  \n",
        "*  Based on the last column, Creat an array that gives the number of active years for each player. For example, if \"Year Played\" for a player is 1954-1954, the number of active years will be 0, while if  \"Year Played\" for a player is 1971 to 1974, the number of active years will be 3. You will find  [str.split()](https://www.geeksforgeeks.org/python-pandas-split-strings-into-two-list-columns-using-str-split/) function useful for this question."
      ]
    },
    {
      "cell_type": "code",
      "metadata": {
        "id": "Im6HNucHedPG",
        "colab_type": "code",
        "colab": {
          "base_uri": "https://localhost:8080/",
          "height": 751
        },
        "outputId": "30febfc3-4105-4629-f7c5-44f88ab4c8d9"
      },
      "source": [
        "# Keeping only the retired players\n",
        "\n",
        "NFL_retired = NFL[NFL['Current Status']=='Retired']\n",
        "# NFL_retired['Current Status'].value_counts()\n",
        "\n",
        "# Dropping null value columns to avoid errors \n",
        "NFL_retired.dropna(subset=['Years Played'], inplace = True) \n",
        "\n",
        "# Creating a new data frame with split value columns \n",
        "new = NFL_retired[\"Years Played\"].str.split(\"-\", expand = True) \n",
        "  \n",
        "# Making separate \"Beginning Year\" column from new data frame \n",
        "NFL_retired[\"Beginning Year\"]= new[0].astype(int)\n",
        "  \n",
        "# Making separate \"Ending Year\" column from new data frame \n",
        "NFL_retired[\"Ending Year\"] = new[1].astype(int)\n",
        "  \n",
        "# Dropping old \"Years Played\" columns \n",
        "NFL_retired.drop(columns =[\"Years Played\"], inplace = True) \n",
        "  \n",
        "# Displaying the df named NFL_retired\n",
        "NFL_retired.head()"
      ],
      "execution_count": 176,
      "outputs": [
        {
          "output_type": "stream",
          "text": [
            "/usr/local/lib/python3.6/dist-packages/ipykernel_launcher.py:6: SettingWithCopyWarning: \n",
            "A value is trying to be set on a copy of a slice from a DataFrame\n",
            "\n",
            "See the caveats in the documentation: http://pandas.pydata.org/pandas-docs/stable/indexing.html#indexing-view-versus-copy\n",
            "  \n",
            "/usr/local/lib/python3.6/dist-packages/ipykernel_launcher.py:12: SettingWithCopyWarning: \n",
            "A value is trying to be set on a copy of a slice from a DataFrame.\n",
            "Try using .loc[row_indexer,col_indexer] = value instead\n",
            "\n",
            "See the caveats in the documentation: http://pandas.pydata.org/pandas-docs/stable/indexing.html#indexing-view-versus-copy\n",
            "  if sys.path[0] == '':\n",
            "/usr/local/lib/python3.6/dist-packages/ipykernel_launcher.py:15: SettingWithCopyWarning: \n",
            "A value is trying to be set on a copy of a slice from a DataFrame.\n",
            "Try using .loc[row_indexer,col_indexer] = value instead\n",
            "\n",
            "See the caveats in the documentation: http://pandas.pydata.org/pandas-docs/stable/indexing.html#indexing-view-versus-copy\n",
            "  from ipykernel import kernelapp as app\n",
            "/usr/local/lib/python3.6/dist-packages/pandas/core/frame.py:3940: SettingWithCopyWarning: \n",
            "A value is trying to be set on a copy of a slice from a DataFrame\n",
            "\n",
            "See the caveats in the documentation: http://pandas.pydata.org/pandas-docs/stable/indexing.html#indexing-view-versus-copy\n",
            "  errors=errors)\n"
          ],
          "name": "stderr"
        },
        {
          "output_type": "execute_result",
          "data": {
            "text/html": [
              "<div>\n",
              "<style scoped>\n",
              "    .dataframe tbody tr th:only-of-type {\n",
              "        vertical-align: middle;\n",
              "    }\n",
              "\n",
              "    .dataframe tbody tr th {\n",
              "        vertical-align: top;\n",
              "    }\n",
              "\n",
              "    .dataframe thead th {\n",
              "        text-align: right;\n",
              "    }\n",
              "</style>\n",
              "<table border=\"1\" class=\"dataframe\">\n",
              "  <thead>\n",
              "    <tr style=\"text-align: right;\">\n",
              "      <th></th>\n",
              "      <th>Age</th>\n",
              "      <th>Birth Place</th>\n",
              "      <th>Birthday</th>\n",
              "      <th>College</th>\n",
              "      <th>Current Status</th>\n",
              "      <th>Current Team</th>\n",
              "      <th>Experience</th>\n",
              "      <th>Height (inches)</th>\n",
              "      <th>High School</th>\n",
              "      <th>High School Location</th>\n",
              "      <th>Name</th>\n",
              "      <th>Number</th>\n",
              "      <th>Player Id</th>\n",
              "      <th>Position</th>\n",
              "      <th>Weight (lbs)</th>\n",
              "      <th>Beginning Year</th>\n",
              "      <th>Ending Year</th>\n",
              "    </tr>\n",
              "  </thead>\n",
              "  <tbody>\n",
              "    <tr>\n",
              "      <th>0</th>\n",
              "      <td>NaN</td>\n",
              "      <td>Grand Rapids , MI</td>\n",
              "      <td>5/23/1921</td>\n",
              "      <td>Notre Dame</td>\n",
              "      <td>Retired</td>\n",
              "      <td>NaN</td>\n",
              "      <td>3 Seasons</td>\n",
              "      <td>71.0</td>\n",
              "      <td>NaN</td>\n",
              "      <td>NaN</td>\n",
              "      <td>Evans, Fred</td>\n",
              "      <td>NaN</td>\n",
              "      <td>fredevans/2513736</td>\n",
              "      <td>NaN</td>\n",
              "      <td>185.0</td>\n",
              "      <td>1946</td>\n",
              "      <td>1948</td>\n",
              "    </tr>\n",
              "    <tr>\n",
              "      <th>1</th>\n",
              "      <td>NaN</td>\n",
              "      <td>Dayton , OH</td>\n",
              "      <td>12/21/1930</td>\n",
              "      <td>Dayton</td>\n",
              "      <td>Retired</td>\n",
              "      <td>NaN</td>\n",
              "      <td>1 Season</td>\n",
              "      <td>70.0</td>\n",
              "      <td>NaN</td>\n",
              "      <td>NaN</td>\n",
              "      <td>Raiff, Jim</td>\n",
              "      <td>NaN</td>\n",
              "      <td>jimraiff/2523700</td>\n",
              "      <td>NaN</td>\n",
              "      <td>235.0</td>\n",
              "      <td>1954</td>\n",
              "      <td>1954</td>\n",
              "    </tr>\n",
              "    <tr>\n",
              "      <th>2</th>\n",
              "      <td>56.0</td>\n",
              "      <td>Temple , TX</td>\n",
              "      <td>9/11/1960</td>\n",
              "      <td>Louisiana Tech</td>\n",
              "      <td>Retired</td>\n",
              "      <td>NaN</td>\n",
              "      <td>1 Season</td>\n",
              "      <td>74.0</td>\n",
              "      <td>NaN</td>\n",
              "      <td>NaN</td>\n",
              "      <td>Fowler, Bobby</td>\n",
              "      <td>NaN</td>\n",
              "      <td>bobbyfowler/2514295</td>\n",
              "      <td>NaN</td>\n",
              "      <td>230.0</td>\n",
              "      <td>1985</td>\n",
              "      <td>1985</td>\n",
              "    </tr>\n",
              "    <tr>\n",
              "      <th>3</th>\n",
              "      <td>30.0</td>\n",
              "      <td>New Orleans , LA</td>\n",
              "      <td>9/30/1986</td>\n",
              "      <td>LSU</td>\n",
              "      <td>Retired</td>\n",
              "      <td>NaN</td>\n",
              "      <td>5 Seasons</td>\n",
              "      <td>73.0</td>\n",
              "      <td>NaN</td>\n",
              "      <td>NaN</td>\n",
              "      <td>Johnson, Quinn</td>\n",
              "      <td>NaN</td>\n",
              "      <td>quinnjohnson/79593</td>\n",
              "      <td>NaN</td>\n",
              "      <td>255.0</td>\n",
              "      <td>2009</td>\n",
              "      <td>2013</td>\n",
              "    </tr>\n",
              "    <tr>\n",
              "      <th>5</th>\n",
              "      <td>NaN</td>\n",
              "      <td>Sumner , IL</td>\n",
              "      <td>9/11/1892</td>\n",
              "      <td>Illinois</td>\n",
              "      <td>Retired</td>\n",
              "      <td>NaN</td>\n",
              "      <td>1 Season</td>\n",
              "      <td>73.0</td>\n",
              "      <td>NaN</td>\n",
              "      <td>NaN</td>\n",
              "      <td>Petty, Ross</td>\n",
              "      <td>NaN</td>\n",
              "      <td>rosspetty/2523136</td>\n",
              "      <td>NaN</td>\n",
              "      <td>180.0</td>\n",
              "      <td>1920</td>\n",
              "      <td>1920</td>\n",
              "    </tr>\n",
              "  </tbody>\n",
              "</table>\n",
              "</div>"
            ],
            "text/plain": [
              "    Age        Birth Place  ... Beginning Year Ending Year\n",
              "0   NaN  Grand Rapids , MI  ...           1946        1948\n",
              "1   NaN        Dayton , OH  ...           1954        1954\n",
              "2  56.0        Temple , TX  ...           1985        1985\n",
              "3  30.0   New Orleans , LA  ...           2009        2013\n",
              "5   NaN        Sumner , IL  ...           1920        1920\n",
              "\n",
              "[5 rows x 17 columns]"
            ]
          },
          "metadata": {
            "tags": []
          },
          "execution_count": 176
        }
      ]
    },
    {
      "cell_type": "code",
      "metadata": {
        "id": "Xndgr0eaH0Ou",
        "colab_type": "code",
        "colab": {
          "base_uri": "https://localhost:8080/",
          "height": 496
        },
        "outputId": "a4604f03-5459-45ca-cc03-3f84809a6b5c"
      },
      "source": [
        "NFL_retired[\"Number of Active Years\"] = NFL_retired[\"Ending Year\"] - NFL_retired[\"Beginning Year\"]\n",
        "\n",
        "# df named NFL_retired display \n",
        "NFL_retired.head()"
      ],
      "execution_count": 177,
      "outputs": [
        {
          "output_type": "stream",
          "text": [
            "/usr/local/lib/python3.6/dist-packages/ipykernel_launcher.py:1: SettingWithCopyWarning: \n",
            "A value is trying to be set on a copy of a slice from a DataFrame.\n",
            "Try using .loc[row_indexer,col_indexer] = value instead\n",
            "\n",
            "See the caveats in the documentation: http://pandas.pydata.org/pandas-docs/stable/indexing.html#indexing-view-versus-copy\n",
            "  \"\"\"Entry point for launching an IPython kernel.\n"
          ],
          "name": "stderr"
        },
        {
          "output_type": "execute_result",
          "data": {
            "text/html": [
              "<div>\n",
              "<style scoped>\n",
              "    .dataframe tbody tr th:only-of-type {\n",
              "        vertical-align: middle;\n",
              "    }\n",
              "\n",
              "    .dataframe tbody tr th {\n",
              "        vertical-align: top;\n",
              "    }\n",
              "\n",
              "    .dataframe thead th {\n",
              "        text-align: right;\n",
              "    }\n",
              "</style>\n",
              "<table border=\"1\" class=\"dataframe\">\n",
              "  <thead>\n",
              "    <tr style=\"text-align: right;\">\n",
              "      <th></th>\n",
              "      <th>Age</th>\n",
              "      <th>Birth Place</th>\n",
              "      <th>Birthday</th>\n",
              "      <th>College</th>\n",
              "      <th>Current Status</th>\n",
              "      <th>Current Team</th>\n",
              "      <th>Experience</th>\n",
              "      <th>Height (inches)</th>\n",
              "      <th>High School</th>\n",
              "      <th>High School Location</th>\n",
              "      <th>Name</th>\n",
              "      <th>Number</th>\n",
              "      <th>Player Id</th>\n",
              "      <th>Position</th>\n",
              "      <th>Weight (lbs)</th>\n",
              "      <th>Beginning Year</th>\n",
              "      <th>Ending Year</th>\n",
              "      <th>Number of Active Years</th>\n",
              "    </tr>\n",
              "  </thead>\n",
              "  <tbody>\n",
              "    <tr>\n",
              "      <th>0</th>\n",
              "      <td>NaN</td>\n",
              "      <td>Grand Rapids , MI</td>\n",
              "      <td>5/23/1921</td>\n",
              "      <td>Notre Dame</td>\n",
              "      <td>Retired</td>\n",
              "      <td>NaN</td>\n",
              "      <td>3 Seasons</td>\n",
              "      <td>71.0</td>\n",
              "      <td>NaN</td>\n",
              "      <td>NaN</td>\n",
              "      <td>Evans, Fred</td>\n",
              "      <td>NaN</td>\n",
              "      <td>fredevans/2513736</td>\n",
              "      <td>NaN</td>\n",
              "      <td>185.0</td>\n",
              "      <td>1946</td>\n",
              "      <td>1948</td>\n",
              "      <td>2</td>\n",
              "    </tr>\n",
              "    <tr>\n",
              "      <th>1</th>\n",
              "      <td>NaN</td>\n",
              "      <td>Dayton , OH</td>\n",
              "      <td>12/21/1930</td>\n",
              "      <td>Dayton</td>\n",
              "      <td>Retired</td>\n",
              "      <td>NaN</td>\n",
              "      <td>1 Season</td>\n",
              "      <td>70.0</td>\n",
              "      <td>NaN</td>\n",
              "      <td>NaN</td>\n",
              "      <td>Raiff, Jim</td>\n",
              "      <td>NaN</td>\n",
              "      <td>jimraiff/2523700</td>\n",
              "      <td>NaN</td>\n",
              "      <td>235.0</td>\n",
              "      <td>1954</td>\n",
              "      <td>1954</td>\n",
              "      <td>0</td>\n",
              "    </tr>\n",
              "    <tr>\n",
              "      <th>2</th>\n",
              "      <td>56.0</td>\n",
              "      <td>Temple , TX</td>\n",
              "      <td>9/11/1960</td>\n",
              "      <td>Louisiana Tech</td>\n",
              "      <td>Retired</td>\n",
              "      <td>NaN</td>\n",
              "      <td>1 Season</td>\n",
              "      <td>74.0</td>\n",
              "      <td>NaN</td>\n",
              "      <td>NaN</td>\n",
              "      <td>Fowler, Bobby</td>\n",
              "      <td>NaN</td>\n",
              "      <td>bobbyfowler/2514295</td>\n",
              "      <td>NaN</td>\n",
              "      <td>230.0</td>\n",
              "      <td>1985</td>\n",
              "      <td>1985</td>\n",
              "      <td>0</td>\n",
              "    </tr>\n",
              "    <tr>\n",
              "      <th>3</th>\n",
              "      <td>30.0</td>\n",
              "      <td>New Orleans , LA</td>\n",
              "      <td>9/30/1986</td>\n",
              "      <td>LSU</td>\n",
              "      <td>Retired</td>\n",
              "      <td>NaN</td>\n",
              "      <td>5 Seasons</td>\n",
              "      <td>73.0</td>\n",
              "      <td>NaN</td>\n",
              "      <td>NaN</td>\n",
              "      <td>Johnson, Quinn</td>\n",
              "      <td>NaN</td>\n",
              "      <td>quinnjohnson/79593</td>\n",
              "      <td>NaN</td>\n",
              "      <td>255.0</td>\n",
              "      <td>2009</td>\n",
              "      <td>2013</td>\n",
              "      <td>4</td>\n",
              "    </tr>\n",
              "    <tr>\n",
              "      <th>5</th>\n",
              "      <td>NaN</td>\n",
              "      <td>Sumner , IL</td>\n",
              "      <td>9/11/1892</td>\n",
              "      <td>Illinois</td>\n",
              "      <td>Retired</td>\n",
              "      <td>NaN</td>\n",
              "      <td>1 Season</td>\n",
              "      <td>73.0</td>\n",
              "      <td>NaN</td>\n",
              "      <td>NaN</td>\n",
              "      <td>Petty, Ross</td>\n",
              "      <td>NaN</td>\n",
              "      <td>rosspetty/2523136</td>\n",
              "      <td>NaN</td>\n",
              "      <td>180.0</td>\n",
              "      <td>1920</td>\n",
              "      <td>1920</td>\n",
              "      <td>0</td>\n",
              "    </tr>\n",
              "  </tbody>\n",
              "</table>\n",
              "</div>"
            ],
            "text/plain": [
              "    Age        Birth Place  ... Ending Year Number of Active Years\n",
              "0   NaN  Grand Rapids , MI  ...        1948                      2\n",
              "1   NaN        Dayton , OH  ...        1954                      0\n",
              "2  56.0        Temple , TX  ...        1985                      0\n",
              "3  30.0   New Orleans , LA  ...        2013                      4\n",
              "5   NaN        Sumner , IL  ...        1920                      0\n",
              "\n",
              "[5 rows x 18 columns]"
            ]
          },
          "metadata": {
            "tags": []
          },
          "execution_count": 177
        }
      ]
    },
    {
      "cell_type": "markdown",
      "metadata": {
        "id": "AQ76x7ZQfd52",
        "colab_type": "text"
      },
      "source": [
        "##Q2 [10 points]\n",
        "\n",
        "**[Application of One-segment model]**\n",
        "\n",
        "Let's think about what distribution would fit this variable. One assumption we can make is that for each year, there is a probability $\\theta$ for this person to retire, probability $1-\\theta$ for this person to remain active. We also assume that the years are independent from one another. We are interested in examining the number of years $y$ it takes for retirement to happen. This is modeled by a [Geometric distribution](https://en.wikipedia.org/wiki/Geometric_distribution), which is defined as the distribution that measures the number of failures ($y$) it takes before the first success happens when each trial are indepedently and identically distributed with probability of suceess equals $\\theta$.\n",
        "\n",
        "For a Geometric model, \n",
        "\n",
        "$P(y)=(1-\\theta)^y \\theta$ for  $y=0, 1, 2, ...$,\n",
        "\n",
        "here $0< \\theta< 1$.\n",
        "\n",
        "$E(y)=\\frac{1-\\theta}{\\theta}$\n",
        "\n",
        "* Estimate $\\hat{\\theta}$ for this model  \n",
        "* What is the expected number of years for a NFL player to be active?\n",
        "* What is the probability for a player to serve for 4 years?\n",
        "* Now do a visualization to check the model performance. In this graph\n",
        "\n",
        ">> Visualize the observed number of players served 0 years, 1 years... using a bar chart \n",
        "\n",
        ">> Based on the model, predict the number of players served 0 years, 1 years, ... Visualize in the same graph as well using a scatter plot. "
      ]
    },
    {
      "cell_type": "code",
      "metadata": {
        "id": "Ducug-3Ufdh_",
        "colab_type": "code",
        "colab": {}
      },
      "source": [
        ""
      ],
      "execution_count": 0,
      "outputs": []
    },
    {
      "cell_type": "markdown",
      "metadata": {
        "id": "qV2x6C2aEEos",
        "colab_type": "text"
      },
      "source": [
        "##Q3 [10 points]\n",
        "###[Estimating a two-segment model]\n",
        "\n",
        "The previous model assumes that all the players have the same $\\theta$, which might be a flawed assumption. Instead, we might want to model two segment of players: one segment players have high risk of retiring (high $\\theta$), while the other segment of players have lower risk of retiring (low $\\theta$)\n",
        "\n",
        "* Use a two-segment model to identify $\\theta_1$, $\\theta_2$, and $p$\n",
        "* Give an interpretation of these three estimated parameters in the context of this question.\n",
        "* For each segment, what is the expected number of years for a player to remain active?\n",
        "* If a player retired after 3 years of playing, what is the probability for this player to belong to the low risk group?\n",
        "* Plot the observed v.s. predicted numbers like you did in Q1. Comment on any changes in the model fitting.\n",
        " "
      ]
    },
    {
      "cell_type": "code",
      "metadata": {
        "id": "_Sq4_8UOE-0q",
        "colab_type": "code",
        "colab": {}
      },
      "source": [
        ""
      ],
      "execution_count": 0,
      "outputs": []
    },
    {
      "cell_type": "markdown",
      "metadata": {
        "id": "fsl2cJPei2M3",
        "colab_type": "text"
      },
      "source": [
        "##Q4 [4 points]\n",
        "**[Beta Prior]**\n",
        "\n",
        "Now, we move on to assume that $\\theta$ follows a continuous distribution. Again, we would like to make a choice of the distribution we want to use. It is often assumed that $\\theta$ follows a [Beta distribution](https://en.wikipedia.org/wiki/Beta_distribution) with $\\theta \\sim Beta(\\alpha, \\beta)$, which has the following pdf:\n",
        "\n",
        "$f(\\theta)=\\frac{\\theta^{\\alpha-1}(1-\\theta)^{\\beta-1}}{B(\\alpha,\\beta)}= \\frac{\\theta^{\\alpha-1}(1-\\theta)^{\\beta-1}}{\\frac{\\Gamma(\\alpha)\\Gamma(\\beta)}{\\Gamma(\\alpha+\\beta)}}$\n",
        "\n",
        "Here, you can either use spsp.gamma to compute three parts of $B(\\alpha,\\beta)$ seperately. You can also simply use spsp.beta(alpha,beta) to compute $B(\\alpha,\\beta)$ directly.\n",
        "\n",
        "where $\\alpha$ and $\\beta$ are both positive, $0<\\theta<1$. In addition, $E(\\theta)=\\frac{\\alpha}{\\alpha+\\beta}$\n",
        "\n",
        "* Reproduce the following lineplot that shows the probability density functions for different $\\alpha$ and $\\beta$ values.  [The color of the lines does not matter]\n",
        "\n",
        "You might find [this link](https://pythonforundergradengineers.com/unicode-characters-in-python.html)  useful.\n",
        "<div>\n",
        "<img src=\"https://upload.wikimedia.org/wikipedia/commons/thumb/f/f3/Beta_distribution_pdf.svg/650px-Beta_distribution_pdf.svg.png\n",
        "\" width=\"450\"/>\n",
        "</div>\n",
        "[Source: Wikipedia]\n",
        "\n"
      ]
    },
    {
      "cell_type": "code",
      "metadata": {
        "id": "IKeiFfRK1VHp",
        "colab_type": "code",
        "colab": {}
      },
      "source": [
        ""
      ],
      "execution_count": 0,
      "outputs": []
    },
    {
      "cell_type": "markdown",
      "metadata": {
        "id": "NrK-uvp_YgAO",
        "colab_type": "text"
      },
      "source": [
        "##Q5 [6 points]\n",
        "**[Geometric-Beta distribution]**\n",
        "\n",
        "It can be derived that the probability of $y$ of a geometric distribution with a Beta prior (assuming $\\theta \\sim Beta(\\alpha, \\beta)$) will give the following PMF.\n",
        "\n",
        "$P(y)=\\frac{B(\\alpha+1,y+\\beta)}{B(\\alpha,\\beta)}$\n",
        "\n",
        "* Estimate $\\alpha$ and $\\beta$ for this Geometric-Beta distribution.\n",
        "* What is the probability for a player to serve for 4 years? \n",
        "* Plot the observed v.s. predicted numbers like you did in Q1. Comment on any changes in the model fitting."
      ]
    },
    {
      "cell_type": "code",
      "metadata": {
        "id": "U98v7c38Gofv",
        "colab_type": "code",
        "colab": {}
      },
      "source": [
        ""
      ],
      "execution_count": 0,
      "outputs": []
    },
    {
      "cell_type": "markdown",
      "metadata": {
        "id": "aWlJTSmaBcVm",
        "colab_type": "text"
      },
      "source": [
        "##Q6 [4 points]\n",
        "**[Posterior Analysis]**\n",
        "\n",
        "It can be proved that the posterior of $\\theta|x$ still follows a Beta distribution\n",
        "\n",
        "$\\theta|x \\sim Beta(\\alpha+1,\\beta+y)$\n",
        "\n",
        "* Based on the estimated model, plot the distribution of $\\lambda$ given $x=0$. \n",
        "* In the same graph, plot the distribution of $\\lambda$ when $x=10$.\n",
        "* Add a legend to the plot."
      ]
    },
    {
      "cell_type": "code",
      "metadata": {
        "id": "lkugJEK8o7vq",
        "colab_type": "code",
        "colab": {}
      },
      "source": [
        ""
      ],
      "execution_count": 0,
      "outputs": []
    },
    {
      "cell_type": "code",
      "metadata": {
        "id": "yE7lfXnUoqKM",
        "colab_type": "code",
        "colab": {}
      },
      "source": [
        ""
      ],
      "execution_count": 0,
      "outputs": []
    }
  ]
}