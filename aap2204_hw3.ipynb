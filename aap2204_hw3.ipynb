{
  "nbformat": 4,
  "nbformat_minor": 0,
  "metadata": {
    "colab": {
      "name": "aap2204_hw3.ipynb",
      "provenance": [],
      "collapsed_sections": [],
      "machine_shape": "hm",
      "include_colab_link": true
    },
    "kernelspec": {
      "name": "python3",
      "display_name": "Python 3"
    }
  },
  "cells": [
    {
      "cell_type": "markdown",
      "metadata": {
        "id": "view-in-github",
        "colab_type": "text"
      },
      "source": [
        "<a href=\"https://colab.research.google.com/github/apapaioannou92/BA/blob/HW3/aap2204_hw3.ipynb\" target=\"_parent\"><img src=\"https://colab.research.google.com/assets/colab-badge.svg\" alt=\"Open In Colab\"/></a>"
      ]
    },
    {
      "cell_type": "markdown",
      "metadata": {
        "id": "9JCRnqkLnjHE",
        "colab_type": "text"
      },
      "source": [
        "# **IEOR 4650  Business Analytics (Fall 2019)**\n",
        "\n",
        "**Homework 3 [Total points: 60]**\n",
        "\n",
        "** Due: 11:59 PM, October 16 **\n",
        "\n",
        "This second homework consists of Python programming practices and the applications to Poisson regression. \n",
        "\n",
        "The steps to finish in the homework:\n",
        "\n",
        "*   Step 1: Make a copy of the file to your LionDrive.\n",
        "*   Step 2: Work with the copy (an ipynb file).\n",
        "*    <font color='red'>**Step 3: Rename the copy to your_uni_hw3.ipynb (For example: yd4501_hw3.ipynb).**</font>  \n",
        "*   Step 4: Submit the copy on CourseWorks.\n",
        "\n",
        "Before you submit your assignment, make sure to re-run your code from the beginning. (You can do so by first clicking Runtime/Reset All Runtimes and then clicking Runtime/Run all)\n",
        "\n",
        "\n",
        "**All the questions in this homework requires coding**"
      ]
    },
    {
      "cell_type": "code",
      "metadata": {
        "id": "lSH_bDnX2ybu",
        "colab_type": "code",
        "colab": {}
      },
      "source": [
        "#This imports all the packages you need for the homework\n",
        "#Please run this first\n",
        "\n",
        "\n",
        "!pip install -U -q PyDrive\n",
        "from pydrive.auth import GoogleAuth\n",
        "from pydrive.drive import GoogleDrive\n",
        "from google.colab import auth\n",
        "from oauth2client.client import GoogleCredentials\n",
        "# Authenticate and create the PyDrive client.\n",
        "auth.authenticate_user()\n",
        "gauth = GoogleAuth()\n",
        "gauth.credentials = GoogleCredentials.get_application_default()\n",
        "drive = GoogleDrive(gauth)\n",
        "\n",
        "#import modules\n",
        "\n",
        "import numpy as np\n",
        "import pandas as pd\n",
        "from statsmodels.formula.api import ols\n",
        "import matplotlib.pyplot as plt\n",
        "import sklearn \n",
        "import scipy.special as spsp\n",
        "from scipy.optimize import minimize\n",
        "import scipy.stats as spst\n",
        "\n",
        "import warnings\n",
        "warnings.simplefilter(\"ignore\")"
      ],
      "execution_count": 0,
      "outputs": []
    },
    {
      "cell_type": "markdown",
      "metadata": {
        "id": "z5i-TJRyCOfI",
        "colab_type": "text"
      },
      "source": [
        "#Exercise 1 [Total: 23 points]"
      ]
    },
    {
      "cell_type": "markdown",
      "metadata": {
        "id": "5MbEozs6mhrd",
        "colab_type": "text"
      },
      "source": [
        "\n",
        "##Setting\n",
        "In this example, we take a closer look at the data we used for Poisson regression. \n",
        "\n",
        "This data measures the number of ad exposures each customer got **within 1 day**. \n",
        "\n",
        "\n",
        "(1) In the class, we checked the model fitting based on how closely the predicted numbers of customers having different number of exposures match with the samples we actually observe. In this exercise, we will explore how to apply cross-validation to Poisson regression.\n",
        "\n",
        "(2) We are interested in using this dataset to make meaningful business recommendation."
      ]
    },
    {
      "cell_type": "code",
      "metadata": {
        "id": "ziA1Im85eaIF",
        "colab_type": "code",
        "outputId": "024e00cb-6232-439c-a92a-726546efceb1",
        "colab": {
          "base_uri": "https://localhost:8080/",
          "height": 204
        }
      },
      "source": [
        "#Load the dataset\n",
        "link=\"https://drive.google.com/open?id=1pjdoOKuczV8Zc6Zw8-yUh6q2tqogN-xt\"\n",
        "_,id=link.split(\"=\")\n",
        "downloaded = drive.CreateFile({'id':id}) \n",
        "downloaded.GetContentFile('Exposure.csv')  \n",
        "Ad = pd.read_csv('Exposure.csv')\n",
        "Ad.head(5)\n",
        "\n"
      ],
      "execution_count": 254,
      "outputs": [
        {
          "output_type": "execute_result",
          "data": {
            "text/html": [
              "<div>\n",
              "<style scoped>\n",
              "    .dataframe tbody tr th:only-of-type {\n",
              "        vertical-align: middle;\n",
              "    }\n",
              "\n",
              "    .dataframe tbody tr th {\n",
              "        vertical-align: top;\n",
              "    }\n",
              "\n",
              "    .dataframe thead th {\n",
              "        text-align: right;\n",
              "    }\n",
              "</style>\n",
              "<table border=\"1\" class=\"dataframe\">\n",
              "  <thead>\n",
              "    <tr style=\"text-align: right;\">\n",
              "      <th></th>\n",
              "      <th>Cookie_ID</th>\n",
              "      <th>Exposures</th>\n",
              "    </tr>\n",
              "  </thead>\n",
              "  <tbody>\n",
              "    <tr>\n",
              "      <th>0</th>\n",
              "      <td>1</td>\n",
              "      <td>0</td>\n",
              "    </tr>\n",
              "    <tr>\n",
              "      <th>1</th>\n",
              "      <td>2</td>\n",
              "      <td>0</td>\n",
              "    </tr>\n",
              "    <tr>\n",
              "      <th>2</th>\n",
              "      <td>3</td>\n",
              "      <td>3</td>\n",
              "    </tr>\n",
              "    <tr>\n",
              "      <th>3</th>\n",
              "      <td>4</td>\n",
              "      <td>49</td>\n",
              "    </tr>\n",
              "    <tr>\n",
              "      <th>4</th>\n",
              "      <td>5</td>\n",
              "      <td>4</td>\n",
              "    </tr>\n",
              "  </tbody>\n",
              "</table>\n",
              "</div>"
            ],
            "text/plain": [
              "   Cookie_ID  Exposures\n",
              "0          1          0\n",
              "1          2          0\n",
              "2          3          3\n",
              "3          4         49\n",
              "4          5          4"
            ]
          },
          "metadata": {
            "tags": []
          },
          "execution_count": 254
        }
      ]
    },
    {
      "cell_type": "markdown",
      "metadata": {
        "id": "e3z7oqAWGFcK",
        "colab_type": "text"
      },
      "source": [
        "## Q1 [10 points]\n",
        "\n",
        "**[Cross validation]**\n",
        "\n",
        "In the class, we checked the model fitting based on how closely the predicted numbers of customers having different number of exposures match with the samples we actually observe. However, we were basically doing the model selection and model fitting using the chunk of data. \n",
        "\n",
        "For this exercise, let's first separate the data by\n",
        "\n",
        "* first randomize the data \n",
        "* Split our data into 3 sets. \n",
        "\n",
        ">> Training: The first 4000 observations\n",
        "\n",
        ">> Validation: Observation 4001 to 4500\n",
        "\n",
        ">> Testing: Observation 4501 to 5000.\n",
        "\n",
        "We then test which model is the best model.\n",
        "\n",
        "* Simple Poisson\n",
        "* 2-segment Poisson \n",
        "* Zero-inflated Poisson \n",
        "* NBD (Poisson-Gamma)\n",
        "\n",
        "For the model accuracy, let's use the joint log likelihood. Again, the higher the joint log likelihood, the better the model is. \n",
        "\n",
        "Based on the result, rank the model performance from the highest to the lowest.\n",
        "\n",
        "\n",
        "\n"
      ]
    },
    {
      "cell_type": "code",
      "metadata": {
        "id": "9lpzBMCyrI-s",
        "colab_type": "code",
        "colab": {}
      },
      "source": [
        "#don't remove this line (otherwise, you lose 2 points)\n",
        "seed_ = np.random.seed(30)\n",
        "\n",
        "#shuffle and split\n",
        "from sklearn.utils import shuffle\n",
        "Ad = shuffle(Ad.copy(), random_state=seed_)\n",
        "# Ad.head()\n",
        "# Splitting the dataset to training, validation and testing\n",
        "# Training set\n",
        "Ad_training = Ad[0:4000]\n",
        "# Validation set\n",
        "Ad_validation = Ad[4000:4500]\n",
        "# Testing set\n",
        "Ad_testing = Ad[4500:5000]"
      ],
      "execution_count": 0,
      "outputs": []
    },
    {
      "cell_type": "code",
      "metadata": {
        "id": "oa-KpNvoe5HN",
        "colab_type": "code",
        "outputId": "95371202-c307-4e3a-90bc-7a7e4f3f8d96",
        "colab": {
          "base_uri": "https://localhost:8080/",
          "height": 51
        }
      },
      "source": [
        "#Model1\n",
        "Exposures_m1=Ad_training[\"Exposures\"].values\n",
        "\n",
        "def neg_LL_m1(beta):\n",
        "  lmbda_m1=np.exp(beta)\n",
        "  #individual log likelihood\n",
        "  ind_LL_m1=np.log(spst.poisson.pmf(Exposures_m1,lmbda_m1))\n",
        "  #joint log likelihood\n",
        "  Joint_LL_m1=np.sum(ind_LL_m1)\n",
        "  return -Joint_LL_m1\n",
        "\n",
        "best = 1e10\n",
        "for i in range(100):\n",
        "  #randomly select a starting point\n",
        "  guess_m1=np.random.rand(1)\n",
        "  # start minimization\n",
        "  result_m1 = minimize(neg_LL_m1,guess_m1,method=\"BFGS\")\n",
        "  if result_m1.fun < best:     \n",
        "    lmbda_estimate_m1=np.exp(result_m1.x)\n",
        "\n",
        "print('The estimated value of λ is λ_hat =', lmbda_estimate_m1[0])\n",
        "\n",
        "Exposures_m1_validation=Ad_validation[\"Exposures\"].values\n",
        "# individual log likelihood\n",
        "ind_LL_h_m1=np.log(spst.poisson.pmf(Exposures_m1_validation,lmbda_estimate_m1))\n",
        "#joint log likelihood\n",
        "Joint_LL_h_m1=np.sum(ind_LL_h_m1)\n",
        "\n",
        "print('The value of the joint log likelihood in the validation dataset is: ', Joint_LL_h_m1)"
      ],
      "execution_count": 256,
      "outputs": [
        {
          "output_type": "stream",
          "text": [
            "The estimated value of λ is λ_hat = 2.505750014589593\n",
            "The value of the joint log likelihood in the validation dataset is:  -2082.364983999163\n"
          ],
          "name": "stdout"
        }
      ]
    },
    {
      "cell_type": "code",
      "metadata": {
        "id": "yfjkwsideUKn",
        "colab_type": "code",
        "outputId": "f88a025d-fd28-4060-ab3b-08f85fa60d75",
        "colab": {
          "base_uri": "https://localhost:8080/",
          "height": 51
        }
      },
      "source": [
        "#Model2\n",
        "Exposures_m2=Ad_training[\"Exposures\"].values\n",
        "\n",
        "def neg_LL_m2(betas):\n",
        "\n",
        "  lmbda1_m2=np.exp(betas[0])\n",
        "  lmbda2_m2=np.exp(betas[1])\n",
        "  p_m2=np.exp(betas[2])/(1+np.exp(betas[2]))\n",
        "  #individual likelihood\n",
        "  Likelihood1_m2=spst.poisson.pmf(Exposures_m2,lmbda1_m2)\n",
        "  Likelihood2_m2=spst.poisson.pmf(Exposures_m2,lmbda2_m2)\n",
        "  ind_L_m2=Likelihood1_m2*p_m2+Likelihood2_m2*(1-p_m2)\n",
        "\n",
        "  #individual log likelihood\n",
        "  ind_LL_m2=np.log(ind_L_m2)\n",
        "  #joint log likelihood\n",
        "  return  -np.sum(ind_LL_m2)\n",
        "\n",
        "best = 1e10\n",
        "for i in range(100):\n",
        "  #randomly select a starting point\n",
        "  guess_m2=np.random.rand(3)\n",
        "  # start minimization\n",
        "  result_m2=minimize(neg_LL_m2,guess_m2,method=\"BFGS\")\n",
        "  if result_m2.fun < best:     \n",
        "    betas_m2=result_m2.x\n",
        "    lmbda1_h_m2=np.exp(betas_m2[0])\n",
        "    lmbda2_h_m2=np.exp(betas_m2[1])\n",
        "    p_h_m2=np.exp(betas_m2[2])/(1+np.exp(betas_m2[2]))\n",
        "\n",
        "print('The estimated value of λ1 is λ1_hat =', lmbda1_h_m2, ', λ2_hat =', lmbda2_h_m2, ', and the p_hat=', p_h_m2)\n",
        "\n",
        "Exposures_m2_validation=Ad_validation[\"Exposures\"].values\n",
        "#individual likelihood\n",
        "Likelihood1_h_m2=spst.poisson.pmf(Exposures_m2_validation,lmbda1_h_m2)\n",
        "Likelihood2_h_m2=spst.poisson.pmf(Exposures_m2_validation,lmbda2_h_m2)\n",
        "ind_L_h_m2=Likelihood1_h_m2*p_h_m2+Likelihood2_h_m2*(1-p_h_m2)\n",
        "#joint log likelihood\n",
        "Joint_LL_h_m2=np.sum(ind_L_h_m2)\n",
        "\n",
        "print('The value of the joint log likelihood in the validation dataset is: ', Joint_LL_h_m2 )"
      ],
      "execution_count": 257,
      "outputs": [
        {
          "output_type": "stream",
          "text": [
            "The estimated value of λ1 is λ1_hat = 0.57874098893072 , λ2_hat = 10.36584215286826 , and the p_hat= 0.803107282667596\n",
            "The value of the joint log likelihood in the validation dataset is:  142.33420927338886\n"
          ],
          "name": "stdout"
        }
      ]
    },
    {
      "cell_type": "code",
      "metadata": {
        "id": "SjR_7lnegVaR",
        "colab_type": "code",
        "outputId": "d0bb2628-c0ce-4d80-d5dc-1c8ba345e5ca",
        "colab": {
          "base_uri": "https://localhost:8080/",
          "height": 51
        }
      },
      "source": [
        "#Model3\n",
        "Exposures_m3=Ad_training[\"Exposures\"].values\n",
        "\n",
        "def neg_LL_m3(betas):\n",
        "\n",
        "  lmbda1_m3=0\n",
        "  lmbda2_m3=np.exp(betas[0])\n",
        "  p_m3=np.exp(betas[1])/(1+np.exp(betas[1]))\n",
        "  #individual likelihood\n",
        "  Likelihood1_m3=spst.poisson.pmf(Exposures_m3,lmbda1_m3)\n",
        "  Likelihood2_m3=spst.poisson.pmf(Exposures_m3,lmbda2_m3)\n",
        "  ind_L_m3=Likelihood1_m3*p_m3+Likelihood2_m3*(1-p_m3)\n",
        "\n",
        "  #individual log likelihood\n",
        "  ind_LL_m3=np.log(ind_L_m3)\n",
        "  #joint log likelihood\n",
        "  return  -np.sum(ind_LL_m3)\n",
        "\n",
        "best = 1e10\n",
        "for i in range(100):\n",
        "  #randomly select a starting point\n",
        "  guess_m3=np.random.rand(2)\n",
        "  # start minimization  \n",
        "  result_m3=minimize(neg_LL_m3,guess_m3,method=\"BFGS\")\n",
        "  if result_m2.fun < best:   \n",
        "    betas_m3=result_m3.x\n",
        "    lmbda1_h_m3=0\n",
        "    lmbda2_h_m3=np.exp(betas_m3[0])\n",
        "    p_h_m3=np.exp(betas_m3[1])/(1+np.exp(betas_m3[1]))\n",
        "\n",
        "print('The estimated value of λ1 is λ1_hat =', lmbda1_h_m3, ', λ2_hat =', lmbda2_h_m3, ', and the p_hat=', p_h_m3)\n",
        "\n",
        "Exposures_m3_validation=Ad_validation[\"Exposures\"].values\n",
        "#individual likelihood\n",
        "Likelihood1_h_m3=spst.poisson.pmf(Exposures_m3_validation,lmbda1_h_m3)\n",
        "Likelihood2_h_m3=spst.poisson.pmf(Exposures_m3_validation,lmbda2_h_m3)\n",
        "ind_L_h_m3=Likelihood1_h_m3*p_h_m3+Likelihood2_h_m3*(1-p_h_m3)\n",
        "#joint log likelihood\n",
        "Joint_LL_h_m3=np.sum(ind_L_h_m3)\n",
        "\n",
        "print('The value of the joint log likelihood in the validation dataset is: ', Joint_LL_h_m3)"
      ],
      "execution_count": 258,
      "outputs": [
        {
          "output_type": "stream",
          "text": [
            "The estimated value of λ1 is λ1_hat = 0 , λ2_hat = 5.562404572945946 , and the p_hat= 0.5495203573475914\n",
            "The value of the joint log likelihood in the validation dataset is:  150.74119153219453\n"
          ],
          "name": "stdout"
        }
      ]
    },
    {
      "cell_type": "code",
      "metadata": {
        "id": "6dNHq40tht1C",
        "colab_type": "code",
        "outputId": "57d2a475-d99e-44df-9690-33d1976dd78b",
        "colab": {
          "base_uri": "https://localhost:8080/",
          "height": 51
        }
      },
      "source": [
        "#Model4\n",
        "Exposures_m4=Ad_training[\"Exposures\"].values\n",
        "\n",
        "def neg_LL_m4(betas):\n",
        "  #compute alpha, gamma\n",
        "  alpha_m4=np.exp(betas[0])\n",
        "  gamma_m4=np.exp(betas[1])\n",
        "  #individual  likelihood\n",
        "  ind_L_m4=spsp.gamma(gamma_m4+Exposures_m4)/spsp.gamma(gamma_m4)/spsp.gamma(Exposures_m4+1)\\\n",
        "  *(1/(1+alpha_m4))**Exposures_m4*(alpha_m4/(1+alpha_m4))**gamma_m4\n",
        "  #individual log likelihoo\n",
        "  ind_LL_m4=np.log(ind_L_m4)\n",
        "  #joint log likelihood\n",
        "  Joint_LL_m4=np.sum(ind_LL_m4)\n",
        "  return -Joint_LL_m4\n",
        "\n",
        "best = 1e10\n",
        "for i in range(100):\n",
        "  #randomly select a starting point\n",
        "  guess_m4=np.random.rand(2)\n",
        "  # start minimization  \n",
        "  result_m4=minimize(neg_LL_m4,guess_m4,method=\"BFGS\")\n",
        "  if result_m4.fun < best:\n",
        "    betas_m4=result_m4.x\n",
        "    #recover alpha, gamma\n",
        "    alpha_h_m4=np.exp(betas_m4[0])\n",
        "    gamma_h_m4=np.exp(betas_m4[1])\n",
        "\n",
        "print('The estimated value of α is α_hat =', alpha_h_m4, 'and γ_hat =', gamma_h_m4)\n",
        "\n",
        "Exposures_m4_validation=Ad_validation[\"Exposures\"].values\n",
        "#individual likelihood\n",
        "ind_L_h_m4=spsp.gamma(gamma_h_m4+Exposures_m4_validation)/spsp.gamma(gamma_h_m4)/spsp.gamma(Exposures_m4_validation+1)\\\n",
        "*(1/(1+alpha_h_m4))**Exposures_m4_validation*(alpha_h_m4/(1+alpha_h_m4))**gamma_h_m4\n",
        "#joint log likelihood\n",
        "Joint_LL_h_m4=np.sum(ind_L_h_m4)\n",
        "\n",
        "print('The value of the joint log likelihood in the validation dataset is: ', Joint_LL_h_m4)"
      ],
      "execution_count": 259,
      "outputs": [
        {
          "output_type": "stream",
          "text": [
            "The estimated value of α is α_hat = 0.09964502679977297 and γ_hat = 0.24968552039382375\n",
            "The value of the joint log likelihood in the validation dataset is:  158.7073769554007\n"
          ],
          "name": "stdout"
        }
      ]
    },
    {
      "cell_type": "code",
      "metadata": {
        "id": "QzgxZ7pCWBgG",
        "colab_type": "code",
        "outputId": "de6f52ce-57da-4020-f382-0b21a85cb85f",
        "colab": {
          "base_uri": "https://localhost:8080/",
          "height": 51
        }
      },
      "source": [
        "print('The best model is the NBD model, since it has the highest joint log likelihood. The second best model is the Zero-inflated Poisson model, since it has the') \n",
        "print('2nd highest joint log likelihood, and then the 2-segment Poisson model, and the Simple Poisson model follow.')"
      ],
      "execution_count": 260,
      "outputs": [
        {
          "output_type": "stream",
          "text": [
            "The best model is the NBD model, since it has the highest joint log likelihood. The second best model is the Zero-inflated Poisson model, since it has the\n",
            "2nd highest joint log likelihood, and then the 2-segment Poisson model, and the Simple Poisson model follow.\n"
          ],
          "name": "stdout"
        }
      ]
    },
    {
      "cell_type": "markdown",
      "metadata": {
        "id": "FurA2IrT2u9x",
        "colab_type": "text"
      },
      "source": [
        "##Q2 [4 points]\n",
        "\n",
        "Based on the model learned on the training set, report the expected number of exposures for the market using each model you tested in Q1."
      ]
    },
    {
      "cell_type": "code",
      "metadata": {
        "id": "F_quLRXMjFVG",
        "colab_type": "code",
        "outputId": "9fc01e4f-24fe-4f0a-ca6a-b6c8e97e3b96",
        "colab": {
          "base_uri": "https://localhost:8080/",
          "height": 269
        }
      },
      "source": [
        "# Model 1\n",
        "mkt_size = len(Ad)\n",
        "Tally_m1=Ad_training.groupby([\"Exposures\"]).count()\n",
        "Exposures_m1_index = Tally_m1.index.values\n",
        "Counts_m1 = Tally_m1.iloc[:,0].values\n",
        "Predicted_Exposures_m1 = np.arange(0, np.max(Exposures_m1_index)+1)\n",
        "Predicted_counts_m1 = spst.poisson.pmf(Predicted_Exposures_m1,lmbda_estimate_m1)*mkt_size\n",
        "plt.bar(Exposures_m1_index[Exposures_m1_index<30], Counts_m1[Exposures_m1_index<30],label=\"samples\")\n",
        "plt.scatter(Predicted_Exposures_m1[Predicted_Exposures_m1<30], Predicted_counts_m1[Predicted_Exposures_m1<30],zorder=2,label=\"predictions\")\n",
        "plt.legend(loc=\"best\")\n",
        "plt.show()"
      ],
      "execution_count": 261,
      "outputs": [
        {
          "output_type": "display_data",
          "data": {
            "image/png": "[encoded data removed]",
            "text/plain": [
              "<Figure size 432x288 with 1 Axes>"
            ]
          },
          "metadata": {
            "tags": []
          }
        }
      ]
    },
    {
      "cell_type": "code",
      "metadata": {
        "id": "jbDQs8wImHoW",
        "colab_type": "code",
        "outputId": "1028e24f-b305-422e-bee1-12fb447c7488",
        "colab": {
          "base_uri": "https://localhost:8080/",
          "height": 286
        }
      },
      "source": [
        "# Model 2\n",
        "Exposures_m2=Ad_training[\"Exposures\"].values\n",
        "mkt_size = len(Ad)\n",
        "x_m2=np.arange(0, np.max(Exposures_m2+1))\n",
        "pmf_m2 = spst.poisson.pmf(x_m2,lmbda1_h_m2)*p_h_m3+spst.poisson.pmf(x_m2,lmbda2_h_m2)*(1-p_h_m2)\n",
        "prediction_m2 = mkt_size*pmf_m2\n",
        "\n",
        "Tally_m2 = Ad_training.groupby([\"Exposures\"]).count()\n",
        "plt.bar(Tally_m2.index.values,Tally_m2.iloc[:,0].values)\n",
        "plt.scatter(x_m2,prediction_m2)"
      ],
      "execution_count": 262,
      "outputs": [
        {
          "output_type": "execute_result",
          "data": {
            "text/plain": [
              "<matplotlib.collections.PathCollection at 0x7f4d36b049b0>"
            ]
          },
          "metadata": {
            "tags": []
          },
          "execution_count": 262
        },
        {
          "output_type": "display_data",
          "data": {
            "image/png": "[encoded data removed]",
            "text/plain": [
              "<Figure size 432x288 with 1 Axes>"
            ]
          },
          "metadata": {
            "tags": []
          }
        }
      ]
    },
    {
      "cell_type": "code",
      "metadata": {
        "id": "63rOSl5DmFO7",
        "colab_type": "code",
        "outputId": "e71ed70a-852e-4a83-e645-67ab72bc5035",
        "colab": {
          "base_uri": "https://localhost:8080/",
          "height": 286
        }
      },
      "source": [
        "# Model 3\n",
        "Exposures_m3=Ad_training[\"Exposures\"].values\n",
        "mkt_size = len(Ad)\n",
        "x_m3 = np.arange(0, np.max(Exposures_m3+1))\n",
        "pmf_m3 = spst.poisson.pmf(x_m3 ,lmbda1_h_m3)*p_h_m3+spst.poisson.pmf(x_m3,lmbda2_h_m3)*(1-p_h_m3)\n",
        "prediction_m3 = mkt_size*pmf_m3\n",
        "Tally_m3 = Ad_training.groupby([\"Exposures\"]).count()\n",
        "plt.bar(Tally_m3.index.values,Tally_m3.iloc[:,0].values)\n",
        "plt.scatter(x_m3,prediction_m3)"
      ],
      "execution_count": 263,
      "outputs": [
        {
          "output_type": "execute_result",
          "data": {
            "text/plain": [
              "<matplotlib.collections.PathCollection at 0x7f4d362f1160>"
            ]
          },
          "metadata": {
            "tags": []
          },
          "execution_count": 263
        },
        {
          "output_type": "display_data",
          "data": {
            "image/png": "[encoded data removed]",
            "text/plain": [
              "<Figure size 432x288 with 1 Axes>"
            ]
          },
          "metadata": {
            "tags": []
          }
        }
      ]
    },
    {
      "cell_type": "code",
      "metadata": {
        "id": "mszx2pG3inle",
        "colab_type": "code",
        "outputId": "f3590cf2-e1e3-49f0-9b73-db457e724d5b",
        "colab": {
          "base_uri": "https://localhost:8080/",
          "height": 286
        }
      },
      "source": [
        "# Model 4\n",
        "Exposures_m4 = Ad_training[\"Exposures\"].values\n",
        "mkt_size = len(Ad)\n",
        "x_m4 = np.arange(0, np.max(Exposures_m4+1))\n",
        "PMF_m4 = spsp.gamma(gamma_m4+x_m4)/spsp.gamma(gamma_m4)/spsp.gamma(x_m4+1)*(1/(1+alpha_m4))**x_m4*(alpha_m4/(1+alpha_m4))**gamma_m4\n",
        "prediction_m4 =  PMF_m4*mkt_size\n",
        "Tally_m4 = Ad_training.groupby([\"Exposures\"]).count()\n",
        "plt.bar(Tally_m4.index.values,Tally_m4.iloc[:,0].values)\n",
        "plt.scatter(x_m4,prediction_m4)"
      ],
      "execution_count": 264,
      "outputs": [
        {
          "output_type": "execute_result",
          "data": {
            "text/plain": [
              "<matplotlib.collections.PathCollection at 0x7f4d365bd0b8>"
            ]
          },
          "metadata": {
            "tags": []
          },
          "execution_count": 264
        },
        {
          "output_type": "display_data",
          "data": {
            "image/png": "[encoded data removed]",
            "text/plain": [
              "<Figure size 432x288 with 1 Axes>"
            ]
          },
          "metadata": {
            "tags": []
          }
        }
      ]
    },
    {
      "cell_type": "code",
      "metadata": {
        "id": "f0vLDBYc3AWr",
        "colab_type": "code",
        "outputId": "bb03eae4-1bee-4c97-ecb7-6b082cdb9f3a",
        "colab": {
          "base_uri": "https://localhost:8080/",
          "height": 105
        }
      },
      "source": [
        "# Model 1\n",
        "mrkt_size = len(Ad)\n",
        "\n",
        "print('The expected number of exposures for the market using model 1, ie Simple Poisson model, equals to E[X]*mrkt_size=λ*mrkt_size=', lmbda_estimate_m1[0]*mrkt_size)\n",
        "\n",
        "# Model 2\n",
        "\n",
        "print('The expected number of exposures for the market using model 2, ie 2-segment Poisson model, equals to E[X]*mrkt_size=(Likelihood1_m2*p_h_m2+Likelihood2_m2*(1-p_h_m2)*mrkt_size)=', (lmbda1_h_m2*p_h_m2+lmbda2_h_m2*(1-p_h_m2))*mrkt_size)\n",
        "\n",
        "# Model 3\n",
        "\n",
        "print('The expected number of exposures for the market using model 3, ie zero-inflated Poisson model, equals to E[X]*mrkt_size=((1-p)*λ)*mrkt_size=', ((1-p_h_m3)*lmbda2_h_m3)*mrkt_size)\n",
        "\n",
        "# Model 4\n",
        "\n",
        "print('The expected number of exposures for the market using model 4, ie NBD model, equals to E[X]*mrkt_size=(γ/α)*mrkt_size=', (gamma_h_m4/alpha_h_m4)*mrkt_size)"
      ],
      "execution_count": 265,
      "outputs": [
        {
          "output_type": "stream",
          "text": [
            "The expected number of exposures for the market using model 1, ie Simple Poisson model, equals to E[X]*mrkt_size=λ*mrkt_size= 12528.750072947965\n",
            "The expected number of exposures for the market using model 2, ie 2-segment Poisson model, equals to E[X]*mrkt_size=(Likelihood1_m2*p_h_m2+Likelihood2_m2*(1-p_h_m2)*mrkt_size)= 12528.74965952758\n",
            "The expected number of exposures for the market using model 3, ie zero-inflated Poisson model, equals to E[X]*mrkt_size=((1-p)*λ)*mrkt_size= 12528.750121544066\n",
            "The expected number of exposures for the market using model 4, ie NBD model, equals to E[X]*mrkt_size=(γ/α)*mrkt_size= 12528.749723533248\n"
          ],
          "name": "stdout"
        }
      ]
    },
    {
      "cell_type": "markdown",
      "metadata": {
        "id": "_1Aj4jvfd4__",
        "colab_type": "text"
      },
      "source": [
        "## Q3 [9 points]\n",
        "\n",
        "Assume that we decide to stick to NBD model, we want to use this model to do something meaningful.\n",
        "\n",
        "(1) Based on the model, how many people do you predict on the testing set to have at most 1 exposure? How does this number match with the actual observation?\n",
        "\n",
        "(2) How many more days of exposures do we at least need to reduce this number to below 200? [You only need to consider integer days]\n",
        "\n",
        "(3) Assume a customer had 0 exposures, visualize the posterior distribution of $\\lambda$ for this customer.\n",
        "\n",
        "(4) Assume a customer had 5 exposures, visualize the posterior distribution of $\\lambda$ for this customer.\n",
        "\n"
      ]
    },
    {
      "cell_type": "code",
      "metadata": {
        "id": "BwBNzoeSegid",
        "colab_type": "code",
        "outputId": "ee9e6027-5ca9-4d16-d3b6-87958db2196a",
        "colab": {
          "base_uri": "https://localhost:8080/",
          "height": 34
        }
      },
      "source": [
        "# (1)\n",
        "Exposures_m4 = Ad_testing[\"Exposures\"].values\n",
        "mkt_size = len(Ad_testing)\n",
        "x_m4_new = np.arange(0, np.max(Exposures_m4+1))\n",
        "PMF_m4_new = spsp.gamma(gamma_m4+x_m4_new)/spsp.gamma(gamma_m4)/spsp.gamma(x_m4_new+1)*(1/(1+alpha_m4))**x_m4_new*(alpha_m4/(1+alpha_m4))**gamma_m4\n",
        "prediction_m4_new =  PMF_m4_new*mkt_size\n",
        "No_of_people_ = np.sum(prediction_m4_new[0:2])\n",
        "print('Predicted: ', No_of_people_, 'vs Actual: ', len(Ad_testing[Ad_testing['Exposures']<=1]))"
      ],
      "execution_count": 266,
      "outputs": [
        {
          "output_type": "stream",
          "text": [
            "Predicted:  336.8717228594356 vs Actual:  328\n"
          ],
          "name": "stdout"
        }
      ]
    },
    {
      "cell_type": "code",
      "metadata": {
        "id": "OK22stT1QbCp",
        "colab_type": "code",
        "outputId": "7695533d-d55e-4394-990e-a7841a893580",
        "colab": {
          "base_uri": "https://localhost:8080/",
          "height": 34
        }
      },
      "source": [
        "# (2)\n",
        "Exposures_m4 = Ad_testing[\"Exposures\"].values\n",
        "mkt_size = len(Ad_testing)\n",
        "#x UNITS of time\n",
        "for i in range(1,500):  \n",
        "  alpha_ = alpha_m4#/i\n",
        "  x_m4_new = np.arange(0, np.max(Exposures_m4+1))\n",
        "  PMF_m4_new = spsp.gamma(gamma_m4+x_m4_new)/spsp.gamma(gamma_m4)/spsp.gamma(x_m4_new+1)*(i/(i+alpha_))**x_m4_new*(alpha_/(i+alpha_))**gamma_m4\n",
        "  prediction_m4_new =  PMF_m4_new * mkt_size\n",
        "  No_of_people_ = np.sum(prediction_m4_new[0:2])\n",
        "  if No_of_people_<= 200:\n",
        "    print('We need to increase the number of days by: ', i-1, 'in order to get Expected No of people with at most 1 exposure =', No_of_people_)\n",
        "    break"
      ],
      "execution_count": 267,
      "outputs": [
        {
          "output_type": "stream",
          "text": [
            "We need to increase the number of days by:  10 in order to get Expected No of people with at most 1 exposure = 196.82577575408436\n"
          ],
          "name": "stdout"
        }
      ]
    },
    {
      "cell_type": "code",
      "metadata": {
        "id": "vs5KVOLYkq_r",
        "colab_type": "code",
        "outputId": "7050f9cd-ead1-483b-d12d-d97fa84185fe",
        "colab": {
          "base_uri": "https://localhost:8080/",
          "height": 286
        }
      },
      "source": [
        "# (3)\n",
        "Exposures_m4_all = Ad[\"Exposures\"].values\n",
        "\n",
        "# Expected posterior exposures\n",
        "NBD_POST=(gamma_m4+Exposures_m4_all)/(alpha_m4+1)\n",
        "Ad=Ad.assign(NBD_POST=NBD_POST)\n",
        "Ad\n",
        "mkt_size = len(Ad)\n",
        "x_ = np.linspace(0, 10, 100)\n",
        "PDF_ = ( ( (alpha_m4+1)**(gamma_m4+0) )/spsp.gamma(gamma_m4+0) ) * x_**(gamma_m4+0-1) * np.exp( -(alpha_m4+1)* x_ )\n",
        "prediction_ =  PDF_\n",
        "plt.plot(x_,prediction_)"
      ],
      "execution_count": 268,
      "outputs": [
        {
          "output_type": "execute_result",
          "data": {
            "text/plain": [
              "[<matplotlib.lines.Line2D at 0x7f4d364d5898>]"
            ]
          },
          "metadata": {
            "tags": []
          },
          "execution_count": 268
        },
        {
          "output_type": "display_data",
          "data": {
            "image/png": "[encoded data removed]",
            "text/plain": [
              "<Figure size 432x288 with 1 Axes>"
            ]
          },
          "metadata": {
            "tags": []
          }
        }
      ]
    },
    {
      "cell_type": "code",
      "metadata": {
        "id": "m4wxKYP6k2Iy",
        "colab_type": "code",
        "outputId": "85b94c67-0bd2-480a-8ff8-3cd17a70dd78",
        "colab": {
          "base_uri": "https://localhost:8080/",
          "height": 286
        }
      },
      "source": [
        "# (4)\n",
        "Exposures_m4_all = Ad[\"Exposures\"].values\n",
        "\n",
        "# Expected posterior exposures\n",
        "NBD_POST=(gamma_m4+Exposures_m4_all)/(alpha_m4+1)\n",
        "Ad=Ad.assign(NBD_POST=NBD_POST)\n",
        "Ad\n",
        "mkt_size = len(Ad)\n",
        "x_ = np.linspace(0, 10, 100)\n",
        "PMF_ = ( ( (alpha_m4+1)**(gamma_m4+5) )/spsp.gamma(gamma_m4+5) ) * x_**(gamma_m4+5-1) * np.exp( -(alpha_m4+1)* x_ )\n",
        "prediction_ =  PMF_ #* mkt_size\n",
        "plt.plot(x_,prediction_)"
      ],
      "execution_count": 269,
      "outputs": [
        {
          "output_type": "execute_result",
          "data": {
            "text/plain": [
              "[<matplotlib.lines.Line2D at 0x7f4d36580940>]"
            ]
          },
          "metadata": {
            "tags": []
          },
          "execution_count": 269
        },
        {
          "output_type": "display_data",
          "data": {
            "image/png": "[encoded data removed]",
            "text/plain": [
              "<Figure size 432x288 with 1 Axes>"
            ]
          },
          "metadata": {
            "tags": []
          }
        }
      ]
    },
    {
      "cell_type": "markdown",
      "metadata": {
        "id": "-OIl1Vg2euRn",
        "colab_type": "text"
      },
      "source": [
        "#Exercise 2 [Total: 37  Points]"
      ]
    },
    {
      "cell_type": "markdown",
      "metadata": {
        "id": "fQfFr7-V3cqR",
        "colab_type": "text"
      },
      "source": [
        "##Setting\n",
        "\n",
        "In this exercise, we discuss a model that deals with discrete timing. We will use sports analytics as the background for this study. The data is collected from Kaggle. [link](https://www.kaggle.com/kendallgillies/nflstatistics)\n",
        "\n",
        "In this dataset, we have the information of all the NFL players who are both currently active and have already retired before 2018. In this question, we are interested in modeling the number of years they were active before they retire. \n"
      ]
    },
    {
      "cell_type": "code",
      "metadata": {
        "id": "oLxXPghQFsZV",
        "colab_type": "code",
        "outputId": "35c746b0-8b33-463f-95f3-c13a1a3f1ef7",
        "colab": {
          "base_uri": "https://localhost:8080/",
          "height": 374
        }
      },
      "source": [
        "#Load the dataset\n",
        "link=\"https://drive.google.com/open?id=1voxCbS9xGieGHiEYYCzK61f4BZQWy6SD\"\n",
        "_,id=link.split(\"=\")\n",
        "downloaded = drive.CreateFile({'id':id}) \n",
        "downloaded.GetContentFile('NFL.csv')  \n",
        "NFL = pd.read_csv('NFL.csv')\n",
        "NFL.head(5)"
      ],
      "execution_count": 270,
      "outputs": [
        {
          "output_type": "execute_result",
          "data": {
            "text/html": [
              "<div>\n",
              "<style scoped>\n",
              "    .dataframe tbody tr th:only-of-type {\n",
              "        vertical-align: middle;\n",
              "    }\n",
              "\n",
              "    .dataframe tbody tr th {\n",
              "        vertical-align: top;\n",
              "    }\n",
              "\n",
              "    .dataframe thead th {\n",
              "        text-align: right;\n",
              "    }\n",
              "</style>\n",
              "<table border=\"1\" class=\"dataframe\">\n",
              "  <thead>\n",
              "    <tr style=\"text-align: right;\">\n",
              "      <th></th>\n",
              "      <th>Age</th>\n",
              "      <th>Birth Place</th>\n",
              "      <th>Birthday</th>\n",
              "      <th>College</th>\n",
              "      <th>Current Status</th>\n",
              "      <th>Current Team</th>\n",
              "      <th>Experience</th>\n",
              "      <th>Height (inches)</th>\n",
              "      <th>High School</th>\n",
              "      <th>High School Location</th>\n",
              "      <th>Name</th>\n",
              "      <th>Number</th>\n",
              "      <th>Player Id</th>\n",
              "      <th>Position</th>\n",
              "      <th>Weight (lbs)</th>\n",
              "      <th>Years Played</th>\n",
              "    </tr>\n",
              "  </thead>\n",
              "  <tbody>\n",
              "    <tr>\n",
              "      <th>0</th>\n",
              "      <td>NaN</td>\n",
              "      <td>Grand Rapids , MI</td>\n",
              "      <td>5/23/1921</td>\n",
              "      <td>Notre Dame</td>\n",
              "      <td>Retired</td>\n",
              "      <td>NaN</td>\n",
              "      <td>3 Seasons</td>\n",
              "      <td>71.0</td>\n",
              "      <td>NaN</td>\n",
              "      <td>NaN</td>\n",
              "      <td>Evans, Fred</td>\n",
              "      <td>NaN</td>\n",
              "      <td>fredevans/2513736</td>\n",
              "      <td>NaN</td>\n",
              "      <td>185.0</td>\n",
              "      <td>1946 - 1948</td>\n",
              "    </tr>\n",
              "    <tr>\n",
              "      <th>1</th>\n",
              "      <td>NaN</td>\n",
              "      <td>Dayton , OH</td>\n",
              "      <td>12/21/1930</td>\n",
              "      <td>Dayton</td>\n",
              "      <td>Retired</td>\n",
              "      <td>NaN</td>\n",
              "      <td>1 Season</td>\n",
              "      <td>70.0</td>\n",
              "      <td>NaN</td>\n",
              "      <td>NaN</td>\n",
              "      <td>Raiff, Jim</td>\n",
              "      <td>NaN</td>\n",
              "      <td>jimraiff/2523700</td>\n",
              "      <td>NaN</td>\n",
              "      <td>235.0</td>\n",
              "      <td>1954 - 1954</td>\n",
              "    </tr>\n",
              "    <tr>\n",
              "      <th>2</th>\n",
              "      <td>56.0</td>\n",
              "      <td>Temple , TX</td>\n",
              "      <td>9/11/1960</td>\n",
              "      <td>Louisiana Tech</td>\n",
              "      <td>Retired</td>\n",
              "      <td>NaN</td>\n",
              "      <td>1 Season</td>\n",
              "      <td>74.0</td>\n",
              "      <td>NaN</td>\n",
              "      <td>NaN</td>\n",
              "      <td>Fowler, Bobby</td>\n",
              "      <td>NaN</td>\n",
              "      <td>bobbyfowler/2514295</td>\n",
              "      <td>NaN</td>\n",
              "      <td>230.0</td>\n",
              "      <td>1985 - 1985</td>\n",
              "    </tr>\n",
              "    <tr>\n",
              "      <th>3</th>\n",
              "      <td>30.0</td>\n",
              "      <td>New Orleans , LA</td>\n",
              "      <td>9/30/1986</td>\n",
              "      <td>LSU</td>\n",
              "      <td>Retired</td>\n",
              "      <td>NaN</td>\n",
              "      <td>5 Seasons</td>\n",
              "      <td>73.0</td>\n",
              "      <td>NaN</td>\n",
              "      <td>NaN</td>\n",
              "      <td>Johnson, Quinn</td>\n",
              "      <td>NaN</td>\n",
              "      <td>quinnjohnson/79593</td>\n",
              "      <td>NaN</td>\n",
              "      <td>255.0</td>\n",
              "      <td>2009 - 2013</td>\n",
              "    </tr>\n",
              "    <tr>\n",
              "      <th>4</th>\n",
              "      <td>25.0</td>\n",
              "      <td>Detroit , MI</td>\n",
              "      <td>3/31/1992</td>\n",
              "      <td>Central Michigan</td>\n",
              "      <td>Active</td>\n",
              "      <td>Pittsburgh Steelers</td>\n",
              "      <td>3rd season</td>\n",
              "      <td>77.0</td>\n",
              "      <td>Clintondale HS</td>\n",
              "      <td>Clinton Twp.,Macomb Co., MI</td>\n",
              "      <td>Walton, L.T.</td>\n",
              "      <td>96.0</td>\n",
              "      <td>l.t.walton/2552444</td>\n",
              "      <td>DE</td>\n",
              "      <td>305.0</td>\n",
              "      <td>NaN</td>\n",
              "    </tr>\n",
              "  </tbody>\n",
              "</table>\n",
              "</div>"
            ],
            "text/plain": [
              "    Age        Birth Place    Birthday  ... Position Weight (lbs) Years Played\n",
              "0   NaN  Grand Rapids , MI   5/23/1921  ...      NaN        185.0  1946 - 1948\n",
              "1   NaN        Dayton , OH  12/21/1930  ...      NaN        235.0  1954 - 1954\n",
              "2  56.0        Temple , TX   9/11/1960  ...      NaN        230.0  1985 - 1985\n",
              "3  30.0   New Orleans , LA   9/30/1986  ...      NaN        255.0  2009 - 2013\n",
              "4  25.0       Detroit , MI   3/31/1992  ...       DE        305.0          NaN\n",
              "\n",
              "[5 rows x 16 columns]"
            ]
          },
          "metadata": {
            "tags": []
          },
          "execution_count": 270
        }
      ]
    },
    {
      "cell_type": "markdown",
      "metadata": {
        "id": "eZQGdz8pedhi",
        "colab_type": "text"
      },
      "source": [
        "##Q1 [3 points]\n",
        "**[Data cleaning]**\n",
        "\n",
        "We will clean our data using the following steps:\n",
        "* **Keep only retired players**  \n",
        "*  Based on the last column, Creat an array that gives the number of active years for each player. For example, if \"Year Played\" for a player is 1954-1954, the number of active years will be 0, while if  \"Year Played\" for a player is 1971 to 1974, the number of active years will be 3. You will find  [str.split()](https://www.geeksforgeeks.org/python-pandas-split-strings-into-two-list-columns-using-str-split/) function useful for this question."
      ]
    },
    {
      "cell_type": "code",
      "metadata": {
        "id": "Im6HNucHedPG",
        "colab_type": "code",
        "outputId": "f1665c8a-138a-4e44-f5dd-7677421e375f",
        "colab": {
          "base_uri": "https://localhost:8080/",
          "height": 377
        }
      },
      "source": [
        "# Keeping only the retired players\n",
        "\n",
        "NFL_retired = NFL[NFL['Current Status']=='Retired']\n",
        "# NFL_retired['Current Status'].value_counts()\n",
        "\n",
        "# Dropping null value columns to avoid errors \n",
        "# NFL_retired.dropna(subset=['Years Played'], inplace = True) \n",
        "\n",
        "# Creating a new data frame with split value columns \n",
        "new = NFL_retired[\"Years Played\"].str.split(\"-\", expand = True) \n",
        "  \n",
        "# Making separate \"Beginning Year\" column from new data frame \n",
        "NFL_retired[\"Beginning Year\"]= new[0].astype(int)\n",
        "  \n",
        "# Making separate \"Ending Year\" column from new data frame \n",
        "NFL_retired[\"Ending Year\"] = new[1].astype(int)\n",
        "  \n",
        "# Dropping old \"Years Played\" columns \n",
        "NFL_retired.drop(columns =[\"Years Played\"], inplace = True) \n",
        "  \n",
        "# Displaying the df named NFL_retired\n",
        "NFL_retired.head()"
      ],
      "execution_count": 271,
      "outputs": [
        {
          "output_type": "execute_result",
          "data": {
            "text/html": [
              "<div>\n",
              "<style scoped>\n",
              "    .dataframe tbody tr th:only-of-type {\n",
              "        vertical-align: middle;\n",
              "    }\n",
              "\n",
              "    .dataframe tbody tr th {\n",
              "        vertical-align: top;\n",
              "    }\n",
              "\n",
              "    .dataframe thead th {\n",
              "        text-align: right;\n",
              "    }\n",
              "</style>\n",
              "<table border=\"1\" class=\"dataframe\">\n",
              "  <thead>\n",
              "    <tr style=\"text-align: right;\">\n",
              "      <th></th>\n",
              "      <th>Age</th>\n",
              "      <th>Birth Place</th>\n",
              "      <th>Birthday</th>\n",
              "      <th>College</th>\n",
              "      <th>Current Status</th>\n",
              "      <th>Current Team</th>\n",
              "      <th>Experience</th>\n",
              "      <th>Height (inches)</th>\n",
              "      <th>High School</th>\n",
              "      <th>High School Location</th>\n",
              "      <th>Name</th>\n",
              "      <th>Number</th>\n",
              "      <th>Player Id</th>\n",
              "      <th>Position</th>\n",
              "      <th>Weight (lbs)</th>\n",
              "      <th>Beginning Year</th>\n",
              "      <th>Ending Year</th>\n",
              "    </tr>\n",
              "  </thead>\n",
              "  <tbody>\n",
              "    <tr>\n",
              "      <th>0</th>\n",
              "      <td>NaN</td>\n",
              "      <td>Grand Rapids , MI</td>\n",
              "      <td>5/23/1921</td>\n",
              "      <td>Notre Dame</td>\n",
              "      <td>Retired</td>\n",
              "      <td>NaN</td>\n",
              "      <td>3 Seasons</td>\n",
              "      <td>71.0</td>\n",
              "      <td>NaN</td>\n",
              "      <td>NaN</td>\n",
              "      <td>Evans, Fred</td>\n",
              "      <td>NaN</td>\n",
              "      <td>fredevans/2513736</td>\n",
              "      <td>NaN</td>\n",
              "      <td>185.0</td>\n",
              "      <td>1946</td>\n",
              "      <td>1948</td>\n",
              "    </tr>\n",
              "    <tr>\n",
              "      <th>1</th>\n",
              "      <td>NaN</td>\n",
              "      <td>Dayton , OH</td>\n",
              "      <td>12/21/1930</td>\n",
              "      <td>Dayton</td>\n",
              "      <td>Retired</td>\n",
              "      <td>NaN</td>\n",
              "      <td>1 Season</td>\n",
              "      <td>70.0</td>\n",
              "      <td>NaN</td>\n",
              "      <td>NaN</td>\n",
              "      <td>Raiff, Jim</td>\n",
              "      <td>NaN</td>\n",
              "      <td>jimraiff/2523700</td>\n",
              "      <td>NaN</td>\n",
              "      <td>235.0</td>\n",
              "      <td>1954</td>\n",
              "      <td>1954</td>\n",
              "    </tr>\n",
              "    <tr>\n",
              "      <th>2</th>\n",
              "      <td>56.0</td>\n",
              "      <td>Temple , TX</td>\n",
              "      <td>9/11/1960</td>\n",
              "      <td>Louisiana Tech</td>\n",
              "      <td>Retired</td>\n",
              "      <td>NaN</td>\n",
              "      <td>1 Season</td>\n",
              "      <td>74.0</td>\n",
              "      <td>NaN</td>\n",
              "      <td>NaN</td>\n",
              "      <td>Fowler, Bobby</td>\n",
              "      <td>NaN</td>\n",
              "      <td>bobbyfowler/2514295</td>\n",
              "      <td>NaN</td>\n",
              "      <td>230.0</td>\n",
              "      <td>1985</td>\n",
              "      <td>1985</td>\n",
              "    </tr>\n",
              "    <tr>\n",
              "      <th>3</th>\n",
              "      <td>30.0</td>\n",
              "      <td>New Orleans , LA</td>\n",
              "      <td>9/30/1986</td>\n",
              "      <td>LSU</td>\n",
              "      <td>Retired</td>\n",
              "      <td>NaN</td>\n",
              "      <td>5 Seasons</td>\n",
              "      <td>73.0</td>\n",
              "      <td>NaN</td>\n",
              "      <td>NaN</td>\n",
              "      <td>Johnson, Quinn</td>\n",
              "      <td>NaN</td>\n",
              "      <td>quinnjohnson/79593</td>\n",
              "      <td>NaN</td>\n",
              "      <td>255.0</td>\n",
              "      <td>2009</td>\n",
              "      <td>2013</td>\n",
              "    </tr>\n",
              "    <tr>\n",
              "      <th>5</th>\n",
              "      <td>NaN</td>\n",
              "      <td>Sumner , IL</td>\n",
              "      <td>9/11/1892</td>\n",
              "      <td>Illinois</td>\n",
              "      <td>Retired</td>\n",
              "      <td>NaN</td>\n",
              "      <td>1 Season</td>\n",
              "      <td>73.0</td>\n",
              "      <td>NaN</td>\n",
              "      <td>NaN</td>\n",
              "      <td>Petty, Ross</td>\n",
              "      <td>NaN</td>\n",
              "      <td>rosspetty/2523136</td>\n",
              "      <td>NaN</td>\n",
              "      <td>180.0</td>\n",
              "      <td>1920</td>\n",
              "      <td>1920</td>\n",
              "    </tr>\n",
              "  </tbody>\n",
              "</table>\n",
              "</div>"
            ],
            "text/plain": [
              "    Age        Birth Place  ... Beginning Year Ending Year\n",
              "0   NaN  Grand Rapids , MI  ...           1946        1948\n",
              "1   NaN        Dayton , OH  ...           1954        1954\n",
              "2  56.0        Temple , TX  ...           1985        1985\n",
              "3  30.0   New Orleans , LA  ...           2009        2013\n",
              "5   NaN        Sumner , IL  ...           1920        1920\n",
              "\n",
              "[5 rows x 17 columns]"
            ]
          },
          "metadata": {
            "tags": []
          },
          "execution_count": 271
        }
      ]
    },
    {
      "cell_type": "code",
      "metadata": {
        "id": "Xndgr0eaH0Ou",
        "colab_type": "code",
        "colab": {}
      },
      "source": [
        "NFL_retired[\"Number of Active Years\"] = NFL_retired[\"Ending Year\"] - NFL_retired[\"Beginning Year\"]\n",
        "\n",
        "# df named NFL_retired display \n",
        "# NFL_retired.head()"
      ],
      "execution_count": 0,
      "outputs": []
    },
    {
      "cell_type": "markdown",
      "metadata": {
        "id": "AQ76x7ZQfd52",
        "colab_type": "text"
      },
      "source": [
        "##Q2 [10 points]\n",
        "\n",
        "**[Application of One-segment model]**\n",
        "\n",
        "Let's think about what distribution would fit this variable. One assumption we can make is that for each year, there is a probability $\\theta$ for this person to retire, probability $1-\\theta$ for this person to remain active. We also assume that the years are independent from one another. We are interested in examining the number of years $y$ it takes for retirement to happen. This is modeled by a [Geometric distribution](https://en.wikipedia.org/wiki/Geometric_distribution), which is defined as the distribution that measures the number of failures ($y$) it takes before the first success happens when each trial are indepedently and identically distributed with probability of suceess equals $\\theta$.\n",
        "\n",
        "For a Geometric model, \n",
        "\n",
        "$P(y)=(1-\\theta)^y \\theta$ for  $y=0, 1, 2, ...$,\n",
        "\n",
        "here $0< \\theta< 1$.\n",
        "\n",
        "$E(y)=\\frac{1-\\theta}{\\theta}$\n",
        "\n",
        "* Estimate $\\hat{\\theta}$ for this model  \n",
        "* What is the expected number of years for a NFL player to be active?\n",
        "* What is the probability for a player to serve for 4 years?\n",
        "* Now do a visualization to check the model performance. In this graph\n",
        "\n",
        ">> Visualize the observed number of players served 0 years, 1 years... using a bar chart \n",
        "\n",
        ">> Based on the model, predict the number of players served 0 years, 1 years, ... Visualize in the same graph as well using a scatter plot. "
      ]
    },
    {
      "cell_type": "code",
      "metadata": {
        "id": "Ducug-3Ufdh_",
        "colab_type": "code",
        "outputId": "a238246f-927d-45d9-b32e-ab2a19eb45e9",
        "colab": {
          "base_uri": "https://localhost:8080/",
          "height": 337
        }
      },
      "source": [
        "# (i)\n",
        "NFL_retired_ = NFL_retired['Number of Active Years'].values\n",
        "\n",
        "def neg_LL(betas):\n",
        "  #compute theta\n",
        "  theta = np.exp(betas[0])/( 1 + np.exp(betas[0]) )\n",
        "  #individual  likelihood\n",
        "  ind_L = ( (1-theta)**NFL_retired_ ) * theta\n",
        "  #individual log likelihood\n",
        "  ind_LL=np.log(ind_L)\n",
        "  #joint log likelihood\n",
        "  Joint_LL=np.sum(ind_LL)\n",
        "  return -Joint_LL\n",
        "\n",
        "best = 1e10\n",
        "for i in range(100):\n",
        "  guess=np.random.rand(1)\n",
        "  result = minimize(neg_LL,guess,method=\"BFGS\")\n",
        "  if result.fun < best:     \n",
        "    betas=result.x\n",
        "\n",
        "#recover theta\n",
        "theta=np.exp(betas[0])/( 1 + np.exp(betas[0]) )\n",
        "theta_q1 = theta # useful for Q5\n",
        "print('The estimated theta for the model is 𝜃̂ =', theta)\n",
        "# (ii)\n",
        "print('The expected number of years for a NFL player to be active is equivalent to: 𝐸(y)=(1−𝜃)/𝜃 =', (1-theta)/theta )\n",
        "# (iii)\n",
        "print('The probability for a player to serve for 4 years is equivalent to: 𝑃(4)=((1−𝜃)^4) * 𝜃   =', (1-theta)**4*theta )\n",
        "# (iv)\n",
        "size_ = len(NFL_retired)\n",
        "x = np.arange(0, np.max(NFL_retired_+1))\n",
        "PMF = ( (1-theta)**x) * theta\n",
        "prediction=  PMF * size_\n",
        "Tally=NFL_retired.groupby(['Number of Active Years']).count()\n",
        "plt.bar(Tally.index.values,Tally.iloc[:,0].values, zorder=0)\n",
        "plt.scatter(x,prediction)"
      ],
      "execution_count": 273,
      "outputs": [
        {
          "output_type": "stream",
          "text": [
            "The estimated theta for the model is 𝜃̂ = 0.24063184103714472\n",
            "The expected number of years for a NFL player to be active is equivalent to: 𝐸(y)=(1−𝜃)/𝜃 = 3.155726007372552\n",
            "The probability for a player to serve for 4 years is equivalent to: 𝑃(4)=((1−𝜃)^4) * 𝜃   = 0.08001338153345669\n"
          ],
          "name": "stdout"
        },
        {
          "output_type": "execute_result",
          "data": {
            "text/plain": [
              "<matplotlib.collections.PathCollection at 0x7f4d48531b38>"
            ]
          },
          "metadata": {
            "tags": []
          },
          "execution_count": 273
        },
        {
          "output_type": "display_data",
          "data": {
            "image/png": "[encoded data removed]",
            "text/plain": [
              "<Figure size 432x288 with 1 Axes>"
            ]
          },
          "metadata": {
            "tags": []
          }
        }
      ]
    },
    {
      "cell_type": "markdown",
      "metadata": {
        "id": "qV2x6C2aEEos",
        "colab_type": "text"
      },
      "source": [
        "##Q3 [10 points]\n",
        "###[Estimating a two-segment model]\n",
        "\n",
        "The previous model assumes that all the players have the same $\\theta$, which might be a flawed assumption. Instead, we might want to model two segment of players: one segment players have high risk of retiring (high $\\theta$), while the other segment of players have lower risk of retiring (low $\\theta$)\n",
        "\n",
        "* Use a two-segment model to identify $\\theta_1$, $\\theta_2$, and $p$\n",
        "* Give an interpretation of these three estimated parameters in the context of this question.\n",
        "* For each segment, what is the expected number of years for a player to remain active?\n",
        "* If a player retired after 3 years of playing, what is the probability for this player to belong to the low risk group?\n",
        "* Plot the observed v.s. predicted numbers like you did in Q1. Comment on any changes in the model fitting.\n",
        " "
      ]
    },
    {
      "cell_type": "code",
      "metadata": {
        "id": "_Sq4_8UOE-0q",
        "colab_type": "code",
        "outputId": "f1efdf03-3a8d-465e-c739-1b5215addb82",
        "colab": {
          "base_uri": "https://localhost:8080/",
          "height": 34
        }
      },
      "source": [
        "# (i)\n",
        "NFL_retired_ = NFL_retired['Number of Active Years'].values\n",
        "\n",
        "def neg_LL(betas):\n",
        "  #compute theta1, theta2, p\n",
        "  theta1 = np.exp(betas[0])/( 1 + np.exp(betas[0]) )\n",
        "  theta2 = np.exp(betas[1])/( 1 + np.exp(betas[1]) )\n",
        "  p = np.exp(betas[2])/(1+np.exp(betas[2]))\n",
        "  #individual likelihood\n",
        "  Likelihood1 = ( (1-theta1)**NFL_retired_) * theta1\n",
        "  Likelihood2 = ( (1-theta2)**NFL_retired_) * theta2\n",
        "  #individual log likelihood\n",
        "  ind_L = Likelihood1*p+Likelihood2*(1-p)\n",
        "\n",
        "  #individual log likelihood\n",
        "  ind_LL = np.log(ind_L)\n",
        "  #joint log likelihood\n",
        "  Joint_LL = np.sum(ind_LL)\n",
        "  return  -Joint_LL\n",
        "\n",
        "best = 1e10\n",
        "for i in range(100):\n",
        "  guess=np.random.rand(3)\n",
        "  result = minimize(neg_LL,guess,method=\"BFGS\")\n",
        "  if result.fun < best:     \n",
        "    betas=result.x\n",
        "\n",
        "#recover theta1, theta2\n",
        "theta1 = np.exp(betas[0])/( 1 + np.exp(betas[0]) )\n",
        "theta2 = np.exp(betas[1])/( 1 + np.exp(betas[1]) )\n",
        "p = np.exp(betas[2])/(1+np.exp(betas[2]))\n",
        "print(theta1, theta2, p)"
      ],
      "execution_count": 274,
      "outputs": [
        {
          "output_type": "stream",
          "text": [
            "0.21087342978642856 0.9999975398751632 0.8432906097485634\n"
          ],
          "name": "stdout"
        }
      ]
    },
    {
      "cell_type": "markdown",
      "metadata": {
        "id": "si7YeEi814Bt",
        "colab_type": "text"
      },
      "source": [
        "(ii)\n",
        "\n",
        "We estimated three parameters：\n",
        "\n",
        "$\\theta_{1}$ : The expected number of years for a NFL player to be active, if the player belongs to segment 1.\n",
        "\n",
        "$\\theta_{2}$ : The expected number of years for a NFL player to be active, if the player belongs to segment 2.\n",
        "\n",
        "𝑝 : the probability of a player belonging to segment 1.\n",
        "\n",
        "(iii)\n",
        "\n",
        "For segment 1：the expected number of years for a NFL player, that belongs to segment 1, to remain active is equal to $\\theta_{1}$.\n",
        "\n",
        "For segment 2：the expected number of years for a NFL player, that belongs to segment 2, to remain active is equal to $\\theta_{2}$."
      ]
    },
    {
      "cell_type": "code",
      "metadata": {
        "id": "aB4FSL-U12co",
        "colab_type": "code",
        "outputId": "2908a917-7e9e-405d-ca96-e089ab55df22",
        "colab": {
          "base_uri": "https://localhost:8080/",
          "height": 51
        }
      },
      "source": [
        "# (iv)\n",
        "print('The probability for a player, that retired after 3 years of playing, to belong to the low risk group is equivalent to: ')\n",
        "print('𝑃(y)=((1−𝜃1)^3) * 𝜃1   =', (1-theta1)**3*theta1 ) "
      ],
      "execution_count": 275,
      "outputs": [
        {
          "output_type": "stream",
          "text": [
            "The probability for a player, that retired after 3 years of playing, to belong to the low risk group is equivalent to: \n",
            "𝑃(y)=((1−𝜃1)^3) * 𝜃1   = 0.10362435998913973\n"
          ],
          "name": "stdout"
        }
      ]
    },
    {
      "cell_type": "code",
      "metadata": {
        "id": "kKYzZUNK6chx",
        "colab_type": "code",
        "outputId": "4c0ac918-f701-401a-f29c-4f877165da8b",
        "colab": {
          "base_uri": "https://localhost:8080/",
          "height": 286
        }
      },
      "source": [
        "# (v)\n",
        "size_ = len(NFL_retired)\n",
        "x = np.arange(0, np.max(NFL_retired_+1))\n",
        "PMF = ( ( (1-theta1)**x) * theta1 ) * p + ( ( (1-theta2)**x) * theta2 ) * (1-p)\n",
        "prediction=  PMF * size_\n",
        "Tally=NFL_retired.groupby(['Number of Active Years']).count()\n",
        "plt.bar(Tally.index.values,Tally.iloc[:,0].values, zorder=0)\n",
        "plt.scatter(x,prediction)"
      ],
      "execution_count": 276,
      "outputs": [
        {
          "output_type": "execute_result",
          "data": {
            "text/plain": [
              "<matplotlib.collections.PathCollection at 0x7f4d3699a7f0>"
            ]
          },
          "metadata": {
            "tags": []
          },
          "execution_count": 276
        },
        {
          "output_type": "display_data",
          "data": {
            "image/png": "[encoded data removed]",
            "text/plain": [
              "<Figure size 432x288 with 1 Axes>"
            ]
          },
          "metadata": {
            "tags": []
          }
        }
      ]
    },
    {
      "cell_type": "markdown",
      "metadata": {
        "id": "fsl2cJPei2M3",
        "colab_type": "text"
      },
      "source": [
        "##Q4 [4 points]\n",
        "**[Beta Prior]**\n",
        "\n",
        "Now, we move on to assume that $\\theta$ follows a continuous distribution. Again, we would like to make a choice of the distribution we want to use. It is often assumed that $\\theta$ follows a [Beta distribution](https://en.wikipedia.org/wiki/Beta_distribution) with $\\theta \\sim Beta(\\alpha, \\beta)$, which has the following pdf:\n",
        "\n",
        "$f(\\theta)=\\frac{\\theta^{\\alpha-1}(1-\\theta)^{\\beta-1}}{B(\\alpha,\\beta)}= \\frac{\\theta^{\\alpha-1}(1-\\theta)^{\\beta-1}}{\\frac{\\Gamma(\\alpha)\\Gamma(\\beta)}{\\Gamma(\\alpha+\\beta)}}$\n",
        "\n",
        "Here, you can either use spsp.gamma to compute three parts of $B(\\alpha,\\beta)$ seperately. You can also simply use spsp.beta(alpha,beta) to compute $B(\\alpha,\\beta)$ directly.\n",
        "\n",
        "where $\\alpha$ and $\\beta$ are both positive, $0<\\theta<1$. In addition, $E(\\theta)=\\frac{\\alpha}{\\alpha+\\beta}$\n",
        "\n",
        "* Reproduce the following lineplot that shows the probability density functions for different $\\alpha$ and $\\beta$ values.  [The color of the lines does not matter]\n",
        "\n",
        "You might find [this link](https://pythonforundergradengineers.com/unicode-characters-in-python.html)  useful.\n",
        "<div>\n",
        "<img src=\"https://upload.wikimedia.org/wikipedia/commons/thumb/f/f3/Beta_distribution_pdf.svg/650px-Beta_distribution_pdf.svg.png\n",
        "\" width=\"450\"/>\n",
        "</div>\n",
        "[Source: Wikipedia]\n",
        "\n"
      ]
    },
    {
      "cell_type": "code",
      "metadata": {
        "id": "IKeiFfRK1VHp",
        "colab_type": "code",
        "outputId": "7ad0493d-a826-4ee3-c726-e85cdc314921",
        "colab": {
          "base_uri": "https://localhost:8080/",
          "height": 272
        }
      },
      "source": [
        "def beta_pdf(theta,alpha,beta):\n",
        "  pdf = ( ( theta**(alpha-1) ) * ( 1 - theta ) ** ( beta -1 ) ) /  ( spsp.beta(alpha, beta))\n",
        "  return pdf\n",
        "\n",
        "theta=np.linspace(0,1,10000)\n",
        "plt.plot(theta, beta_pdf(theta,0.5,0.5), 'r', label=\"\\u03B1=\\u03B2=0.5\")\n",
        "plt.plot(theta, beta_pdf(theta,5,1), 'b', label=\"\\u03B1=5, \\u03B2=1\")\n",
        "plt.plot(theta, beta_pdf(theta,1,3), 'g', label=\"\\u03B1=1, \\u03B2=3\")\n",
        "plt.plot(theta, beta_pdf(theta,2,2), 'purple', label=\"\\u03B1=2, \\u03B2=2\")\n",
        "plt.plot(theta, beta_pdf(theta,2,5), 'orange', label=\"\\u03B1=2, \\u03B2=5\")\n",
        "plt.legend(loc=\"best\", frameon=False)\n",
        "# plt.title(\"Beta distribution\")\n",
        "plt.ylabel('PDF')\n",
        "axes = plt.gca()\n",
        "axes.set_xlim([0,1])\n",
        "axes.set_ylim([0,2.5])\n",
        "# Turn on the grid\n",
        "plt.grid(b=True, which='major', color='#666666', linestyle='-', alpha=0.2)\n",
        "plt.tick_params(axis=\"y\",direction=\"in\", pad=10)\n",
        "plt.tick_params(axis=\"x\",direction=\"in\", pad=10)\n",
        "plt.tight_layout\n",
        "plt.show()"
      ],
      "execution_count": 281,
      "outputs": [
        {
          "output_type": "display_data",
          "data": {
            "image/png": "[encoded data removed]",
            "text/plain": [
              "<Figure size 432x288 with 1 Axes>"
            ]
          },
          "metadata": {
            "tags": []
          }
        }
      ]
    },
    {
      "cell_type": "markdown",
      "metadata": {
        "id": "NrK-uvp_YgAO",
        "colab_type": "text"
      },
      "source": [
        "##Q5 [6 points]\n",
        "**[Geometric-Beta distribution]**\n",
        "\n",
        "It can be derived that the probability of $y$ of a geometric distribution with a Beta prior (assuming $\\theta \\sim Beta(\\alpha, \\beta)$) will give the following PMF.\n",
        "\n",
        "$P(y)=\\frac{B(\\alpha+1,y+\\beta)}{B(\\alpha,\\beta)}$\n",
        "\n",
        "* Estimate $\\alpha$ and $\\beta$ for this Geometric-Beta distribution.\n",
        "* What is the probability for a player to serve for 4 years? \n",
        "* Plot the observed v.s. predicted numbers like you did in Q1. Comment on any changes in the model fitting."
      ]
    },
    {
      "cell_type": "code",
      "metadata": {
        "id": "U98v7c38Gofv",
        "colab_type": "code",
        "outputId": "d7de0ace-ece3-4c72-baee-9700757ea810",
        "colab": {
          "base_uri": "https://localhost:8080/",
          "height": 51
        }
      },
      "source": [
        "# (i)\n",
        "NFL_retired_ = NFL_retired['Number of Active Years'].values\n",
        "\n",
        "def neg_LL(betas):\n",
        "  #compute alpha, gamma\n",
        "  alpha=np.exp(betas[0])\n",
        "  beta_=np.exp(betas[1])\n",
        "  #individual  likelihood\n",
        "  ind_L=spsp.beta(alpha+1,NFL_retired_+beta_)/spsp.beta(alpha,beta_)\n",
        "  #individual log likelihoo\n",
        "  ind_LL=np.log(ind_L)\n",
        "  #joint log likelihood\n",
        "  Joint_LL=np.sum(ind_LL)\n",
        "  return -Joint_LL\n",
        "\n",
        "best = 1e10\n",
        "for i in range(100):\n",
        "  guess=np.random.rand(2)\n",
        "  result = minimize(neg_LL,guess,method=\"BFGS\")\n",
        "  if result.fun < best:     \n",
        "    betas=result.x\n",
        "\n",
        "#recover alpha, gamma\n",
        "alpha=np.exp(betas[0])\n",
        "beta_=np.exp(betas[1])\n",
        "\n",
        "print(alpha,beta_)\n",
        "\n",
        "# (ii)\n",
        "print('The probability for a player to serve for 4 years is equivalent to: P(4)=𝐵(𝛼+1,4+𝛽)/𝐵(𝛼,𝛽)=', spsp.beta(alpha+1,4+beta_)/spsp.beta(alpha,beta_))"
      ],
      "execution_count": 278,
      "outputs": [
        {
          "output_type": "stream",
          "text": [
            "109.95892667593905 344.06335456211303\n",
            "The probability for a player to serve for 4 years is equivalent to: P(4)=𝐵(𝛼+1,4+𝛽)/𝐵(𝛼,𝛽)= 0.07950826066121182\n"
          ],
          "name": "stdout"
        }
      ]
    },
    {
      "cell_type": "code",
      "metadata": {
        "id": "g1GWPmcDwQIS",
        "colab_type": "code",
        "colab": {
          "base_uri": "https://localhost:8080/",
          "height": 286
        },
        "outputId": "ba77fbca-0f11-4544-b77e-4c6bbdcc909c"
      },
      "source": [
        "# (iii)\n",
        "NFL_retired_ = NFL_retired['Number of Active Years'].values\n",
        "\n",
        "size_q1 = len(NFL_retired)\n",
        "x_q1 = np.arange(0, np.max(NFL_retired_+1))\n",
        "PMF_q1 = ( (1-theta_q1)**x_q1) * theta_q1\n",
        "prediction_q1 =  PMF_q1 * size_q1\n",
        "\n",
        "NFL_retired_ = NFL_retired['Number of Active Years'].values\n",
        "size_ = len(NFL_retired)\n",
        "x_ = np.arange(0, np.max(NFL_retired_+1))\n",
        "PMF_ = spsp.beta(alpha+1,x_+beta_)/spsp.beta(alpha,beta_)\n",
        "prediction_ =  PMF_ * size_\n",
        "Tally_ = NFL_retired.groupby(['Number of Active Years']).count()\n",
        "plt.bar(Tally_.index.values,Tally_.iloc[:,0].values, zorder=-1, label='observations/samples')\n",
        "plt.scatter(x_q1,prediction_q1, marker = \"o\", zorder = 0, label='Q1 fitting')\n",
        "plt.scatter(x_,prediction_, marker = \"+\", zorder = 1, label='Q5 fitting')\n",
        "plt.legend(loc=\"best\", frameon=False)\n",
        "print('There are not any significant changes in the model fitting; the fitting is similarly good.')"
      ],
      "execution_count": 279,
      "outputs": [
        {
          "output_type": "stream",
          "text": [
            "There are not any significant changes in the model fitting; the fitting is similarly good.\n"
          ],
          "name": "stdout"
        },
        {
          "output_type": "display_data",
          "data": {
            "image/png": "[encoded data removed]",
            "text/plain": [
              "<Figure size 432x288 with 1 Axes>"
            ]
          },
          "metadata": {
            "tags": []
          }
        }
      ]
    },
    {
      "cell_type": "markdown",
      "metadata": {
        "id": "aWlJTSmaBcVm",
        "colab_type": "text"
      },
      "source": [
        "##Q6 [4 points]\n",
        "**[Posterior Analysis]**\n",
        "\n",
        "It can be proved that the posterior of $\\theta|y$ still follows a Beta distribution\n",
        "\n",
        "$\\theta|y \\sim Beta(\\alpha+1,\\beta+y)$\n",
        "\n",
        "* Based on the estimated model, plot the distribution of $\\theta$ given $y=0$. \n",
        "* In the same graph, plot the distribution of $\\theta$ when $y=10$.\n",
        "* Add a legend to the plot."
      ]
    },
    {
      "cell_type": "code",
      "metadata": {
        "id": "lkugJEK8o7vq",
        "colab_type": "code",
        "colab": {
          "base_uri": "https://localhost:8080/",
          "height": 286
        },
        "outputId": "de985d7c-5013-467b-f62e-a77c4447d64e"
      },
      "source": [
        "# (1)\n",
        "theta = np.linspace(0, 1, 100)\n",
        "exp_ = 0\n",
        "PDF_ =  ( theta**(alpha) ) * (( 1 - theta )**(beta_+exp_-1) ) / ( spsp.beta(alpha+1, beta_+exp_))\n",
        "prediction_ =  PDF_ \n",
        "plt.plot(theta,prediction_, label='θ posterior|x=0')\n",
        "# (2)\n",
        "exp_ = 10\n",
        "PDF_new = ( theta**(alpha) ) * (( 1 - theta )**(beta_+exp_-1) ) / ( spsp.beta(alpha+1, beta_+exp_))\n",
        "prediction_new =  PDF_new \n",
        "plt.plot(theta, prediction_new, marker = \"x\", zorder = 1, label='θ posterior|x=10')\n",
        "# (3)\n",
        "plt.legend(loc=\"best\", frameon=False)"
      ],
      "execution_count": 280,
      "outputs": [
        {
          "output_type": "execute_result",
          "data": {
            "text/plain": [
              "<matplotlib.legend.Legend at 0x7f4d362eef28>"
            ]
          },
          "metadata": {
            "tags": []
          },
          "execution_count": 280
        },
        {
          "output_type": "display_data",
          "data": {
            "image/png": "[encoded data removed]",
            "text/plain": [
              "<Figure size 432x288 with 1 Axes>"
            ]
          },
          "metadata": {
            "tags": []
          }
        }
      ]
    }
  ]
}