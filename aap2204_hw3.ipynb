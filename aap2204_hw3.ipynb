{
  "nbformat": 4,
  "nbformat_minor": 0,
  "metadata": {
    "colab": {
      "name": "aap2204_hw3.ipynb",
      "provenance": [],
      "collapsed_sections": [],
      "machine_shape": "hm",
      "include_colab_link": true
    },
    "kernelspec": {
      "name": "python3",
      "display_name": "Python 3"
    }
  },
  "cells": [
    {
      "cell_type": "markdown",
      "metadata": {
        "id": "view-in-github",
        "colab_type": "text"
      },
      "source": [
        "<a href=\"https://colab.research.google.com/github/apapaioannou92/BA/blob/HW3/aap2204_hw3.ipynb\" target=\"_parent\"><img src=\"https://colab.research.google.com/assets/colab-badge.svg\" alt=\"Open In Colab\"/></a>"
      ]
    },
    {
      "cell_type": "markdown",
      "metadata": {
        "id": "9JCRnqkLnjHE",
        "colab_type": "text"
      },
      "source": [
        "# **IEOR 4650  Business Analytics (Fall 2019)**\n",
        "\n",
        "**Homework 3 [Total points: 60]**\n",
        "\n",
        "** Due: 11:59 PM, October 16 **\n",
        "\n",
        "This second homework consists of Python programming practices and the applications to Poisson regression. \n",
        "\n",
        "The steps to finish in the homework:\n",
        "\n",
        "*   Step 1: Make a copy of the file to your LionDrive.\n",
        "*   Step 2: Work with the copy (an ipynb file).\n",
        "*    <font color='red'>**Step 3: Rename the copy to your_uni_hw3.ipynb (For example: yd4501_hw3.ipynb).**</font>  \n",
        "*   Step 4: Submit the copy on CourseWorks.\n",
        "\n",
        "Before you submit your assignment, make sure to re-run your code from the beginning. (You can do so by first clicking Runtime/Reset All Runtimes and then clicking Runtime/Run all)\n",
        "\n",
        "\n",
        "**All the questions in this homework requires coding**"
      ]
    },
    {
      "cell_type": "code",
      "metadata": {
        "id": "lSH_bDnX2ybu",
        "colab_type": "code",
        "colab": {}
      },
      "source": [
        "#This imports all the packages you need for the homework\n",
        "#Please run this first\n",
        "\n",
        "\n",
        "!pip install -U -q PyDrive\n",
        "from pydrive.auth import GoogleAuth\n",
        "from pydrive.drive import GoogleDrive\n",
        "from google.colab import auth\n",
        "from oauth2client.client import GoogleCredentials\n",
        "# Authenticate and create the PyDrive client.\n",
        "auth.authenticate_user()\n",
        "gauth = GoogleAuth()\n",
        "gauth.credentials = GoogleCredentials.get_application_default()\n",
        "drive = GoogleDrive(gauth)\n",
        "\n",
        "#import modules\n",
        "\n",
        "import numpy as np\n",
        "import pandas as pd\n",
        "from statsmodels.formula.api import ols\n",
        "import matplotlib.pyplot as plt\n",
        "import sklearn \n",
        "import scipy.special as spsp\n",
        "from scipy.optimize import minimize\n",
        "import scipy.stats as spst"
      ],
      "execution_count": 0,
      "outputs": []
    },
    {
      "cell_type": "markdown",
      "metadata": {
        "id": "z5i-TJRyCOfI",
        "colab_type": "text"
      },
      "source": [
        "#Exercise 1 [Total: 23 points]"
      ]
    },
    {
      "cell_type": "markdown",
      "metadata": {
        "id": "5MbEozs6mhrd",
        "colab_type": "text"
      },
      "source": [
        "\n",
        "##Setting\n",
        "In this example, we take a closer look at the data we used for Poisson regression. \n",
        "\n",
        "This data measures the number of ad exposures each customer got **within 1 day**. \n",
        "\n",
        "\n",
        "(1) In the class, we checked the model fitting based on how closely the predicted numbers of customers having different number of exposures match with the samples we actually observe. In this exercise, we will explore how to apply cross-validation to Poisson regression.\n",
        "\n",
        "(2) We are interested in using this dataset to make meaningful business recommendation."
      ]
    },
    {
      "cell_type": "code",
      "metadata": {
        "id": "ziA1Im85eaIF",
        "colab_type": "code",
        "outputId": "48894f7d-a675-4607-85a6-16ed0d761a2c",
        "colab": {
          "base_uri": "https://localhost:8080/",
          "height": 204
        }
      },
      "source": [
        "#Load the dataset\n",
        "link=\"https://drive.google.com/open?id=1pjdoOKuczV8Zc6Zw8-yUh6q2tqogN-xt\"\n",
        "_,id=link.split(\"=\")\n",
        "downloaded = drive.CreateFile({'id':id}) \n",
        "downloaded.GetContentFile('Exposure.csv')  \n",
        "Ad = pd.read_csv('Exposure.csv')\n",
        "Ad.head(5)\n",
        "\n"
      ],
      "execution_count": 146,
      "outputs": [
        {
          "output_type": "execute_result",
          "data": {
            "text/html": [
              "<div>\n",
              "<style scoped>\n",
              "    .dataframe tbody tr th:only-of-type {\n",
              "        vertical-align: middle;\n",
              "    }\n",
              "\n",
              "    .dataframe tbody tr th {\n",
              "        vertical-align: top;\n",
              "    }\n",
              "\n",
              "    .dataframe thead th {\n",
              "        text-align: right;\n",
              "    }\n",
              "</style>\n",
              "<table border=\"1\" class=\"dataframe\">\n",
              "  <thead>\n",
              "    <tr style=\"text-align: right;\">\n",
              "      <th></th>\n",
              "      <th>Cookie_ID</th>\n",
              "      <th>Exposures</th>\n",
              "    </tr>\n",
              "  </thead>\n",
              "  <tbody>\n",
              "    <tr>\n",
              "      <th>0</th>\n",
              "      <td>1</td>\n",
              "      <td>0</td>\n",
              "    </tr>\n",
              "    <tr>\n",
              "      <th>1</th>\n",
              "      <td>2</td>\n",
              "      <td>0</td>\n",
              "    </tr>\n",
              "    <tr>\n",
              "      <th>2</th>\n",
              "      <td>3</td>\n",
              "      <td>3</td>\n",
              "    </tr>\n",
              "    <tr>\n",
              "      <th>3</th>\n",
              "      <td>4</td>\n",
              "      <td>49</td>\n",
              "    </tr>\n",
              "    <tr>\n",
              "      <th>4</th>\n",
              "      <td>5</td>\n",
              "      <td>4</td>\n",
              "    </tr>\n",
              "  </tbody>\n",
              "</table>\n",
              "</div>"
            ],
            "text/plain": [
              "   Cookie_ID  Exposures\n",
              "0          1          0\n",
              "1          2          0\n",
              "2          3          3\n",
              "3          4         49\n",
              "4          5          4"
            ]
          },
          "metadata": {
            "tags": []
          },
          "execution_count": 146
        }
      ]
    },
    {
      "cell_type": "markdown",
      "metadata": {
        "id": "e3z7oqAWGFcK",
        "colab_type": "text"
      },
      "source": [
        "## Q1 [10 points]\n",
        "\n",
        "**[Cross validation]**\n",
        "\n",
        "In the class, we checked the model fitting based on how closely the predicted numbers of customers having different number of exposures match with the samples we actually observe. However, we were basically doing the model selection and model fitting using the chunk of data. \n",
        "\n",
        "For this exercise, let's first separate the data by\n",
        "\n",
        "* first randomize the data \n",
        "* Split our data into 3 sets. \n",
        "\n",
        ">> Training: The first 4000 observations\n",
        "\n",
        ">> Validation: Observation 4001 to 4500\n",
        "\n",
        ">> Testing: Observation 4501 to 5000.\n",
        "\n",
        "We then test which model is the best model.\n",
        "\n",
        "* Simple Poisson\n",
        "* 2-segment Poisson \n",
        "* Zero-inflated Poisson \n",
        "* NBD (Poisson-Gamma)\n",
        "\n",
        "For the model accuracy, let's use the joint log likelihood. Again, the higher the joint log likelihood, the better the model is. \n",
        "\n",
        "Based on the result, rank the model performance from the highest to the lowest.\n",
        "\n",
        "\n",
        "\n"
      ]
    },
    {
      "cell_type": "code",
      "metadata": {
        "id": "9lpzBMCyrI-s",
        "colab_type": "code",
        "colab": {}
      },
      "source": [
        "#don't remove this line (otherwise, you lose 2 points)\n",
        "np.random.seed(30)\n",
        "\n",
        "#shuffle and split\n",
        "from sklearn.utils import shuffle\n",
        "Ad = shuffle(Ad)\n",
        "\n",
        "# Splitting the dataset to training, validation and testing\n",
        "# Training set\n",
        "Ad_training = Ad[0:4000]\n",
        "# Validation set\n",
        "Ad_validation = Ad[4001:4500]\n",
        "# Testing set\n",
        "Ad_testing = Ad[4501:5000]"
      ],
      "execution_count": 0,
      "outputs": []
    },
    {
      "cell_type": "code",
      "metadata": {
        "id": "oa-KpNvoe5HN",
        "colab_type": "code",
        "outputId": "6c2b0374-6598-43f0-a633-4e6272ca3d93",
        "colab": {
          "base_uri": "https://localhost:8080/",
          "height": 34
        }
      },
      "source": [
        "#Model1\n",
        "Exposures_m1=Ad_training[\"Exposures\"].values\n",
        "\n",
        "def neg_LL_m1(beta):\n",
        "  lmbda_m1=np.exp(beta)\n",
        "  #individual log likelihood\n",
        "  ind_LL_m1=np.log(spst.poisson.pmf(Exposures_m1,lmbda_m1))\n",
        "  #joint log likelihood\n",
        "  Joint_LL_m1=np.sum(ind_LL_m1)\n",
        "  return -Joint_LL_m1\n",
        "\n",
        "#randomly select a starting point\n",
        "guess_m1=np.random.rand()\n",
        "#start minimization\n",
        "result_m1=minimize(neg_LL_m1,guess_m1,method=\"BFGS\")\n",
        "lmbda_estimate_m1=np.exp(result_m1.x)\n",
        "print('For λ_hat =', lmbda_estimate_m1, ', the value of the joint log likelihood is: ', -neg_LL_m1(result_m1.x) )\n",
        "\n",
        "# from statsmodels.formula.api import poisson\n",
        "# #define the poisson model \n",
        "# model_m1= poisson(\"Exposures~1\",data=Exposures_m1).fit()\n",
        "# print(model_m1.summary())\n",
        "# #recover lambda_hat_m1\n",
        "# lambda_hat_m1=np.exp(model_m1.params[0]) \n",
        "# lambda_hat_m1"
      ],
      "execution_count": 148,
      "outputs": [
        {
          "output_type": "stream",
          "text": [
            "For λ_hat = [2.50574998] , the value of the joint log likelihood is:  -15598.20007108814\n"
          ],
          "name": "stdout"
        }
      ]
    },
    {
      "cell_type": "code",
      "metadata": {
        "id": "yfjkwsideUKn",
        "colab_type": "code",
        "outputId": "c87b8638-3f73-474a-a33d-e3f43db3aec3",
        "colab": {
          "base_uri": "https://localhost:8080/",
          "height": 34
        }
      },
      "source": [
        "#Model2\n",
        "Exposures_m2=Ad_training[\"Exposures\"].values\n",
        "\n",
        "def neg_LL_m2(betas):\n",
        "\n",
        "  lmbda1_m2=np.exp(betas[0])\n",
        "  lmbda2_m2=np.exp(betas[1])\n",
        "  p_m2=np.exp(betas[2])/(1+np.exp(betas[2]))\n",
        "  #individual likelihood\n",
        "  Likelihood1_m2=spst.poisson.pmf(Exposures_m2,lmbda1_m2)\n",
        "  Likelihood2_m2=spst.poisson.pmf(Exposures_m2,lmbda2_m2)\n",
        "  ind_L_m2=Likelihood1_m2*p_m2+Likelihood2_m2*(1-p_m2)\n",
        "\n",
        "  #individual log likelihood\n",
        "  ind_LL_m2=np.log(ind_L_m2)\n",
        "  #joint log likelihood\n",
        "  return  -np.sum(ind_LL_m2)\n",
        "\n",
        "guess_m2=np.random.rand(3)\n",
        "result_m2=minimize(neg_LL_m2,guess_m2,method=\"BFGS\")\n",
        "betas_m2=result_m2.x\n",
        "lmbda1_h_m2=np.exp(betas_m2[0])\n",
        "lmbda2_h_m2=np.exp(betas_m2[1])\n",
        "p_h_m2=np.exp(betas_m2[2])/(1+np.exp(betas_m2[2]))\n",
        "# print(lmbda1_h_m2,lmbda2_h_m2,p_h_m2)\n",
        "print('For λ1_hat =', lmbda1_h_m2, 'and λ2_hat =', lmbda2_h_m2, ', the value of the joint log likelihood is: ', -neg_LL_m2([betas_m2[0],betas_m2[1],p_h_m2]) )\n"
      ],
      "execution_count": 149,
      "outputs": [
        {
          "output_type": "stream",
          "text": [
            "For λ1_hat = 0.5787409435021467 and λ2_hat = 10.365841748699301 , the value of the joint log likelihood is:  -8664.505046587676\n"
          ],
          "name": "stdout"
        }
      ]
    },
    {
      "cell_type": "code",
      "metadata": {
        "id": "SjR_7lnegVaR",
        "colab_type": "code",
        "outputId": "e3e0df2d-9e46-42a7-f9f7-ddae8343a9b7",
        "colab": {
          "base_uri": "https://localhost:8080/",
          "height": 51
        }
      },
      "source": [
        "#Model3\n",
        "Exposures_m3=Ad_training[\"Exposures\"].values\n",
        "\n",
        "def neg_LL_m3(betas):\n",
        "\n",
        "  lmbda1_m3=0\n",
        "  lmbda2_m3=np.exp(betas[0])\n",
        "  p_m3=np.exp(betas[1])/(1+np.exp(betas[1]))\n",
        "  #individual likelihood\n",
        "  Likelihood1_m3=spst.poisson.pmf(Exposures_m3,lmbda1_m3)\n",
        "  Likelihood2_m3=spst.poisson.pmf(Exposures_m3,lmbda2_m3)\n",
        "  ind_L_m3=Likelihood1_m3*p_m3+Likelihood2_m3*(1-p_m3)\n",
        "\n",
        "  #individual log likelihood\n",
        "  ind_LL_m3=np.log(ind_L_m3)\n",
        "  #joint log likelihood\n",
        "  return  -np.sum(ind_LL_m3)\n",
        "\n",
        "guess_m3=np.random.rand(2)\n",
        "result_m3=minimize(neg_LL_m3,guess_m3,method=\"BFGS\")\n",
        "betas_m3=result_m3.x\n",
        "lmbda1_h_m3=0\n",
        "lmbda2_h_m3=np.exp(betas_m3[0])\n",
        "p_h_m3=np.exp(betas_m3[1])/(1+np.exp(betas_m3[1]))\n",
        "#joing log likelihood\n",
        "print(-result_m3.fun)\n",
        "# print(lmbda1_h_m3,lmbda2_h_m3,p_h_m3)\n",
        "\n",
        "print('For λ1_hat =', lmbda1_h_m3, 'and λ2_hat =', lmbda2_h_m3, ', the value of the joint log likelihood is: ', -neg_LL_m3([betas_m3[0], betas_m3[1], p_h_m3]) )"
      ],
      "execution_count": 150,
      "outputs": [
        {
          "output_type": "stream",
          "text": [
            "-10311.585140918709\n",
            "For λ1_hat = 0 and λ2_hat = 5.562404720520923 , the value of the joint log likelihood is:  -10311.585140918709\n"
          ],
          "name": "stdout"
        }
      ]
    },
    {
      "cell_type": "code",
      "metadata": {
        "id": "6dNHq40tht1C",
        "colab_type": "code",
        "outputId": "ce7a9415-af09-4424-f3c4-d22ca08c6def",
        "colab": {
          "base_uri": "https://localhost:8080/",
          "height": 34
        }
      },
      "source": [
        "#Model4\n",
        "Exposures_m4=Ad_training[\"Exposures\"].values\n",
        "\n",
        "def neg_LL_m4(betas):\n",
        "  #compute alpha, gamma\n",
        "  alpha_m4=np.exp(betas[0])\n",
        "  gamma_m4=np.exp(betas[1])\n",
        "  #individual  likelihood\n",
        "  ind_L_m4=spsp.gamma(gamma_m4+Exposures_m4)/spsp.gamma(gamma_m4)/spsp.gamma(Exposures_m4+1)\\\n",
        "  *(1/(1+alpha_m4))**Exposures_m4*(alpha_m4/(1+alpha_m4))**gamma_m4\n",
        "  #individual log likelihoo\n",
        "  ind_LL_m4=np.log(ind_L_m4)\n",
        "  #joint log likelihood\n",
        "  Joint_LL_m4=np.sum(ind_LL_m4)\n",
        "  return -Joint_LL_m4\n",
        "\n",
        "guess_m4=np.random.rand(2)\n",
        "betas_m4=minimize(neg_LL_m4,guess_m4,method=\"BFGS\").x\n",
        "\n",
        "#recover alpha, gamma\n",
        "alpha_m4=np.exp(betas_m4[0])\n",
        "gamma_m4=np.exp(betas_m4[1])\n",
        "\n",
        "# print(alpha_m4,gamma_m4)\n",
        "\n",
        "print('For α =', alpha_m4, 'and γ =', gamma_m4, ', the value of the joint log likelihood is: ', -neg_LL_m4([betas_m4[0],betas_m4[1]]) )"
      ],
      "execution_count": 151,
      "outputs": [
        {
          "output_type": "stream",
          "text": [
            "For α = 0.09964502397861887 and γ = 0.2496855187594558 , the value of the joint log likelihood is:  -7387.770799599681\n"
          ],
          "name": "stdout"
        }
      ]
    },
    {
      "cell_type": "code",
      "metadata": {
        "id": "QzgxZ7pCWBgG",
        "colab_type": "code",
        "outputId": "fc269f92-d193-4565-f72e-edb746bb0269",
        "colab": {
          "base_uri": "https://localhost:8080/",
          "height": 51
        }
      },
      "source": [
        "print('The best model is the NBD model, since it has the highest joint log likelihood. The second best model is the 2-segment Poisson model, since it has the') \n",
        "print('2nd highest joint log likelihood, and then the Zero-inflated Poisson, and the Simple Poisson model follow.')"
      ],
      "execution_count": 152,
      "outputs": [
        {
          "output_type": "stream",
          "text": [
            "The best model is the NBD model, since it has the highest joint log likelihood. The second best model is the 2-segment Poisson model, since it has the\n",
            "2nd highest joint log likelihood, and then the Zero-inflated Poisson, and the Simple Poisson model follow.\n"
          ],
          "name": "stdout"
        }
      ]
    },
    {
      "cell_type": "markdown",
      "metadata": {
        "id": "FurA2IrT2u9x",
        "colab_type": "text"
      },
      "source": [
        "##Q2 [4 points]\n",
        "\n",
        "Based on the model learned on the training set, report the expected number of exposures for the market using each model you tested in Q1."
      ]
    },
    {
      "cell_type": "code",
      "metadata": {
        "id": "F_quLRXMjFVG",
        "colab_type": "code",
        "outputId": "03a555ef-81c8-4e4d-973b-337b8ac80112",
        "colab": {
          "base_uri": "https://localhost:8080/",
          "height": 269
        }
      },
      "source": [
        "# Model 1\n",
        "mkt_size = len(Ad)\n",
        "Tally_m1=Ad.groupby([\"Exposures\"]).count()\n",
        "Tally_m1\n",
        "Exposures_m1_index = Tally_m1.index.values\n",
        "Counts_m1 = Tally_m1.iloc[:,0].values\n",
        "Predicted_Exposures_m1 = np.arange(0, np.max(Exposures_m1_index)+1)\n",
        "Predicted_counts_m1 = spst.poisson.pmf(Predicted_Exposures_m1,lmbda_estimate_m1)*mkt_size\n",
        "plt.bar(Exposures_m1_index[Exposures_m1_index<30], Counts_m1[Exposures_m1_index<30],label=\"samples\")\n",
        "plt.scatter(Predicted_Exposures_m1[Predicted_Exposures_m1<30], Predicted_counts_m1[Predicted_Exposures_m1<30],zorder=2,label=\"predictions\")\n",
        "plt.legend(loc=\"best\")\n",
        "plt.show()"
      ],
      "execution_count": 153,
      "outputs": [
        {
          "output_type": "display_data",
          "data": {
            "image/png": "[encoded data removed]",
            "text/plain": [
              "<Figure size 432x288 with 1 Axes>"
            ]
          },
          "metadata": {
            "tags": []
          }
        }
      ]
    },
    {
      "cell_type": "code",
      "metadata": {
        "id": "jbDQs8wImHoW",
        "colab_type": "code",
        "colab": {
          "base_uri": "https://localhost:8080/",
          "height": 286
        },
        "outputId": "e7791c05-5d3b-4192-c3f6-1eb0baa21636"
      },
      "source": [
        "# Model 2\n",
        "Exposures_m2=Ad[\"Exposures\"].values\n",
        "mkt_size = len(Ad)\n",
        "x_m2=np.arange(0, np.max(Exposures_m2+1))\n",
        "pmf_m2 = spst.poisson.pmf(x_m2,lmbda1_h_m2)*p_h_m3+spst.poisson.pmf(x_m2,lmbda2_h_m2)*(1-p_h_m2)\n",
        "prediction_m2 = mkt_size*pmf_m2\n",
        "\n",
        "Tally_m2 = Ad.groupby([\"Exposures\"]).count()\n",
        "plt.bar(Tally_m2.index.values,Tally_m2.iloc[:,0].values)\n",
        "plt.scatter(x_m2,prediction_m2)"
      ],
      "execution_count": 154,
      "outputs": [
        {
          "output_type": "execute_result",
          "data": {
            "text/plain": [
              "<matplotlib.collections.PathCollection at 0x7f2ad510f780>"
            ]
          },
          "metadata": {
            "tags": []
          },
          "execution_count": 154
        },
        {
          "output_type": "display_data",
          "data": {
            "image/png": "[encoded data removed]",
            "text/plain": [
              "<Figure size 432x288 with 1 Axes>"
            ]
          },
          "metadata": {
            "tags": []
          }
        }
      ]
    },
    {
      "cell_type": "code",
      "metadata": {
        "id": "63rOSl5DmFO7",
        "colab_type": "code",
        "colab": {
          "base_uri": "https://localhost:8080/",
          "height": 286
        },
        "outputId": "3043b30d-ec97-421d-90ee-ff656484ab8a"
      },
      "source": [
        "# Model 3\n",
        "Exposures_m3=Ad[\"Exposures\"].values\n",
        "mkt_size = len(Ad)\n",
        "x_m3 = np.arange(0, np.max(Exposures_m3+1))\n",
        "pmf_m3 = spst.poisson.pmf(x_m3 ,lmbda1_h_m3)*p_h_m3+spst.poisson.pmf(x_m3,lmbda2_h_m3)*(1-p_h_m3)\n",
        "prediction_m3 = mkt_size*pmf_m3\n",
        "Tally_m3 = Ad.groupby([\"Exposures\"]).count()\n",
        "plt.bar(Tally_m3.index.values,Tally_m3.iloc[:,0].values)\n",
        "plt.scatter(x_m3,prediction_m3)"
      ],
      "execution_count": 155,
      "outputs": [
        {
          "output_type": "execute_result",
          "data": {
            "text/plain": [
              "<matplotlib.collections.PathCollection at 0x7f2ad530a860>"
            ]
          },
          "metadata": {
            "tags": []
          },
          "execution_count": 155
        },
        {
          "output_type": "display_data",
          "data": {
            "image/png": "[encoded data removed]",
            "text/plain": [
              "<Figure size 432x288 with 1 Axes>"
            ]
          },
          "metadata": {
            "tags": []
          }
        }
      ]
    },
    {
      "cell_type": "code",
      "metadata": {
        "id": "mszx2pG3inle",
        "colab_type": "code",
        "colab": {
          "base_uri": "https://localhost:8080/",
          "height": 286
        },
        "outputId": "1aa2ec89-794a-4633-d90a-8251d6a2bca0"
      },
      "source": [
        "# Model 4\n",
        "Exposures_m4 = Ad[\"Exposures\"].values\n",
        "mkt_size = len(Ad)\n",
        "x_m4 = np.arange(0, np.max(Exposures_m4+1))\n",
        "PMF_m4 = spsp.gamma(gamma_m4+x_m4)/spsp.gamma(gamma_m4)/spsp.gamma(x_m4+1)*(1/(1+alpha_m4))**x_m4*(alpha_m4/(1+alpha_m4))**gamma_m4\n",
        "prediction_m4 =  PMF_m4*mkt_size\n",
        "Tally_m4 = Ad.groupby([\"Exposures\"]).count()\n",
        "plt.bar(Tally_m4.index.values,Tally_m4.iloc[:,0].values)\n",
        "plt.scatter(x_m4,prediction_m4)"
      ],
      "execution_count": 156,
      "outputs": [
        {
          "output_type": "execute_result",
          "data": {
            "text/plain": [
              "<matplotlib.collections.PathCollection at 0x7f2ad5009c18>"
            ]
          },
          "metadata": {
            "tags": []
          },
          "execution_count": 156
        },
        {
          "output_type": "display_data",
          "data": {
            "image/png": "[encoded data removed]",
            "text/plain": [
              "<Figure size 432x288 with 1 Axes>"
            ]
          },
          "metadata": {
            "tags": []
          }
        }
      ]
    },
    {
      "cell_type": "code",
      "metadata": {
        "id": "f0vLDBYc3AWr",
        "colab_type": "code",
        "colab": {
          "base_uri": "https://localhost:8080/",
          "height": 105
        },
        "outputId": "507073d3-8bd9-49b1-f374-e54aefe594b1"
      },
      "source": [
        "# Model 1\n",
        "mrkt_size = len(Ad)\n",
        "\n",
        "print('The expected number of exposures for the market using model 1, ie Simple Poisson model, equals to E[X]*mrkt_size=λ*mrkt_size=', lmbda_estimate_m1*mrkt_size)\n",
        "\n",
        "# Model 2\n",
        "\n",
        "print('The expected number of exposures for the market using model 2, ie 2-segment Poisson model, equals to E[X]*mrkt_size=(Likelihood1_m2*p_h_m2+Likelihood2_m2*(1-p_h_m2)*mrkt_size)=', (lmbda1_h_m2*p_h_m2+lmbda2_h_m2*(1-p_h_m2))*mrkt_size)\n",
        "\n",
        "# Model 3\n",
        "\n",
        "print('The expected number of exposures for the market using model 3, ie zero-inflated Poisson model, equals to E[X]*mrkt_size=((1-p)*λ)*mrkt_size=', ((1-p_h_m3)*lmbda2_h_m3)*mrkt_size)\n",
        "\n",
        "# Model 4\n",
        "\n",
        "print('The expected number of exposures for the market using model 4, ie NBD model, equals to E[X]*mrkt_size=(γ/α)*mrkt_size=', (gamma_m4/alpha_m4)*mrkt_size)"
      ],
      "execution_count": 157,
      "outputs": [
        {
          "output_type": "stream",
          "text": [
            "The expected number of exposures for the market using model 1, ie Simple Poisson model, equals to E[X]*mrkt_size=λ*mrkt_size= [12528.74990112]\n",
            "The expected number of exposures for the market using model 2, ie 2-segment Poisson model, equals to E[X]*mrkt_size=(Likelihood1_m2*p_h_m2+Likelihood2_m2*(1-p_h_m2)*mrkt_size)= 12528.750826112015\n",
            "The expected number of exposures for the market using model 3, ie zero-inflated Poisson model, equals to E[X]*mrkt_size=((1-p)*λ)*mrkt_size= 12528.749695156934\n",
            "The expected number of exposures for the market using model 4, ie NBD model, equals to E[X]*mrkt_size=(γ/α)*mrkt_size= 12528.749996238226\n"
          ],
          "name": "stdout"
        }
      ]
    },
    {
      "cell_type": "markdown",
      "metadata": {
        "id": "_1Aj4jvfd4__",
        "colab_type": "text"
      },
      "source": [
        "## Q3 [9 points]\n",
        "\n",
        "Assume that we decide to stick to NBD model, we want to use this model to do something meaningful.\n",
        "\n",
        "(1) Based on the model, how many people do you predict on the testing set to have at most 1 exposure? How does this number match with the actual observation?\n",
        "\n",
        "(2) How many more days of exposures do we at least need to reduce this number to below 200? [You only need to consider integer days]\n",
        "\n",
        "(3) Assume a customer had 0 exposures, visualize the posterior distribution of $\\lambda$ for this customer.\n",
        "\n",
        "(4) Assume a customer had 5 exposures, visualize the posterior distribution of $\\lambda$ for this customer.\n",
        "\n"
      ]
    },
    {
      "cell_type": "code",
      "metadata": {
        "id": "BwBNzoeSegid",
        "colab_type": "code",
        "colab": {
          "base_uri": "https://localhost:8080/",
          "height": 34
        },
        "outputId": "784163a2-8804-4493-e564-633e40545ddb"
      },
      "source": [
        "# (1)\n",
        "Exposures_m4 = Ad_testing[\"Exposures\"].values\n",
        "mkt_size = len(Ad_testing)\n",
        "x_m4_new = np.arange(0, np.max(Exposures_m4+1))\n",
        "PMF_m4_new =spsp.gamma(gamma_m4+x_m4_new)/spsp.gamma(gamma_m4)/spsp.gamma(x_m4_new+1)*(1/(1+alpha_m4))**x_m4_new*(alpha_m4/(1+alpha_m4))**gamma_m4\n",
        "prediction_m4_new =  PMF_m4_new*mkt_size\n",
        "No_of_people_ = np.sum(prediction_m4_new[0:2])\n",
        "print('Predicted: ', No_of_people_, 'vs Actual: ', len(Ad_testing[Ad_testing['Exposures']<=1]))"
      ],
      "execution_count": 158,
      "outputs": [
        {
          "output_type": "stream",
          "text": [
            "Predicted:  336.19797941371667 vs Actual:  327\n"
          ],
          "name": "stdout"
        }
      ]
    },
    {
      "cell_type": "code",
      "metadata": {
        "id": "OK22stT1QbCp",
        "colab_type": "code",
        "colab": {
          "base_uri": "https://localhost:8080/",
          "height": 51
        },
        "outputId": "05456709-0ef8-4dd3-9ba4-703fd5446490"
      },
      "source": [
        "# (2)\n",
        "Exposures_m4 = Ad_testing[\"Exposures\"].values\n",
        "mkt_size = len(Ad_testing)\n",
        "#x UNITS of time\n",
        "for i in range(1,500):  \n",
        "  x_m4_new = np.arange(0, np.max(Exposures_m4+1))\n",
        "  PMF_m4_new = spsp.gamma(gamma_m4+x_m4_new)/spsp.gamma(gamma_m4)/spsp.gamma(x_m4_new+1)*(i/(i+alpha_m4))**x_m4_new*(alpha_m4/(i+alpha_m4))**gamma_m4\n",
        "  prediction_m4_new =  PMF_m4_new * mkt_size\n",
        "  No_of_people_ = np.sum(prediction_m4_new[0:2])\n",
        "  if No_of_people_<= 200:\n",
        "    print('We need to reduce the number of days by: ', i, 'in order to get Expected No of people with at most 1 exposure =', No_of_people_)\n",
        "    break\n",
        "\n",
        "No_of_additional_exposures = 200*(alpha_m4+1)-gamma_m4\n",
        "No_of_additional_exposures # or less"
      ],
      "execution_count": 159,
      "outputs": [
        {
          "output_type": "stream",
          "text": [
            "We need to reduce the number of days by:  10 in order to get Expected No of people with at most 1 exposure = 196.4321242025762\n"
          ],
          "name": "stdout"
        },
        {
          "output_type": "execute_result",
          "data": {
            "text/plain": [
              "219.6793192769643"
            ]
          },
          "metadata": {
            "tags": []
          },
          "execution_count": 159
        }
      ]
    },
    {
      "cell_type": "code",
      "metadata": {
        "id": "vs5KVOLYkq_r",
        "colab_type": "code",
        "colab": {
          "base_uri": "https://localhost:8080/",
          "height": 320
        },
        "outputId": "0d79a63e-5e92-45c4-b1f7-9dc42156e40e"
      },
      "source": [
        "# (3)\n",
        "Exposures_m4_all = Ad[\"Exposures\"].values\n",
        "\n",
        "# Expected posterior exposures\n",
        "NBD_POST=(gamma_m4+Exposures_m4_all)/(alpha_m4+1)\n",
        "Ad=Ad.assign(NBD_POST=NBD_POST)\n",
        "Ad\n",
        "Exposures_m4_all = Ad[\"Exposures\"].values\n",
        "mkt_size = len(Ad)\n",
        "x_ = np.arange(0, np.max(Exposures_m4_all+1))\n",
        "PMF_ = ( ( (alpha_m4+1)**(gamma_m4+0) )/spsp.gamma(gamma_m4+0) ) * x_**(gamma_m4+0-1) * np.exp( -(alpha_m4+1)* x_ )\n",
        "prediction_ =  PMF_ * mkt_size\n",
        "Tally_ = Ad.groupby([\"Exposures\"]).count()\n",
        "plt.bar(Tally_.index.values,Tally_.iloc[:,0].values)\n",
        "plt.scatter(x_,prediction_)"
      ],
      "execution_count": 160,
      "outputs": [
        {
          "output_type": "stream",
          "text": [
            "/usr/local/lib/python3.6/dist-packages/ipykernel_launcher.py:10: RuntimeWarning: divide by zero encountered in power\n",
            "  # Remove the CWD from sys.path while we load stuff.\n"
          ],
          "name": "stderr"
        },
        {
          "output_type": "execute_result",
          "data": {
            "text/plain": [
              "<matplotlib.collections.PathCollection at 0x7f2ad4f54358>"
            ]
          },
          "metadata": {
            "tags": []
          },
          "execution_count": 160
        },
        {
          "output_type": "display_data",
          "data": {
            "image/png": "[encoded data removed]",
            "text/plain": [
              "<Figure size 432x288 with 1 Axes>"
            ]
          },
          "metadata": {
            "tags": []
          }
        }
      ]
    },
    {
      "cell_type": "code",
      "metadata": {
        "id": "m4wxKYP6k2Iy",
        "colab_type": "code",
        "colab": {
          "base_uri": "https://localhost:8080/",
          "height": 286
        },
        "outputId": "25eaf039-db81-46e8-bde7-a08122dc394f"
      },
      "source": [
        "# (4)\n",
        "Exposures_m4_all = Ad[\"Exposures\"].values\n",
        "\n",
        "# Expected posterior exposures\n",
        "NBD_POST=(gamma_m4+Exposures_m4_all)/(alpha_m4+1)\n",
        "Ad=Ad.assign(NBD_POST=NBD_POST)\n",
        "Ad\n",
        "Exposures_m4_all = Ad[\"Exposures\"].values\n",
        "mkt_size = len(Ad)\n",
        "x_ = np.arange(0, np.max(Exposures_m4_all+1))\n",
        "PMF_ = ( ( (alpha_m4+1)**(gamma_m4+5) )/spsp.gamma(gamma_m4+5) ) * x_**(gamma_m4+5-1) * np.exp( -(alpha_m4+1)* x_ )\n",
        "prediction_ =  PMF_ * mkt_size\n",
        "Tally_ = Ad.groupby([\"Exposures\"]).count()\n",
        "plt.bar(Tally_.index.values,Tally_.iloc[:,0].values)\n",
        "plt.scatter(x_,prediction_)"
      ],
      "execution_count": 161,
      "outputs": [
        {
          "output_type": "execute_result",
          "data": {
            "text/plain": [
              "<matplotlib.collections.PathCollection at 0x7f2ad4e90438>"
            ]
          },
          "metadata": {
            "tags": []
          },
          "execution_count": 161
        },
        {
          "output_type": "display_data",
          "data": {
            "image/png": "[encoded data removed]",
            "text/plain": [
              "<Figure size 432x288 with 1 Axes>"
            ]
          },
          "metadata": {
            "tags": []
          }
        }
      ]
    },
    {
      "cell_type": "code",
      "metadata": {
        "id": "mmoh2Zv1ldxz",
        "colab_type": "code",
        "colab": {}
      },
      "source": [
        ""
      ],
      "execution_count": 0,
      "outputs": []
    },
    {
      "cell_type": "code",
      "metadata": {
        "id": "Q8F661POmDry",
        "colab_type": "code",
        "colab": {}
      },
      "source": [
        ""
      ],
      "execution_count": 0,
      "outputs": []
    },
    {
      "cell_type": "markdown",
      "metadata": {
        "id": "-OIl1Vg2euRn",
        "colab_type": "text"
      },
      "source": [
        "#Exercise 2 [Total: 37  Points]"
      ]
    },
    {
      "cell_type": "markdown",
      "metadata": {
        "id": "fQfFr7-V3cqR",
        "colab_type": "text"
      },
      "source": [
        "##Setting\n",
        "\n",
        "In this exercise, we discuss a model that deals with discrete timing. We will use sports analytics as the background for this study. The data is collected from Kaggle. [link](https://www.kaggle.com/kendallgillies/nflstatistics)\n",
        "\n",
        "In this dataset, we have the information of all the NFL players who are both currently active and have already retired before 2018. In this question, we are interested in modeling the number of years they were active before they retire. \n"
      ]
    },
    {
      "cell_type": "code",
      "metadata": {
        "id": "oLxXPghQFsZV",
        "colab_type": "code",
        "colab": {
          "base_uri": "https://localhost:8080/",
          "height": 374
        },
        "outputId": "408a75f2-622e-44f3-a8dc-0f679e5a0d13"
      },
      "source": [
        "#Load the dataset\n",
        "link=\"https://drive.google.com/open?id=1voxCbS9xGieGHiEYYCzK61f4BZQWy6SD\"\n",
        "_,id=link.split(\"=\")\n",
        "downloaded = drive.CreateFile({'id':id}) \n",
        "downloaded.GetContentFile('NFL.csv')  \n",
        "NFL = pd.read_csv('NFL.csv')\n",
        "NFL.head(5)"
      ],
      "execution_count": 162,
      "outputs": [
        {
          "output_type": "execute_result",
          "data": {
            "text/html": [
              "<div>\n",
              "<style scoped>\n",
              "    .dataframe tbody tr th:only-of-type {\n",
              "        vertical-align: middle;\n",
              "    }\n",
              "\n",
              "    .dataframe tbody tr th {\n",
              "        vertical-align: top;\n",
              "    }\n",
              "\n",
              "    .dataframe thead th {\n",
              "        text-align: right;\n",
              "    }\n",
              "</style>\n",
              "<table border=\"1\" class=\"dataframe\">\n",
              "  <thead>\n",
              "    <tr style=\"text-align: right;\">\n",
              "      <th></th>\n",
              "      <th>Age</th>\n",
              "      <th>Birth Place</th>\n",
              "      <th>Birthday</th>\n",
              "      <th>College</th>\n",
              "      <th>Current Status</th>\n",
              "      <th>Current Team</th>\n",
              "      <th>Experience</th>\n",
              "      <th>Height (inches)</th>\n",
              "      <th>High School</th>\n",
              "      <th>High School Location</th>\n",
              "      <th>Name</th>\n",
              "      <th>Number</th>\n",
              "      <th>Player Id</th>\n",
              "      <th>Position</th>\n",
              "      <th>Weight (lbs)</th>\n",
              "      <th>Years Played</th>\n",
              "    </tr>\n",
              "  </thead>\n",
              "  <tbody>\n",
              "    <tr>\n",
              "      <th>0</th>\n",
              "      <td>NaN</td>\n",
              "      <td>Grand Rapids , MI</td>\n",
              "      <td>5/23/1921</td>\n",
              "      <td>Notre Dame</td>\n",
              "      <td>Retired</td>\n",
              "      <td>NaN</td>\n",
              "      <td>3 Seasons</td>\n",
              "      <td>71.0</td>\n",
              "      <td>NaN</td>\n",
              "      <td>NaN</td>\n",
              "      <td>Evans, Fred</td>\n",
              "      <td>NaN</td>\n",
              "      <td>fredevans/2513736</td>\n",
              "      <td>NaN</td>\n",
              "      <td>185.0</td>\n",
              "      <td>1946 - 1948</td>\n",
              "    </tr>\n",
              "    <tr>\n",
              "      <th>1</th>\n",
              "      <td>NaN</td>\n",
              "      <td>Dayton , OH</td>\n",
              "      <td>12/21/1930</td>\n",
              "      <td>Dayton</td>\n",
              "      <td>Retired</td>\n",
              "      <td>NaN</td>\n",
              "      <td>1 Season</td>\n",
              "      <td>70.0</td>\n",
              "      <td>NaN</td>\n",
              "      <td>NaN</td>\n",
              "      <td>Raiff, Jim</td>\n",
              "      <td>NaN</td>\n",
              "      <td>jimraiff/2523700</td>\n",
              "      <td>NaN</td>\n",
              "      <td>235.0</td>\n",
              "      <td>1954 - 1954</td>\n",
              "    </tr>\n",
              "    <tr>\n",
              "      <th>2</th>\n",
              "      <td>56.0</td>\n",
              "      <td>Temple , TX</td>\n",
              "      <td>9/11/1960</td>\n",
              "      <td>Louisiana Tech</td>\n",
              "      <td>Retired</td>\n",
              "      <td>NaN</td>\n",
              "      <td>1 Season</td>\n",
              "      <td>74.0</td>\n",
              "      <td>NaN</td>\n",
              "      <td>NaN</td>\n",
              "      <td>Fowler, Bobby</td>\n",
              "      <td>NaN</td>\n",
              "      <td>bobbyfowler/2514295</td>\n",
              "      <td>NaN</td>\n",
              "      <td>230.0</td>\n",
              "      <td>1985 - 1985</td>\n",
              "    </tr>\n",
              "    <tr>\n",
              "      <th>3</th>\n",
              "      <td>30.0</td>\n",
              "      <td>New Orleans , LA</td>\n",
              "      <td>9/30/1986</td>\n",
              "      <td>LSU</td>\n",
              "      <td>Retired</td>\n",
              "      <td>NaN</td>\n",
              "      <td>5 Seasons</td>\n",
              "      <td>73.0</td>\n",
              "      <td>NaN</td>\n",
              "      <td>NaN</td>\n",
              "      <td>Johnson, Quinn</td>\n",
              "      <td>NaN</td>\n",
              "      <td>quinnjohnson/79593</td>\n",
              "      <td>NaN</td>\n",
              "      <td>255.0</td>\n",
              "      <td>2009 - 2013</td>\n",
              "    </tr>\n",
              "    <tr>\n",
              "      <th>4</th>\n",
              "      <td>25.0</td>\n",
              "      <td>Detroit , MI</td>\n",
              "      <td>3/31/1992</td>\n",
              "      <td>Central Michigan</td>\n",
              "      <td>Active</td>\n",
              "      <td>Pittsburgh Steelers</td>\n",
              "      <td>3rd season</td>\n",
              "      <td>77.0</td>\n",
              "      <td>Clintondale HS</td>\n",
              "      <td>Clinton Twp.,Macomb Co., MI</td>\n",
              "      <td>Walton, L.T.</td>\n",
              "      <td>96.0</td>\n",
              "      <td>l.t.walton/2552444</td>\n",
              "      <td>DE</td>\n",
              "      <td>305.0</td>\n",
              "      <td>NaN</td>\n",
              "    </tr>\n",
              "  </tbody>\n",
              "</table>\n",
              "</div>"
            ],
            "text/plain": [
              "    Age        Birth Place    Birthday  ... Position Weight (lbs) Years Played\n",
              "0   NaN  Grand Rapids , MI   5/23/1921  ...      NaN        185.0  1946 - 1948\n",
              "1   NaN        Dayton , OH  12/21/1930  ...      NaN        235.0  1954 - 1954\n",
              "2  56.0        Temple , TX   9/11/1960  ...      NaN        230.0  1985 - 1985\n",
              "3  30.0   New Orleans , LA   9/30/1986  ...      NaN        255.0  2009 - 2013\n",
              "4  25.0       Detroit , MI   3/31/1992  ...       DE        305.0          NaN\n",
              "\n",
              "[5 rows x 16 columns]"
            ]
          },
          "metadata": {
            "tags": []
          },
          "execution_count": 162
        }
      ]
    },
    {
      "cell_type": "markdown",
      "metadata": {
        "id": "eZQGdz8pedhi",
        "colab_type": "text"
      },
      "source": [
        "##Q1 [3 points]\n",
        "**[Data cleaning]**\n",
        "\n",
        "We will clean our data using the following steps:\n",
        "* **Keep only retired players**  \n",
        "*  Based on the last column, Creat an array that gives the number of active years for each player. For example, if \"Year Played\" for a player is 1954-1954, the number of active years will be 0, while if  \"Year Played\" for a player is 1971 to 1974, the number of active years will be 3. You will find  [str.split()](https://www.geeksforgeeks.org/python-pandas-split-strings-into-two-list-columns-using-str-split/) function useful for this question."
      ]
    },
    {
      "cell_type": "code",
      "metadata": {
        "id": "Im6HNucHedPG",
        "colab_type": "code",
        "colab": {
          "base_uri": "https://localhost:8080/",
          "height": 751
        },
        "outputId": "05d07604-145f-4835-9673-5ac244b8b718"
      },
      "source": [
        "# Keeping only the retired players\n",
        "\n",
        "NFL_retired = NFL[NFL['Current Status']=='Retired']\n",
        "# NFL_retired['Current Status'].value_counts()\n",
        "\n",
        "# Dropping null value columns to avoid errors \n",
        "NFL_retired.dropna(subset=['Years Played'], inplace = True) \n",
        "\n",
        "# Creating a new data frame with split value columns \n",
        "new = NFL_retired[\"Years Played\"].str.split(\"-\", expand = True) \n",
        "  \n",
        "# Making separate \"Beginning Year\" column from new data frame \n",
        "NFL_retired[\"Beginning Year\"]= new[0].astype(int)\n",
        "  \n",
        "# Making separate \"Ending Year\" column from new data frame \n",
        "NFL_retired[\"Ending Year\"] = new[1].astype(int)\n",
        "  \n",
        "# Dropping old \"Years Played\" columns \n",
        "NFL_retired.drop(columns =[\"Years Played\"], inplace = True) \n",
        "  \n",
        "# Displaying the df named NFL_retired\n",
        "NFL_retired.head()"
      ],
      "execution_count": 174,
      "outputs": [
        {
          "output_type": "stream",
          "text": [
            "/usr/local/lib/python3.6/dist-packages/ipykernel_launcher.py:6: SettingWithCopyWarning: \n",
            "A value is trying to be set on a copy of a slice from a DataFrame\n",
            "\n",
            "See the caveats in the documentation: http://pandas.pydata.org/pandas-docs/stable/indexing.html#indexing-view-versus-copy\n",
            "  \n",
            "/usr/local/lib/python3.6/dist-packages/ipykernel_launcher.py:12: SettingWithCopyWarning: \n",
            "A value is trying to be set on a copy of a slice from a DataFrame.\n",
            "Try using .loc[row_indexer,col_indexer] = value instead\n",
            "\n",
            "See the caveats in the documentation: http://pandas.pydata.org/pandas-docs/stable/indexing.html#indexing-view-versus-copy\n",
            "  if sys.path[0] == '':\n",
            "/usr/local/lib/python3.6/dist-packages/ipykernel_launcher.py:15: SettingWithCopyWarning: \n",
            "A value is trying to be set on a copy of a slice from a DataFrame.\n",
            "Try using .loc[row_indexer,col_indexer] = value instead\n",
            "\n",
            "See the caveats in the documentation: http://pandas.pydata.org/pandas-docs/stable/indexing.html#indexing-view-versus-copy\n",
            "  from ipykernel import kernelapp as app\n",
            "/usr/local/lib/python3.6/dist-packages/pandas/core/frame.py:3940: SettingWithCopyWarning: \n",
            "A value is trying to be set on a copy of a slice from a DataFrame\n",
            "\n",
            "See the caveats in the documentation: http://pandas.pydata.org/pandas-docs/stable/indexing.html#indexing-view-versus-copy\n",
            "  errors=errors)\n"
          ],
          "name": "stderr"
        },
        {
          "output_type": "execute_result",
          "data": {
            "text/html": [
              "<div>\n",
              "<style scoped>\n",
              "    .dataframe tbody tr th:only-of-type {\n",
              "        vertical-align: middle;\n",
              "    }\n",
              "\n",
              "    .dataframe tbody tr th {\n",
              "        vertical-align: top;\n",
              "    }\n",
              "\n",
              "    .dataframe thead th {\n",
              "        text-align: right;\n",
              "    }\n",
              "</style>\n",
              "<table border=\"1\" class=\"dataframe\">\n",
              "  <thead>\n",
              "    <tr style=\"text-align: right;\">\n",
              "      <th></th>\n",
              "      <th>Age</th>\n",
              "      <th>Birth Place</th>\n",
              "      <th>Birthday</th>\n",
              "      <th>College</th>\n",
              "      <th>Current Status</th>\n",
              "      <th>Current Team</th>\n",
              "      <th>Experience</th>\n",
              "      <th>Height (inches)</th>\n",
              "      <th>High School</th>\n",
              "      <th>High School Location</th>\n",
              "      <th>Name</th>\n",
              "      <th>Number</th>\n",
              "      <th>Player Id</th>\n",
              "      <th>Position</th>\n",
              "      <th>Weight (lbs)</th>\n",
              "      <th>Beginning Year</th>\n",
              "      <th>Ending Year</th>\n",
              "    </tr>\n",
              "  </thead>\n",
              "  <tbody>\n",
              "    <tr>\n",
              "      <th>0</th>\n",
              "      <td>NaN</td>\n",
              "      <td>Grand Rapids , MI</td>\n",
              "      <td>5/23/1921</td>\n",
              "      <td>Notre Dame</td>\n",
              "      <td>Retired</td>\n",
              "      <td>NaN</td>\n",
              "      <td>3 Seasons</td>\n",
              "      <td>71.0</td>\n",
              "      <td>NaN</td>\n",
              "      <td>NaN</td>\n",
              "      <td>Evans, Fred</td>\n",
              "      <td>NaN</td>\n",
              "      <td>fredevans/2513736</td>\n",
              "      <td>NaN</td>\n",
              "      <td>185.0</td>\n",
              "      <td>1946</td>\n",
              "      <td>1948</td>\n",
              "    </tr>\n",
              "    <tr>\n",
              "      <th>1</th>\n",
              "      <td>NaN</td>\n",
              "      <td>Dayton , OH</td>\n",
              "      <td>12/21/1930</td>\n",
              "      <td>Dayton</td>\n",
              "      <td>Retired</td>\n",
              "      <td>NaN</td>\n",
              "      <td>1 Season</td>\n",
              "      <td>70.0</td>\n",
              "      <td>NaN</td>\n",
              "      <td>NaN</td>\n",
              "      <td>Raiff, Jim</td>\n",
              "      <td>NaN</td>\n",
              "      <td>jimraiff/2523700</td>\n",
              "      <td>NaN</td>\n",
              "      <td>235.0</td>\n",
              "      <td>1954</td>\n",
              "      <td>1954</td>\n",
              "    </tr>\n",
              "    <tr>\n",
              "      <th>2</th>\n",
              "      <td>56.0</td>\n",
              "      <td>Temple , TX</td>\n",
              "      <td>9/11/1960</td>\n",
              "      <td>Louisiana Tech</td>\n",
              "      <td>Retired</td>\n",
              "      <td>NaN</td>\n",
              "      <td>1 Season</td>\n",
              "      <td>74.0</td>\n",
              "      <td>NaN</td>\n",
              "      <td>NaN</td>\n",
              "      <td>Fowler, Bobby</td>\n",
              "      <td>NaN</td>\n",
              "      <td>bobbyfowler/2514295</td>\n",
              "      <td>NaN</td>\n",
              "      <td>230.0</td>\n",
              "      <td>1985</td>\n",
              "      <td>1985</td>\n",
              "    </tr>\n",
              "    <tr>\n",
              "      <th>3</th>\n",
              "      <td>30.0</td>\n",
              "      <td>New Orleans , LA</td>\n",
              "      <td>9/30/1986</td>\n",
              "      <td>LSU</td>\n",
              "      <td>Retired</td>\n",
              "      <td>NaN</td>\n",
              "      <td>5 Seasons</td>\n",
              "      <td>73.0</td>\n",
              "      <td>NaN</td>\n",
              "      <td>NaN</td>\n",
              "      <td>Johnson, Quinn</td>\n",
              "      <td>NaN</td>\n",
              "      <td>quinnjohnson/79593</td>\n",
              "      <td>NaN</td>\n",
              "      <td>255.0</td>\n",
              "      <td>2009</td>\n",
              "      <td>2013</td>\n",
              "    </tr>\n",
              "    <tr>\n",
              "      <th>5</th>\n",
              "      <td>NaN</td>\n",
              "      <td>Sumner , IL</td>\n",
              "      <td>9/11/1892</td>\n",
              "      <td>Illinois</td>\n",
              "      <td>Retired</td>\n",
              "      <td>NaN</td>\n",
              "      <td>1 Season</td>\n",
              "      <td>73.0</td>\n",
              "      <td>NaN</td>\n",
              "      <td>NaN</td>\n",
              "      <td>Petty, Ross</td>\n",
              "      <td>NaN</td>\n",
              "      <td>rosspetty/2523136</td>\n",
              "      <td>NaN</td>\n",
              "      <td>180.0</td>\n",
              "      <td>1920</td>\n",
              "      <td>1920</td>\n",
              "    </tr>\n",
              "  </tbody>\n",
              "</table>\n",
              "</div>"
            ],
            "text/plain": [
              "    Age        Birth Place  ... Beginning Year Ending Year\n",
              "0   NaN  Grand Rapids , MI  ...           1946        1948\n",
              "1   NaN        Dayton , OH  ...           1954        1954\n",
              "2  56.0        Temple , TX  ...           1985        1985\n",
              "3  30.0   New Orleans , LA  ...           2009        2013\n",
              "5   NaN        Sumner , IL  ...           1920        1920\n",
              "\n",
              "[5 rows x 17 columns]"
            ]
          },
          "metadata": {
            "tags": []
          },
          "execution_count": 174
        }
      ]
    },
    {
      "cell_type": "code",
      "metadata": {
        "id": "Xndgr0eaH0Ou",
        "colab_type": "code",
        "colab": {
          "base_uri": "https://localhost:8080/",
          "height": 496
        },
        "outputId": "7fbc6b67-0beb-45e3-ce31-a6db5703570a"
      },
      "source": [
        "NFL_retired[\"Number of Active Years\"] = NFL_retired[\"Ending Year\"] - NFL_retired[\"Beginning Year\"]\n",
        "\n",
        "# df named NFL_retired display \n",
        "NFL_retired.head()"
      ],
      "execution_count": 175,
      "outputs": [
        {
          "output_type": "stream",
          "text": [
            "/usr/local/lib/python3.6/dist-packages/ipykernel_launcher.py:1: SettingWithCopyWarning: \n",
            "A value is trying to be set on a copy of a slice from a DataFrame.\n",
            "Try using .loc[row_indexer,col_indexer] = value instead\n",
            "\n",
            "See the caveats in the documentation: http://pandas.pydata.org/pandas-docs/stable/indexing.html#indexing-view-versus-copy\n",
            "  \"\"\"Entry point for launching an IPython kernel.\n"
          ],
          "name": "stderr"
        },
        {
          "output_type": "execute_result",
          "data": {
            "text/html": [
              "<div>\n",
              "<style scoped>\n",
              "    .dataframe tbody tr th:only-of-type {\n",
              "        vertical-align: middle;\n",
              "    }\n",
              "\n",
              "    .dataframe tbody tr th {\n",
              "        vertical-align: top;\n",
              "    }\n",
              "\n",
              "    .dataframe thead th {\n",
              "        text-align: right;\n",
              "    }\n",
              "</style>\n",
              "<table border=\"1\" class=\"dataframe\">\n",
              "  <thead>\n",
              "    <tr style=\"text-align: right;\">\n",
              "      <th></th>\n",
              "      <th>Age</th>\n",
              "      <th>Birth Place</th>\n",
              "      <th>Birthday</th>\n",
              "      <th>College</th>\n",
              "      <th>Current Status</th>\n",
              "      <th>Current Team</th>\n",
              "      <th>Experience</th>\n",
              "      <th>Height (inches)</th>\n",
              "      <th>High School</th>\n",
              "      <th>High School Location</th>\n",
              "      <th>Name</th>\n",
              "      <th>Number</th>\n",
              "      <th>Player Id</th>\n",
              "      <th>Position</th>\n",
              "      <th>Weight (lbs)</th>\n",
              "      <th>Beginning Year</th>\n",
              "      <th>Ending Year</th>\n",
              "      <th>Number of Active Years</th>\n",
              "    </tr>\n",
              "  </thead>\n",
              "  <tbody>\n",
              "    <tr>\n",
              "      <th>0</th>\n",
              "      <td>NaN</td>\n",
              "      <td>Grand Rapids , MI</td>\n",
              "      <td>5/23/1921</td>\n",
              "      <td>Notre Dame</td>\n",
              "      <td>Retired</td>\n",
              "      <td>NaN</td>\n",
              "      <td>3 Seasons</td>\n",
              "      <td>71.0</td>\n",
              "      <td>NaN</td>\n",
              "      <td>NaN</td>\n",
              "      <td>Evans, Fred</td>\n",
              "      <td>NaN</td>\n",
              "      <td>fredevans/2513736</td>\n",
              "      <td>NaN</td>\n",
              "      <td>185.0</td>\n",
              "      <td>1946</td>\n",
              "      <td>1948</td>\n",
              "      <td>2</td>\n",
              "    </tr>\n",
              "    <tr>\n",
              "      <th>1</th>\n",
              "      <td>NaN</td>\n",
              "      <td>Dayton , OH</td>\n",
              "      <td>12/21/1930</td>\n",
              "      <td>Dayton</td>\n",
              "      <td>Retired</td>\n",
              "      <td>NaN</td>\n",
              "      <td>1 Season</td>\n",
              "      <td>70.0</td>\n",
              "      <td>NaN</td>\n",
              "      <td>NaN</td>\n",
              "      <td>Raiff, Jim</td>\n",
              "      <td>NaN</td>\n",
              "      <td>jimraiff/2523700</td>\n",
              "      <td>NaN</td>\n",
              "      <td>235.0</td>\n",
              "      <td>1954</td>\n",
              "      <td>1954</td>\n",
              "      <td>0</td>\n",
              "    </tr>\n",
              "    <tr>\n",
              "      <th>2</th>\n",
              "      <td>56.0</td>\n",
              "      <td>Temple , TX</td>\n",
              "      <td>9/11/1960</td>\n",
              "      <td>Louisiana Tech</td>\n",
              "      <td>Retired</td>\n",
              "      <td>NaN</td>\n",
              "      <td>1 Season</td>\n",
              "      <td>74.0</td>\n",
              "      <td>NaN</td>\n",
              "      <td>NaN</td>\n",
              "      <td>Fowler, Bobby</td>\n",
              "      <td>NaN</td>\n",
              "      <td>bobbyfowler/2514295</td>\n",
              "      <td>NaN</td>\n",
              "      <td>230.0</td>\n",
              "      <td>1985</td>\n",
              "      <td>1985</td>\n",
              "      <td>0</td>\n",
              "    </tr>\n",
              "    <tr>\n",
              "      <th>3</th>\n",
              "      <td>30.0</td>\n",
              "      <td>New Orleans , LA</td>\n",
              "      <td>9/30/1986</td>\n",
              "      <td>LSU</td>\n",
              "      <td>Retired</td>\n",
              "      <td>NaN</td>\n",
              "      <td>5 Seasons</td>\n",
              "      <td>73.0</td>\n",
              "      <td>NaN</td>\n",
              "      <td>NaN</td>\n",
              "      <td>Johnson, Quinn</td>\n",
              "      <td>NaN</td>\n",
              "      <td>quinnjohnson/79593</td>\n",
              "      <td>NaN</td>\n",
              "      <td>255.0</td>\n",
              "      <td>2009</td>\n",
              "      <td>2013</td>\n",
              "      <td>4</td>\n",
              "    </tr>\n",
              "    <tr>\n",
              "      <th>5</th>\n",
              "      <td>NaN</td>\n",
              "      <td>Sumner , IL</td>\n",
              "      <td>9/11/1892</td>\n",
              "      <td>Illinois</td>\n",
              "      <td>Retired</td>\n",
              "      <td>NaN</td>\n",
              "      <td>1 Season</td>\n",
              "      <td>73.0</td>\n",
              "      <td>NaN</td>\n",
              "      <td>NaN</td>\n",
              "      <td>Petty, Ross</td>\n",
              "      <td>NaN</td>\n",
              "      <td>rosspetty/2523136</td>\n",
              "      <td>NaN</td>\n",
              "      <td>180.0</td>\n",
              "      <td>1920</td>\n",
              "      <td>1920</td>\n",
              "      <td>0</td>\n",
              "    </tr>\n",
              "  </tbody>\n",
              "</table>\n",
              "</div>"
            ],
            "text/plain": [
              "    Age        Birth Place  ... Ending Year Number of Active Years\n",
              "0   NaN  Grand Rapids , MI  ...        1948                      2\n",
              "1   NaN        Dayton , OH  ...        1954                      0\n",
              "2  56.0        Temple , TX  ...        1985                      0\n",
              "3  30.0   New Orleans , LA  ...        2013                      4\n",
              "5   NaN        Sumner , IL  ...        1920                      0\n",
              "\n",
              "[5 rows x 18 columns]"
            ]
          },
          "metadata": {
            "tags": []
          },
          "execution_count": 175
        }
      ]
    },
    {
      "cell_type": "markdown",
      "metadata": {
        "id": "AQ76x7ZQfd52",
        "colab_type": "text"
      },
      "source": [
        "##Q2 [10 points]\n",
        "\n",
        "**[Application of One-segment model]**\n",
        "\n",
        "Let's think about what distribution would fit this variable. One assumption we can make is that for each year, there is a probability $\\theta$ for this person to retire, probability $1-\\theta$ for this person to remain active. We also assume that the years are independent from one another. We are interested in examining the number of years $y$ it takes for retirement to happen. This is modeled by a [Geometric distribution](https://en.wikipedia.org/wiki/Geometric_distribution), which is defined as the distribution that measures the number of failures ($y$) it takes before the first success happens when each trial are indepedently and identically distributed with probability of suceess equals $\\theta$.\n",
        "\n",
        "For a Geometric model, \n",
        "\n",
        "$P(y)=(1-\\theta)^y \\theta$ for  $y=0, 1, 2, ...$,\n",
        "\n",
        "here $0< \\theta< 1$.\n",
        "\n",
        "$E(y)=\\frac{1-\\theta}{\\theta}$\n",
        "\n",
        "* Estimate $\\hat{\\theta}$ for this model  \n",
        "* What is the expected number of years for a NFL player to be active?\n",
        "* What is the probability for a player to serve for 4 years?\n",
        "* Now do a visualization to check the model performance. In this graph\n",
        "\n",
        ">> Visualize the observed number of players served 0 years, 1 years... using a bar chart \n",
        "\n",
        ">> Based on the model, predict the number of players served 0 years, 1 years, ... Visualize in the same graph as well using a scatter plot. "
      ]
    },
    {
      "cell_type": "code",
      "metadata": {
        "id": "Ducug-3Ufdh_",
        "colab_type": "code",
        "colab": {
          "base_uri": "https://localhost:8080/",
          "height": 303
        },
        "outputId": "a74cd0ea-2ad2-4a5b-be0c-c053abfdadd1"
      },
      "source": [
        "NFL_retired_ = NFL_retired['Number of Active Years'].values\n",
        "\n",
        "def neg_LL(betas):\n",
        "  #compute alpha, gamma\n",
        "  theta = np.exp(betas[0])/( 1 + np.exp(betas[0]) )\n",
        "  #individual  likelihood\n",
        "  ind_L = ( (1-theta)**NFL_retired_) * theta\n",
        "  #individual log likelihoo\n",
        "  ind_LL=np.log(ind_L)\n",
        "  #joint log likelihood\n",
        "  Joint_LL=np.sum(ind_LL)\n",
        "  return -Joint_LL\n",
        "\n",
        "guess=np.random.rand(2)\n",
        "betas=minimize(neg_LL,guess,method=\"BFGS\").x\n",
        "\n",
        "#recover alpha, gamma\n",
        "theta=np.exp(betas[0])\n",
        "\n",
        "print(theta)\n",
        "size_ = len(NFL_retired)\n",
        "x = np.arange(0, np.max(NFL_retired_+1))\n",
        "PMF = ( (1-theta)**x) * theta\n",
        "prediction=  PMF * size_\n",
        "Tally=NFL_retired.groupby(['Number of Active Years']).count()\n",
        "plt.bar(Tally.index.values,Tally.iloc[:,0].values, zorder=0)\n",
        "plt.scatter(x,prediction)"
      ],
      "execution_count": 179,
      "outputs": [
        {
          "output_type": "stream",
          "text": [
            "0.31688428863677376\n"
          ],
          "name": "stdout"
        },
        {
          "output_type": "execute_result",
          "data": {
            "text/plain": [
              "<matplotlib.collections.PathCollection at 0x7f2ac6113128>"
            ]
          },
          "metadata": {
            "tags": []
          },
          "execution_count": 179
        },
        {
          "output_type": "display_data",
          "data": {
            "image/png": "[encoded data removed]",
            "text/plain": [
              "<Figure size 432x288 with 1 Axes>"
            ]
          },
          "metadata": {
            "tags": []
          }
        }
      ]
    },
    {
      "cell_type": "markdown",
      "metadata": {
        "id": "qV2x6C2aEEos",
        "colab_type": "text"
      },
      "source": [
        "##Q3 [10 points]\n",
        "###[Estimating a two-segment model]\n",
        "\n",
        "The previous model assumes that all the players have the same $\\theta$, which might be a flawed assumption. Instead, we might want to model two segment of players: one segment players have high risk of retiring (high $\\theta$), while the other segment of players have lower risk of retiring (low $\\theta$)\n",
        "\n",
        "* Use a two-segment model to identify $\\theta_1$, $\\theta_2$, and $p$\n",
        "* Give an interpretation of these three estimated parameters in the context of this question.\n",
        "* For each segment, what is the expected number of years for a player to remain active?\n",
        "* If a player retired after 3 years of playing, what is the probability for this player to belong to the low risk group?\n",
        "* Plot the observed v.s. predicted numbers like you did in Q1. Comment on any changes in the model fitting.\n",
        " "
      ]
    },
    {
      "cell_type": "code",
      "metadata": {
        "id": "_Sq4_8UOE-0q",
        "colab_type": "code",
        "colab": {}
      },
      "source": [
        ""
      ],
      "execution_count": 0,
      "outputs": []
    },
    {
      "cell_type": "markdown",
      "metadata": {
        "id": "fsl2cJPei2M3",
        "colab_type": "text"
      },
      "source": [
        "##Q4 [4 points]\n",
        "**[Beta Prior]**\n",
        "\n",
        "Now, we move on to assume that $\\theta$ follows a continuous distribution. Again, we would like to make a choice of the distribution we want to use. It is often assumed that $\\theta$ follows a [Beta distribution](https://en.wikipedia.org/wiki/Beta_distribution) with $\\theta \\sim Beta(\\alpha, \\beta)$, which has the following pdf:\n",
        "\n",
        "$f(\\theta)=\\frac{\\theta^{\\alpha-1}(1-\\theta)^{\\beta-1}}{B(\\alpha,\\beta)}= \\frac{\\theta^{\\alpha-1}(1-\\theta)^{\\beta-1}}{\\frac{\\Gamma(\\alpha)\\Gamma(\\beta)}{\\Gamma(\\alpha+\\beta)}}$\n",
        "\n",
        "Here, you can either use spsp.gamma to compute three parts of $B(\\alpha,\\beta)$ seperately. You can also simply use spsp.beta(alpha,beta) to compute $B(\\alpha,\\beta)$ directly.\n",
        "\n",
        "where $\\alpha$ and $\\beta$ are both positive, $0<\\theta<1$. In addition, $E(\\theta)=\\frac{\\alpha}{\\alpha+\\beta}$\n",
        "\n",
        "* Reproduce the following lineplot that shows the probability density functions for different $\\alpha$ and $\\beta$ values.  [The color of the lines does not matter]\n",
        "\n",
        "You might find [this link](https://pythonforundergradengineers.com/unicode-characters-in-python.html)  useful.\n",
        "<div>\n",
        "<img src=\"https://upload.wikimedia.org/wikipedia/commons/thumb/f/f3/Beta_distribution_pdf.svg/650px-Beta_distribution_pdf.svg.png\n",
        "\" width=\"450\"/>\n",
        "</div>\n",
        "[Source: Wikipedia]\n",
        "\n"
      ]
    },
    {
      "cell_type": "code",
      "metadata": {
        "id": "IKeiFfRK1VHp",
        "colab_type": "code",
        "colab": {}
      },
      "source": [
        ""
      ],
      "execution_count": 0,
      "outputs": []
    },
    {
      "cell_type": "markdown",
      "metadata": {
        "id": "NrK-uvp_YgAO",
        "colab_type": "text"
      },
      "source": [
        "##Q5 [6 points]\n",
        "**[Geometric-Beta distribution]**\n",
        "\n",
        "It can be derived that the probability of $y$ of a geometric distribution with a Beta prior (assuming $\\theta \\sim Beta(\\alpha, \\beta)$) will give the following PMF.\n",
        "\n",
        "$P(y)=\\frac{B(\\alpha+1,y+\\beta)}{B(\\alpha,\\beta)}$\n",
        "\n",
        "* Estimate $\\alpha$ and $\\beta$ for this Geometric-Beta distribution.\n",
        "* What is the probability for a player to serve for 4 years? \n",
        "* Plot the observed v.s. predicted numbers like you did in Q1. Comment on any changes in the model fitting."
      ]
    },
    {
      "cell_type": "code",
      "metadata": {
        "id": "U98v7c38Gofv",
        "colab_type": "code",
        "colab": {}
      },
      "source": [
        ""
      ],
      "execution_count": 0,
      "outputs": []
    },
    {
      "cell_type": "markdown",
      "metadata": {
        "id": "aWlJTSmaBcVm",
        "colab_type": "text"
      },
      "source": [
        "##Q6 [4 points]\n",
        "**[Posterior Analysis]**\n",
        "\n",
        "It can be proved that the posterior of $\\theta|x$ still follows a Beta distribution\n",
        "\n",
        "$\\theta|x \\sim Beta(\\alpha+1,\\beta+y)$\n",
        "\n",
        "* Based on the estimated model, plot the distribution of $\\lambda$ given $x=0$. \n",
        "* In the same graph, plot the distribution of $\\lambda$ when $x=10$.\n",
        "* Add a legend to the plot."
      ]
    },
    {
      "cell_type": "code",
      "metadata": {
        "id": "lkugJEK8o7vq",
        "colab_type": "code",
        "colab": {}
      },
      "source": [
        ""
      ],
      "execution_count": 0,
      "outputs": []
    },
    {
      "cell_type": "code",
      "metadata": {
        "id": "yE7lfXnUoqKM",
        "colab_type": "code",
        "colab": {}
      },
      "source": [
        ""
      ],
      "execution_count": 0,
      "outputs": []
    }
  ]
}